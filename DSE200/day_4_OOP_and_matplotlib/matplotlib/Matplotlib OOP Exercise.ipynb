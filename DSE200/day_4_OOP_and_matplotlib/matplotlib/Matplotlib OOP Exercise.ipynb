{
 "cells": [
  {
   "cell_type": "markdown",
   "metadata": {},
   "source": [
    "### Matplotlib Exercises###"
   ]
  },
  {
   "cell_type": "markdown",
   "metadata": {},
   "source": [
    "In this exercise we will write a class which will take a pandas dataframe and output a set of plots describing the dataframe. For this we will use data from http://earthquake.usgs.gov/ which maintains csv files corresponding to data of earthquake occurrences sorted according to earthquakes magnitude, ranging from significant only down to all earthquakes, major or minor. The csv files are available here "
   ]
  },
  {
   "cell_type": "code",
   "execution_count": 5,
   "metadata": {
    "collapsed": true
   },
   "outputs": [],
   "source": [
    "feed=\"http://earthquake.usgs.gov/earthquakes/feed/v1.0/summary/\""
   ]
  },
  {
   "cell_type": "code",
   "execution_count": 14,
   "metadata": {
    "collapsed": false
   },
   "outputs": [
    {
     "name": "stdout",
     "output_type": "stream",
     "text": [
      "Populating the interactive namespace from numpy and matplotlib\n"
     ]
    }
   ],
   "source": [
    "import numpy as np\n",
    "import pandas as pd\n",
    "import urllib2\n",
    "import matplotlib as mpl\n",
    "import matplotlib.pyplot as plt\n",
    "from matplotlib.animation import FuncAnimation\n",
    "from mpl_toolkits.basemap import Basemap\n",
    "import matplotlib.animation as animation\n",
    "%pylab inline\n",
    "#%matplotlib nbagg"
   ]
  },
  {
   "cell_type": "markdown",
   "metadata": {},
   "source": [
    "Check if you have the updated version of Matplotlib i.e 1.5.0. If not you can udate it using linux command sudo pip install --upgrade matplotlib for unix boxes and corresponding brew command for mac"
   ]
  },
  {
   "cell_type": "code",
   "execution_count": 7,
   "metadata": {
    "collapsed": false,
    "scrolled": true
   },
   "outputs": [
    {
     "name": "stdout",
     "output_type": "stream",
     "text": [
      "1.5.0\n"
     ]
    }
   ],
   "source": [
    "print mpl.__version__"
   ]
  },
  {
   "cell_type": "markdown",
   "metadata": {},
   "source": [
    "### Acquiring Data ###\n",
    "\n",
    "For this assignment we will be working with the following csv files\n",
    "\n",
    "1. Significant earthquakes in the last 30 days : feed + \"significant_month.csv\"\n",
    "2. Magnitude > 4.5 : feed + \"4.5_month.csv\"\n",
    "3. Magnitude > 2.5 : feed + \"2.5_month.csv\"\n",
    "4. Magnitude > 1.0 : feed + \"1.0_month.csv\""
   ]
  },
  {
   "cell_type": "markdown",
   "metadata": {},
   "source": [
    "Q1) Write a function which takes an integer input from 1 to 4 and outputs a pandas dataframe corresponding to the csv file above. Note that the function should necessarily download the data from the website via internet."
   ]
  },
  {
   "cell_type": "code",
   "execution_count": 8,
   "metadata": {
    "collapsed": true
   },
   "outputs": [],
   "source": [
    "filenames=[\"significant_month.csv\",\n",
    "           \"4.5_month.csv\",\n",
    "           \"2.5_month.csv\",\n",
    "           \"1.0_month.csv\"]\n",
    "def download_data(i):\n",
    "    url=feed+filenames[i-1];\n",
    "    print 'downloading',url\n",
    "    return pd.read_csv(url);"
   ]
  },
  {
   "cell_type": "code",
   "execution_count": 9,
   "metadata": {
    "collapsed": false,
    "scrolled": false
   },
   "outputs": [
    {
     "name": "stdout",
     "output_type": "stream",
     "text": [
      "downloading http://earthquake.usgs.gov/earthquakes/feed/v1.0/summary/significant_month.csv\n",
      "downloading http://earthquake.usgs.gov/earthquakes/feed/v1.0/summary/4.5_month.csv\n",
      "downloading http://earthquake.usgs.gov/earthquakes/feed/v1.0/summary/2.5_month.csv\n",
      "downloading http://earthquake.usgs.gov/earthquakes/feed/v1.0/summary/1.0_month.csv\n"
     ]
    },
    {
     "data": {
      "text/html": [
       "<div>\n",
       "<table border=\"1\" class=\"dataframe\">\n",
       "  <thead>\n",
       "    <tr style=\"text-align: right;\">\n",
       "      <th></th>\n",
       "      <th>time</th>\n",
       "      <th>latitude</th>\n",
       "      <th>longitude</th>\n",
       "      <th>depth</th>\n",
       "      <th>mag</th>\n",
       "      <th>magType</th>\n",
       "      <th>nst</th>\n",
       "      <th>gap</th>\n",
       "      <th>dmin</th>\n",
       "      <th>rms</th>\n",
       "      <th>net</th>\n",
       "      <th>id</th>\n",
       "      <th>updated</th>\n",
       "      <th>place</th>\n",
       "      <th>type</th>\n",
       "    </tr>\n",
       "  </thead>\n",
       "  <tbody>\n",
       "    <tr>\n",
       "      <th>0</th>\n",
       "      <td>2015-11-17T07:10:08.740Z</td>\n",
       "      <td>38.7548</td>\n",
       "      <td>20.5519</td>\n",
       "      <td>11.07</td>\n",
       "      <td>6.5</td>\n",
       "      <td>mwb</td>\n",
       "      <td>NaN</td>\n",
       "      <td>39</td>\n",
       "      <td>1.417</td>\n",
       "      <td>1.00</td>\n",
       "      <td>us</td>\n",
       "      <td>us10003ywp</td>\n",
       "      <td>2015-11-17T21:22:03.838Z</td>\n",
       "      <td>14km WNW of Nidri, Greece</td>\n",
       "      <td>earthquake</td>\n",
       "    </tr>\n",
       "    <tr>\n",
       "      <th>1</th>\n",
       "      <td>2015-11-13T20:51:30.990Z</td>\n",
       "      <td>30.9915</td>\n",
       "      <td>128.8768</td>\n",
       "      <td>12.00</td>\n",
       "      <td>6.7</td>\n",
       "      <td>mww</td>\n",
       "      <td>NaN</td>\n",
       "      <td>17</td>\n",
       "      <td>1.445</td>\n",
       "      <td>1.13</td>\n",
       "      <td>us</td>\n",
       "      <td>us10003y71</td>\n",
       "      <td>2015-11-14T16:52:21.206Z</td>\n",
       "      <td>140km WSW of Makurazaki, Japan</td>\n",
       "      <td>earthquake</td>\n",
       "    </tr>\n",
       "    <tr>\n",
       "      <th>2</th>\n",
       "      <td>2015-11-11T02:46:19.900Z</td>\n",
       "      <td>-29.4445</td>\n",
       "      <td>-72.1732</td>\n",
       "      <td>10.00</td>\n",
       "      <td>6.9</td>\n",
       "      <td>mww</td>\n",
       "      <td>NaN</td>\n",
       "      <td>33</td>\n",
       "      <td>0.940</td>\n",
       "      <td>1.53</td>\n",
       "      <td>us</td>\n",
       "      <td>us10003x9g</td>\n",
       "      <td>2015-11-13T06:15:19.359Z</td>\n",
       "      <td>98km NW of Coquimbo, Chile</td>\n",
       "      <td>earthquake</td>\n",
       "    </tr>\n",
       "    <tr>\n",
       "      <th>3</th>\n",
       "      <td>2015-11-11T01:54:37.710Z</td>\n",
       "      <td>-29.4393</td>\n",
       "      <td>-72.1054</td>\n",
       "      <td>10.00</td>\n",
       "      <td>6.9</td>\n",
       "      <td>mww</td>\n",
       "      <td>NaN</td>\n",
       "      <td>39</td>\n",
       "      <td>0.893</td>\n",
       "      <td>1.53</td>\n",
       "      <td>us</td>\n",
       "      <td>us10003x8t</td>\n",
       "      <td>2015-11-11T15:28:23.143Z</td>\n",
       "      <td>93km NW of Coquimbo, Chile</td>\n",
       "      <td>earthquake</td>\n",
       "    </tr>\n",
       "    <tr>\n",
       "      <th>4</th>\n",
       "      <td>2015-11-08T16:47:02.140Z</td>\n",
       "      <td>6.8456</td>\n",
       "      <td>94.6609</td>\n",
       "      <td>10.00</td>\n",
       "      <td>6.4</td>\n",
       "      <td>mwb</td>\n",
       "      <td>NaN</td>\n",
       "      <td>31</td>\n",
       "      <td>2.783</td>\n",
       "      <td>1.23</td>\n",
       "      <td>us</td>\n",
       "      <td>us10003vry</td>\n",
       "      <td>2015-11-09T04:37:22.000Z</td>\n",
       "      <td>128km NW of Sabang, Indonesia</td>\n",
       "      <td>earthquake</td>\n",
       "    </tr>\n",
       "  </tbody>\n",
       "</table>\n",
       "</div>"
      ],
      "text/plain": [
       "                       time  latitude  longitude  depth  mag magType  nst  \\\n",
       "0  2015-11-17T07:10:08.740Z   38.7548    20.5519  11.07  6.5     mwb  NaN   \n",
       "1  2015-11-13T20:51:30.990Z   30.9915   128.8768  12.00  6.7     mww  NaN   \n",
       "2  2015-11-11T02:46:19.900Z  -29.4445   -72.1732  10.00  6.9     mww  NaN   \n",
       "3  2015-11-11T01:54:37.710Z  -29.4393   -72.1054  10.00  6.9     mww  NaN   \n",
       "4  2015-11-08T16:47:02.140Z    6.8456    94.6609  10.00  6.4     mwb  NaN   \n",
       "\n",
       "   gap   dmin   rms net          id                   updated  \\\n",
       "0   39  1.417  1.00  us  us10003ywp  2015-11-17T21:22:03.838Z   \n",
       "1   17  1.445  1.13  us  us10003y71  2015-11-14T16:52:21.206Z   \n",
       "2   33  0.940  1.53  us  us10003x9g  2015-11-13T06:15:19.359Z   \n",
       "3   39  0.893  1.53  us  us10003x8t  2015-11-11T15:28:23.143Z   \n",
       "4   31  2.783  1.23  us  us10003vry  2015-11-09T04:37:22.000Z   \n",
       "\n",
       "                            place        type  \n",
       "0       14km WNW of Nidri, Greece  earthquake  \n",
       "1  140km WSW of Makurazaki, Japan  earthquake  \n",
       "2      98km NW of Coquimbo, Chile  earthquake  \n",
       "3      93km NW of Coquimbo, Chile  earthquake  \n",
       "4   128km NW of Sabang, Indonesia  earthquake  "
      ]
     },
     "execution_count": 9,
     "metadata": {},
     "output_type": "execute_result"
    }
   ],
   "source": [
    "last_30 = download_data(1)\n",
    "data_45 = download_data(2)\n",
    "data_25 = download_data(3)\n",
    "data_10 = download_data(4)\n",
    "last_30.head()"
   ]
  },
  {
   "cell_type": "markdown",
   "metadata": {},
   "source": [
    "###Q2) Analyzing the data ###\n",
    "\n",
    "In order to understand the data we will plot different attributes of the data using tools provided by matplotlib.\n",
    "In order to do that, we will first create a class object for the given dataframe.\n",
    "\n",
    "2.1) The class will have a set of functions to generate different plots. The first function will output a histogram taking column type as input. The column type is restricted to latitude or longitude. Take default interval size as 10 degrees\n",
    "\n",
    "2.2) Write another function which when called will output a scatter plot of longitude vs. latitude. For extra credit represent each earthquake by a circle whose area is proporportional to the strength of the earthquake."
   ]
  },
  {
   "cell_type": "code",
   "execution_count": 11,
   "metadata": {
    "collapsed": false
   },
   "outputs": [
    {
     "data": {
      "text/plain": [
       "Index([u'time', u'latitude', u'longitude', u'depth', u'mag', u'magType',\n",
       "       u'nst', u'gap', u'dmin', u'rms', u'net', u'id', u'updated', u'place',\n",
       "       u'type'],\n",
       "      dtype='object')"
      ]
     },
     "execution_count": 11,
     "metadata": {},
     "output_type": "execute_result"
    }
   ],
   "source": [
    "last_30.columns"
   ]
  },
  {
   "cell_type": "code",
   "execution_count": 16,
   "metadata": {
    "collapsed": false
   },
   "outputs": [
    {
     "data": {
      "image/png": "[encoded data removed]",
      "text/plain": [
       "<matplotlib.figure.Figure at 0x7fe3c499c850>"
      ]
     },
     "metadata": {},
     "output_type": "display_data"
    },
    {
     "data": {
      "image/png": "[encoded data removed]",
      "text/plain": [
       "<matplotlib.figure.Figure at 0x7fe3c48ee750>"
      ]
     },
     "metadata": {},
     "output_type": "display_data"
    }
   ],
   "source": [
    "class dataPlot(object):\n",
    "    \"\"\"dataPlot takes a pandas dataframe as input and outputs different plots correspondng to the input dataframe\"\"\"\n",
    "    \n",
    "    def __init__(self, dataFrame):\n",
    "        \"\"\"Initialize variables\"\"\"\n",
    "        self.dataFrame = dataFrame\n",
    "        \n",
    "    def histogram(self,colType):\n",
    "        if colType in ['latitude', 'longitude']:\n",
    "            figure()\n",
    "            data=self.dataFrame[colType].values\n",
    "            size=10\n",
    "            plt.title(colType.title())\n",
    "            self.dataFrame[colType].plot(kind='hist', bins=range(int(min(data)),int(max(data))+size,size))\n",
    "        else:\n",
    "            print 'colType must be latitude or longitude'\n",
    "        \n",
    "    def scatter(self):\n",
    "        figure()\n",
    "        x=self.dataFrame['latitude'].values\n",
    "        y=self.dataFrame['longitude'].values\n",
    "        magnitude=[np.exp(i)*0.1 for i in self.dataFrame['mag'].values]\n",
    "        xlabel('latitude')\n",
    "        ylabel('longitude')\n",
    "        title('Magnitude')\n",
    "        plt.scatter(x,y, s=magnitude)\n",
    "\n",
    "p=dataPlot(data_10)\n",
    "p.histogram('latitude')\n",
    "p.scatter()"
   ]
  },
  {
   "cell_type": "markdown",
   "metadata": {},
   "source": [
    "### Q3) Plotting data on the map ###"
   ]
  },
  {
   "cell_type": "markdown",
   "metadata": {
    "collapsed": false,
    "scrolled": true
   },
   "source": [
    "In the last class we had used basemap to plot the weather data. Now we will use basemap to plot the earthquake data, and further enhance it with a rain animation to indicate the severity of the incident. We will start initially with the dataset corresponding to earthquakes magnitude > 4.5"
   ]
  },
  {
   "cell_type": "code",
   "execution_count": 6,
   "metadata": {
    "collapsed": false
   },
   "outputs": [
    {
     "name": "stdout",
     "output_type": "stream",
     "text": [
      "downloading http://earthquake.usgs.gov/earthquakes/feed/v1.0/summary/4.5_month.csv\n"
     ]
    }
   ],
   "source": [
    "data_45 = download_data(2)"
   ]
  },
  {
   "cell_type": "code",
   "execution_count": 7,
   "metadata": {
    "collapsed": false
   },
   "outputs": [
    {
     "name": "stdout",
     "output_type": "stream",
     "text": [
      "(400, 15)\n"
     ]
    }
   ],
   "source": [
    "print data_45.shape"
   ]
  },
  {
   "cell_type": "markdown",
   "metadata": {},
   "source": [
    "First we will import necessary libraries"
   ]
  },
  {
   "cell_type": "code",
   "execution_count": 6,
   "metadata": {
    "collapsed": true
   },
   "outputs": [],
   "source": [
    "from mpl_toolkits.basemap import Basemap\n",
    "import matplotlib.animation as animation"
   ]
  },
  {
   "cell_type": "markdown",
   "metadata": {},
   "source": [
    "Next we will generate a figure canvas with a basemap projection. We will use the 'mill' projection of Basemap for this assignment. "
   ]
  },
  {
   "cell_type": "code",
   "execution_count": 15,
   "metadata": {
    "collapsed": false
   },
   "outputs": [],
   "source": [
    "#General plot  initializations\n",
    "fig = plt.figure(figsize=(10,10))\n",
    "plt.title('Magnitude > 4.5', fontsize=20)\n",
    "earth = Basemap(projection='mill')"
   ]
  },
  {
   "cell_type": "markdown",
   "metadata": {},
   "source": [
    "We will then draw coastlines and continents"
   ]
  },
  {
   "cell_type": "code",
   "execution_count": 16,
   "metadata": {
    "collapsed": false,
    "scrolled": true
   },
   "outputs": [
    {
     "data": {
      "text/plain": [
       "[<matplotlib.patches.Polygon at 0x7f62a50fbad0>,\n",
       " <matplotlib.patches.Polygon at 0x7f62a5146bd0>,\n",
       " <matplotlib.patches.Polygon at 0x7f62a5146f10>,\n",
       " <matplotlib.patches.Polygon at 0x7f62994451d0>,\n",
       " <matplotlib.patches.Polygon at 0x7f6299445d50>,\n",
       " <matplotlib.patches.Polygon at 0x7f62a46278d0>,\n",
       " <matplotlib.patches.Polygon at 0x7f62a46275d0>,\n",
       " <matplotlib.patches.Polygon at 0x7f62a45f46d0>,\n",
       " <matplotlib.patches.Polygon at 0x7f62b1dad290>,\n",
       " <matplotlib.patches.Polygon at 0x7f62a51357d0>,\n",
       " <matplotlib.patches.Polygon at 0x7f62a5135050>,\n",
       " <matplotlib.patches.Polygon at 0x7f62a5135890>,\n",
       " <matplotlib.patches.Polygon at 0x7f62b14dcb50>,\n",
       " <matplotlib.patches.Polygon at 0x7f62b14dcc50>,\n",
       " <matplotlib.patches.Polygon at 0x7f62b14dc390>,\n",
       " <matplotlib.patches.Polygon at 0x7f62b1503c10>,\n",
       " <matplotlib.patches.Polygon at 0x7f62b1503f50>,\n",
       " <matplotlib.patches.Polygon at 0x7f62b15030d0>,\n",
       " <matplotlib.patches.Polygon at 0x7f62b1503350>,\n",
       " <matplotlib.patches.Polygon at 0x7f62a463d310>,\n",
       " <matplotlib.patches.Polygon at 0x7f62b1554c90>,\n",
       " <matplotlib.patches.Polygon at 0x7f62b1554d90>,\n",
       " <matplotlib.patches.Polygon at 0x7f62ac026990>,\n",
       " <matplotlib.patches.Polygon at 0x7f62ac026c10>,\n",
       " <matplotlib.patches.Polygon at 0x7f62ac026910>,\n",
       " <matplotlib.patches.Polygon at 0x7f62ac026650>,\n",
       " <matplotlib.patches.Polygon at 0x7f62e8507f90>,\n",
       " <matplotlib.patches.Polygon at 0x7f62a4175f90>,\n",
       " <matplotlib.patches.Polygon at 0x7f62b0c91fd0>,\n",
       " <matplotlib.patches.Polygon at 0x7f62b0c91950>,\n",
       " <matplotlib.patches.Polygon at 0x7f62a4165c10>,\n",
       " <matplotlib.patches.Polygon at 0x7f62a40b8450>,\n",
       " <matplotlib.patches.Polygon at 0x7f62a4d483d0>,\n",
       " <matplotlib.patches.Polygon at 0x7f62a4d33490>,\n",
       " <matplotlib.patches.Polygon at 0x7f62a4d28cd0>,\n",
       " <matplotlib.patches.Polygon at 0x7f62a4d21250>,\n",
       " <matplotlib.patches.Polygon at 0x7f62a4868990>,\n",
       " <matplotlib.patches.Polygon at 0x7f62a4cfee10>,\n",
       " <matplotlib.patches.Polygon at 0x7f62a4cfe1d0>,\n",
       " <matplotlib.patches.Polygon at 0x7f62a515a590>,\n",
       " <matplotlib.patches.Polygon at 0x7f62a515aa50>,\n",
       " <matplotlib.patches.Polygon at 0x7f62a515af10>,\n",
       " <matplotlib.patches.Polygon at 0x7f62a5159410>,\n",
       " <matplotlib.patches.Polygon at 0x7f62a51598d0>,\n",
       " <matplotlib.patches.Polygon at 0x7f62a5159d90>,\n",
       " <matplotlib.patches.Polygon at 0x7f62a50ec290>,\n",
       " <matplotlib.patches.Polygon at 0x7f62a50ec750>,\n",
       " <matplotlib.patches.Polygon at 0x7f62a50ecc10>,\n",
       " <matplotlib.patches.Polygon at 0x7f62a50d7110>,\n",
       " <matplotlib.patches.Polygon at 0x7f62a50d75d0>,\n",
       " <matplotlib.patches.Polygon at 0x7f62a50d7a90>,\n",
       " <matplotlib.patches.Polygon at 0x7f62a50d7f50>,\n",
       " <matplotlib.patches.Polygon at 0x7f62a50c7450>,\n",
       " <matplotlib.patches.Polygon at 0x7f62a50c7910>,\n",
       " <matplotlib.patches.Polygon at 0x7f62a50c7dd0>,\n",
       " <matplotlib.patches.Polygon at 0x7f62a50d82d0>,\n",
       " <matplotlib.patches.Polygon at 0x7f62a50d8790>,\n",
       " <matplotlib.patches.Polygon at 0x7f62a50d8c50>,\n",
       " <matplotlib.patches.Polygon at 0x7f62a465e150>,\n",
       " <matplotlib.patches.Polygon at 0x7f62a465e610>,\n",
       " <matplotlib.patches.Polygon at 0x7f62a465ead0>,\n",
       " <matplotlib.patches.Polygon at 0x7f62a465ef90>,\n",
       " <matplotlib.patches.Polygon at 0x7f62a466c490>,\n",
       " <matplotlib.patches.Polygon at 0x7f62a466c950>,\n",
       " <matplotlib.patches.Polygon at 0x7f62a466ce10>,\n",
       " <matplotlib.patches.Polygon at 0x7f62a4643310>,\n",
       " <matplotlib.patches.Polygon at 0x7f62a46437d0>,\n",
       " <matplotlib.patches.Polygon at 0x7f62a4643c90>,\n",
       " <matplotlib.patches.Polygon at 0x7f62a4655190>,\n",
       " <matplotlib.patches.Polygon at 0x7f62a4655650>,\n",
       " <matplotlib.patches.Polygon at 0x7f62a4655b10>,\n",
       " <matplotlib.patches.Polygon at 0x7f62a4655fd0>,\n",
       " <matplotlib.patches.Polygon at 0x7f62a4ff34d0>,\n",
       " <matplotlib.patches.Polygon at 0x7f62a4ff3990>,\n",
       " <matplotlib.patches.Polygon at 0x7f62a4ff3e50>,\n",
       " <matplotlib.patches.Polygon at 0x7f62a4ff4350>,\n",
       " <matplotlib.patches.Polygon at 0x7f62a4ff4810>,\n",
       " <matplotlib.patches.Polygon at 0x7f62a4ff4cd0>,\n",
       " <matplotlib.patches.Polygon at 0x7f62a50151d0>,\n",
       " <matplotlib.patches.Polygon at 0x7f62a5015690>,\n",
       " <matplotlib.patches.Polygon at 0x7f62a5015b50>,\n",
       " <matplotlib.patches.Polygon at 0x7f62a5015f50>,\n",
       " <matplotlib.patches.Polygon at 0x7f62a5026510>,\n",
       " <matplotlib.patches.Polygon at 0x7f62a50269d0>,\n",
       " <matplotlib.patches.Polygon at 0x7f62a5026e90>,\n",
       " <matplotlib.patches.Polygon at 0x7f62a502f390>,\n",
       " <matplotlib.patches.Polygon at 0x7f62a502f850>,\n",
       " <matplotlib.patches.Polygon at 0x7f62a502fd10>,\n",
       " <matplotlib.patches.Polygon at 0x7f62a50ff0d0>,\n",
       " <matplotlib.patches.Polygon at 0x7f62a50ff6d0>,\n",
       " <matplotlib.patches.Polygon at 0x7f62a50ffb90>,\n",
       " <matplotlib.patches.Polygon at 0x7f62a50fff90>,\n",
       " <matplotlib.patches.Polygon at 0x7f62a50f6550>,\n",
       " <matplotlib.patches.Polygon at 0x7f62a50f6a10>,\n",
       " <matplotlib.patches.Polygon at 0x7f62a50f6ed0>,\n",
       " <matplotlib.patches.Polygon at 0x7f62a511b3d0>,\n",
       " <matplotlib.patches.Polygon at 0x7f62a511b890>,\n",
       " <matplotlib.patches.Polygon at 0x7f62a511bd50>,\n",
       " <matplotlib.patches.Polygon at 0x7f62a5112250>,\n",
       " <matplotlib.patches.Polygon at 0x7f62a5112710>,\n",
       " <matplotlib.patches.Polygon at 0x7f62a5112bd0>,\n",
       " <matplotlib.patches.Polygon at 0x7f62a5112fd0>,\n",
       " <matplotlib.patches.Polygon at 0x7f62a5071590>,\n",
       " <matplotlib.patches.Polygon at 0x7f62a5071a50>,\n",
       " <matplotlib.patches.Polygon at 0x7f62a5071f10>,\n",
       " <matplotlib.patches.Polygon at 0x7f62a5061410>,\n",
       " <matplotlib.patches.Polygon at 0x7f62a50618d0>,\n",
       " <matplotlib.patches.Polygon at 0x7f62a5061d90>,\n",
       " <matplotlib.patches.Polygon at 0x7f62a504a290>,\n",
       " <matplotlib.patches.Polygon at 0x7f62a504a750>,\n",
       " <matplotlib.patches.Polygon at 0x7f62a504ac10>,\n",
       " <matplotlib.patches.Polygon at 0x7f62a5044110>,\n",
       " <matplotlib.patches.Polygon at 0x7f62a50445d0>,\n",
       " <matplotlib.patches.Polygon at 0x7f62a5044a90>,\n",
       " <matplotlib.patches.Polygon at 0x7f62a5044f50>,\n",
       " <matplotlib.patches.Polygon at 0x7f62a503c450>,\n",
       " <matplotlib.patches.Polygon at 0x7f62a503c910>,\n",
       " <matplotlib.patches.Polygon at 0x7f62a503cdd0>,\n",
       " <matplotlib.patches.Polygon at 0x7f62ac0462d0>,\n",
       " <matplotlib.patches.Polygon at 0x7f62ac046790>,\n",
       " <matplotlib.patches.Polygon at 0x7f62ac046c50>,\n",
       " <matplotlib.patches.Polygon at 0x7f62ac01a150>,\n",
       " <matplotlib.patches.Polygon at 0x7f62ac01a610>,\n",
       " <matplotlib.patches.Polygon at 0x7f62ac01aad0>,\n",
       " <matplotlib.patches.Polygon at 0x7f62ac01af90>,\n",
       " <matplotlib.patches.Polygon at 0x7f62ac025490>,\n",
       " <matplotlib.patches.Polygon at 0x7f62ac025950>]"
      ]
     },
     "execution_count": 16,
     "metadata": {},
     "output_type": "execute_result"
    }
   ],
   "source": [
    "earth.drawcoastlines(color='0.50', linewidth=0.25)\n",
    "earth.fillcontinents(color='0.95')"
   ]
  },
  {
   "cell_type": "markdown",
   "metadata": {},
   "source": [
    "Now we will plot the magnitude of different earthquakes on the above plot according to the latitude and longitude of the origin and enhance it using Rain animation\n",
    "\n",
    "#### Rain animation ####\n",
    "A very simple rain effect can be obtained by having small growing rings randomly positioned over a figure. Of course, they won't grow forever since the wave is supposed to damp with time. To simulate that, we can use a more and more transparent color as the ring is growing, up to the point where it is no more visible. At this point, we remove the ring and create a new one.\n",
    "\n",
    "An example from rain animation can be loaded by running the next cell (source: http://matplotlib.org/examples/animation/rain.html)"
   ]
  },
  {
   "cell_type": "code",
   "execution_count": 17,
   "metadata": {
    "collapsed": false
   },
   "outputs": [],
   "source": [
    "# %load rain.py"
   ]
  },
  {
   "cell_type": "markdown",
   "metadata": {},
   "source": [
    "As you can see from the above code, the animation can be called from matplotlib's animation function using FuncAnimation or in our case animation.FuncAnimation. This will require an update function, a canvas fig, and an interval)"
   ]
  },
  {
   "cell_type": "markdown",
   "metadata": {},
   "source": [
    "Q4) Now, based on the above rain animation, write an update function to plot the earthquake on earlier created fig. Set the interval as 10. i.e \n",
    "animation = animation.FuncAnimation(fig, update, interval=10)\n",
    "\n",
    "To do this, create two objects rain_drops and scat as shown in the code above. The rain_drops and scat should be of the type as follows."
   ]
  },
  {
   "cell_type": "code",
   "execution_count": 18,
   "metadata": {
    "collapsed": false
   },
   "outputs": [],
   "source": [
    "import numpy as np\n",
    "import matplotlib.pyplot as plt\n",
    "from matplotlib.animation import FuncAnimation\n",
    "\n",
    "magnitude=[np.exp(i)*0.1 for i in data_45['mag'].values]\n",
    "lat=data_45['latitude'].values\n",
    "lon=data_45['longitude'].values\n",
    "pos=earth(lat,lon)\n",
    "pos=zip(pos[0],pos[1])\n",
    "\n",
    "# Create rain data\n",
    "n_drops = 50\n",
    "rain_drops = np.zeros(n_drops, dtype=[('position', float, 2),\n",
    "                                      ('size',     float, 1),\n",
    "                                      ('growth',   float, 1),\n",
    "                                      ('color',    float, 4)])\n",
    "\n",
    "# Initialize the raindrops for position and magnitude\n",
    "rain_drops['position'] = pos[0]\n",
    "rain_drops['growth'] = magnitude[0]\n",
    "\n",
    "# Construct the scatter which we will update during animation\n",
    "# as the raindrops develop.\n",
    "scat = earth.scatter(rain_drops['position'][:, 0], rain_drops['position'][:, 1],\n",
    "                  s=rain_drops['size'], lw=0.5, edgecolors=rain_drops['color'],\n",
    "                  facecolors=rain_drops['color'], zorder='1')"
   ]
  },
  {
   "cell_type": "markdown",
   "metadata": {},
   "source": [
    "Some of the key attributes for the plot should be set as follows\n",
    "1. number of drops is 50\n",
    "2. drop size is 5\n",
    "3. growth is exponential with respect to magnitude i.e np.exp(magnitude) * 0.1\n",
    "4. If magnitude less than 6 set color as 0,0,1,1 else set color as 1,0,0,1\n",
    "\n",
    "The scat object functions \n",
    "1. set_edgecolors\n",
    "2. set_sizes\n",
    "3. set_offsets\n",
    "4. set_faceColors\n",
    "\n",
    "sets these values and returns the scat object. "
   ]
  },
  {
   "cell_type": "code",
   "execution_count": 19,
   "metadata": {
    "collapsed": true
   },
   "outputs": [],
   "source": [
    "def update(frame_number):\n",
    "    # Get an index which we can use to re-spawn the oldest raindrop.\n",
    "    current_index = frame_number % n_drops\n",
    "    \n",
    "    # Make all colors more transparent as time progresses.\n",
    "    rain_drops['color'][:, 3] -= 1.0/len(rain_drops)\n",
    "    rain_drops['color'][:, 3] = np.clip(rain_drops['color'][:, 3], 0, 1)\n",
    "\n",
    "    # Make all circles bigger.\n",
    "    rain_drops['size'] += rain_drops['growth']\n",
    "\n",
    "    \n",
    "    rain_drops['position'][current_index] = pos[current_index]\n",
    "    rain_drops['size'][current_index] = 5\n",
    "    rain_drops['growth'][current_index] = magnitude[current_index]\n",
    "    if rain_drops['growth'][current_index]<18:  #natural log of 6 times 10\n",
    "        rain_drops['color'][current_index] = (0, 0, 1, 1)\n",
    "    else:\n",
    "        rain_drops['color'][current_index] = (1, 0, 0, 1)\n",
    "\n",
    "    # Update the scatter collection, with the new colors, sizes and positions.\n",
    "    scat.set_edgecolors(rain_drops['color'])\n",
    "    scat.set_sizes(rain_drops['size'])\n",
    "    scat.set_offsets(rain_drops['position'])\n",
    "    scat.set_facecolor(rain_drops['color'])"
   ]
  },
  {
   "cell_type": "markdown",
   "metadata": {},
   "source": [
    "Finally, plot the frames as an animation "
   ]
  },
  {
   "cell_type": "code",
   "execution_count": 20,
   "metadata": {
    "collapsed": false
   },
   "outputs": [],
   "source": [
    "animation = FuncAnimation(fig, update, interval=10)\n",
    "animation.save('basic_animation.mp4', extra_args=['-vcodec', 'libx264'])\n",
    "animation.save('test.mp4')\n",
    "plt.show()"
   ]
  },
  {
   "cell_type": "markdown",
   "metadata": {},
   "source": [
    "#### Q4) Now, add this function to the above class dataPlot and call it for the dataframes data_25, data_1 ####"
   ]
  },
  {
   "cell_type": "code",
   "execution_count": 10,
   "metadata": {
    "collapsed": false
   },
   "outputs": [],
   "source": [
    "class dataPlot(object):\n",
    "    \"\"\"dataPlot takes a pandas dataframe as input and outputs different plots correspondng to the input dataframe\"\"\"\n",
    "    \n",
    "    def __init__(self, dataFrame):\n",
    "        \"\"\"Initialize variables\"\"\"\n",
    "        self.dataFrame = dataFrame\n",
    "        \n",
    "    def histogram(self,colType):\n",
    "        \"\"\"Plot histogram\"\"\"\n",
    "        if colType in ['latitude', 'longitude']:\n",
    "            plt.figure()\n",
    "            data=self.dataFrame[colType].values\n",
    "            size=10\n",
    "            plt.title(colType.title())\n",
    "            self.dataFrame[colType].plot(kind='hist', bins=range(int(min(data)),int(max(data))+size,size))\n",
    "        else:\n",
    "            print 'colType must be latitude or longitude'\n",
    "        \n",
    "    def scatter(self):\n",
    "        \"\"\"Plot scatter plot\"\"\"\n",
    "        plt.figure()\n",
    "        x=self.dataFrame['latitude'].values\n",
    "        y=self.dataFrame['longitude'].values\n",
    "        magnitude=[np.exp(i)*0.1 for i in self.dataFrame['mag'].values]\n",
    "        plt.xlabel('latitude')\n",
    "        plt.ylabel('longitude')\n",
    "        plt.title('Magnitude')\n",
    "        plt.scatter(x,y, s=magnitude)\n",
    "        \n",
    "    def animate(self):\n",
    "        \"\"\"Animate Earthquare magnitudes on a map\"\"\"\n",
    "        self.fig = plt.figure(figsize=(10,10))\n",
    "        ax = self.fig.add_subplot(111)\n",
    "        ax.set_title('Earthquakes', fontsize=20)\n",
    "        earth = Basemap(projection='mill')\n",
    "        earth.drawcoastlines(color='0.50', linewidth=0.25)\n",
    "        earth.fillcontinents(color='0.95')\n",
    "        #Parse data\n",
    "        self.magnitude=[np.exp(i)*0.1 for i in self.dataFrame['mag'].values]\n",
    "        self.lat=self.dataFrame['latitude'].values\n",
    "        self.lon=self.dataFrame['longitude'].values\n",
    "        pos=earth(self.lat,self.lon)\n",
    "        self.pos=zip(pos[0],pos[1])\n",
    "        # Create rain data\n",
    "        self.n_drops = 50\n",
    "        self.rain_drops = np.zeros(self.n_drops, dtype=[('position', float, 2),\n",
    "                                              ('size',     float, 1),\n",
    "                                              ('growth',   float, 1),\n",
    "                                              ('color',    float, 4)])\n",
    "        # Initialize the raindrops for position and magnitude\n",
    "        self.rain_drops['position'] = self.pos[0]\n",
    "        self.rain_drops['growth'] = self.magnitude[0]\n",
    "        # Construct the scatter which we will update during animation\n",
    "        # as the raindrops develop.\n",
    "        self.scat = earth.scatter(self.rain_drops['position'][:, 0], self.rain_drops['position'][:, 1],\n",
    "                          s=self.rain_drops['size'], lw=0.5, edgecolors=self.rain_drops['color'],\n",
    "                          facecolors=self.rain_drops['color'], zorder='1')\n",
    "        #Animation\n",
    "        self.anim = FuncAnimation(self.fig, self.update, interval=10, blit=False)        \n",
    "        #FFwriter = animation.FFMpegWriter()\n",
    "        #self.anim.save('basic_animation.mp4', writer = FFwriter, fps=1, extra_args=['-vcodec', 'libx264'])\n",
    "        plt.show()\n",
    "        \n",
    "    def update(self, frame_number):        \n",
    "        # Get an index which we can use to re-spawn the oldest raindrop.\n",
    "        current_index = frame_number % self.n_drops\n",
    "        # Make all colors more transparent as time progresses.\n",
    "        self.rain_drops['color'][:, 3] -= 1.0/len(self.rain_drops)\n",
    "        self.rain_drops['color'][:, 3] = np.clip(self.rain_drops['color'][:, 3], 0, 1)\n",
    "        # Make all circles bigger.\n",
    "        self.rain_drops['size'] += self.rain_drops['growth']\n",
    "        self.rain_drops['position'][current_index] = self.pos[current_index]\n",
    "        self.rain_drops['size'][current_index] = 5\n",
    "        self.rain_drops['growth'][current_index] = self.magnitude[current_index]\n",
    "        if self.rain_drops['growth'][current_index]<18:  #natural log of 6 times 10\n",
    "            self.rain_drops['color'][current_index] = (0, 0, 1, 1)\n",
    "        else:\n",
    "            self.rain_drops['color'][current_index] = (1, 0, 0, 1)\n",
    "        # Update the scatter collection, with the new colors, sizes and positions.\n",
    "        self.scat.set_edgecolors(self.rain_drops['color'])\n",
    "        self.scat.set_sizes(self.rain_drops['size'])\n",
    "        self.scat.set_offsets(self.rain_drops['position'])\n",
    "        self.scat.set_facecolor(self.rain_drops['color'])\n",
    "        return self.scat "
   ]
  },
  {
   "cell_type": "code",
   "execution_count": 11,
   "metadata": {
    "collapsed": false
   },
   "outputs": [
    {
     "data": {
      "text/plain": [
       "(1387, 15)"
      ]
     },
     "execution_count": 11,
     "metadata": {},
     "output_type": "execute_result"
    }
   ],
   "source": [
    "data_25.shape"
   ]
  },
  {
   "cell_type": "code",
   "execution_count": 12,
   "metadata": {
    "collapsed": false
   },
   "outputs": [],
   "source": [
    "D25 = dataPlot(data_25)"
   ]
  },
  {
   "cell_type": "code",
   "execution_count": 49,
   "metadata": {
    "collapsed": false
   },
   "outputs": [
    {
     "data": {
      "image/png": "[encoded data removed]",
      "text/plain": [
       "<matplotlib.figure.Figure at 0x7f62959e95d0>"
      ]
     },
     "metadata": {},
     "output_type": "display_data"
    },
    {
     "data": {
      "image/png": "[encoded data removed]",
      "text/plain": [
       "<matplotlib.figure.Figure at 0x7f6299677790>"
      ]
     },
     "metadata": {},
     "output_type": "display_data"
    }
   ],
   "source": [
    "D25.histogram('latitude')\n",
    "D25.histogram('longitude')"
   ]
  },
  {
   "cell_type": "code",
   "execution_count": 50,
   "metadata": {
    "collapsed": false
   },
   "outputs": [
    {
     "data": {
      "image/png": "[encoded data removed]",
      "text/plain": [
       "<matplotlib.figure.Figure at 0x7f62a40743d0>"
      ]
     },
     "metadata": {},
     "output_type": "display_data"
    }
   ],
   "source": [
    "D25.scatter()"
   ]
  },
  {
   "cell_type": "code",
   "execution_count": 13,
   "metadata": {
    "collapsed": false
   },
   "outputs": [],
   "source": [
    "D25.animate()"
   ]
  },
  {
   "cell_type": "code",
   "execution_count": null,
   "metadata": {
    "collapsed": false
   },
   "outputs": [],
   "source": []
  }
 ],
 "metadata": {
  "kernelspec": {
   "display_name": "Python 2",
   "language": "python",
   "name": "python2"
  },
  "language_info": {
   "codemirror_mode": {
    "name": "ipython",
    "version": 2
   },
   "file_extension": ".py",
   "mimetype": "text/x-python",
   "name": "python",
   "nbconvert_exporter": "python",
   "pygments_lexer": "ipython2",
   "version": "2.7.10"
  }
 },
 "nbformat": 4,
 "nbformat_minor": 0
}
