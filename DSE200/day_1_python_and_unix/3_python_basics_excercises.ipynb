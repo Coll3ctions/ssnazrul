{
 "metadata": {
  "name": "",
  "signature": "sha256:fb8d22e08c9925c3bf33e58162ee46995d338ffec8d80af9e334d9832ff8aa02"
 },
 "nbformat": 3,
 "nbformat_minor": 0,
 "worksheets": [
  {
   "cells": [
    {
     "cell_type": "markdown",
     "metadata": {},
     "source": [
      "### Excercises"
     ]
    },
    {
     "cell_type": "code",
     "collapsed": false,
     "input": [
      "import numpy as np\n",
      "import matplotlib.pyplot as plt\n",
      "import pandas as pd"
     ],
     "language": "python",
     "metadata": {},
     "outputs": [],
     "prompt_number": 2
    },
    {
     "cell_type": "code",
     "collapsed": false,
     "input": [
      "# (imp1) Compute the average of a list of numbers. use list comprehension.\n",
      "L=[23,32,121,22,1222.23,5]\n",
      "print sum(L)/len(L)"
     ],
     "language": "python",
     "metadata": {},
     "outputs": [
      {
       "output_type": "stream",
       "stream": "stdout",
       "text": [
        "237.538333333\n"
       ]
      }
     ],
     "prompt_number": 3
    },
    {
     "cell_type": "code",
     "collapsed": false,
     "input": [
      "# (2) Compute the number of times each word occurs in the following text.\n",
      "# Transform all words to lower case. Output a list of\n",
      "#  word,count pairs, one pair per line sorted from highest to lowest count."
     ],
     "language": "python",
     "metadata": {},
     "outputs": [],
     "prompt_number": 4
    },
    {
     "cell_type": "code",
     "collapsed": false,
     "input": [
      "Text=\"\"\"\n",
      "bands which have connected them with another, and to assume among the\n",
      "powers of the earth, the separate and equal station to which the Laws\n",
      "of Nature and of Nature's God entitle them, a decent respect to the\n",
      "opinions of mankind requires that they should declare the causes which\n",
      "impel them to the separation.  We hold these truths to be\n",
      "self-evident, that all men are created equal, that they are endowed by\n",
      "their Creator with certain unalienable Rights, that among these are\n",
      "Life, Liberty and the pursuit of Happiness.--That to secure these\n",
      "rights, Governments are instituted among Men, deriving their just\n",
      "powers from the consent of the governed, --That whenever any Form of\n",
      "Government becomes destructive of these ends, it is the Right of the\n",
      "People to alter or to abolish it, and to institute new Government,\n",
      "laying its foundation on such principles and organizing its powers in\n",
      "such form, as to them shall seem most likely to effect their Safety\n",
      "and Happiness. Prudence, indeed, will dictate that Governments long\n",
      "established should not be changed for light and transient causes; and\n",
      "accordingly all experience hath shewn, that mankind are more disposed\n",
      "to suffer, while evils are sufferable, than to right themselves by\n",
      "abolishing the forms to which they are accustomed. But when a long\n",
      "train of abuses and usurpations, pursuing invariably the same Object\n",
      "evinces a design to reduce them under absolute Despotism, it is their\n",
      "right, it is their duty, to throw off such Government, and to provide\n",
      "new Guards for their future security.--Such has been the patient\n",
      "sufferance of these Colonies; and such is now the necessity which\n",
      "constrains them to alter their former Systems of Government. The\n",
      "history of the present King of Great Britain is a history of repeated\n",
      "injuries and usurpations, all having in direct object the\n",
      "establishment of an absolute Tyranny over these States. To prove this,\n",
      "let Facts be submitted to a candid world.\n",
      "\"\"\"\n",
      "\n",
      "import operator\n",
      "\n",
      "# First, we replace the punctuations marks with spaces\n",
      "for char in '-.,':\n",
      "    Text=Text.replace(char,' ')\n",
      "    \n",
      "def counter(word_list):\n",
      "    count_dict = {}\n",
      "    for word in word_list:\n",
      "        if word not in count_dict:\n",
      "            count_dict[word]=0\n",
      "    for word in word_list:\n",
      "        count_dict[word]+=1\n",
      "    sorted_dict = sorted(count_dict.items(), key=operator.itemgetter(1), reverse=True)\n",
      "    return sorted_dict\n",
      "\n",
      "textList=Text.lower().split()\n",
      "\n",
      "counts = counter(textList)\n",
      "print counts\n",
      "print '\\n'\n",
      "print Text.upper()\n",
      "print '\\n'\n",
      "print Text.lower()"
     ],
     "language": "python",
     "metadata": {},
     "outputs": [
      {
       "output_type": "stream",
       "stream": "stdout",
       "text": [
        "[('to', 20), ('the', 19), ('of', 16), ('and', 13), ('that', 8), ('are', 7), ('their', 7), ('them', 6), ('these', 6), ('is', 5), ('which', 5), ('such', 5), ('a', 5), ('government', 4), ('it', 4), ('all', 3), ('they', 3), ('right', 3), ('among', 3), ('be', 3), ('powers', 3), ('its', 2), ('should', 2), ('alter', 2), ('governments', 2), ('for', 2), ('happiness', 2), ('new', 2), ('men', 2), ('by', 2), ('usurpations', 2), ('equal', 2), ('long', 2), ('form', 2), ('with', 2), ('rights', 2), ('history', 2), ('in', 2), ('absolute', 2), ('object', 2), ('mankind', 2), ('opinions', 1), ('just', 1), ('consent', 1), ('over', 1), ('hath', 1), ('invariably', 1), ('facts', 1), ('earth', 1), ('suffer', 1), ('causes', 1), ('forms', 1), ('systems', 1), ('indeed', 1), ('has', 1), ('bands', 1), ('prudence', 1), ('candid', 1), ('under', 1), ('not', 1), ('world', 1), ('now', 1), ('laying', 1), ('this', 1), ('abuses', 1), ('causes;', 1), ('abolishing', 1), ('people', 1), ('truths', 1), ('reduce', 1), ('ends', 1), ('likely', 1), ('shewn', 1), (\"nature's\", 1), ('organizing', 1), ('principles', 1), ('will', 1), ('god', 1), ('shall', 1), ('liberty', 1), ('injuries', 1), ('unalienable', 1), ('safety', 1), ('foundation', 1), ('we', 1), ('patient', 1), ('nature', 1), ('states', 1), ('let', 1), ('pursuit', 1), ('separation', 1), ('constrains', 1), ('on', 1), ('great', 1), ('created', 1), ('institute', 1), ('changed', 1), ('experience', 1), ('sufferance', 1), ('or', 1), ('duty', 1), ('sufferable', 1), ('secure', 1), ('been', 1), ('another', 1), ('respect', 1), ('from', 1), ('prove', 1), ('decent', 1), ('creator', 1), ('disposed', 1), ('throw', 1), ('accordingly', 1), ('station', 1), ('entitle', 1), ('certain', 1), ('themselves', 1), ('more', 1), ('tyranny', 1), ('life', 1), ('evinces', 1), ('becomes', 1), ('pursuing', 1), ('but', 1), ('instituted', 1), ('repeated', 1), ('transient', 1), ('former', 1), ('hold', 1), ('than', 1), ('present', 1), ('king', 1), ('evident', 1), ('britain', 1), ('submitted', 1), ('impel', 1), ('assume', 1), ('while', 1), ('future', 1), ('accustomed', 1), ('light', 1), ('design', 1), ('declare', 1), ('security', 1), ('endowed', 1), ('dictate', 1), ('an', 1), ('direct', 1), ('as', 1), ('despotism', 1), ('have', 1), ('seem', 1), ('any', 1), ('colonies;', 1), ('evils', 1), ('self', 1), ('when', 1), ('same', 1), ('abolish', 1), ('guards', 1), ('establishment', 1), ('separate', 1), ('effect', 1), ('deriving', 1), ('most', 1), ('connected', 1), ('necessity', 1), ('destructive', 1), ('off', 1), ('whenever', 1), ('established', 1), ('governed', 1), ('provide', 1), ('train', 1), ('requires', 1), ('having', 1), ('laws', 1)]\n",
        "\n",
        "\n",
        "\n",
        "BANDS WHICH HAVE CONNECTED THEM WITH ANOTHER  AND TO ASSUME AMONG THE\n",
        "POWERS OF THE EARTH  THE SEPARATE AND EQUAL STATION TO WHICH THE LAWS\n",
        "OF NATURE AND OF NATURE'S GOD ENTITLE THEM  A DECENT RESPECT TO THE\n",
        "OPINIONS OF MANKIND REQUIRES THAT THEY SHOULD DECLARE THE CAUSES WHICH\n",
        "IMPEL THEM TO THE SEPARATION   WE HOLD THESE TRUTHS TO BE\n",
        "SELF EVIDENT  THAT ALL MEN ARE CREATED EQUAL  THAT THEY ARE ENDOWED BY\n",
        "THEIR CREATOR WITH CERTAIN UNALIENABLE RIGHTS  THAT AMONG THESE ARE\n",
        "LIFE  LIBERTY AND THE PURSUIT OF HAPPINESS   THAT TO SECURE THESE\n",
        "RIGHTS  GOVERNMENTS ARE INSTITUTED AMONG MEN  DERIVING THEIR JUST\n",
        "POWERS FROM THE CONSENT OF THE GOVERNED    THAT WHENEVER ANY FORM OF\n",
        "GOVERNMENT BECOMES DESTRUCTIVE OF THESE ENDS  IT IS THE RIGHT OF THE\n",
        "PEOPLE TO ALTER OR TO ABOLISH IT  AND TO INSTITUTE NEW GOVERNMENT \n",
        "LAYING ITS FOUNDATION ON SUCH PRINCIPLES AND ORGANIZING ITS POWERS IN\n",
        "SUCH FORM  AS TO THEM SHALL SEEM MOST LIKELY TO EFFECT THEIR SAFETY\n",
        "AND HAPPINESS  PRUDENCE  INDEED  WILL DICTATE THAT GOVERNMENTS LONG\n",
        "ESTABLISHED SHOULD NOT BE CHANGED FOR LIGHT AND TRANSIENT CAUSES; AND\n",
        "ACCORDINGLY ALL EXPERIENCE HATH SHEWN  THAT MANKIND ARE MORE DISPOSED\n",
        "TO SUFFER  WHILE EVILS ARE SUFFERABLE  THAN TO RIGHT THEMSELVES BY\n",
        "ABOLISHING THE FORMS TO WHICH THEY ARE ACCUSTOMED  BUT WHEN A LONG\n",
        "TRAIN OF ABUSES AND USURPATIONS  PURSUING INVARIABLY THE SAME OBJECT\n",
        "EVINCES A DESIGN TO REDUCE THEM UNDER ABSOLUTE DESPOTISM  IT IS THEIR\n",
        "RIGHT  IT IS THEIR DUTY  TO THROW OFF SUCH GOVERNMENT  AND TO PROVIDE\n",
        "NEW GUARDS FOR THEIR FUTURE SECURITY   SUCH HAS BEEN THE PATIENT\n",
        "SUFFERANCE OF THESE COLONIES; AND SUCH IS NOW THE NECESSITY WHICH\n",
        "CONSTRAINS THEM TO ALTER THEIR FORMER SYSTEMS OF GOVERNMENT  THE\n",
        "HISTORY OF THE PRESENT KING OF GREAT BRITAIN IS A HISTORY OF REPEATED\n",
        "INJURIES AND USURPATIONS  ALL HAVING IN DIRECT OBJECT THE\n",
        "ESTABLISHMENT OF AN ABSOLUTE TYRANNY OVER THESE STATES  TO PROVE THIS \n",
        "LET FACTS BE SUBMITTED TO A CANDID WORLD \n",
        "\n",
        "\n",
        "\n",
        "\n",
        "bands which have connected them with another  and to assume among the\n",
        "powers of the earth  the separate and equal station to which the laws\n",
        "of nature and of nature's god entitle them  a decent respect to the\n",
        "opinions of mankind requires that they should declare the causes which\n",
        "impel them to the separation   we hold these truths to be\n",
        "self evident  that all men are created equal  that they are endowed by\n",
        "their creator with certain unalienable rights  that among these are\n",
        "life  liberty and the pursuit of happiness   that to secure these\n",
        "rights  governments are instituted among men  deriving their just\n",
        "powers from the consent of the governed    that whenever any form of\n",
        "government becomes destructive of these ends  it is the right of the\n",
        "people to alter or to abolish it  and to institute new government \n",
        "laying its foundation on such principles and organizing its powers in\n",
        "such form  as to them shall seem most likely to effect their safety\n",
        "and happiness  prudence  indeed  will dictate that governments long\n",
        "established should not be changed for light and transient causes; and\n",
        "accordingly all experience hath shewn  that mankind are more disposed\n",
        "to suffer  while evils are sufferable  than to right themselves by\n",
        "abolishing the forms to which they are accustomed  but when a long\n",
        "train of abuses and usurpations  pursuing invariably the same object\n",
        "evinces a design to reduce them under absolute despotism  it is their\n",
        "right  it is their duty  to throw off such government  and to provide\n",
        "new guards for their future security   such has been the patient\n",
        "sufferance of these colonies; and such is now the necessity which\n",
        "constrains them to alter their former systems of government  the\n",
        "history of the present king of great britain is a history of repeated\n",
        "injuries and usurpations  all having in direct object the\n",
        "establishment of an absolute tyranny over these states  to prove this \n",
        "let facts be submitted to a candid world \n",
        "\n"
       ]
      }
     ],
     "prompt_number": 5
    },
    {
     "cell_type": "code",
     "collapsed": false,
     "input": [
      "# (3) same as 2, but instead of single words, count the number of occurances of **word pairs** i.e.\n",
      "# ('bands','which'),('which','have'),...\n",
      "\n",
      "textList=Text.split()\n",
      "newList = []\n",
      "for i in range(0,len(textList),2):\n",
      "    newList.append(textList[i]+' '+textList[i+1])\n",
      "for i in range(1,len(textList)-1,2):\n",
      "        newList.append(textList[i]+' '+textList[i+1])\n",
      "counts = counter(newList)\n",
      "print counts"
     ],
     "language": "python",
     "metadata": {},
     "outputs": [
      {
       "output_type": "stream",
       "stream": "stdout",
       "text": [
        "[('of the', 4), ('it is', 3), ('and to', 3), ('of Government', 2), ('is their', 2), ('to alter', 2), ('and usurpations', 2), ('them to', 2), ('to which', 2), ('of these', 2), ('they are', 2), ('history of', 2), ('to the', 2), ('that they', 2), ('usurpations pursuing', 1), ('a long', 1), ('and organizing', 1), ('instituted among', 1), ('and the', 1), ('necessity which', 1), ('a decent', 1), ('King of', 1), ('ends it', 1), ('such Government', 1), ('to throw', 1), ('indeed will', 1), ('direct object', 1), ('security Such', 1), ('is the', 1), ('the pursuit', 1), ('these States', 1), ('them under', 1), ('hath shewn', 1), ('dictate that', 1), ('shall seem', 1), ('as to', 1), ('and of', 1), ('changed for', 1), ('But when', 1), ('Men deriving', 1), ('of an', 1), ('which they', 1), ('from the', 1), ('of mankind', 1), ('to secure', 1), ('Government The', 1), ('a candid', 1), ('Such has', 1), ('and accordingly', 1), ('Tyranny over', 1), ('abuses and', 1), ('which constrains', 1), ('that all', 1), ('been the', 1), ('while evils', 1), ('to suffer', 1), ('hold these', 1), ('object the', 1), ('absolute Tyranny', 1), ('is a', 1), ('mankind requires', 1), ('former Systems', 1), ('evident that', 1), ('impel them', 1), ('the People', 1), ('principles and', 1), ('under absolute', 1), ('entitle them', 1), ('another and', 1), ('that Governments', 1), ('be changed', 1), ('Systems of', 1), ('abolishing the', 1), ('just powers', 1), ('bands which', 1), ('to reduce', 1), ('Great Britain', 1), ('Prudence indeed', 1), ('laying its', 1), ('for light', 1), ('most likely', 1), ('of repeated', 1), ('becomes destructive', 1), ('same Object', 1), ('self evident', 1), ('which have', 1), ('of Happiness', 1), ('truths to', 1), ('Facts be', 1), ('they should', 1), ('new Government', 1), ('among these', 1), ('rights Governments', 1), ('absolute Despotism', 1), ('sufferable than', 1), ('its powers', 1), ('We hold', 1), ('that among', 1), ('with another', 1), ('separate and', 1), ('abolish it', 1), ('them with', 1), ('themselves by', 1), ('on such', 1), ('That to', 1), ('provide new', 1), ('right themselves', 1), ('the separate', 1), ('Rights that', 1), ('Nature and', 1), ('that mankind', 1), ('connected them', 1), ('requires that', 1), ('their right', 1), ('their future', 1), ('whenever any', 1), ('Government becomes', 1), ('Government laying', 1), ('to institute', 1), ('should declare', 1), ('with certain', 1), ('a history', 1), ('all having', 1), ('the Laws', 1), ('design to', 1), ('suffer while', 1), ('these are', 1), ('institute new', 1), ('by their', 1), ('prove this', 1), ('to a', 1), ('States To', 1), ('these truths', 1), ('and equal', 1), ('a design', 1), ('Happiness That', 1), ('off such', 1), ('are more', 1), ('equal that', 1), ('let Facts', 1), ('created equal', 1), ('Governments long', 1), ('alter their', 1), ('of Great', 1), ('has been', 1), ('pursuit of', 1), ('is now', 1), ('are accustomed', 1), ('when a', 1), ('the governed', 1), ('Guards for', 1), ('light and', 1), ('opinions of', 1), ('the consent', 1), ('in direct', 1), ('to be', 1), ('these rights', 1), ('future security', 1), ('consent of', 1), ('and transient', 1), ('their just', 1), ('throw off', 1), ('unalienable Rights', 1), ('are endowed', 1), ('are created', 1), ('reduce them', 1), ('such is', 1), ('or to', 1), ('To prove', 1), ('Laws of', 1), ('certain unalienable', 1), ('shewn that', 1), ('their former', 1), ('among Men', 1), ('their Safety', 1), ('are sufferable', 1), ('long established', 1), ('equal station', 1), ('powers in', 1), ('such form', 1), ('Right of', 1), ('now the', 1), ('Despotism it', 1), ('having in', 1), ('experience hath', 1), ('endowed by', 1), ('God entitle', 1), ('to assume', 1), ('for their', 1), ('should not', 1), ('which the', 1), ('Object evinces', 1), ('train of', 1), ('organizing its', 1), ('accustomed But', 1), ('to abolish', 1), ('alter or', 1), ('to right', 1), ('causes; and', 1), ('the earth', 1), ('submitted to', 1), ('decent respect', 1), ('among the', 1), ('have connected', 1), ('these ends', 1), ('The history', 1), ('patient sufferance', 1), ('Governments are', 1), ('assume among', 1), ('pursuing invariably', 1), ('the opinions', 1), ('causes which', 1), ('will dictate', 1), ('the Right', 1), ('Happiness Prudence', 1), ('earth the', 1), ('the present', 1), ('the separation', 1), ('their Creator', 1), ('Britain is', 1), ('the establishment', 1), ('accordingly all', 1), ('foundation on', 1), ('mankind are', 1), ('them shall', 1), ('declare the', 1), ('over these', 1), ('be submitted', 1), ('and Happiness', 1), ('deriving their', 1), ('constrains them', 1), ('Form of', 1), ('likely to', 1), ('right it', 1), ('present King', 1), ('by abolishing', 1), ('the causes', 1), ('secure these', 1), ('evinces a', 1), ('governed That', 1), ('all men', 1), ('establishment of', 1), ('the same', 1), ('sufferance of', 1), ('its foundation', 1), ('all experience', 1), ('new Guards', 1), ('such principles', 1), ('Government and', 1), ('of abuses', 1), ('usurpations all', 1), ('powers of', 1), ('be self', 1), ('this let', 1), ('to effect', 1), ('station to', 1), ('Colonies; and', 1), ('respect to', 1), ('established should', 1), ('them a', 1), ('the forms', 1), ('these Colonies;', 1), ('Liberty and', 1), ('duty to', 1), ('the powers', 1), ('the patient', 1), ('seem most', 1), ('destructive of', 1), ('any Form', 1), ('to provide', 1), ('are Life', 1), ('which impel', 1), ('separation We', 1), ('than to', 1), ('and such', 1), ('form as', 1), ('People to', 1), ('repeated injuries', 1), ('Life Liberty', 1), ('Creator with', 1), ('it and', 1), ('of Nature', 1), ('long train', 1), ('men are', 1), ('to them', 1), (\"of Nature's\", 1), ('are instituted', 1), ('That whenever', 1), ('powers from', 1), ('transient causes;', 1), ('candid world', 1), ('injuries and', 1), ('in such', 1), ('disposed to', 1), ('not be', 1), ('more disposed', 1), ('effect their', 1), (\"Nature's God\", 1), ('evils are', 1), ('the necessity', 1), ('invariably the', 1), ('Safety and', 1), ('forms to', 1), ('their duty', 1), ('an absolute', 1)]\n"
       ]
      }
     ],
     "prompt_number": 6
    },
    {
     "cell_type": "markdown",
     "metadata": {},
     "source": [
      "(4) For the list `l =  [ 6, -5, 3, -2, 0, 8, -9, -7 ]`, return the numbers which are greater than the average (of these numbers)"
     ]
    },
    {
     "cell_type": "code",
     "collapsed": false,
     "input": [
      "l =  [ 6, -5, 3, -2, 0, 8, -9, -7 ]\n",
      "av=np.nanmean(l)\n",
      "for num in l:\n",
      "    if num > av:\n",
      "        print num"
     ],
     "language": "python",
     "metadata": {},
     "outputs": [
      {
       "output_type": "stream",
       "stream": "stdout",
       "text": [
        "6\n",
        "3\n",
        "0\n",
        "8\n"
       ]
      }
     ],
     "prompt_number": 7
    },
    {
     "cell_type": "markdown",
     "metadata": {},
     "source": [
      "(5) for the tuples (2, 5, 3, 7, 10, 20, 54, 89) and (15, 16, 3, 37, 54, 21, 20, 5) return a sorted tuple that contains\n",
      "only the elements common to both the tuples (use sets)"
     ]
    },
    {
     "cell_type": "code",
     "collapsed": false,
     "input": [
      "A=(2, 5, 3, 7, 10, 20, 54, 89)\n",
      "B=(15, 16, 3, 37, 54, 21, 20, 5)\n",
      "\n",
      "print tuple(sorted(set(A)&set(B)))"
     ],
     "language": "python",
     "metadata": {},
     "outputs": [
      {
       "output_type": "stream",
       "stream": "stdout",
       "text": [
        "(3, 5, 20, 54)\n"
       ]
      }
     ],
     "prompt_number": 8
    },
    {
     "cell_type": "markdown",
     "metadata": {},
     "source": [
      "(6) calculate the average word length for the text\n",
      "\n",
      "> TEXT =\n",
      "> On a dark desert highway, cool wind in my hair\n",
      "> Warm smell of colitas, rising up through the air\n",
      "> Up ahead in the distance, I saw a shimmering light\n",
      "> My head grew heavy and my sight grew dim\n",
      "> I had to stop for the night\n",
      "> There she stood in the doorway;\n",
      "> I heard the mission bell\n",
      "> And I was thinking to myself,\n",
      "> \"This could be Heaven or this could be Hell\"\n",
      "> Then she lit up a candle and she showed me the way\n",
      "> \n",
      "\n",
      "Average word length is the sum of all the lengths of the word tokens in the text, divided by the number of word tokens\n"
     ]
    },
    {
     "cell_type": "code",
     "collapsed": false,
     "input": [
      "TEXT=\"\"\"\n",
      "On a dark desert highway, cool wind in my hair\n",
      "Warm smell of colitas, rising up through the air\n",
      "Up ahead in the distance, I saw a shimmering light\n",
      "My head grew heavy and my sight grew dim\n",
      "I had to stop for the night\n",
      "There she stood in the doorway;\n",
      "I heard the mission bell\n",
      "And I was thinking to myself,\n",
      "\"This could be Heaven or this could be Hell\"\n",
      "Then she lit up a candle and she showed me the way\n",
      "\"\"\"\n",
      "punc='\",;'\n",
      "for i in punc:\n",
      "    TEXT=TEXT.replace(i,' ')\n",
      "textList = TEXT.split()\n",
      "textLen = [len(i) for i in textList]\n",
      "av = np.sum(textLen)/len(textLen)\n",
      "print av"
     ],
     "language": "python",
     "metadata": {},
     "outputs": [
      {
       "output_type": "stream",
       "stream": "stdout",
       "text": [
        "3\n"
       ]
      }
     ],
     "prompt_number": 9
    },
    {
     "cell_type": "markdown",
     "metadata": {},
     "source": [
      "(7) Using the same text as in the last one, remove all punctuation and output the words in sorted alphabetical order. Save this output as a CSV file with each word separated from the other by the delimiter(comma)."
     ]
    },
    {
     "cell_type": "code",
     "collapsed": false,
     "input": [
      "TEXT = 'On a dark desert highway, cool wind in my hair Warm smell of colitas, rising up through the air Up ahead in the distance, I saw a shimmering light My head grew heavy and my sight grew dim I had to stop for the night There she stood in the doorway; I heard the mission bell And I was thinking to myself, \"This could be Heaven or this could be Hell\" Then she lit up a candle and she showed me the way'\n",
      "punc='\",;'\n",
      "for i in punc:\n",
      "    TEXT=TEXT.replace(i,' ')\n",
      "textList = TEXT.split()\n",
      "count_dict=counter(textList)\n",
      "csvFile = open('Exercise_3_7.csv','a')\n",
      "csvFile.write('Word, Count')\n",
      "for entry in count_dict:\n",
      "    csvFile.write(str(entry[0])+','+str(entry[1])+'\\n')\n",
      "csvFile.close()"
     ],
     "language": "python",
     "metadata": {},
     "outputs": [],
     "prompt_number": 11
    },
    {
     "cell_type": "markdown",
     "metadata": {},
     "source": [
      "(8) Read the text from the above separated csv file and return a dictionary of (letter:count) pair\n",
      "that counts the number of times each letter appears in that line."
     ]
    },
    {
     "cell_type": "code",
     "collapsed": false,
     "input": [
      "csvFile = open('Exercise_3_7.csv','r')\n",
      "line = csvFile.read()\n",
      "text = line.split(',')\n",
      "text = ''.join(text)\n",
      "text = text.lower()\n",
      "counts = counter(text)\n",
      "print counts"
     ],
     "language": "python",
     "metadata": {},
     "outputs": [
      {
       "output_type": "stream",
       "stream": "stdout",
       "text": [
        "[('e', 66), ('h', 62), ('i', 56), ('a', 50), ('t', 46), ('s', 40), ('o', 38), ('d', 36), ('n', 36), ('r', 30), ('l', 28), ('m', 22), ('g', 20), ('w', 20), ('y', 16), ('c', 12), ('u', 12), ('p', 8), ('b', 6), ('f', 6), ('k', 4), ('v', 4)]\n"
       ]
      }
     ],
     "prompt_number": 12
    },
    {
     "cell_type": "code",
     "collapsed": false,
     "input": [
      "#(9) Take as an input an array of integers, and return true if the array contains a 5 immediately after another 5 \n",
      "#somewhere.\n",
      "A=[1,5,1,6,5,3,5,2]\n",
      "B=[1,2,3,4,5,5,6,7,8,9]\n",
      "\n",
      "def five_pair(arr):\n",
      "    cond=False\n",
      "    for i in range(0,len(arr),2):\n",
      "        if arr[i] == 5:\n",
      "            if arr[i+1] == 5:\n",
      "                cond = True                \n",
      "    for i in range(1,len(arr)-1,2):\n",
      "        if arr[i] == 5:\n",
      "            if arr[i+1] == 5:\n",
      "                cond = True\n",
      "    return cond\n",
      "\n",
      "print 'A:'+str(five_pair(A))\n",
      "print 'B:'+str(five_pair(B))"
     ],
     "language": "python",
     "metadata": {},
     "outputs": [
      {
       "output_type": "stream",
       "stream": "stdout",
       "text": [
        "A:False\n",
        "B:True\n"
       ]
      }
     ],
     "prompt_number": 13
    },
    {
     "cell_type": "markdown",
     "metadata": {},
     "source": [
      "(10) Write  a program that takes in a positive number (in some variable, say `i`) and computes the sum of all the number\n",
      "between 0 and that number (inclusive). \n",
      "\n",
      "* Do it using a for loop\n",
      "* Do it in one line using the function `sum` and list comprehension."
     ]
    },
    {
     "cell_type": "code",
     "collapsed": false,
     "input": [
      "def possum(i):\n",
      "    return sum([i for i in range(i+1)])\n",
      "\n",
      "print possum(10)"
     ],
     "language": "python",
     "metadata": {},
     "outputs": [
      {
       "output_type": "stream",
       "stream": "stdout",
       "text": [
        "55\n"
       ]
      }
     ],
     "prompt_number": 14
    },
    {
     "cell_type": "code",
     "collapsed": false,
     "input": [
      "#(11) for the text in file BrownNews.txt (~/DSE200/data/NLTK/BrownNews.txt), \n",
      "#find the distribution of the second letter in each word. \n",
      "\n",
      "doc = open('/home/sadat/Documents/DSE/ssnazrul/DSE200/data/NLTK/BrownNews.txt','r')\n",
      "text = doc.read()\n",
      "punc='\",;\\'.`'\n",
      "for i in punc:\n",
      "    text=text.replace(i,' ')\n",
      "textList = text.split()\n",
      "seconds = []\n",
      "for word in textList:\n",
      "    if len(word)>1:\n",
      "        seconds.append(word[1])\n",
      "counts = counter(seconds)\n",
      "print counts"
     ],
     "language": "python",
     "metadata": {},
     "outputs": [
      {
       "output_type": "stream",
       "stream": "stdout",
       "text": [
        "[('h', 42), ('e', 27), ('o', 26), ('n', 25), ('u', 22), ('a', 21), ('f', 17), ('r', 17), ('i', 9), ('t', 9), ('l', 8), ('c', 3), ('m', 3), ('v', 3), ('y', 3), ('s', 2), ('x', 2), ('d', 1), ('p', 1), ('w', 1)]\n"
       ]
      }
     ],
     "prompt_number": 15
    },
    {
     "cell_type": "markdown",
     "metadata": {},
     "source": [
      "(12) write a program to find solutions of the 8 queen problem.\n",
      ">The eight queens problem is the problem of placing eight queens on an 8\u00d78 chessboard such that none of them attack one >another (no two are in the same row, column, or diagonal). Below is one of the arrangements of an 8 queen solution"
     ]
    },
    {
     "cell_type": "markdown",
     "metadata": {},
     "source": [
      "<img src=\"8queen.jpg\">"
     ]
    },
    {
     "cell_type": "markdown",
     "metadata": {},
     "source": [
      "(13) Write a program to make a list of all prime numbers less than 3000. A prime number can only be divided evenly by 1 and itself."
     ]
    },
    {
     "cell_type": "markdown",
     "metadata": {},
     "source": [
      "(14) Solve the above problem using Set instead of List "
     ]
    },
    {
     "cell_type": "code",
     "collapsed": false,
     "input": [],
     "language": "python",
     "metadata": {},
     "outputs": [
      {
       "ename": "NameError",
       "evalue": "name 'version' is not defined",
       "output_type": "pyerr",
       "traceback": [
        "\u001b[0;31m---------------------------------------------------------------------------\u001b[0m\n\u001b[0;31mNameError\u001b[0m                                 Traceback (most recent call last)",
        "\u001b[0;32m<ipython-input-94-8847d151165f>\u001b[0m in \u001b[0;36m<module>\u001b[0;34m()\u001b[0m\n\u001b[0;32m----> 1\u001b[0;31m \u001b[0mversion\u001b[0m\u001b[0;34m\u001b[0m\u001b[0m\n\u001b[0m",
        "\u001b[0;31mNameError\u001b[0m: name 'version' is not defined"
       ]
      }
     ],
     "prompt_number": 94
    },
    {
     "cell_type": "code",
     "collapsed": false,
     "input": [],
     "language": "python",
     "metadata": {},
     "outputs": []
    }
   ],
   "metadata": {}
  }
 ]
}