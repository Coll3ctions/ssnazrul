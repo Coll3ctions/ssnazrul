{
 "metadata": {
  "name": "",
  "signature": "sha256:b7bd579616a28917eebdb0fcae64ea0e493cb0fd8ffc2e34da07a60ead8b328a"
 },
 "nbformat": 3,
 "nbformat_minor": 0,
 "worksheets": [
  {
   "cells": [
    {
     "cell_type": "markdown",
     "metadata": {},
     "source": [
      "## The unix system\n",
      "\n",
      "* Prepending commands with !\n",
      "* Files, directories and paths\n",
      "* AWS, virtual machines and AMI's\n",
      "* Bash scripts (just to know what they are)\n",
      "* grep, wc, sort\n",
      "* .bashrc, environmental variables, paths."
     ]
    },
    {
     "cell_type": "code",
     "collapsed": false,
     "input": [],
     "language": "python",
     "metadata": {},
     "outputs": [],
     "prompt_number": 1
    },
    {
     "cell_type": "markdown",
     "metadata": {},
     "source": [
      "## listing files\n",
      "* The `ls` command lists the files in the current directory\n",
      "* `ls -F` identifies each files as directory, executable, text\n",
      "* `ls -lrta`: \n",
      "    * `l` (long) lists extensive information about each file\n",
      "    * `rt` (reverse time): list files in reverse order in time.\n",
      "    * `a` show hidden files (whose names start with .)"
     ]
    },
    {
     "cell_type": "code",
     "collapsed": false,
     "input": [
      "%cd ~\n",
      "!ls"
     ],
     "language": "python",
     "metadata": {},
     "outputs": [
      {
       "output_type": "stream",
       "stream": "stdout",
       "text": [
        "/home/sadat\n",
        "anaconda  Documents  examples.desktop  git_rsa.pub  Public     Videos\r\n",
        "bin\t  Downloads  ffmpeg_build      Notes.odt    repos\r\n",
        "Desktop   envs\t     git_rsa\t       Pictures     Templates\r\n"
       ]
      }
     ],
     "prompt_number": 2
    },
    {
     "cell_type": "code",
     "collapsed": false,
     "input": [
      "!ls -F"
     ],
     "language": "python",
     "metadata": {},
     "outputs": [
      {
       "output_type": "stream",
       "stream": "stdout",
       "text": [
        "anaconda/  Documents/  examples.desktop  git_rsa.pub  Public/\t  Videos/\r\n",
        "bin/\t   Downloads/  ffmpeg_build/\t Notes.odt    repos/\r\n",
        "Desktop/   envs/       git_rsa\t\t Pictures/    Templates/\r\n"
       ]
      }
     ],
     "prompt_number": 3
    },
    {
     "cell_type": "code",
     "collapsed": false,
     "input": [
      "!ls -lrta"
     ],
     "language": "python",
     "metadata": {},
     "outputs": [
      {
       "output_type": "stream",
       "stream": "stdout",
       "text": [
        "total 332\r\n",
        "-rw-r--r--  1 sadat sadat  8980 Oct 25  2014 examples.desktop\r\n",
        "-rw-r--r--  1 sadat sadat   220 Oct 25  2014 .bash_logout\r\n",
        "-rw-r--r--  1 sadat sadat    25 Oct 25  2014 .dmrc\r\n",
        "drwxr-xr-x  2 sadat sadat  4096 Oct 25  2014 Videos\r\n",
        "drwxr-xr-x  2 sadat sadat  4096 Oct 25  2014 Templates\r\n",
        "drwxr-xr-x  2 sadat sadat  4096 Oct 25  2014 Public\r\n",
        "drwx------  4 sadat sadat  4096 Oct 25  2014 .mozilla\r\n",
        "drwx------  3 sadat sadat  4096 Oct 25  2014 .adobe\r\n",
        "drwx------  3 sadat sadat  4096 Oct 25  2014 .macromedia\r\n",
        "drwxrwxr-x  3 sadat sadat  4096 Oct 25  2014 .java\r\n",
        "drwxrwxr-x  4 sadat sadat  4096 Oct 25  2014 .PyCharm30\r\n",
        "drwx------  3 sadat sadat  4096 Oct 25  2014 .gnome\r\n",
        "drwx------  3 sadat sadat  4096 Oct 25  2014 .compiz\r\n",
        "drwxrwxr-x  2 sadat sadat  4096 Oct 26  2014 .pip\r\n",
        "drwxr-xr-x  5 sadat sadat  4096 Oct 27  2014 .local\r\n",
        "drwxrwxr-x  2 sadat sadat  4096 Oct 27  2014 repos\r\n",
        "drwxr-xr-x  3 root  root   4096 Oct 27  2014 ..\r\n",
        "-rw-r--r--  1 sadat sadat   747 Oct 27  2014 .profile\r\n",
        "drwxrwxr-x  5 sadat sadat  4096 Oct 27  2014 ffmpeg_build\r\n",
        "drwxrwxr-x  2 sadat sadat  4096 Oct 27  2014 bin\r\n",
        "drwx------  3 sadat sadat  4096 Nov  5  2014 .dbus\r\n",
        "-rw-r--r--  1 sadat sadat   403 Nov 12  2014 git_rsa.pub\r\n",
        "-rw-------  1 sadat sadat  1766 Nov 12  2014 git_rsa\r\n",
        "-rw-rw-r--  1 sadat sadat 30351 Nov 13  2014 Notes.odt\r\n",
        "drwxrwxr-x  3 sadat sadat  4096 Nov 26  2014 .heroku\r\n",
        "-rw-------  1 sadat sadat   202 Nov 26  2014 .netrc\r\n",
        "drwxr-xr-x  2 root  root   4096 Jan 24  2015 .continuum\r\n",
        "-rw-r--r--  1 root  root   3713 Jan 24  2015 .bashrc-anaconda.bak\r\n",
        "drwxrwxr-x  4 sadat sadat  4096 Jan 27  2015 envs\r\n",
        "drwx------  3 sadat sadat  4096 Jan 27  2015 .pki\r\n",
        "drwxrwxr-x 15 sadat sadat  4096 Jan 31  2015 anaconda\r\n",
        "drwxrwxr-x  2 sadat sadat  4096 Apr 11 18:24 .ipynb_checkpoints\r\n",
        "drwx------  2 sadat sadat  4096 May  7 18:34 .ssh\r\n",
        "drwxr-xr-x  2 sadat sadat  4096 May 14 16:59 .rpmdb\r\n",
        "drwx------ 27 sadat sadat  4096 Jun 15 12:52 .cache\r\n",
        "drwxrwxr-x  3 sadat sadat  4096 Jun 17 16:56 .subversion\r\n",
        "drwxr-xr-x  2 sadat sadat  4096 Sep 25 12:56 Pictures\r\n",
        "drwxrwxr-x  4 sadat sadat  4096 Sep 25 13:12 .PyCharm40\r\n",
        "drwxr-xr-x  3 sadat sadat  4096 Sep 25 13:30 Documents\r\n",
        "drwx------ 27 sadat sadat  4096 Sep 25 14:09 .config\r\n",
        "drwxr-xr-x  5 sadat sadat  4096 Sep 25 14:10 Desktop\r\n",
        "-rw-r--r--  1 sadat sadat  3926 Sep 25 18:48 .bashrc\r\n",
        "-rw-------  1 sadat sadat   955 Oct  1 12:48 .xsession-errors.old\r\n",
        "-rw-rw-r--  1 sadat sadat    79 Oct  1 13:27 .gitconfig\r\n",
        "-rw-------  1 sadat sadat    61 Oct  2 09:03 .Xauthority\r\n",
        "-rw-------  1 sadat sadat   352 Oct  2 09:03 .xsession-errors\r\n",
        "-rw-r-----  1 sadat sadat     5 Oct  2 09:03 .vboxclient-clipboard.pid\r\n",
        "-rw-r-----  1 sadat sadat     5 Oct  2 09:03 .vboxclient-display.pid\r\n",
        "-rw-r-----  1 sadat sadat     5 Oct  2 09:03 .vboxclient-seamless.pid\r\n",
        "-rw-r-----  1 sadat sadat     5 Oct  2 09:03 .vboxclient-draganddrop.pid\r\n",
        "-rw-------  1 sadat sadat 48680 Oct  2 09:03 .ICEauthority\r\n",
        "drwx------  4 sadat sadat  4096 Oct  2 09:03 .gconf\r\n",
        "drwxr-xr-x 35 sadat sadat  4096 Oct  2 09:04 .\r\n",
        "drwxr-xr-x  3 sadat sadat  4096 Oct  2 09:16 Downloads\r\n",
        "-rw-------  1 sadat sadat 30227 Oct  2 10:50 .bash_history\r\n"
       ]
      }
     ],
     "prompt_number": 4
    },
    {
     "cell_type": "code",
     "collapsed": false,
     "input": [
      "## Find out type of file\n",
      "!file anaconda/bin/*"
     ],
     "language": "python",
     "metadata": {},
     "outputs": [
      {
       "output_type": "stream",
       "stream": "stdout",
       "text": [
        "anaconda/bin/2to3:                                         Python script, ASCII text executable\r\n",
        "anaconda/bin/_conda-env-missing:                           Bourne-Again shell script, ASCII text executable\r\n",
        "anaconda/bin/_conda-functions:                             Bourne-Again shell script, ASCII text executable\r\n"
       ]
      },
      {
       "output_type": "stream",
       "stream": "stdout",
       "text": [
        "anaconda/bin/activate:                                     Bourne-Again shell script, ASCII text executable\r\n"
       ]
      },
      {
       "output_type": "stream",
       "stream": "stdout",
       "text": [
        "anaconda/bin/activate-global-python-argcomplete:           Python script, ASCII text executable\r\n",
        "anaconda/bin/asadmin:                                      Python script, ASCII text executable\r\n",
        "anaconda/bin/assistant:                                    ELF 64-bit LSB  executable, x86-64, version 1 (SYSV), dynamically linked (uses shared libs), for GNU/Linux 2.6.9, not stripped\r\n"
       ]
      },
      {
       "output_type": "stream",
       "stream": "stdout",
       "text": [
        "anaconda/bin/binstar:                                      C source, ASCII text\r\n",
        "anaconda/bin/bokeh-server:                                 Python script, ASCII text executable\r\n",
        "anaconda/bin/bt2line:                                      POSIX shell script, ASCII text executable\r\n",
        "anaconda/bin/bugpoint:                                     ELF 64-bit LSB  executable, x86-64, version 1 (SYSV), dynamically linked (uses shared libs), for GNU/Linux 2.6.9, stripped\r\n",
        "anaconda/bin/bundle_image:                                 Python script, ASCII text executable\r\n",
        "anaconda/bin/c-index-test:                                 ELF 64-bit LSB  executable, x86-64, version 1 (SYSV), dynamically linked (uses shared libs), for GNU/Linux 2.6.9, stripped\r\n"
       ]
      },
      {
       "output_type": "stream",
       "stream": "stdout",
       "text": [
        "anaconda/bin/c_rehash:                                     Perl script, ASCII text executable\r\n",
        "anaconda/bin/cairo-trace:                                  POSIX shell script, ASCII text executable\r\n",
        "anaconda/bin/cfadmin:                                      Python script, ASCII text executable\r\n",
        "anaconda/bin/check_callstack:                              ELF 64-bit LSB  executable, x86-64, version 1 (SYSV), dynamically linked (uses shared libs), for GNU/Linux 2.6.9, not stripped\r\n"
       ]
      },
      {
       "output_type": "stream",
       "stream": "stdout",
       "text": [
        "anaconda/bin/clang:                                        ELF 64-bit LSB  executable, x86-64, version 1 (SYSV), dynamically linked (uses shared libs), for GNU/Linux 2.6.9, stripped\r\n",
        "anaconda/bin/clang++:                                      symbolic link to `clang' \r\n",
        "anaconda/bin/clang-check:                                  ELF 64-bit LSB  executable, x86-64, version 1 (SYSV), dynamically linked (uses shared libs), for GNU/Linux 2.6.9, stripped\r\n",
        "anaconda/bin/clang-format:                                 ELF 64-bit LSB  executable, x86-64, version 1 (SYSV), dynamically linked (uses shared libs), for GNU/Linux 2.6.9, stripped\r\n",
        "anaconda/bin/clang-tblgen:                                 ELF 64-bit LSB  executable, x86-64, version 1 (SYSV), dynamically linked (uses shared libs), for GNU/Linux 2.6.9, stripped\r\n",
        "anaconda/bin/clog2_join:                                   ELF 64-bit LSB  executable, x86-64, version 1 (SYSV), dynamically linked (uses shared libs), for GNU/Linux 2.6.9, not stripped\r\n",
        "anaconda/bin/clog2_print:                                  ELF 64-bit LSB  executable, x86-64, version 1 (SYSV), dynamically linked (uses shared libs), for GNU/Linux 2.6.9, not stripped\r\n"
       ]
      },
      {
       "output_type": "stream",
       "stream": "stdout",
       "text": [
        "anaconda/bin/clog2_repair:                                 ELF 64-bit LSB  executable, x86-64, version 1 (SYSV), dynamically linked (uses shared libs), for GNU/Linux 2.6.9, not stripped\r\n",
        "anaconda/bin/conda:                                        Python script, ASCII text executable\r\n",
        "anaconda/bin/conda-build:                                  Python script, ASCII text executable\r\n",
        "anaconda/bin/conda-convert:                                Python script, ASCII text executable\r\n",
        "anaconda/bin/conda-develop:                                Python script, ASCII text executable\r\n",
        "anaconda/bin/conda-env:                                    C source, ASCII text\r\n",
        "anaconda/bin/conda-index:                                  Python script, ASCII text executable\r\n",
        "anaconda/bin/conda-metapackage:                            Python script, ASCII text executable\r\n",
        "anaconda/bin/conda-pipbuild:                               Python script, ASCII text executable\r\n",
        "anaconda/bin/conda-skeleton:                               Python script, ASCII text executable\r\n",
        "anaconda/bin/cq:                                           Python script, ASCII text executable\r\n"
       ]
      },
      {
       "output_type": "stream",
       "stream": "stdout",
       "text": [
        "anaconda/bin/createpackage:                                POSIX shell script, ASCII text executable\r\n",
        "anaconda/bin/curl:                                         ELF 64-bit LSB  executable, x86-64, version 1 (SYSV), dynamically linked (uses shared libs), for GNU/Linux 2.6.9, not stripped\r\n",
        "anaconda/bin/curl-config:                                  POSIX shell script, ASCII text executable\r\n",
        "anaconda/bin/curve_keygen:                                 ELF 64-bit LSB  executable, x86-64, version 1 (SYSV), dynamically linked (uses shared libs), for GNU/Linux 2.6.9, not stripped\r\n",
        "anaconda/bin/cwutil:                                       Python script, ASCII text executable\r\n"
       ]
      },
      {
       "output_type": "stream",
       "stream": "stdout",
       "text": [
        "anaconda/bin/cygdb:                                        Python script, ASCII text executable\r\n",
        "anaconda/bin/cython:                                       Python script, ASCII text executable\r\n",
        "anaconda/bin/cythonize:                                    Python script, ASCII text executable\r\n",
        "anaconda/bin/deactivate:                                   Bourne-Again shell script, ASCII text executable\r\n",
        "anaconda/bin/designer:                                     ELF 64-bit LSB  executable, x86-64, version 1 (SYSV), dynamically linked (uses shared libs), for GNU/Linux 2.6.9, not stripped\r\n",
        "anaconda/bin/dynamodb_dump:                                Python script, ASCII text executable\r\n",
        "anaconda/bin/dynamodb_load:                                Python script, ASCII text executable\r\n",
        "anaconda/bin/easy_install:                                 C source, ASCII text\r\n"
       ]
      },
      {
       "output_type": "stream",
       "stream": "stdout",
       "text": [
        "anaconda/bin/elbadmin:                                     Python script, ASCII text executable\r\n",
        "anaconda/bin/elf2e32_qtwrapper:                            POSIX shell script, ASCII text executable\r\n",
        "anaconda/bin/enaml-run:                                    C source, ASCII text\r\n",
        "anaconda/bin/env-activate:                                 Bourne-Again shell script, ASCII text executable\r\n",
        "anaconda/bin/env-deactivate:                               Bourne-Again shell script, ASCII text executable\r\n",
        "anaconda/bin/f2py:                                         C source, ASCII text\r\n"
       ]
      },
      {
       "output_type": "stream",
       "stream": "stdout",
       "text": [
        "anaconda/bin/fetch_file:                                   Python script, ASCII text executable\r\n",
        "anaconda/bin/findtr:                                       Perl script, ASCII text executable\r\n",
        "anaconda/bin/fitscheck:                                    C source, ASCII text\r\n",
        "anaconda/bin/fitsdiff:                                     C source, ASCII text\r\n",
        "anaconda/bin/fitsheader:                                   C source, ASCII text"
       ]
      },
      {
       "output_type": "stream",
       "stream": "stdout",
       "text": [
        "\r\n",
        "anaconda/bin/freetype-config:                              POSIX shell script, ASCII text executable\r\n",
        "anaconda/bin/gif2h5:                                       ELF 64-bit LSB  executable, x86-64, version 1 (SYSV), dynamically linked (uses shared libs), for GNU/Linux 2.6.9, not stripped\r\n",
        "anaconda/bin/glacier:                                      Python script, ASCII text executable\r\n",
        "anaconda/bin/grin:                                         C source, ASCII text\r\n",
        "anaconda/bin/grind:                                        C source, ASCII text\r\n",
        "anaconda/bin/h52gif:                                       ELF 64-bit LSB  executable, x86-64, version 1 (SYSV), dynamically linked (uses shared libs), for GNU/Linux 2.6.9, not stripped\r\n",
        "anaconda/bin/h5cc:                                         POSIX shell script, ASCII text executable\r\n",
        "anaconda/bin/h5copy:                                       ELF 64-bit LSB  executable, x86-64, version 1 (SYSV), dynamically linked (uses shared libs), for GNU/Linux 2.6.9, not stripped\r\n",
        "anaconda/bin/h5debug:                                      ELF 64-bit LSB  executable, x86-64, version 1 (SYSV), dynamically linked (uses shared libs), for GNU/Linux 2.6.9, not stripped\r\n",
        "anaconda/bin/h5diff:                                       ELF 64-bit LSB  executable, x86-64, version 1 (SYSV), dynamically linked (uses shared libs), for GNU/Linux 2.6.9, not stripped\r\n",
        "anaconda/bin/h5dump:                                       ELF 64-bit LSB  executable, x86-64, version 1 (SYSV), dynamically linked (uses shared libs), for GNU/Linux 2.6.9, not stripped\r\n",
        "anaconda/bin/h5import:                                     ELF 64-bit LSB  executable, x86-64, version 1 (SYSV), dynamically linked (uses shared libs), for GNU/Linux 2.6.9, not stripped\r\n",
        "anaconda/bin/h5jam:                                        ELF 64-bit LSB  executable, x86-64, version 1 (SYSV), dynamically linked (uses shared libs), for GNU/Linux 2.6.9, not stripped\r\n"
       ]
      },
      {
       "output_type": "stream",
       "stream": "stdout",
       "text": [
        "anaconda/bin/h5ls:                                         ELF 64-bit LSB  executable, x86-64, version 1 (SYSV), dynamically linked (uses shared libs), for GNU/Linux 2.6.9, not stripped\r\n",
        "anaconda/bin/h5mkgrp:                                      ELF 64-bit LSB  executable, x86-64, version 1 (SYSV), dynamically linked (uses shared libs), for GNU/Linux 2.6.9, not stripped\r\n",
        "anaconda/bin/h5perf_serial:                                ELF 64-bit LSB  executable, x86-64, version 1 (SYSV), dynamically linked (uses shared libs), for GNU/Linux 2.6.9, not stripped\r\n",
        "anaconda/bin/h5redeploy:                                   POSIX shell script, ASCII text executable\r\n",
        "anaconda/bin/h5repack:                                     ELF 64-bit LSB  executable, x86-64, version 1 (SYSV), dynamically linked (uses shared libs), for GNU/Linux 2.6.9, not stripped\r\n",
        "anaconda/bin/h5repart:                                     ELF 64-bit LSB  executable, x86-64, version 1 (SYSV), dynamically linked (uses shared libs), for GNU/Linux 2.6.9, not stripped\r\n",
        "anaconda/bin/h5stat:                                       ELF 64-bit LSB  executable, x86-64, version 1 (SYSV), dynamically linked (uses shared libs), for GNU/Linux 2.6.9, not stripped\r\n",
        "anaconda/bin/h5unjam:                                      ELF 64-bit LSB  executable, x86-64, version 1 (SYSV), dynamically linked (uses shared libs), for GNU/Linux 2.6.9, not stripped\r\n",
        "anaconda/bin/hydra_nameserver:                             ELF 64-bit LSB  executable, x86-64, version 1 (SYSV), dynamically linked (uses shared libs), for GNU/Linux 2.6.9, not stripped\r\n",
        "anaconda/bin/hydra_persist:                                ELF 64-bit LSB  executable, x86-64, version 1 (SYSV), dynamically linked (uses shared libs), for GNU/Linux 2.6.9, not stripped\r\n",
        "anaconda/bin/hydra_pmi_proxy:                              ELF 64-bit LSB  executable, x86-64, version 1 (SYSV), dynamically linked (uses shared libs), for GNU/Linux 2.6.9, not stripped\r\n"
       ]
      },
      {
       "output_type": "stream",
       "stream": "stdout",
       "text": [
        "anaconda/bin/icc2ps:                                       ELF 64-bit LSB  executable, x86-64, version 1 (SYSV), dynamically linked (uses shared libs), for GNU/Linux 2.6.9, not stripped\r\n",
        "anaconda/bin/icclink:                                      ELF 64-bit LSB  executable, x86-64, version 1 (SYSV), dynamically linked (uses shared libs), for GNU/Linux 2.6.9, not stripped\r\n",
        "anaconda/bin/icctrans:                                     ELF 64-bit LSB  executable, x86-64, version 1 (SYSV), dynamically linked (uses shared libs), for GNU/Linux 2.6.9, not stripped\r\n",
        "anaconda/bin/idle:                                         Python script, ASCII text executable\r\n"
       ]
      },
      {
       "output_type": "stream",
       "stream": "stdout",
       "text": [
        "anaconda/bin/instance_events:                              Python script, ASCII text executable\r\n",
        "anaconda/bin/ipcluster:                                    a /home/sadat/anaconda/bin/python script, ASCII text executable\r\n",
        "anaconda/bin/ipcluster2:                                   a /home/sadat/anaconda/bin/python script, ASCII text executable\r\n",
        "anaconda/bin/ipcontroller:                                 a /home/sadat/anaconda/bin/python script, ASCII text executable\r\n",
        "anaconda/bin/ipcontroller2:                                a /home/sadat/anaconda/bin/python script, ASCII text executable\r\n",
        "anaconda/bin/ipengine:                                     a /home/sadat/anaconda/bin/python script, ASCII text executable\r\n",
        "anaconda/bin/ipengine2:                                    a /home/sadat/anaconda/bin/python script, ASCII text executable\r\n"
       ]
      },
      {
       "output_type": "stream",
       "stream": "stdout",
       "text": [
        "anaconda/bin/iplogger:                                     a /home/sadat/anaconda/bin/python script, ASCII text executable\r\n",
        "anaconda/bin/iptest:                                       C source, ASCII text\r\n",
        "anaconda/bin/iptest2:                                      C source, ASCII text\r\n",
        "anaconda/bin/ipython:                                      a /home/sadat/anaconda/bin/python script, ASCII text executable\r\n",
        "anaconda/bin/ipython2:                                     a /home/sadat/anaconda/bin/python script, ASCII text executable\r\n"
       ]
      },
      {
       "output_type": "stream",
       "stream": "stdout",
       "text": [
        "anaconda/bin/irunner:                                      C source, ASCII text\r\n",
        "anaconda/bin/isympy:                                       Python script, ASCII text executable\r\n",
        "anaconda/bin/kill_instance:                                Python script, ASCII text executable\r\n",
        "anaconda/bin/launch_instance:                              Python script, ASCII text executable, with very long lines\r\n",
        "anaconda/bin/lconvert:                                     ELF 64-bit LSB  executable, x86-64, version 1 (SYSV), dynamically linked (uses shared libs), for GNU/Linux 2.6.9, not stripped\r\n"
       ]
      },
      {
       "output_type": "stream",
       "stream": "stdout",
       "text": [
        "anaconda/bin/libdynd-config:                               Bourne-Again shell script, ASCII text executable\r\n",
        "anaconda/bin/libpng-config:                                symbolic link to `libpng15-config' \r\n",
        "anaconda/bin/libpng15-config:                              POSIX shell script, ASCII text executable\r\n",
        "anaconda/bin/linguist:                                     ELF 64-bit LSB  executable, x86-64, version 1 (SYSV), dynamically linked (uses shared libs), for GNU/Linux 2.6.9, not stripped\r\n",
        "anaconda/bin/list_instances:                               Python script, ASCII text executable\r\n"
       ]
      },
      {
       "output_type": "stream",
       "stream": "stdout",
       "text": [
        "anaconda/bin/llc:                                          ELF 64-bit LSB  executable, x86-64, version 1 (SYSV), dynamically linked (uses shared libs), for GNU/Linux 2.6.9, stripped\r\n",
        "anaconda/bin/lli:                                          ELF 64-bit LSB  executable, x86-64, version 1 (SYSV), dynamically linked (uses shared libs), for GNU/Linux 2.6.9, stripped\r\n",
        "anaconda/bin/llvm-ar:                                      ELF 64-bit LSB  executable, x86-64, version 1 (SYSV), dynamically linked (uses shared libs), for GNU/Linux 2.6.9, stripped\r\n",
        "anaconda/bin/llvm-as:                                      ELF 64-bit LSB  executable, x86-64, version 1 (SYSV), dynamically linked (uses shared libs), for GNU/Linux 2.6.9, stripped\r\n",
        "anaconda/bin/llvm-bcanalyzer:                              ELF 64-bit LSB  executable, x86-64, version 1 (SYSV), dynamically linked (uses shared libs), for GNU/Linux 2.6.9, stripped\r\n",
        "anaconda/bin/llvm-config:                                  ELF 64-bit LSB  executable, x86-64, version 1 (SYSV), dynamically linked (uses shared libs), for GNU/Linux 2.6.9, stripped\r\n",
        "anaconda/bin/llvm-cov:                                     ELF 64-bit LSB  executable, x86-64, version 1 (SYSV), dynamically linked (uses shared libs), for GNU/Linux 2.6.9, stripped\r\n",
        "anaconda/bin/llvm-diff:                                    ELF 64-bit LSB  executable, x86-64, version 1 (SYSV), dynamically linked (uses shared libs), for GNU/Linux 2.6.9, stripped\r\n",
        "anaconda/bin/llvm-dis:                                     ELF 64-bit LSB  executable, x86-64, version 1 (SYSV), dynamically linked (uses shared libs), for GNU/Linux 2.6.9, stripped\r\n",
        "anaconda/bin/llvm-dwarfdump:                               ELF 64-bit LSB  executable, x86-64, version 1 (SYSV), dynamically linked (uses shared libs), for GNU/Linux 2.6.9, stripped\r\n",
        "anaconda/bin/llvm-extract:                                 ELF 64-bit LSB  executable, x86-64, version 1 (SYSV), dynamically linked (uses shared libs), for GNU/Linux 2.6.9, stripped\r\n"
       ]
      },
      {
       "output_type": "stream",
       "stream": "stdout",
       "text": [
        "anaconda/bin/llvm-link:                                    ELF 64-bit LSB  executable, x86-64, version 1 (SYSV), dynamically linked (uses shared libs), for GNU/Linux 2.6.9, stripped\r\n",
        "anaconda/bin/llvm-mc:                                      ELF 64-bit LSB  executable, x86-64, version 1 (SYSV), dynamically linked (uses shared libs), for GNU/Linux 2.6.9, stripped\r\n",
        "anaconda/bin/llvm-mcmarkup:                                ELF 64-bit LSB  executable, x86-64, version 1 (SYSV), dynamically linked (uses shared libs), for GNU/Linux 2.6.9, stripped\r\n",
        "anaconda/bin/llvm-nm:                                      ELF 64-bit LSB  executable, x86-64, version 1 (SYSV), dynamically linked (uses shared libs), for GNU/Linux 2.6.9, stripped\r\n",
        "anaconda/bin/llvm-objdump:                                 ELF 64-bit LSB  executable, x86-64, version 1 (SYSV), dynamically linked (uses shared libs), for GNU/Linux 2.6.9, stripped\r\n",
        "anaconda/bin/llvm-prof:                                    ELF 64-bit LSB  executable, x86-64, version 1 (SYSV), dynamically linked (uses shared libs), for GNU/Linux 2.6.9, stripped\r\n",
        "anaconda/bin/llvm-ranlib:                                  ELF 64-bit LSB  executable, x86-64, version 1 (SYSV), dynamically linked (uses shared libs), for GNU/Linux 2.6.9, stripped\r\n",
        "anaconda/bin/llvm-readobj:                                 ELF 64-bit LSB  executable, x86-64, version 1 (SYSV), dynamically linked (uses shared libs), for GNU/Linux 2.6.9, stripped\r\n",
        "anaconda/bin/llvm-rtdyld:                                  ELF 64-bit LSB  executable, x86-64, version 1 (SYSV), dynamically linked (uses shared libs), for GNU/Linux 2.6.9, stripped\r\n",
        "anaconda/bin/llvm-size:                                    ELF 64-bit LSB  executable, x86-64, version 1 (SYSV), dynamically linked (uses shared libs), for GNU/Linux 2.6.9, stripped\r\n",
        "anaconda/bin/llvm-stress:                                  ELF 64-bit LSB  executable, x86-64, version 1 (SYSV), dynamically linked (uses shared libs), for GNU/Linux 2.6.9, stripped\r\n",
        "anaconda/bin/llvm-symbolizer:                              ELF 64-bit LSB  executable, x86-64, version 1 (SYSV), dynamically linked (uses shared libs), for GNU/Linux 2.6.9, stripped\r\n"
       ]
      },
      {
       "output_type": "stream",
       "stream": "stdout",
       "text": [
        "anaconda/bin/llvm-tblgen:                                  ELF 64-bit LSB  executable, x86-64, version 1 (SYSV), dynamically linked (uses shared libs), for GNU/Linux 2.6.9, stripped\r\n"
       ]
      },
      {
       "output_type": "stream",
       "stream": "stdout",
       "text": [
        "anaconda/bin/lrelease:                                     ELF 64-bit LSB  executable, x86-64, version 1 (SYSV), dynamically linked (uses shared libs), for GNU/Linux 2.6.9, not stripped\r\n",
        "anaconda/bin/lss3:                                         Python script, ASCII text executable\r\n",
        "anaconda/bin/lupdate:                                      ELF 64-bit LSB  executable, x86-64, version 1 (SYSV), dynamically linked (uses shared libs), for GNU/Linux 2.6.9, not stripped\r\n",
        "anaconda/bin/macho-dump:                                   ELF 64-bit LSB  executable, x86-64, version 1 (SYSV), dynamically linked (uses shared libs), for GNU/Linux 2.6.9, stripped\r\n"
       ]
      },
      {
       "output_type": "stream",
       "stream": "stdout",
       "text": [
        "anaconda/bin/moc:                                          ELF 64-bit LSB  executable, x86-64, version 1 (SYSV), dynamically linked (uses shared libs), for GNU/Linux 2.6.9, not stripped\r\n",
        "anaconda/bin/mpic++:                                       symbolic link to `mpicxx' \r\n",
        "anaconda/bin/mpicc:                                        Bourne-Again shell script, ASCII text executable\r\n",
        "anaconda/bin/mpich2version:                                ELF 64-bit LSB  executable, x86-64, version 1 (SYSV), dynamically linked (uses shared libs), for GNU/Linux 2.6.9, not stripped\r\n",
        "anaconda/bin/mpicxx:                                       Bourne-Again shell script, ASCII text executable\r\n",
        "anaconda/bin/mpiexec:                                      symbolic link to `mpiexec.hydra' \r\n",
        "anaconda/bin/mpiexec.hydra:                                ELF 64-bit LSB  executable, x86-64, version 1 (SYSV), dynamically linked (uses shared libs), for GNU/Linux 2.6.9, not stripped\r\n",
        "anaconda/bin/mpif77:                                       Bourne-Again shell script, ASCII text executable\r\n",
        "anaconda/bin/mpif90:                                       Bourne-Again shell script, ASCII text executable\r\n",
        "anaconda/bin/mpirun:                                       symbolic link to `mpiexec.hydra' \r\n"
       ]
      },
      {
       "output_type": "stream",
       "stream": "stdout",
       "text": [
        "anaconda/bin/mturk:                                        Python script, ASCII text executable\r\n",
        "anaconda/bin/nosetests:                                    Python script, ASCII text executable\r\n",
        "anaconda/bin/numba:                                        Python script, ASCII text executable\r\n",
        "anaconda/bin/openssl:                                      ELF 64-bit LSB  executable, x86-64, version 1 (SYSV), dynamically linked (uses shared libs), for GNU/Linux 2.6.9, not stripped\r\n",
        "anaconda/bin/opt:                                          ELF 64-bit LSB  executable, x86-64, version 1 (SYSV), dynamically linked (uses shared libs), for GNU/Linux 2.6.9, stripped\r\n"
       ]
      },
      {
       "output_type": "stream",
       "stream": "stdout",
       "text": [
        "anaconda/bin/patch_capabilities:                           POSIX shell script, ASCII text executable\r\n",
        "anaconda/bin/pep8:                                         C source, ASCII text\r\n",
        "anaconda/bin/pilconvert.py:                                Python script, ASCII text executable\r\n",
        "anaconda/bin/pildriver.py:                                 Python script, ASCII text executable\r\n",
        "anaconda/bin/pilfile.py:                                   Python script, ASCII text executable\r\n",
        "anaconda/bin/pilfont.py:                                   Python script, ASCII text executable\r\n",
        "anaconda/bin/pilprint.py:                                  Python script, ASCII text executable\r\n",
        "anaconda/bin/pip:                                          C source, ASCII text\r\n",
        "anaconda/bin/pixeltool:                                    ELF 64-bit LSB  executable, x86-64, version 1 (SYSV), dynamically linked (uses shared libs), for GNU/Linux 2.6.9, not stripped\r\n",
        "anaconda/bin/pt2to3:                                       Python script, ASCII text executable\r\n",
        "anaconda/bin/ptdump:                                       Python script, ASCII text executable\r\n",
        "anaconda/bin/ptrepack:                                     Python script, ASCII text executable\r\n"
       ]
      },
      {
       "output_type": "stream",
       "stream": "stdout",
       "text": [
        "anaconda/bin/py.test:                                      C source, ASCII text\r\n",
        "anaconda/bin/pyami_sendmail:                               Python script, ASCII text executable\r\n"
       ]
      },
      {
       "output_type": "stream",
       "stream": "stdout",
       "text": [
        "anaconda/bin/pycc:                                         C source, ASCII text\r\n"
       ]
      },
      {
       "output_type": "stream",
       "stream": "stdout",
       "text": [
        "anaconda/bin/pycolor:                                      C source, ASCII text\r\n",
        "anaconda/bin/pydoc:                                        a /home/sadat/anaconda/bin/python script, ASCII text executable\r\n"
       ]
      },
      {
       "output_type": "stream",
       "stream": "stdout",
       "text": [
        "anaconda/bin/pyflakes:                                     C source, ASCII text\r\n",
        "anaconda/bin/pygmentize:                                   C source, ASCII text\r\n"
       ]
      },
      {
       "output_type": "stream",
       "stream": "stdout",
       "text": [
        "anaconda/bin/pylupdate4:                                   ELF 64-bit LSB  executable, x86-64, version 1 (SYSV), dynamically linked (uses shared libs), for GNU/Linux 2.6.9, stripped\r\n",
        "anaconda/bin/pyrcc4:                                       ELF 64-bit LSB  executable, x86-64, version 1 (SYSV), dynamically linked (uses shared libs), for GNU/Linux 2.6.9, stripped\r\n",
        "anaconda/bin/python:                                       symbolic link to `python2' \r\n"
       ]
      },
      {
       "output_type": "stream",
       "stream": "stdout",
       "text": [
        "anaconda/bin/python-argcomplete-check-easy-install-script: Python script, ASCII text executable\r\n",
        "anaconda/bin/python-config:                                Python script, ASCII text executable\r\n",
        "anaconda/bin/python2:                                      symbolic link to `python2.7' \r\n",
        "anaconda/bin/python2.7:                                    ELF 64-bit LSB  executable, x86-64, version 1 (SYSV), dynamically linked (uses shared libs), for GNU/Linux 2.6.9, not stripped\r\n"
       ]
      },
      {
       "output_type": "stream",
       "stream": "stdout",
       "text": [
        "anaconda/bin/pyuic4:                                       POSIX shell script, ASCII text executable\r\n",
        "anaconda/bin/qcollectiongenerator:                         ELF 64-bit LSB  executable, x86-64, version 1 (SYSV), dynamically linked (uses shared libs), for GNU/Linux 2.6.9, not stripped\r\n",
        "anaconda/bin/qhelpconverter:                               ELF 64-bit LSB  executable, x86-64, version 1 (SYSV), dynamically linked (uses shared libs), for GNU/Linux 2.6.9, not stripped\r\n"
       ]
      },
      {
       "output_type": "stream",
       "stream": "stdout",
       "text": [
        "anaconda/bin/qhelpgenerator:                               ELF 64-bit LSB  executable, x86-64, version 1 (SYSV), dynamically linked (uses shared libs), for GNU/Linux 2.6.9, not stripped\r\n",
        "anaconda/bin/qmake:                                        ELF 64-bit LSB  executable, x86-64, version 1 (SYSV), dynamically linked (uses shared libs), for GNU/Linux 2.6.9, not stripped\r\n",
        "anaconda/bin/qmlplugindump:                                ELF 64-bit LSB  executable, x86-64, version 1 (SYSV), dynamically linked (uses shared libs), for GNU/Linux 2.6.9, not stripped\r\n"
       ]
      },
      {
       "output_type": "stream",
       "stream": "stdout",
       "text": [
        "anaconda/bin/qmlviewer:                                    ELF 64-bit LSB  executable, x86-64, version 1 (SYSV), dynamically linked (uses shared libs), for GNU/Linux 2.6.9, not stripped\r\n",
        "anaconda/bin/qtconfig:                                     ELF 64-bit LSB  executable, x86-64, version 1 (SYSV), dynamically linked (uses shared libs), for GNU/Linux 2.6.9, not stripped\r\n",
        "anaconda/bin/qttracereplay:                                ELF 64-bit LSB  executable, x86-64, version 1 (SYSV), dynamically linked (uses shared libs), for GNU/Linux 2.6.9, not stripped\r\n",
        "anaconda/bin/rcc:                                          ELF 64-bit LSB  executable, x86-64, version 1 (SYSV), dynamically linked (uses shared libs), for GNU/Linux 2.6.9, not stripped\r\n",
        "anaconda/bin/redis-benchmark:                              ELF 64-bit LSB  executable, x86-64, version 1 (SYSV), dynamically linked (uses shared libs), for GNU/Linux 2.6.9, not stripped\r\n"
       ]
      },
      {
       "output_type": "stream",
       "stream": "stdout",
       "text": [
        "anaconda/bin/redis-check-aof:                              ELF 64-bit LSB  executable, x86-64, version 1 (SYSV), dynamically linked (uses shared libs), for GNU/Linux 2.6.9, not stripped\r\n",
        "anaconda/bin/redis-check-dump:                             ELF 64-bit LSB  executable, x86-64, version 1 (SYSV), dynamically linked (uses shared libs), for GNU/Linux 2.6.9, not stripped\r\n",
        "anaconda/bin/redis-cli:                                    ELF 64-bit LSB  executable, x86-64, version 1 (SYSV), dynamically linked (uses shared libs), for GNU/Linux 2.6.9, not stripped\r\n",
        "anaconda/bin/redis-server:                                 ELF 64-bit LSB  executable, x86-64, version 1 (SYSV), dynamically linked (uses shared libs), for GNU/Linux 2.6.9, not stripped\r\n"
       ]
      },
      {
       "output_type": "stream",
       "stream": "stdout",
       "text": [
        "anaconda/bin/register-python-argcomplete:                  Python script, ASCII text executable\r\n"
       ]
      },
      {
       "output_type": "stream",
       "stream": "stdout",
       "text": [
        "anaconda/bin/route53:                                      Python script, ASCII text executable\r\n",
        "anaconda/bin/rst2html.py:                                  Python script, ASCII text executable\r\n",
        "anaconda/bin/rst2latex.py:                                 Python script, ASCII text executable\r\n",
        "anaconda/bin/rst2man.py:                                   Python script, ASCII text executable\r\n"
       ]
      },
      {
       "output_type": "stream",
       "stream": "stdout",
       "text": [
        "anaconda/bin/rst2odt.py:                                   Python script, ASCII text executable\r\n",
        "anaconda/bin/rst2odt_prepstyles.py:                        Python script, ASCII text executable\r\n",
        "anaconda/bin/rst2pseudoxml.py:                             Python script, ASCII text executable\r\n",
        "anaconda/bin/rst2s5.py:                                    Python script, ASCII text executable\r\n",
        "anaconda/bin/rst2xetex.py:                                 Python script, ASCII text executable\r\n"
       ]
      },
      {
       "output_type": "stream",
       "stream": "stdout",
       "text": [
        "anaconda/bin/rst2xml.py:                                   Python script, ASCII text executable\r\n",
        "anaconda/bin/rstpep2html.py:                               Python script, ASCII text executable\r\n",
        "anaconda/bin/runipy:                                       C source, ASCII text\r\n"
       ]
      },
      {
       "output_type": "stream",
       "stream": "stdout",
       "text": [
        "anaconda/bin/runxlrd.py:                                   Python script, ASCII text executable\r\n",
        "anaconda/bin/s3put:                                        Python script, ASCII text executable\r\n",
        "anaconda/bin/samp_hub:                                     Python script, ASCII text executable\r\n",
        "anaconda/bin/sdbadmin:                                     Python script, ASCII text executable\r\n"
       ]
      },
      {
       "output_type": "stream",
       "stream": "stdout",
       "text": [
        "anaconda/bin/sip:                                          ELF 64-bit LSB  executable, x86-64, version 1 (SYSV), dynamically linked (uses shared libs), for GNU/Linux 2.6.9, not stripped\r\n",
        "anaconda/bin/smtpd.py:                                     Python script, ASCII text executable\r\n",
        "anaconda/bin/sphinx-apidoc:                                C source, ASCII text\r\n"
       ]
      },
      {
       "output_type": "stream",
       "stream": "stdout",
       "text": [
        "anaconda/bin/sphinx-autogen:                               C source, ASCII text\r\n",
        "anaconda/bin/sphinx-build:                                 C source, ASCII text\r\n"
       ]
      },
      {
       "output_type": "stream",
       "stream": "stdout",
       "text": [
        "anaconda/bin/sphinx-quickstart:                            C source, ASCII text\r\n",
        "anaconda/bin/spyder:                                       Python script, ASCII text executable\r\n",
        "anaconda/bin/syncqt:                                       Perl script, ASCII text executable\r\n"
       ]
      },
      {
       "output_type": "stream",
       "stream": "stdout",
       "text": [
        "anaconda/bin/taskadmin:                                    Python script, ASCII text executable\r\n",
        "anaconda/bin/tclsh8.5:                                     ELF 64-bit LSB  executable, x86-64, version 1 (SYSV), dynamically linked (uses shared libs), for GNU/Linux 2.6.9, not stripped\r\n",
        "anaconda/bin/test_libdynd:                                 ELF 64-bit LSB  executable, x86-64, version 1 (SYSV), dynamically linked (uses shared libs), for GNU/Linux 2.6.9, not stripped\r\n"
       ]
      },
      {
       "output_type": "stream",
       "stream": "stdout",
       "text": [
        "anaconda/bin/theano-cache:                                 Python script, ASCII text executable\r\n",
        "anaconda/bin/theano-nose:                                  Python script, ASCII text executable\r\n"
       ]
      },
      {
       "output_type": "stream",
       "stream": "stdout",
       "text": [
        "anaconda/bin/theano-test:                                  Python script, ASCII text executable\r\n"
       ]
      },
      {
       "output_type": "stream",
       "stream": "stdout",
       "text": [
        "anaconda/bin/uic:                                          ELF 64-bit LSB  executable, x86-64, version 1 (SYSV), dynamically linked (uses shared libs), for GNU/Linux 2.6.9, not stripped\r\n"
       ]
      },
      {
       "output_type": "stream",
       "stream": "stdout",
       "text": [
        "anaconda/bin/volint:                                       C source, ASCII text\r\n"
       ]
      },
      {
       "output_type": "stream",
       "stream": "stdout",
       "text": [
        "anaconda/bin/wcslint:                                      C source, ASCII text\r\n",
        "anaconda/bin/websocket_worker.py:                          Python script, ASCII text executable\r\n",
        "anaconda/bin/wish8.5:                                      ELF 64-bit LSB  executable, x86-64, version 1 (SYSV), dynamically linked (uses shared libs), for GNU/Linux 2.6.9, not stripped\r\n",
        "anaconda/bin/wtpt:                                         ELF 64-bit LSB  executable, x86-64, version 1 (SYSV), dynamically linked (uses shared libs), for GNU/Linux 2.6.9, not stripped\r\n"
       ]
      },
      {
       "output_type": "stream",
       "stream": "stdout",
       "text": [
        "anaconda/bin/xml2-config:                                  POSIX shell script, ASCII text executable\r\n",
        "anaconda/bin/xmlcatalog:                                   ELF 64-bit LSB  executable, x86-64, version 1 (SYSV), dynamically linked (uses shared libs), for GNU/Linux 2.6.9, not stripped\r\n",
        "anaconda/bin/xmllint:                                      ELF 64-bit LSB  executable, x86-64, version 1 (SYSV), dynamically linked (uses shared libs), for GNU/Linux 2.6.9, not stripped\r\n",
        "anaconda/bin/xmlpatterns:                                  ELF 64-bit LSB  executable, x86-64, version 1 (SYSV), dynamically linked (uses shared libs), for GNU/Linux 2.6.9, not stripped\r\n",
        "anaconda/bin/xmlpatternsvalidator:                         ELF 64-bit LSB  executable, x86-64, version 1 (SYSV), dynamically linked (uses shared libs), for GNU/Linux 2.6.9, not stripped\r\n",
        "anaconda/bin/xslt-config:                                  POSIX shell script, ASCII text executable\r\n",
        "anaconda/bin/xsltproc:                                     ELF 64-bit LSB  executable, x86-64, version 1 (SYSV), dynamically linked (uses shared libs), for GNU/Linux 2.6.9, not stripped\r\n"
       ]
      }
     ],
     "prompt_number": 5
    },
    {
     "cell_type": "markdown",
     "metadata": {},
     "source": [
      "## Navigating file paths"
     ]
    },
    {
     "cell_type": "code",
     "collapsed": false,
     "input": [
      "# pwd identifies the current working directory\n",
      "!pwd"
     ],
     "language": "python",
     "metadata": {},
     "outputs": [
      {
       "output_type": "stream",
       "stream": "stdout",
       "text": [
        "/home/sadat\r\n"
       ]
      }
     ],
     "prompt_number": 6
    },
    {
     "cell_type": "code",
     "collapsed": false,
     "input": [
      "# /home/ubuntu is the home directory of the user \"ubuntu\" that is - you!\n",
      "!ls -lrt /home/sadat"
     ],
     "language": "python",
     "metadata": {},
     "outputs": [
      {
       "output_type": "stream",
       "stream": "stdout",
       "text": [
        "total 100\r\n",
        "-rw-r--r--  1 sadat sadat  8980 Oct 25  2014 examples.desktop\r\n",
        "drwxr-xr-x  2 sadat sadat  4096 Oct 25  2014 Videos\r\n",
        "drwxr-xr-x  2 sadat sadat  4096 Oct 25  2014 Templates\r\n",
        "drwxr-xr-x  2 sadat sadat  4096 Oct 25  2014 Public\r\n",
        "drwxrwxr-x  2 sadat sadat  4096 Oct 27  2014 repos\r\n",
        "drwxrwxr-x  5 sadat sadat  4096 Oct 27  2014 ffmpeg_build\r\n",
        "drwxrwxr-x  2 sadat sadat  4096 Oct 27  2014 bin\r\n",
        "-rw-r--r--  1 sadat sadat   403 Nov 12  2014 git_rsa.pub\r\n",
        "-rw-------  1 sadat sadat  1766 Nov 12  2014 git_rsa\r\n",
        "-rw-rw-r--  1 sadat sadat 30351 Nov 13  2014 Notes.odt\r\n",
        "drwxrwxr-x  4 sadat sadat  4096 Jan 27  2015 envs\r\n",
        "drwxrwxr-x 15 sadat sadat  4096 Jan 31  2015 anaconda\r\n",
        "drwxr-xr-x  2 sadat sadat  4096 Sep 25 12:56 Pictures\r\n",
        "drwxr-xr-x  3 sadat sadat  4096 Sep 25 13:30 Documents\r\n",
        "drwxr-xr-x  5 sadat sadat  4096 Sep 25 14:10 Desktop\r\n",
        "drwxr-xr-x  3 sadat sadat  4096 Oct  2 09:16 Downloads\r\n"
       ]
      }
     ],
     "prompt_number": 8
    },
    {
     "cell_type": "code",
     "collapsed": false,
     "input": [
      "# A shorthand for the home directory of the current user is \"~\"\n",
      "%cd ~"
     ],
     "language": "python",
     "metadata": {},
     "outputs": [
      {
       "output_type": "stream",
       "stream": "stdout",
       "text": [
        "/home/sadat\n"
       ]
      }
     ],
     "prompt_number": 9
    },
    {
     "cell_type": "code",
     "collapsed": false,
     "input": [
      "# !cd causes unix to move to a different directory, but leaves python behind\n",
      "!cd ~/logs/\n",
      "!pwd"
     ],
     "language": "python",
     "metadata": {},
     "outputs": [
      {
       "output_type": "stream",
       "stream": "stdout",
       "text": [
        "/bin/sh: 1: cd: can't cd to /home/sadat/logs/\r\n"
       ]
      },
      {
       "output_type": "stream",
       "stream": "stdout",
       "text": [
        "/home/sadat\r\n"
       ]
      }
     ],
     "prompt_number": 10
    },
    {
     "cell_type": "code",
     "collapsed": false,
     "input": [
      "# To actually change the directory use the magic %cd, which actually moves us and reports where we landed\n",
      "%cd ~/logs/"
     ],
     "language": "python",
     "metadata": {},
     "outputs": [
      {
       "output_type": "stream",
       "stream": "stdout",
       "text": [
        "[Errno 2] No such file or directory: '/home/sadat/logs/'\n",
        "/home/sadat\n"
       ]
      }
     ],
     "prompt_number": 11
    },
    {
     "cell_type": "markdown",
     "metadata": {},
     "source": [
      "Some useful shorthands for navigating directories\n",
      "* **~** home directory of current user\n",
      "* **~john** home directory of the user \"john\"\n",
      "* **.** the current directory\n",
      "* **..** the parent directory of the current directory.\n"
     ]
    },
    {
     "cell_type": "code",
     "collapsed": false,
     "input": [
      "%cd ~/data\n",
      "print \"!ls -F\"\n",
      "!ls -F\n",
      "print \"!ls ../\"\n",
      "!ls ../"
     ],
     "language": "python",
     "metadata": {},
     "outputs": [
      {
       "output_type": "stream",
       "stream": "stdout",
       "text": [
        "[Errno 2] No such file or directory: '/home/sadat/data'\n",
        "/home/sadat\n",
        "!ls -F\n",
        "anaconda/  Documents/  examples.desktop  git_rsa.pub  Public/\t  Videos/\r\n",
        "bin/\t   Downloads/  ffmpeg_build/\t Notes.odt    repos/\r\n",
        "Desktop/   envs/       git_rsa\t\t Pictures/    Templates/\r\n"
       ]
      },
      {
       "output_type": "stream",
       "stream": "stdout",
       "text": [
        "!ls ../\n"
       ]
      },
      {
       "output_type": "stream",
       "stream": "stdout",
       "text": [
        "sadat\r\n"
       ]
      }
     ],
     "prompt_number": 12
    },
    {
     "cell_type": "markdown",
     "metadata": {},
     "source": [
      "### Symbolic links"
     ]
    },
    {
     "cell_type": "code",
     "collapsed": false,
     "input": [
      "# \"scripts\" and \"data\" are not actual directories, rather they are symbolic links to directories\n",
      "%cd ~/data/\n",
      "!ls *"
     ],
     "language": "python",
     "metadata": {},
     "outputs": [
      {
       "output_type": "stream",
       "stream": "stdout",
       "text": [
        "[Errno 2] No such file or directory: '/home/sadat/data/'\n",
        "/home/sadat\n",
        "examples.desktop  git_rsa  git_rsa.pub\tNotes.odt\r\n",
        "\r\n",
        "anaconda:\r\n",
        "bin\t    docs  etc\t    include  LICENSE.txt  plugins  ssl\r\n",
        "conda-meta  envs  Examples  lib      pkgs\t  share\r\n",
        "\r\n",
        "bin:\r\n",
        "ffmpeg\tffplay\tffprobe  ffserver\r\n",
        "\r\n",
        "Desktop:\r\n",
        "bin  TUTORIALS\r\n",
        "\r\n",
        "Documents:\r\n",
        "DSE\r\n",
        "\r\n",
        "Downloads:\r\n",
        "2002FemPreg.dat  pycharm-community-4.5.4.tar.gz\r\n",
        "\r\n",
        "envs:\r\n",
        "my_root\r\n",
        "\r\n",
        "ffmpeg_build:\r\n",
        "include  lib  share\r\n",
        "\r\n",
        "Pictures:\r\n",
        "\r\n",
        "Public:\r\n"
       ]
      },
      {
       "output_type": "stream",
       "stream": "stdout",
       "text": [
        "\r\n",
        "repos:\r\n",
        "\r\n",
        "Templates:\r\n",
        "\r\n",
        "Videos:\r\n"
       ]
      }
     ],
     "prompt_number": 13
    },
    {
     "cell_type": "code",
     "collapsed": false,
     "input": [
      "# Symbolic links are created by the command \"ln -s\" \n",
      "# Here we create a link from the home directory to the directory DSE200/data/NLTK/Chopped\n",
      "%cd ~\n",
      "!ln -s DSE200/data/NLTK/Chopped minced\n",
      "!ls -l minced\n",
      "# the unix command \"cat\" prints out the contents of a file.\n",
      "!cat minced/F0"
     ],
     "language": "python",
     "metadata": {},
     "outputs": []
    },
    {
     "cell_type": "markdown",
     "metadata": {},
     "source": [
      "### Creating files and directories"
     ]
    },
    {
     "cell_type": "code",
     "collapsed": false,
     "input": [
      "# to create a directory, use `mkdir`\n",
      "!mkdir ~/tmp\n",
      "%cd ~/tmp"
     ],
     "language": "python",
     "metadata": {},
     "outputs": []
    },
    {
     "cell_type": "code",
     "collapsed": false,
     "input": [
      "# to create a file or update the time-stamp of the file use `touch`\n",
      "for i in range(10):\n",
      "    !touch file$i\n",
      "!ls -l"
     ],
     "language": "python",
     "metadata": {},
     "outputs": []
    },
    {
     "cell_type": "markdown",
     "metadata": {},
     "source": [
      "### Moving and copying files"
     ]
    },
    {
     "cell_type": "code",
     "collapsed": false,
     "input": [
      "%cd ~/DSE200/data/NLTK/Chopped/\n",
      "!ls"
     ],
     "language": "python",
     "metadata": {},
     "outputs": []
    },
    {
     "cell_type": "code",
     "collapsed": false,
     "input": [
      "# cp copies a file to a new location, maintaining the original copy\n",
      "!mkdir tmp\n",
      "!cp F87 tmp   # copy a file to a new location, maintaining the name\n",
      "!cp F87 tmp/newname # copy a file to a new location + name\n",
      "!ls -l F87 tmp"
     ],
     "language": "python",
     "metadata": {},
     "outputs": []
    },
    {
     "cell_type": "code",
     "collapsed": false,
     "input": [
      "# you can also copy a whole directory and all it's subdirectories\n",
      "!cp -r tmp newtmp"
     ],
     "language": "python",
     "metadata": {},
     "outputs": []
    },
    {
     "cell_type": "code",
     "collapsed": false,
     "input": [
      "# mv moves a file, or a whole directory, to a new location or a new name.\n",
      "# it just manipulates pointers, so it is much faster than copy. (similar to \n",
      "# the difference between deep and shallow copy in python)\n",
      "!mv newtmp tmp # move directory to a new location\n",
      "!ls tmp/*"
     ],
     "language": "python",
     "metadata": {},
     "outputs": []
    },
    {
     "cell_type": "code",
     "collapsed": false,
     "input": [
      "# mv file or directory to a new name (=rename)\n",
      "!mv tmp/newname tmp/newername\n",
      "!ls tmp/*"
     ],
     "language": "python",
     "metadata": {},
     "outputs": []
    },
    {
     "cell_type": "code",
     "collapsed": false,
     "input": [
      "#cleanup\n",
      "!rm -r tmp"
     ],
     "language": "python",
     "metadata": {},
     "outputs": []
    },
    {
     "cell_type": "markdown",
     "metadata": {},
     "source": [
      "### Removing files and directories"
     ]
    },
    {
     "cell_type": "code",
     "collapsed": false,
     "input": [
      "# to remove a file use the command `rm`\n",
      "for i in range(1,10,2):\n",
      "    !rm file$i\n",
      "!ls -l"
     ],
     "language": "python",
     "metadata": {},
     "outputs": []
    },
    {
     "cell_type": "code",
     "collapsed": false,
     "input": [
      "# to remove an empry directory, use 'rmdir'\n",
      "# If you want to remove a directory and everything that is in it use `rm -rf`. Note that this\n",
      "# is an irreversible action, it is NOT like moving a file to the trash bin.\n",
      "%cd ~\n",
      "!rm -rf tmp\n",
      "!ls -l tmp"
     ],
     "language": "python",
     "metadata": {},
     "outputs": []
    },
    {
     "cell_type": "markdown",
     "metadata": {},
     "source": [
      "### Groups and Unix File Permissions\n",
      "\n",
      "It is often the case that a file should not be readable/writeable by all users of a machine (IE private data, system configuration).  \n",
      "To enforce this there are a number of file properties which UNIX enforces.\n",
      "\n",
      "Each user falls into one of three relationships with the file:\n",
      "\n",
      "* **Owner** - The user who created the file and is able to modify permissions\n",
      "* **Group** - The user is in a the user group assigned to the file (we won't talk about this much)\n",
      "* **World** - Everybody else\n",
      "\n",
      "Each file has three permissions for each of these user sets:\n",
      "\n",
      "* **Read**  - The ability to view the file's contents\n",
      "* **Write** - The ability to modify the file\n",
      "* **Excecute** - The ability to run the file (if it is a script or program).  \n",
      "\n",
      "Since there are three user sets and three permissions, there are 9 distinct true/false permissions which can be granted.  Thus each file has 9 bits to define these permissions.\n",
      "\n",
      "#### Viewing permissions\n",
      "\n",
      "To view permissions of a file use the -l option for ls"
     ]
    },
    {
     "cell_type": "code",
     "collapsed": false,
     "input": [
      "#First we create some files:\n",
      "#Disregard the chmod command for now\n",
      "!mkdir examples\n",
      "%cd examples\n",
      "!touch NoPermissions\n",
      "!chmod 000 NoPermissions \n",
      "!touch AllRead\n",
      "!chmod 444 AllRead \n",
      "!touch FullPermission\n",
      "!chmod 777 FullPermission \n",
      "!touch OwnerOnly\n",
      "!chmod 700 OwnerOnly \n",
      "!touch GroupOnly\n",
      "!chmod 070 GroupOnly \n",
      "!touch WorldOnly\n",
      "!chmod 007 WorldOnly \n",
      "\n",
      "#Now we list the permissions of the files\n",
      "!ls -l\n",
      "\n",
      "#Return to old working directory\n",
      "%cd ../\n"
     ],
     "language": "python",
     "metadata": {},
     "outputs": []
    },
    {
     "cell_type": "markdown",
     "metadata": {},
     "source": [
      "In the first column of the output you see dashes for ungranted permissions and letters (r, w, or x) for granted permissions.  \n",
      "\n",
      "Lets break this down:\n",
      "\n",
      "| Bit | Definition |\n",
      "|---|------------------|\n",
      "| 1 | Sticky Bit\\* |\n",
      "| 2 | Owner Read |\n",
      "| 3 | Owner Write |\n",
      "| 4 | Owner Execute |\n",
      "| 5 | Group Read |\n",
      "| 6 | Group Write |\n",
      "| 7 | Group Execute |\n",
      "| 8 | World Read |\n",
      "| 9 | World Write |\n",
      "| 10| World Execute |\n",
      "\n",
      "\\* The sticky bit is a special permission we won't be going into\n",
      "\n",
      "Since you have three groups of three binary permissions, a common way to refer to permissions is via the octal representation of bits 2-10.  This yields a 3 digit octal number with the left most digit being owner permissions, middle digit group permissions, and right most bit the world permissions.\n",
      "\n",
      "For example: -r--rw---x translates to 461 in octal\n",
      "\n",
      "#### Changing Permissions\n",
      "\n",
      "To change permissions, the owner of a file can use the command *chmod*.  The main use case is you specify the octal code of your desired permissions followed by the file name.  For examples of this look at the code we used to create the files above."
     ]
    },
    {
     "cell_type": "markdown",
     "metadata": {},
     "source": [
      "## manual pages"
     ]
    },
    {
     "cell_type": "code",
     "collapsed": false,
     "input": [
      "%man ls"
     ],
     "language": "python",
     "metadata": {},
     "outputs": []
    },
    {
     "cell_type": "markdown",
     "metadata": {},
     "source": [
      "## Exploring the computer"
     ]
    },
    {
     "cell_type": "code",
     "collapsed": false,
     "input": [
      "# Find out which version of Ubuntu you are running \n",
      "!lsb_release -a"
     ],
     "language": "python",
     "metadata": {},
     "outputs": []
    },
    {
     "cell_type": "code",
     "collapsed": false,
     "input": [
      "# find out about the hardware\n",
      "!cat /proc/cpuinfo"
     ],
     "language": "python",
     "metadata": {},
     "outputs": []
    },
    {
     "cell_type": "code",
     "collapsed": false,
     "input": [
      "# find out how much memory you are using\n",
      "!free -m"
     ],
     "language": "python",
     "metadata": {},
     "outputs": []
    },
    {
     "cell_type": "code",
     "collapsed": false,
     "input": [
      "# find out how much disk space you are using\n",
      "!df"
     ],
     "language": "python",
     "metadata": {},
     "outputs": []
    },
    {
     "cell_type": "code",
     "collapsed": false,
     "input": [
      "#find out which directories consume most of this disk space\n",
      "%cd ~\n",
      "!du -s *"
     ],
     "language": "python",
     "metadata": {},
     "outputs": []
    },
    {
     "cell_type": "code",
     "collapsed": false,
     "input": [
      "# based on what we see here, we check the directory anaconda\n",
      "!du -s anaconda/*"
     ],
     "language": "python",
     "metadata": {},
     "outputs": []
    },
    {
     "cell_type": "markdown",
     "metadata": {},
     "source": [
      "## analyzing data\n",
      "head, tail, more, grep, wc, sort, cut (awk)"
     ]
    },
    {
     "cell_type": "code",
     "collapsed": false,
     "input": [
      "%cd ~/DSE200/data/ThinkStatsData/\n",
      "!ls"
     ],
     "language": "python",
     "metadata": {},
     "outputs": []
    },
    {
     "cell_type": "code",
     "collapsed": false,
     "input": [
      "# print the number of lines, words and characters in each file\n",
      "!wc *"
     ],
     "language": "python",
     "metadata": {},
     "outputs": []
    },
    {
     "cell_type": "code",
     "collapsed": false,
     "input": [
      "# print the first 2 lines of a file\n",
      "!head -2 2002FemPreg.dat"
     ],
     "language": "python",
     "metadata": {},
     "outputs": []
    },
    {
     "cell_type": "code",
     "collapsed": false,
     "input": [
      "## This list of tuples defines the names and locations of the elements.\n",
      "fields=[\n",
      "    ('caseid', 1, 12, int),\n",
      "    ('nbrnaliv', 22, 22, int),\n",
      "    ('babysex', 56, 56, int),\n",
      "    ('birthwgt_lb', 57, 58, int),\n",
      "    ('birthwgt_oz', 59, 60, int),\n",
      "    ('prglength', 275, 276, int),\n",
      "    ('outcome', 277, 277, int),\n",
      "    ('birthord', 278, 279, int),\n",
      "    ('agepreg', 284, 287, int),\n",
      "    ('finalwgt', 423, 440, float),\n",
      "]"
     ],
     "language": "python",
     "metadata": {},
     "outputs": []
    },
    {
     "cell_type": "code",
     "collapsed": false,
     "input": [
      "## Lets transform it into a dictionary whose keys are the names of the field\n",
      "fields_dict={name:(f,t,typ) for (name,f,t,typ) in fields}\n",
      "fields_dict"
     ],
     "language": "python",
     "metadata": {},
     "outputs": []
    },
    {
     "cell_type": "code",
     "collapsed": false,
     "input": [
      "# print the lines that contain a particular string\n",
      "string='3116'\n",
      "!grep $string 2002FemPreg.dat"
     ],
     "language": "python",
     "metadata": {},
     "outputs": []
    },
    {
     "cell_type": "code",
     "collapsed": false,
     "input": [
      "#suppose we just want to know how many lines have this string inside them.\n",
      "# this is our first use of pipes\n",
      "#the output from grep serves as the input to wc\n",
      "!wc 2002FemPreg.dat\n",
      "!grep $string 2002FemPreg.dat | wc"
     ],
     "language": "python",
     "metadata": {},
     "outputs": []
    },
    {
     "cell_type": "code",
     "collapsed": false,
     "input": [
      "#cut is a command that cuts specific fields from from each line \n",
      "%man cut"
     ],
     "language": "python",
     "metadata": {},
     "outputs": []
    },
    {
     "cell_type": "code",
     "collapsed": false,
     "input": [
      "# Extract from each line a specific field\n",
      "field='babysex'\n",
      "(fr,to,typ)=fields_dict[field]\n",
      "Range=str(fr-1)+'-'+str(to)\n",
      "print field,fr,to,Range\n",
      "!cut -c $Range 2002FemPreg.dat | head -5"
     ],
     "language": "python",
     "metadata": {},
     "outputs": []
    },
    {
     "cell_type": "code",
     "collapsed": false,
     "input": [
      "# lets sort these lines numerically, and look at the end, also known as the tail\n",
      "!cut -c $Range 2002FemPreg.dat | sort -n | tail"
     ],
     "language": "python",
     "metadata": {},
     "outputs": []
    },
    {
     "cell_type": "code",
     "collapsed": false,
     "input": [
      "#count the number of times each value appears using uniq\n",
      "!cut -c $Range 2002FemPreg.dat | sort -n | uniq -c"
     ],
     "language": "python",
     "metadata": {},
     "outputs": []
    },
    {
     "cell_type": "code",
     "collapsed": false,
     "input": [
      "# do the same thing but using an intermediary file\n",
      "!cut -c $Range 2002FemPreg.dat > cut$Range\n",
      "print 'head of cut',Range\n",
      "!head cut$Range\n",
      "!ls\n",
      "print 'output from uniq'\n",
      "!cat cut$Range | sort -n | uniq -c"
     ],
     "language": "python",
     "metadata": {},
     "outputs": []
    },
    {
     "cell_type": "markdown",
     "metadata": {},
     "source": [
      "## Environment variables\n",
      "\n",
      "Environment variables are strings that define the set up of the session. Environment variables allow the user to avoid\n",
      "retyping the same parameters over and over."
     ]
    },
    {
     "cell_type": "code",
     "collapsed": false,
     "input": [
      "#view all of the currently defined environment variable\n",
      "%env"
     ],
     "language": "python",
     "metadata": {},
     "outputs": []
    },
    {
     "cell_type": "code",
     "collapsed": false,
     "input": [
      "#view the valuse of a particular variables \n",
      "!echo $HOME $USER"
     ],
     "language": "python",
     "metadata": {},
     "outputs": []
    },
    {
     "cell_type": "code",
     "collapsed": false,
     "input": [
      "#The $ symbol is required as a prefix of the variable names\n",
      "#When used inside ipython, this $ can be used to refer to any currently defined variable\n",
      "i=25\n",
      "!echo $i"
     ],
     "language": "python",
     "metadata": {},
     "outputs": []
    },
    {
     "cell_type": "code",
     "collapsed": false,
     "input": [
      "#Particularly important are environment variables called \"paths\"\n",
      "!env | grep -i path"
     ],
     "language": "python",
     "metadata": {},
     "outputs": []
    },
    {
     "cell_type": "code",
     "collapsed": false,
     "input": [
      "# The path defines where the system will look for commands and in what order.\n",
      "# PATH tells the unix shell (bash) where to find the executables corresponding to commands\n",
      "# while PYTHONPATH tells python from where to `import` packages.\n",
      "# lets see where unix finds the command \"sort\"\n",
      "!which sort\n",
      "# Check on the variable PATH and you will see that /usr/bin is on it."
     ],
     "language": "python",
     "metadata": {},
     "outputs": []
    },
    {
     "cell_type": "code",
     "collapsed": false,
     "input": [
      "# You can also find all of the places along the path that have a definition relevant to sort\n",
      "!whereis sort\n",
      "# The last one is the manual page for sort which you can view using the command %man sort"
     ],
     "language": "python",
     "metadata": {},
     "outputs": []
    },
    {
     "cell_type": "markdown",
     "metadata": {},
     "source": [
      "#### Excercise \n",
      "find where the location of the commands `python`,`ipython` and `mail`"
     ]
    },
    {
     "cell_type": "code",
     "collapsed": false,
     "input": [
      "!which python"
     ],
     "language": "python",
     "metadata": {},
     "outputs": []
    },
    {
     "cell_type": "markdown",
     "metadata": {},
     "source": [
      "## Wildcards and glob\n",
      "\n",
      "We have seen the most used wild-card `*`, which matches any sequence of (non blank) characters.\n",
      "For example `B*.py` will match any filename that starts with `B` and ends with `.py`.\n",
      "\n",
      "Other useful wildcards are:\n",
      "\n",
      "wild card | Description\n",
      "--------|--------------------------------------------------------   \n",
      "    `*`   |  An asterisk matches any number of characters in a filename, including none.\n",
      "    `?`   |  The question mark matches any single character.\n",
      "    `[ ]` |  Brackets enclose a set of characters, any one of which may match a single character at that position.\n",
      "    `-`   |  A hyphen used within [ ] denotes a range of characters.\n",
      "    `~`   |  A tilde at the beginning of a word expands to the name of your home directory.  If you append another user's login name to the character, it refers to that user's home directory.\n",
      "    \n",
      "**Here are some examples:**\n",
      "\n",
      "1. **cat c* ** displays any file whose name begins with c including the file c, if it exists.\n",
      "1. **ls *.c ** lists all files that have a .c extension.\n",
      "1. **cp ../rmt?. ** copies every file in the parent directory that is four characters long and begins with rmt to the working directory. (The names will remain the same.)\n",
      "1. **ls rmt[34567] ** lists every file that begins with rmt and has a 3, 4, 5, 6, or 7 at the end.\n",
      "1. **ls rmt[3-7] ** does exactly the same thing as the previous example.\n",
      "1. **ls ~ ** lists your home directory.\n",
      "1. **ls ~hessen ** lists the home directory of the guy1 with the user id hessen."
     ]
    },
    {
     "cell_type": "markdown",
     "metadata": {},
     "source": [
      "#### within python, use glob()\n",
      "\n",
      "You get the same functionality as wildcards by using the function `glob`, but instead of getting the result printed out, you get it as a list of strings."
     ]
    },
    {
     "cell_type": "code",
     "collapsed": false,
     "input": [
      "!ls -d li* # do not descent into directories\n",
      "from glob import glob\n",
      "L=glob('li*')\n",
      "L"
     ],
     "language": "python",
     "metadata": {},
     "outputs": []
    },
    {
     "cell_type": "markdown",
     "metadata": {},
     "source": [
      "## Loading and saving files\n",
      "\n",
      "It is often useful to load short files into the notebook, alter them, and save them back into the file system. The magics `%load` and `%%writefile` are used to do that.\n"
     ]
    },
    {
     "cell_type": "code",
     "collapsed": false,
     "input": [
      "!ls"
     ],
     "language": "python",
     "metadata": {},
     "outputs": []
    },
    {
     "cell_type": "code",
     "collapsed": false,
     "input": [
      "# the magic %load, unlike using !cat, creates a new cell that can be executed inside the notebook\n",
      "%load survey.pl"
     ],
     "language": "python",
     "metadata": {},
     "outputs": []
    },
    {
     "cell_type": "markdown",
     "metadata": {},
     "source": [
      "## Processes\n",
      "\n",
      "A process is a sequence of commands that are executed in sequence, one after the other.\n",
      "By using \"time sharing\" a single CPU can compute many processes at the same time, frequently switching from one process to the next. In a multi-core machine, there are several CPUs and so even more processes can execute at the same time."
     ]
    },
    {
     "cell_type": "code",
     "collapsed": false,
     "input": [
      "# You can find out the current processes on your system using the command \"top\"\n",
      "# without flags, the command will open a window that will constantly update and that also\n",
      "# allows you to quit (or kill) processes. Here we use the flags to specify that top should only run once.\n",
      "!top -b -n 1"
     ],
     "language": "python",
     "metadata": {},
     "outputs": []
    },
    {
     "cell_type": "markdown",
     "metadata": {},
     "source": [
      "## Pipes\n",
      "We used pipes above to communicate between two or more unix commands.\n",
      "We now discuss this in more detail.\n",
      "\n",
      "Unix processes have three default input and output channels\n",
      "* **stdin** the standard input channel - by default - the keyboard\n",
      "* **stdout** the standard output channel - by default - the terminal.\n",
      "* **stderr** the standard error channel - by default - the terminal.\n",
      "\n",
      "Channels can be used to connect programs to each other and to connect programs and files. This is called **I/O redirection**.\n",
      "\n",
      "Connecting a standard channel to files is done using the following symbols\n",
      "(in bash, which is the standard shell in both ubuntu and os-x).\n",
      "\n",
      "| command      | result |\n",
      "|--------------|-----------------------------------------------------|\n",
      "| < filename   | Redirect stdin to read from the file \"filename\" |\n",
      "| > filename  | Redirect stdout to file \"filename.\" |\n",
      "| >>filename  | Redirect and append stdout to file \"filename.\" |\n",
      "| 1>filename   | Redirect stdout to file \"filename.\" |\n",
      "| 1>>filename  | Redirect and append stdout to file \"filename.\" |\n",
      "| 2>filename   | Redirect stderr to file \"filename.\" |\n",
      "| 2>>filename  | Redirect and append stderr to file \"filename.\" |\n",
      "| &>filename   | Redirect both stdout and stderr to file \"filename.\" |\n"
     ]
    },
    {
     "cell_type": "code",
     "collapsed": false,
     "input": [
      "# One of the most basic unix command is cat\n",
      "%cd ~\n",
      "!cat < .bash_logout"
     ],
     "language": "python",
     "metadata": {},
     "outputs": []
    },
    {
     "cell_type": "code",
     "collapsed": false,
     "input": [
      "# echo is another basic command, it pipes the string it gets as a parameter to std-out\n",
      "# To create a file with some specific line we can use\n",
      "!echo \"MAS-DSE is the best\" | cat > \"MAS-FILE\"\n",
      "!ls MAS*\n",
      "!cat MAS-FILE\n",
      "!rm MAS-FILE"
     ],
     "language": "python",
     "metadata": {},
     "outputs": []
    },
    {
     "cell_type": "code",
     "collapsed": false,
     "input": [
      "# some time we want to supress the error messages.\n",
      "# To do that we redirect stderr to a fictitious file called /dev/null\n",
      "# In addition, we can take the output and sort it (numerically, in reverse) according to the size\n",
      "!du -s /*  | 2> /dev/null  | sort -nr\n",
      "\n"
     ],
     "language": "python",
     "metadata": {},
     "outputs": []
    },
    {
     "cell_type": "markdown",
     "metadata": {},
     "source": [
      "## Interacting with external programs through pipes"
     ]
    },
    {
     "cell_type": "code",
     "collapsed": false,
     "input": [
      "#the command top gives us a snapshot of the currently running processes\n",
      "!top -b -n 1"
     ],
     "language": "python",
     "metadata": {},
     "outputs": []
    },
    {
     "cell_type": "code",
     "collapsed": false,
     "input": [
      "# We can run the program from within a python script (using ! requires running inside ipython)\n",
      "\n",
      "# here we use python to find those processes that take a non-zero part of the memory.\n",
      "import subprocess\n",
      "\n",
      "output = subprocess.check_output(['top', '-b','-n','1'])\n",
      "print 'Have %d bytes in output' % len(output)\n",
      "\n",
      "lines=output.splitlines() # break output into lines\n",
      "len(lines)\n",
      "for line in lines:\n",
      "    percent = line[47:50]\n",
      "    try:\n",
      "        p=float(percent)\n",
      "    except:\n",
      "        continue\n",
      "    if p>0:\n",
      "        print line,"
     ],
     "language": "python",
     "metadata": {},
     "outputs": []
    },
    {
     "cell_type": "raw",
     "metadata": {},
     "source": [
      "    1 root      20   0 24336 1492  536 S  0.0  0.2   0:00.40 init       \n",
      "0123456789012345678901234567890123456789012345678901234567890123456789\n",
      "0         1         2         3         4         5         6         "
     ]
    },
    {
     "cell_type": "code",
     "collapsed": false,
     "input": [
      "# If we use top in it's default non-batch form, the program crashes\n",
      "output = subprocess.check_output(['top'])\n",
      "print 'Have %d bytes in output' % len(output)\n"
     ],
     "language": "python",
     "metadata": {},
     "outputs": []
    },
    {
     "cell_type": "code",
     "collapsed": false,
     "input": [
      "# it runs fine with !\n",
      "!top"
     ],
     "language": "python",
     "metadata": {},
     "outputs": []
    },
    {
     "cell_type": "code",
     "collapsed": false,
     "input": [
      "# what we need to do is run the process 'top' in the background - in parallel to the ipython session\n",
      "# and print what the program outputs to stdout as it becomes available\n",
      "\n",
      "# The slight problem is that this code has a bug and it does not work right, can you make it work?\n",
      "\n",
      "import select\n",
      "from time import sleep\n",
      "\n",
      "def dataWaiting(source):\n",
      "    \" Check if data is waiting to be read \"\n",
      "    return select.select([source], [], [], 0) == ([source], [], [])\n",
      "\n",
      "proc = subprocess.Popen(['top'], \n",
      "                        stdout=subprocess.PIPE,\n",
      "                        shell=False\n",
      "                        )\n",
      "\n",
      "while True:\n",
      "    sleep(0.1)\n",
      "    try:\n",
      "        for line in proc.stdout.readline():\n",
      "            print line\n",
      "    except:\n",
      "        print 'exception'\n",
      "        \n",
      "#while True:\n",
      "#    sleep(0.1)\n",
      "#    if dataWaiting(proc.stdout):\n",
      "#        print 'Data Available'\n",
      "#        line=proc.stdout.readline()\n",
      "#        print line,\n",
      "#    else:\n",
      "#        print 'not available'\n"
     ],
     "language": "python",
     "metadata": {},
     "outputs": []
    },
    {
     "cell_type": "code",
     "collapsed": false,
     "input": [],
     "language": "python",
     "metadata": {},
     "outputs": []
    },
    {
     "cell_type": "code",
     "collapsed": false,
     "input": [],
     "language": "python",
     "metadata": {},
     "outputs": []
    },
    {
     "cell_type": "code",
     "collapsed": false,
     "input": [],
     "language": "python",
     "metadata": {},
     "outputs": []
    },
    {
     "cell_type": "code",
     "collapsed": false,
     "input": [],
     "language": "python",
     "metadata": {},
     "outputs": []
    }
   ],
   "metadata": {}
  }
 ]
}