{
 "metadata": {
  "name": "",
  "signature": "sha256:0559d0e62b010bddb08d63ad6d54cc2d3081a0ec4c855dec2d7ec9d2e0c99a27"
 },
 "nbformat": 3,
 "nbformat_minor": 0,
 "worksheets": [
  {
   "cells": [
    {
     "cell_type": "markdown",
     "metadata": {},
     "source": [
      "### Excercise 1: reconstruct a file from segments."
     ]
    },
    {
     "cell_type": "markdown",
     "metadata": {},
     "source": [
      "Each of the files F* is a short segment of the original text file.\n",
      "\n",
      "The format of the file is `(n1: 5 char int),(n2: 5 char int),string`\n",
      "The string represents the content of the file in the range `[n1:n2]`\n",
      "\n",
      "Your task is to reconstruct the original file."
     ]
    },
    {
     "cell_type": "code",
     "collapsed": false,
     "input": [
      "loc = '/home/sadat/Documents/DSE/ssnazrul/DSE200/data/NLTK/Chopped'\n",
      "%cd $loc\n",
      "!ls -F"
     ],
     "language": "python",
     "metadata": {},
     "outputs": [
      {
       "output_type": "stream",
       "stream": "stdout",
       "text": [
        "/home/sadat/Documents/DSE/ssnazrul/DSE200/data/NLTK/Chopped\n"
       ]
      },
      {
       "output_type": "stream",
       "stream": "stdout",
       "text": [
        "Caesar\tF115  F133  F152  F170\tF19   F207  F226  F33  F51  F69  F86\r\n",
        "echo\tF117  F134  F153  F171\tF190  F208  F227  F34  F52  F7\t F87\r\n",
        "F0\tF118  F135  F154  F172\tF191  F209  F228  F35  F53  F70  F88\r\n",
        "F1\tF119  F136  F155  F173\tF192  F210  F229  F36  F54  F71  F9\r\n",
        "F10\tF12   F137  F156  F174\tF193  F211  F23   F37  F55  F72  F90\r\n",
        "F100\tF120  F138  F157  F175\tF194  F212  F230  F38  F56  F73  F91\r\n",
        "F101\tF121  F139  F158  F176\tF195  F213  F231  F39  F57  F74  F93\r\n",
        "F102\tF122  F14   F159  F177\tF196  F214  F232  F4   F58  F75  F94\r\n",
        "F104\tF123  F140  F16   F178\tF197  F215  F233  F40  F59  F76  F95\r\n",
        "F106\tF124  F141  F160  F179\tF198  F216  F24   F41  F6   F77  F96\r\n",
        "F107\tF125  F142  F161  F18\tF199  F218  F25   F42  F60  F78  F97\r\n",
        "F108\tF126  F144  F162  F180\tF2    F219  F26   F43  F61  F79  F99\r\n",
        "F109\tF127  F145  F163  F181\tF20   F22   F27   F44  F62  F8\t HW1Q1\r\n",
        "F11\tF128  F146  F164  F182\tF200  F220  F28   F45  F63  F80  kings\r\n",
        "F110\tF129  F147  F165  F183\tF201  F221  F29   F46  F64  F81  Leonidas\r\n",
        "F111\tF13   F148  F166  F185\tF202  F222  F3\t  F48  F65  F82  Q1\r\n",
        "F112\tF130  F149  F167  F186\tF204  F223  F30   F49  F66  F83  subDirectory/\r\n",
        "F113\tF131  F15   F168  F187\tF205  F224  F31   F5   F67  F84\r\n",
        "F114\tF132  F151  F169  F189\tF206  F225  F32   F50  F68  F85\r\n"
       ]
      }
     ],
     "prompt_number": 2
    },
    {
     "cell_type": "code",
     "collapsed": false,
     "input": [
      "!cat F* > HW1Q1\n",
      "\n",
      "info = []\n",
      "doc = open('HW1Q1')\n",
      "lines = doc.readlines()\n",
      "for line in lines:\n",
      "    info.append((int(line[0:5]), int(line[5:10]), line[10:-1]))\n",
      "info = sorted(info)\n",
      "new_para = ''\n",
      "for i in info:\n",
      "    new_para += i[2]\n",
      "print new_para"
     ],
     "language": "python",
     "metadata": {},
     "outputs": [
      {
       "output_type": "stream",
       "stream": "stdout",
       "text": [
        "The Fulton County Grand Jury said Friday an investigation of Atlanta's recent primary election produced `` no evidence '' that any irregularities took place . The jury further said in term-end presentments that the City Executive Committee , which had over-all charge of the election , `` deserves the praise and thanks of the City of Atlanta '' for the manner in which the election was conducted . The September-October term jury had been charged by Fulton Superior Court Judge Durwood Pye to investigate reports of possible `` irregularities '' in the hard-fought primary which was won by Mayor-nominate Ivan Allen Jr. . `` Only a relative handful of such reports was received '' , the jury said , `` considering the widespread interest in the election , the number of voters and the size of this city '' . The jury said it did find that many of Georgia's registration and election laws `` are outmoded or inadequate and often ambiguous '' . It recommended that Fulton legislators act `` to have these laws studied and revised to the end of modernizing and improving them '' . The grand jury commented on a number of other topics , among them the Atlanta and Fulton County purchasing departments which it said `` are well operated and follow generally accepted practices which inure to the best interest of both governments '' . Merger proposed However , the jury said it believes `` these two offices should be combined to achieve greater efficiency and reduce the cost of administration '' . The City Purchasing Department , the jury said , `` is lacking in experienced clerical personnel as a result of city personnel policies '' .\n"
       ]
      }
     ],
     "prompt_number": 17
    },
    {
     "cell_type": "markdown",
     "metadata": {},
     "source": [
      "### Excercise 2:"
     ]
    },
    {
     "cell_type": "code",
     "collapsed": false,
     "input": [
      "#Issue a UNIX command to create a file called Caesar that contains the following lines (include the mistakes!!)\n",
      "\n",
      "Text = \"\"\"'Caesar, a great general, is petitioned by several citizens to show clemency to one of his enemies.\n",
      "He declines, pompously speaking of himself in the third person. The group of conspirators then proceeds to stab him.\n",
      "With his dying breath he gasps, \"Et tu, Brute? (\"And you, Brutus?\") Thus falls Caesar.\" \n",
      "The conspirators exult, and Shakespeare inserts a self-referential joke as Cassius says, \n",
      "\"How many ages hence shall this our lofty scene be acted over in states unborn and accents yet unknown!\"\n",
      "'\"\"\"\n",
      "#Change the permissions of this file to 666\n",
      "#Issue a UNIX command to determine the file type\n",
      "#Isue a uniix comannd to count the number of words in the above text that contains no vowels\n",
      "#Replace the word Caesar wherever it is found in the entire text to Leonidas\n",
      "#Make a copy of the above file without the first and last lines of the text and rename this file to Leonidas\n",
      "\n",
      "!printf $Text > Caesar\n",
      "!chmod 666 Caesar\n",
      "!file Caesar\n",
      "!grep -cv [aeiou] Caesar               \n",
      "!cp Caesar Leonidas                         \n",
      "!sed -i 's/Caesar/Leonidas/g' Leonidas     \n",
      "!sed -i '1d;$d' Leonidas"
     ],
     "language": "python",
     "metadata": {},
     "outputs": [
      {
       "output_type": "stream",
       "stream": "stdout",
       "text": [
        "Caesar: ASCII text\r\n"
       ]
      },
      {
       "output_type": "stream",
       "stream": "stdout",
       "text": [
        "0\r\n"
       ]
      }
     ],
     "prompt_number": 27
    },
    {
     "cell_type": "markdown",
     "metadata": {},
     "source": [
      "### Excercise 3:"
     ]
    },
    {
     "cell_type": "code",
     "collapsed": false,
     "input": [
      "#What is the command to count lines,words and characters in a file and how do you make this comand display only linecount?\n",
      "#Also write a single command that lists the files in the current directory that begin with upper case letters\n",
      "\n",
      "#wc                #command to count lines, words, characters in file\n",
      "#!wc -l            #command to count lines\n",
      "!ls -d [A-Z]*      #lists files with uppercase"
     ],
     "language": "python",
     "metadata": {},
     "outputs": [
      {
       "output_type": "stream",
       "stream": "stdout",
       "text": [
        "Caesar\tF114  F130  F147  F163\tF18   F197  F213  F23\tF35  F51  F67  F82\r\n",
        "F0\tF115  F131  F148  F164\tF180  F198  F214  F230\tF36  F52  F68  F83\r\n",
        "F1\tF117  F132  F149  F165\tF181  F199  F215  F231\tF37  F53  F69  F84\r\n",
        "F10\tF118  F133  F15   F166\tF182  F2    F216  F232\tF38  F54  F7   F85\r\n",
        "F100\tF119  F134  F151  F167\tF183  F20   F218  F233\tF39  F55  F70  F86\r\n",
        "F101\tF12   F135  F152  F168\tF185  F200  F219  F24\tF4   F56  F71  F87\r\n",
        "F102\tF120  F136  F153  F169\tF186  F201  F22   F25\tF40  F57  F72  F88\r\n",
        "F104\tF121  F137  F154  F170\tF187  F202  F220  F26\tF41  F58  F73  F9\r\n",
        "F106\tF122  F138  F155  F171\tF189  F204  F221  F27\tF42  F59  F74  F90\r\n",
        "F107\tF123  F139  F156  F172\tF19   F205  F222  F28\tF43  F6   F75  F91\r\n",
        "F108\tF124  F14   F157  F173\tF190  F206  F223  F29\tF44  F60  F76  F93\r\n",
        "F109\tF125  F140  F158  F174\tF191  F207  F224  F3\tF45  F61  F77  F94\r\n",
        "F11\tF126  F141  F159  F175\tF192  F208  F225  F30\tF46  F62  F78  F95\r\n",
        "F110\tF127  F142  F16   F176\tF193  F209  F226  F31\tF48  F63  F79  F96\r\n",
        "F111\tF128  F144  F160  F177\tF194  F210  F227  F32\tF49  F64  F8   F97\r\n",
        "F112\tF129  F145  F161  F178\tF195  F211  F228  F33\tF5   F65  F80  F99\r\n",
        "F113\tF13   F146  F162  F179\tF196  F212  F229  F34\tF50  F66  F81  Leonidas\r\n"
       ]
      }
     ],
     "prompt_number": 4
    },
    {
     "cell_type": "markdown",
     "metadata": {},
     "source": [
      "### Excercise 4:"
     ]
    },
    {
     "cell_type": "code",
     "collapsed": false,
     "input": [
      "#Combine the files Caesar and Leonidas and save the combined file as kings\n",
      "#Display the contents of this file using more command\n",
      "#Sort this file in reverse alphabetic order and display it by piping it into more\n",
      "\n",
      "!cat Caesar Leonidas > kings\n",
      "!more kings\n",
      "!sort -r kings | more            "
     ],
     "language": "python",
     "metadata": {},
     "outputs": [
      {
       "output_type": "stream",
       "stream": "stdout",
       "text": [
        "Caesar, a great general, is petitioned by several citizens to show clemency to o\r\n",
        "ne of his enemies.\r\n",
        "He declines, pompously speaking of himself in the third person. The group of con\r\n",
        "spirators then proceeds to stab him.\r\n",
        "With his dying breath he gasps, \"Et tu, Brute? (\"And you, Brutus?\") Thus falls C\r\n",
        "aesar.\" \r\n",
        "The conspirators exult, and Shakespeare inserts a self-referential joke as Cassi\r\n",
        "us says, \r\n",
        "\"How many ages hence shall this our lofty scene be acted over in states unborn a\r\n",
        "nd accents yet unknown!\"\r\n",
        "Leonidas, a great general, is petitioned by several citizens to show clemency to\r\n",
        " one of his enemies.\r\n",
        "He declines, pompously speaking of himself in the third person. The group of con\r\n",
        "spirators then proceeds to stab him.\r\n",
        "With his dying breath he gasps, \"Et tu, Brute? (\"And you, Brutus?\") Thus falls L\r\n",
        "eonidas.\" \r\n",
        "The conspirators exult, and Shakespeare inserts a self-referential joke as Cassi\r\n",
        "us says, \r\n",
        "\"How many ages hence shall this our lofty scene be acted over in states unborn a\r\n",
        "nd accents yet unknown!\"\r\n"
       ]
      },
      {
       "output_type": "stream",
       "stream": "stdout",
       "text": [
        "With his dying breath he gasps, \"Et tu, Brute? (\"And you, Brutus?\") Thus falls L\r\n",
        "eonidas.\" \r\n",
        "With his dying breath he gasps, \"Et tu, Brute? (\"And you, Brutus?\") Thus falls C\r\n",
        "aesar.\" \r\n",
        "The conspirators exult, and Shakespeare inserts a self-referential joke as Cassi\r\n",
        "us says, \r\n",
        "The conspirators exult, and Shakespeare inserts a self-referential joke as Cassi\r\n",
        "us says, \r\n",
        "Leonidas, a great general, is petitioned by several citizens to show clemency to\r\n",
        " one of his enemies.\r\n",
        "\"How many ages hence shall this our lofty scene be acted over in states unborn a\r\n",
        "nd accents yet unknown!\"\r\n",
        "\"How many ages hence shall this our lofty scene be acted over in states unborn a\r\n",
        "nd accents yet unknown!\"\r\n",
        "He declines, pompously speaking of himself in the third person. The group of con\r\n",
        "spirators then proceeds to stab him.\r\n",
        "He declines, pompously speaking of himself in the third person. The group of con\r\n",
        "spirators then proceeds to stab him.\r\n",
        "Caesar, a great general, is petitioned by several citizens to show clemency to o\r\n",
        "ne of his enemies.\r\n"
       ]
      }
     ],
     "prompt_number": 11
    },
    {
     "cell_type": "markdown",
     "metadata": {},
     "source": [
      "### Excercise 5:"
     ]
    },
    {
     "cell_type": "code",
     "collapsed": false,
     "input": [
      "#List all files in your current directory. Make a subDirectory and copy all these files in the subdirectory.\n",
      "#Write Unix commands to rename all the files to the format - currentDate_originalname\n",
      "\n",
      "import time\n",
      "\n",
      "date = time.strftime(\"%m%d%y\")\n",
      "loc = '/home/sadat/Documents/DSE/ssnazrul/DSE200/data/NLTK/Chopped'\n",
      "%cd $loc\n",
      "!pwd\n",
      "#!rm -r subDirectory\n",
      "!mkdir subDirectory\n",
      "!cp * subDirectory\n",
      "%cd subDirectory\n",
      "#!for f in *; do mv \"$f\" \"$f_$date\"; done\n",
      "!for f in *;do echo $date_$f; done"
     ],
     "language": "python",
     "metadata": {},
     "outputs": [
      {
       "output_type": "stream",
       "stream": "stdout",
       "text": [
        "/home/sadat/Documents/DSE/ssnazrul/DSE200/data/NLTK/Chopped\n",
        "/home/sadat/Documents/DSE/ssnazrul/DSE200/data/NLTK/Chopped\r\n"
       ]
      },
      {
       "output_type": "stream",
       "stream": "stdout",
       "text": [
        "mkdir: cannot create directory \u2018subDirectory\u2019: File exists\r\n"
       ]
      },
      {
       "output_type": "stream",
       "stream": "stdout",
       "text": [
        "cp: omitting directory \u2018subDirectory\u2019\r\n"
       ]
      },
      {
       "output_type": "stream",
       "stream": "stdout",
       "text": [
        "/home/sadat/Documents/DSE/ssnazrul/DSE200/data/NLTK/Chopped/subDirectory\n",
        "Caesar\r\n",
        "F0\r\n",
        "F1\r\n",
        "F10\r\n",
        "F100\r\n",
        "F101\r\n",
        "F102\r\n",
        "F104\r\n",
        "F106\r\n",
        "F107\r\n",
        "F108\r\n",
        "F109\r\n",
        "F11\r\n",
        "F110\r\n",
        "F111\r\n",
        "F112\r\n",
        "F113\r\n",
        "F114\r\n",
        "F115\r\n",
        "F117\r\n",
        "F118\r\n",
        "F119\r\n",
        "F12\r\n",
        "F120\r\n",
        "F121\r\n",
        "F122\r\n",
        "F123\r\n",
        "F124\r\n",
        "F125\r\n",
        "F126\r\n",
        "F127\r\n",
        "F128\r\n",
        "F129\r\n",
        "F13\r\n",
        "F130\r\n",
        "F131\r\n",
        "F132\r\n",
        "F133\r\n",
        "F134\r\n",
        "F135\r\n",
        "F136\r\n",
        "F137\r\n",
        "F138\r\n",
        "F139\r\n",
        "F14\r\n",
        "F140\r\n",
        "F141\r\n",
        "F142\r\n",
        "F144\r\n",
        "F145\r\n",
        "F146\r\n",
        "F147\r\n",
        "F148\r\n",
        "F149\r\n",
        "F15\r\n",
        "F151\r\n",
        "F152\r\n",
        "F153\r\n",
        "F154\r\n",
        "F155\r\n",
        "F156\r\n",
        "F157\r\n",
        "F158\r\n",
        "F159\r\n",
        "F16\r\n",
        "F160\r\n",
        "F161\r\n",
        "F162\r\n",
        "F163\r\n",
        "F164\r\n",
        "F165\r\n",
        "F166\r\n",
        "F167\r\n",
        "F168\r\n",
        "F169\r\n",
        "F170\r\n",
        "F171\r\n",
        "F172\r\n",
        "F173\r\n",
        "F174\r\n",
        "F175\r\n",
        "F176\r\n",
        "F177\r\n",
        "F178\r\n",
        "F179\r\n",
        "F18\r\n",
        "F180\r\n",
        "F181\r\n",
        "F182\r\n",
        "F183\r\n",
        "F185\r\n",
        "F186\r\n",
        "F187\r\n",
        "F189\r\n",
        "F19\r\n",
        "F190\r\n",
        "F191\r\n",
        "F192\r\n",
        "F193\r\n",
        "F194\r\n",
        "F195\r\n",
        "F196\r\n",
        "F197\r\n",
        "F198\r\n",
        "F199\r\n",
        "F2\r\n",
        "F20\r\n",
        "F200\r\n",
        "F201\r\n",
        "F202\r\n",
        "F204\r\n",
        "F205\r\n",
        "F206\r\n",
        "F207\r\n",
        "F208\r\n",
        "F209\r\n",
        "F210\r\n",
        "F211\r\n",
        "F212\r\n",
        "F213\r\n",
        "F214\r\n",
        "F215\r\n",
        "F216\r\n",
        "F218\r\n",
        "F219\r\n",
        "F22\r\n",
        "F220\r\n",
        "F221\r\n",
        "F222\r\n",
        "F223\r\n",
        "F224\r\n",
        "F225\r\n",
        "F226\r\n",
        "F227\r\n",
        "F228\r\n",
        "F229\r\n",
        "F23\r\n",
        "F230\r\n",
        "F231\r\n",
        "F232\r\n",
        "F233\r\n",
        "F24\r\n",
        "F25\r\n",
        "F26\r\n",
        "F27\r\n",
        "F28\r\n",
        "F29\r\n",
        "F3\r\n",
        "F30\r\n",
        "F31\r\n",
        "F32\r\n",
        "F33\r\n",
        "F34\r\n",
        "F35\r\n",
        "F36\r\n",
        "F37\r\n",
        "F38\r\n",
        "F39\r\n",
        "F4\r\n",
        "F40\r\n",
        "F41\r\n",
        "F42\r\n",
        "F43\r\n",
        "F44\r\n",
        "F45\r\n",
        "F46\r\n",
        "F48\r\n",
        "F49\r\n",
        "F5\r\n",
        "F50\r\n",
        "F51\r\n",
        "F52\r\n",
        "F53\r\n",
        "F54\r\n",
        "F55\r\n",
        "F56\r\n",
        "F57\r\n",
        "F58\r\n",
        "F59\r\n",
        "F6\r\n",
        "F60\r\n",
        "F61\r\n",
        "F62\r\n",
        "F63\r\n",
        "F64\r\n",
        "F65\r\n",
        "F66\r\n",
        "F67\r\n",
        "F68\r\n",
        "F69\r\n",
        "F7\r\n",
        "F70\r\n",
        "F71\r\n",
        "F72\r\n",
        "F73\r\n",
        "F74\r\n",
        "F75\r\n",
        "F76\r\n",
        "F77\r\n",
        "F78\r\n",
        "F79\r\n",
        "F8\r\n",
        "F80\r\n",
        "F81\r\n",
        "F82\r\n",
        "F83\r\n",
        "F84\r\n",
        "F85\r\n",
        "F86\r\n",
        "F87\r\n",
        "F88\r\n",
        "F9\r\n",
        "F90\r\n",
        "F91\r\n",
        "F93\r\n",
        "F94\r\n",
        "F95\r\n",
        "F96\r\n",
        "F97\r\n",
        "F99\r\n",
        "Leonidas\r\n",
        "echo\r\n",
        "kings\r\n"
       ]
      }
     ],
     "prompt_number": 22
    },
    {
     "cell_type": "markdown",
     "metadata": {},
     "source": [
      "### Excercise 6:"
     ]
    },
    {
     "cell_type": "code",
     "collapsed": false,
     "input": [
      "#Suppose we have a script that performs numerous efficiency tests. \n",
      "#The output from the script contains lots of information, but our purpose now is to extract information\n",
      "#about the CPU time of each test and sort these CPU times. The output from the tests takes the following form:\n",
      "output = \"\"\"'\n",
      "f95 -c -O0  versions/main_wIO.f F77WAVE.f\n",
      "f95 -o app  -static main_wIO.o F77WAVE.o   -lf2c\n",
      "app < input > tmp.out\n",
      "CPU-time: 255.97   f95 -O0 formatted I/O\n",
      "f95 -c -O1  versions/main_wIO.f F77WAVE.f\n",
      "f95 -o app  -static main_wIO.o F77WAVE.o   -lf2c\n",
      "app < input > tmp.out\n",
      "CPU-time: 252.47   f95 -O1 formatted I/O\n",
      "f95 -c -O2  versions/main_wIO.f F77WAVE.f\n",
      "f95 -o app  -static main_wIO.o F77WAVE.o   -lf2c\n",
      "app < input > tmp.out\n",
      "CPU-time: 252.40   f95 -O2 formatted I/O\n",
      "f95 -c -O3  versions/main_wIO.f F77WAVE.f\n",
      "f95 -o app  -static main_wIO.o F77WAVE.o   -lf2c\n",
      "app < input > tmp.out\n",
      "CPU-time: 255.28   f95 -O0 formatted I/O\n",
      "f95 -c -O4  versions/main_wIO.f F77WAVE.f\n",
      "f95 -o app  -static main_wIO.o F77WAVE.o   -lf2c\n",
      "app < input > tmp.out\n",
      "CPU-time: 251.43  f95 -O0 formatted I/O\n",
      "f95 -c -O5  versions/main_wIO.f F77WAVE.f\n",
      "f95 -o app  -static main_wIO.o F77WAVE.o   -lf2c\n",
      "app < input > tmp.out\n",
      "CPU-time: 255.90   f95 -O0 formatted I/O\n",
      "f95 -c -O6  versions/main_wIO.f F77WAVE.f\n",
      "f95 -o app  -static main_wIO.o F77WAVE.o   -lf2c\n",
      "app < input > tmp.out\n",
      "CPU-time: 252.15   f95 -O0 formatted I/O\n",
      "'\"\"\"\n",
      "\n",
      "#First we need to extract the lines starting with CPU-time. \n",
      "#Then we need to sort the extracted lines with respect to the CPU time, which is the number appearing in the second column. \n",
      "#Write a script to accomplish this task. \n",
      "\n",
      "#Hint: Find the lines with CPU time results by using a string comparison of the first 7 characters \n",
      "#to detect the keyword CPU-time. Then write a tailored sort function for sorting two lines \n",
      "#(extract the CPU time from the second column in both lines and compare the CPU times as floating-point numbers). \n",
      "#A tailored sort function takes two arguments a and b, which hold two list elements. \n",
      "#The sort function returns -1 if a is less than b, 1 if a is greater than b, and 0 otherwise (a equals b).\n",
      "\n",
      "!echo $output |grep 'CPU-time' > HW1Q6\n",
      "\n",
      "doc = open('HW1Q6')\n",
      "lines = doc.readlines()\n",
      "\n",
      "time = []\n",
      "for line in lines:\n",
      "    time.append(float(line.split(' ')[1]))\n",
      "print time"
     ],
     "language": "python",
     "metadata": {},
     "outputs": [
      {
       "output_type": "stream",
       "stream": "stdout",
       "text": [
        "[255.97, 252.47, 252.4, 255.28, 251.43, 255.9, 252.15]\n"
       ]
      }
     ],
     "prompt_number": 4
    },
    {
     "cell_type": "markdown",
     "metadata": {},
     "source": [
      "### Excercise 7:"
     ]
    },
    {
     "cell_type": "code",
     "collapsed": false,
     "input": [
      "#Make a copy of your working directory along with its subdirectories and \n",
      "#write unix+python commands that traverses the copied working directory and its subdirectories (recursively) and returns a \n",
      "#list of all files that are larger than X Mb and that have not been accessed the last Y days, \n",
      "#where X and Y are passed as user inputs.\n",
      "#Include an option in this function that moves the files to a subdirectory trash under /tmp \n",
      "#(you need to create trash if it does not exist)."
     ],
     "language": "python",
     "metadata": {},
     "outputs": []
    }
   ],
   "metadata": {}
  }
 ]
}