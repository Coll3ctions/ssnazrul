{
 "metadata": {
  "name": "",
  "signature": "sha256:a8de517e171912f9b463be583755554195e9f65bbd6223b179f8af88ce58591e"
 },
 "nbformat": 3,
 "nbformat_minor": 0,
 "worksheets": [
  {
   "cells": [
    {
     "cell_type": "markdown",
     "metadata": {},
     "source": [
      "### Resources for python\n",
      "\n",
      "Here are some of the best resources for Python on the web. \n",
      "\n",
      "#### Learning resources\n",
      "\n",
      "* [Interactive Python](http://interactivepython.org/) An online book that includes embedded live excercises. Fun!\n",
      "* [Dive Into Python](http://www.diveintopython.net/) An excellent, thorough book.\n",
      "* [tutorial point](http://www.tutorialspoint.com/python/index.htm) A resource that is useful when you want an explanation of one concept, rather than a whole chapter.\n",
      "\n",
      "There are endless other learning resources, you can find some more on the [Class resources webpage](http://mas-dse-200.herokuapp.com/resources/)\n",
      "\n",
      "#### Reference resources\n",
      "\n",
      "Typically, if you have a question about python, you can find an answer by using google. The following sites will usually have the best answer.\n",
      "\n",
      "* [Official python documentation](https://docs.python.org/2/library/)\n",
      "* [Quick Reference from Tutorial Point](http://www.tutorialspoint.com/python/python_quick_guide.htm)\n",
      "\n",
      "### Basic types\n",
      "\n",
      "The main basic data types in python are numbers (`int`s and `float`s) `bool`ean and `str`ings."
     ]
    },
    {
     "cell_type": "code",
     "collapsed": false,
     "input": [
      "print type(123),type(123.0),type('123'),type(True)"
     ],
     "language": "python",
     "metadata": {},
     "outputs": [
      {
       "output_type": "stream",
       "stream": "stdout",
       "text": [
        "<type 'int'> <type 'float'> <type 'str'> <type 'bool'>\n"
       ]
      }
     ],
     "prompt_number": 1
    },
    {
     "cell_type": "code",
     "collapsed": false,
     "input": [
      "# Strings can be enclosed by ',\" or \"\"\"\n",
      "print \" this is a string enclosed by \\\"\\\" not '' \"\n",
      "print ' this string is not enlosed by \"\" '\n",
      "print 'This string spans \\n two lines\\n\\n'\n",
      "print \"\"\"this string is \n",
      "a whole paragraph, ' and \" can be used freely\n",
      "and can span lines without using \\\\\n",
      "\"\"\""
     ],
     "language": "python",
     "metadata": {},
     "outputs": [
      {
       "output_type": "stream",
       "stream": "stdout",
       "text": [
        " this is a string enclosed by \"\" not '' \n",
        " this string is not enlosed by \"\" \n",
        "This string spans \n",
        " two lines\n",
        "\n",
        "\n",
        "this string is \n",
        "a whole paragraph, ' and \" can be used freely\n",
        "and can span lines without using \\\n",
        "\n"
       ]
      }
     ],
     "prompt_number": 2
    },
    {
     "cell_type": "markdown",
     "metadata": {},
     "source": [
      "### The numbers support all of the standard mathematical operations"
     ]
    },
    {
     "cell_type": "code",
     "collapsed": false,
     "input": [
      "123+2"
     ],
     "language": "python",
     "metadata": {},
     "outputs": [
      {
       "metadata": {},
       "output_type": "pyout",
       "prompt_number": 3,
       "text": [
        "125"
       ]
      }
     ],
     "prompt_number": 3
    },
    {
     "cell_type": "code",
     "collapsed": false,
     "input": [
      "123-2.0  # if one of the operands is a float, the result is a float."
     ],
     "language": "python",
     "metadata": {},
     "outputs": [
      {
       "metadata": {},
       "output_type": "pyout",
       "prompt_number": 4,
       "text": [
        "121.0"
       ]
      }
     ],
     "prompt_number": 4
    },
    {
     "cell_type": "code",
     "collapsed": false,
     "input": [
      "123/2    # integer division"
     ],
     "language": "python",
     "metadata": {},
     "outputs": [
      {
       "metadata": {},
       "output_type": "pyout",
       "prompt_number": 5,
       "text": [
        "61"
       ]
      }
     ],
     "prompt_number": 5
    },
    {
     "cell_type": "code",
     "collapsed": false,
     "input": [
      "123.0/2, 123/2.0  # floating point division"
     ],
     "language": "python",
     "metadata": {},
     "outputs": [
      {
       "metadata": {},
       "output_type": "pyout",
       "prompt_number": 6,
       "text": [
        "(61.5, 61.5)"
       ]
      }
     ],
     "prompt_number": 6
    },
    {
     "cell_type": "code",
     "collapsed": false,
     "input": [
      "# i % j computes the remaineder from dividing i by j (integer division)\n",
      "print 123 % 5,',', 123-(123/5)*5   # the 'print' command is redundant in the last line of a cell."
     ],
     "language": "python",
     "metadata": {},
     "outputs": [
      {
       "output_type": "stream",
       "stream": "stdout",
       "text": [
        "3 , 3\n"
       ]
      }
     ],
     "prompt_number": 7
    },
    {
     "cell_type": "code",
     "collapsed": false,
     "input": [
      "# Summing of strings means concatanation \n",
      "x='123'+'0'\n",
      "x"
     ],
     "language": "python",
     "metadata": {},
     "outputs": [
      {
       "metadata": {},
       "output_type": "pyout",
       "prompt_number": 8,
       "text": [
        "'1230'"
       ]
      }
     ],
     "prompt_number": 8
    },
    {
     "cell_type": "code",
     "collapsed": false,
     "input": [
      "# incrementing or decrementing a variable\n",
      "a=0; b=0 # yes, you can have more than one command in a line, but it is usually considered bad style\n",
      "a+=1; a+=1 # equivalent to `a=a+1`\n",
      "b-=2; b-=3\n",
      "print a,b"
     ],
     "language": "python",
     "metadata": {},
     "outputs": [
      {
       "output_type": "stream",
       "stream": "stdout",
       "text": [
        "2 -5\n"
       ]
      }
     ],
     "prompt_number": 9
    },
    {
     "cell_type": "code",
     "collapsed": false,
     "input": [
      "# casting a string as an integer\n",
      "int(x)-1"
     ],
     "language": "python",
     "metadata": {},
     "outputs": [
      {
       "metadata": {},
       "output_type": "pyout",
       "prompt_number": 10,
       "text": [
        "1229"
       ]
      }
     ],
     "prompt_number": 10
    },
    {
     "cell_type": "code",
     "collapsed": false,
     "input": [
      "# casting an integer as a string\n",
      "str(15)+'$'"
     ],
     "language": "python",
     "metadata": {},
     "outputs": [
      {
       "metadata": {},
       "output_type": "pyout",
       "prompt_number": 11,
       "text": [
        "'15$'"
       ]
      }
     ],
     "prompt_number": 11
    },
    {
     "cell_type": "markdown",
     "metadata": {},
     "source": [
      "#### Excercise\n",
      "Write a statement that, given two integers, a and b, outputs the string\n",
      "> a + b = a+b\n",
      "\n",
      "for example, if a=15 and b=3, output \n",
      "> 15 + 3 = 18"
     ]
    },
    {
     "cell_type": "code",
     "collapsed": false,
     "input": [
      "a=15\n",
      "b=3\n",
      "print str(a)+'+'+str(b)+'='+str(a+b)"
     ],
     "language": "python",
     "metadata": {},
     "outputs": [
      {
       "output_type": "stream",
       "stream": "stdout",
       "text": [
        "15+3=18\n"
       ]
      }
     ],
     "prompt_number": 16
    },
    {
     "cell_type": "markdown",
     "metadata": {},
     "source": [
      "### Booleans and conditions"
     ]
    },
    {
     "cell_type": "code",
     "collapsed": false,
     "input": [
      "print 1==1, 1==2, 1<2, 1<1, 1<=1,1<=0.99"
     ],
     "language": "python",
     "metadata": {},
     "outputs": [
      {
       "output_type": "stream",
       "stream": "stdout",
       "text": [
        "True False True False True False\n"
       ]
      }
     ],
     "prompt_number": 17
    },
    {
     "cell_type": "code",
     "collapsed": false,
     "input": [
      "print type(1==1)"
     ],
     "language": "python",
     "metadata": {},
     "outputs": [
      {
       "output_type": "stream",
       "stream": "stdout",
       "text": [
        "<type 'bool'>\n"
       ]
      }
     ],
     "prompt_number": 18
    },
    {
     "cell_type": "code",
     "collapsed": false,
     "input": [
      "True or False, True and False, not False"
     ],
     "language": "python",
     "metadata": {},
     "outputs": [
      {
       "metadata": {},
       "output_type": "pyout",
       "prompt_number": 19,
       "text": [
        "(True, False, True)"
       ]
      }
     ],
     "prompt_number": 19
    },
    {
     "cell_type": "code",
     "collapsed": false,
     "input": [
      "# testing whether a number is a multiple of 7\n",
      "a=343\n",
      "a % 7 == 0"
     ],
     "language": "python",
     "metadata": {},
     "outputs": [
      {
       "metadata": {},
       "output_type": "pyout",
       "prompt_number": 20,
       "text": [
        "True"
       ]
      }
     ],
     "prompt_number": 20
    },
    {
     "cell_type": "markdown",
     "metadata": {},
     "source": [
      "### String opeations"
     ]
    },
    {
     "cell_type": "code",
     "collapsed": false,
     "input": [
      "'1'+'2' # Concatanation"
     ],
     "language": "python",
     "metadata": {},
     "outputs": [
      {
       "metadata": {},
       "output_type": "pyout",
       "prompt_number": 21,
       "text": [
        "'12'"
       ]
      }
     ],
     "prompt_number": 21
    },
    {
     "cell_type": "code",
     "collapsed": false,
     "input": [
      "word='Lough'"
     ],
     "language": "python",
     "metadata": {},
     "outputs": [],
     "prompt_number": 22
    },
    {
     "cell_type": "code",
     "collapsed": false,
     "input": [
      "'gh' in word # test for substring"
     ],
     "language": "python",
     "metadata": {},
     "outputs": [
      {
       "metadata": {},
       "output_type": "pyout",
       "prompt_number": 23,
       "text": [
        "True"
       ]
      }
     ],
     "prompt_number": 23
    },
    {
     "cell_type": "code",
     "collapsed": false,
     "input": [
      "from string import * # the full library of string operations"
     ],
     "language": "python",
     "metadata": {},
     "outputs": [],
     "prompt_number": 24
    },
    {
     "cell_type": "code",
     "collapsed": false,
     "input": [
      "find(word,'gh') # find the first location of 'gh' in 'lough'"
     ],
     "language": "python",
     "metadata": {},
     "outputs": [
      {
       "metadata": {},
       "output_type": "pyout",
       "prompt_number": 25,
       "text": [
        "3"
       ]
      }
     ],
     "prompt_number": 25
    },
    {
     "cell_type": "code",
     "collapsed": false,
     "input": [
      "upper(word),lower(word) "
     ],
     "language": "python",
     "metadata": {},
     "outputs": [
      {
       "metadata": {},
       "output_type": "pyout",
       "prompt_number": 26,
       "text": [
        "('LOUGH', 'lough')"
       ]
      }
     ],
     "prompt_number": 26
    },
    {
     "cell_type": "code",
     "collapsed": false,
     "input": [
      "word[1:],word[:-1]   # get all but the first, or all but the last characters of the word"
     ],
     "language": "python",
     "metadata": {},
     "outputs": [
      {
       "metadata": {},
       "output_type": "pyout",
       "prompt_number": 27,
       "text": [
        "('ough', 'Loug')"
       ]
      }
     ],
     "prompt_number": 27
    },
    {
     "cell_type": "code",
     "collapsed": false,
     "input": [
      "text='   this is it   '\n",
      "strip(text),lstrip(text),rstrip(text) "
     ],
     "language": "python",
     "metadata": {},
     "outputs": [
      {
       "metadata": {},
       "output_type": "pyout",
       "prompt_number": 45,
       "text": [
        "('this is it', 'this is it   ', '   this is it')"
       ]
      }
     ],
     "prompt_number": 45
    },
    {
     "cell_type": "markdown",
     "metadata": {},
     "source": [
      "### Lists and Tuples ###\n",
      "In the next cell we read the file, parse it according to `fields`, and create a dictionary of lists, one for each field."
     ]
    },
    {
     "cell_type": "code",
     "collapsed": false,
     "input": [
      "## This list of tuples defines the names and locations of the elements.\n",
      "fields=[\n",
      "    ('caseid', 1, 12, int),\n",
      "    ('nbrnaliv', 22, 22, int),\n",
      "    ('babysex', 56, 56, int),\n",
      "    ('birthwgt_oz', 59, 60, int),\n",
      "    ('prglength', 275, 276, int),\n",
      "    ('outcome', 277, 277, int),\n",
      "    ('birthord', 278, 279, int),\n",
      "    ('agepreg', 284, 287, int),\n",
      "    ('finalwgt', 423, 440, float),\n",
      "]\n",
      "print fields\n",
      "# note the types of the 4 fields, especially the last one"
     ],
     "language": "python",
     "metadata": {},
     "outputs": [
      {
       "output_type": "stream",
       "stream": "stdout",
       "text": [
        "[('caseid', 1, 12, <type 'int'>), ('nbrnaliv', 22, 22, <type 'int'>), ('babysex', 56, 56, <type 'int'>), ('birthwgt_oz', 59, 60, <type 'int'>), ('prglength', 275, 276, <type 'int'>), ('outcome', 277, 277, <type 'int'>), ('birthord', 278, 279, <type 'int'>), ('agepreg', 284, 287, <type 'int'>), ('finalwgt', 423, 440, <type 'float'>)]\n"
       ]
      }
     ],
     "prompt_number": 29
    },
    {
     "cell_type": "code",
     "collapsed": false,
     "input": [
      "type(fields)"
     ],
     "language": "python",
     "metadata": {},
     "outputs": [
      {
       "metadata": {},
       "output_type": "pyout",
       "prompt_number": 30,
       "text": [
        "list"
       ]
      }
     ],
     "prompt_number": 30
    },
    {
     "cell_type": "code",
     "collapsed": false,
     "input": [
      "print fields[2]\n",
      "print type(fields[2])"
     ],
     "language": "python",
     "metadata": {},
     "outputs": [
      {
       "output_type": "stream",
       "stream": "stdout",
       "text": [
        "('babysex', 56, 56, <type 'int'>)\n",
        "<type 'tuple'>\n"
       ]
      }
     ],
     "prompt_number": 31
    },
    {
     "cell_type": "code",
     "collapsed": false,
     "input": [
      "print fields[2][0]\n",
      "print type(fields[2][0])"
     ],
     "language": "python",
     "metadata": {},
     "outputs": [
      {
       "output_type": "stream",
       "stream": "stdout",
       "text": [
        "babysex\n",
        "<type 'str'>\n"
       ]
      }
     ],
     "prompt_number": 32
    },
    {
     "cell_type": "markdown",
     "metadata": {},
     "source": [
      "###Sets\n",
      "Sets are mutable collections of objects in which each object can appear at most once.\n",
      "\n",
      "Sets are unordered, sorting them creates a list.\n"
     ]
    },
    {
     "cell_type": "code",
     "collapsed": false,
     "input": [
      "s=set([2,99,2,1,4,99,99]) # you can make sets from lists\n",
      "s"
     ],
     "language": "python",
     "metadata": {},
     "outputs": [
      {
       "metadata": {},
       "output_type": "pyout",
       "prompt_number": 33,
       "text": [
        "{1, 2, 4, 99}"
       ]
      }
     ],
     "prompt_number": 33
    },
    {
     "cell_type": "code",
     "collapsed": false,
     "input": [
      "l=list(s)   # and lists from sets\n",
      "l"
     ],
     "language": "python",
     "metadata": {},
     "outputs": [
      {
       "metadata": {},
       "output_type": "pyout",
       "prompt_number": 34,
       "text": [
        "[1, 2, 99, 4]"
       ]
      }
     ],
     "prompt_number": 34
    },
    {
     "cell_type": "code",
     "collapsed": false,
     "input": [
      "t=set(['a','b','a',2])\n",
      "print t | s   # you can take the OR (union) of two sets"
     ],
     "language": "python",
     "metadata": {},
     "outputs": [
      {
       "output_type": "stream",
       "stream": "stdout",
       "text": [
        "set(['a', 1, 2, 'b', 4, 99])\n"
       ]
      }
     ],
     "prompt_number": 35
    },
    {
     "cell_type": "code",
     "collapsed": false,
     "input": [
      "# You can take the intersection of two sets\n",
      "s & t"
     ],
     "language": "python",
     "metadata": {},
     "outputs": [
      {
       "metadata": {},
       "output_type": "pyout",
       "prompt_number": 36,
       "text": [
        "{2}"
       ]
      }
     ],
     "prompt_number": 36
    },
    {
     "cell_type": "code",
     "collapsed": false,
     "input": [
      "t-s, s-t # you can find all of the elements that are in one set but not the other "
     ],
     "language": "python",
     "metadata": {},
     "outputs": [
      {
       "metadata": {},
       "output_type": "pyout",
       "prompt_number": 37,
       "text": [
        "({'a', 'b'}, {1, 4, 99})"
       ]
      }
     ],
     "prompt_number": 37
    },
    {
     "cell_type": "markdown",
     "metadata": {},
     "source": [
      "Operation\t| Equivalent | Result\n",
      "-------------------|---------------|---------------------\n",
      "len(s)\t \t|   | cardinality of set s \n",
      "x in s\t \t|   | test x for membership in s\n",
      "x not in s\t|   | \ttest x for non-membership in s\n",
      "s.issubset(t) |\ts <= t\t| test whether every element in s is in t\n",
      "s.issuperset(t) | s >= t | test whether every element in t is in s\n",
      "s.union(t) | s &#124; t\t| new set with elements from both s and t\n",
      "s.intersection(t)\t| s & t\t| new set with elements common to s and t\n",
      "s.difference(t)\t| s - t\t| new set with elements in s but not in t\n",
      "s.symmetric_difference(t)\t| s ^ t |\tnew set with elements in either s or t but not both\n",
      "s.copy()\t \t| | new set with a shallow copy of s"
     ]
    },
    {
     "cell_type": "markdown",
     "metadata": {},
     "source": [
      "### Mutable and immutable objects, shallow and deep copies\n",
      "\n",
      "* **Lists are Mutable** the object references *can* be changed.\n",
      "* **Tuples are immutable** the object references *cannot* be changed.\n"
     ]
    },
    {
     "cell_type": "code",
     "collapsed": false,
     "input": [
      "from copy import deepcopy\n",
      "#lists are mutable:\n",
      "fields_copy=deepcopy(fields)\n",
      "fields_copy[3]='something else'\n",
      "print fields_copy\n",
      "print fields"
     ],
     "language": "python",
     "metadata": {},
     "outputs": [
      {
       "output_type": "stream",
       "stream": "stdout",
       "text": [
        "[('caseid', 1, 12, <type 'int'>), ('nbrnaliv', 22, 22, <type 'int'>), ('babysex', 56, 56, <type 'int'>), 'something else', ('prglength', 275, 276, <type 'int'>), ('outcome', 277, 277, <type 'int'>), ('birthord', 278, 279, <type 'int'>), ('agepreg', 284, 287, <type 'int'>), ('finalwgt', 423, 440, <type 'float'>)]\n",
        "[('caseid', 1, 12, <type 'int'>), ('nbrnaliv', 22, 22, <type 'int'>), ('babysex', 56, 56, <type 'int'>), ('birthwgt_oz', 59, 60, <type 'int'>), ('prglength', 275, 276, <type 'int'>), ('outcome', 277, 277, <type 'int'>), ('birthord', 278, 279, <type 'int'>), ('agepreg', 284, 287, <type 'int'>), ('finalwgt', 423, 440, <type 'float'>)]\n"
       ]
      }
     ],
     "prompt_number": 41
    },
    {
     "cell_type": "markdown",
     "metadata": {},
     "source": [
      "#### Assignment, copy and deepcopy\n",
      "\n",
      "We want to keep the list `fields` unchanged, because we will use it later to parse the file.\n",
      "\n",
      "We want to create a *deep copy* of the list. The three main ways to create a new list are:\n",
      "\n",
      "1. **Assignment:** `list2=list1` this does not create a new data structure, instead, it creates a pointer to an existing data structure.\n",
      "2. **Shallow Copy:** `list2=copy.copy(list1)` list2 is a new container, but the elements in the container are not copied.\n",
      "3. **Deep Copy:** `list2=copy.deepcopy(list1)` list2 is a new container and each element is a new object, continuing recursively.\n",
      "\n",
      "\n",
      "[More on deep and shallow copies](https://docs.python.org/2/library/copy.html)"
     ]
    },
    {
     "cell_type": "code",
     "collapsed": false,
     "input": [
      "#tuples are not mutable (immutable)\n",
      "fields_copy[2][0]=15"
     ],
     "language": "python",
     "metadata": {},
     "outputs": [
      {
       "ename": "TypeError",
       "evalue": "'tuple' object does not support item assignment",
       "output_type": "pyerr",
       "traceback": [
        "\u001b[0;31m---------------------------------------------------------------------------\u001b[0m\n\u001b[0;31mTypeError\u001b[0m                                 Traceback (most recent call last)",
        "\u001b[0;32m<ipython-input-42-2e2afd92deb7>\u001b[0m in \u001b[0;36m<module>\u001b[0;34m()\u001b[0m\n\u001b[1;32m      1\u001b[0m \u001b[0;31m#tuples are not mutable (immutable)\u001b[0m\u001b[0;34m\u001b[0m\u001b[0;34m\u001b[0m\u001b[0m\n\u001b[0;32m----> 2\u001b[0;31m \u001b[0mfields_copy\u001b[0m\u001b[0;34m[\u001b[0m\u001b[0;36m2\u001b[0m\u001b[0;34m]\u001b[0m\u001b[0;34m[\u001b[0m\u001b[0;36m0\u001b[0m\u001b[0;34m]\u001b[0m\u001b[0;34m=\u001b[0m\u001b[0;36m15\u001b[0m\u001b[0;34m\u001b[0m\u001b[0m\n\u001b[0m",
        "\u001b[0;31mTypeError\u001b[0m: 'tuple' object does not support item assignment"
       ]
      }
     ],
     "prompt_number": 42
    },
    {
     "cell_type": "code",
     "collapsed": false,
     "input": [
      "# slices\n",
      "L=range(10)\n",
      "print 'L=',L\n",
      "print 'L[3:7]=',L[3:7]"
     ],
     "language": "python",
     "metadata": {},
     "outputs": [
      {
       "output_type": "stream",
       "stream": "stdout",
       "text": [
        "L= [0, 1, 2, 3, 4, 5, 6, 7, 8, 9]\n",
        "L[3:7]= [3, 4, 5, 6]\n"
       ]
      }
     ],
     "prompt_number": 40
    },
    {
     "cell_type": "code",
     "collapsed": false,
     "input": [
      "#counting form the end of the list\n",
      "print L[-6:-1]\n",
      "print L[-6:]"
     ],
     "language": "python",
     "metadata": {},
     "outputs": [
      {
       "output_type": "stream",
       "stream": "stdout",
       "text": [
        "[4, 5, 6, 7, 8]\n",
        "[4, 5, 6, 7, 8, 9]\n"
       ]
      }
     ],
     "prompt_number": 46
    },
    {
     "cell_type": "markdown",
     "metadata": {},
     "source": [
      "#### Exercise\n",
      "Write a statement that, given a list L and an integer k would print the last k elements of the List"
     ]
    },
    {
     "cell_type": "code",
     "collapsed": false,
     "input": [
      "L=['a','b',1,2]\n",
      "k=2\n",
      "# for this input, the output should be [1,2]\n",
      "index = int('-'+str(k))\n",
      "print L[index:]"
     ],
     "language": "python",
     "metadata": {},
     "outputs": [
      {
       "output_type": "stream",
       "stream": "stdout",
       "text": [
        "[1, 2]\n"
       ]
      }
     ],
     "prompt_number": 48
    },
    {
     "cell_type": "markdown",
     "metadata": {},
     "source": [
      "### List Operations"
     ]
    },
    {
     "cell_type": "code",
     "collapsed": false,
     "input": [
      "A=[3,1,2]\n",
      "B=['a','c','c','b']\n",
      "C=(1,'a','c')\n",
      "# Concatanating\n",
      "C=C+C\n",
      "print A+B,C"
     ],
     "language": "python",
     "metadata": {},
     "outputs": [
      {
       "output_type": "stream",
       "stream": "stdout",
       "text": [
        "[3, 1, 2, 'a', 'c', 'c', 'b'] (1, 'a', 'c', 1, 'a', 'c')\n"
       ]
      }
     ],
     "prompt_number": 1
    },
    {
     "cell_type": "code",
     "collapsed": false,
     "input": [
      "# appends in place, does not return anything - can only be used on *mutable* objects\n",
      "print B.append(55)\n",
      "print B"
     ],
     "language": "python",
     "metadata": {},
     "outputs": [
      {
       "output_type": "stream",
       "stream": "stdout",
       "text": [
        "None\n",
        "['a', 'c', 'c', 'b', 55]\n"
       ]
      }
     ],
     "prompt_number": 2
    },
    {
     "cell_type": "markdown",
     "metadata": {},
     "source": [
      "#### Sorting\n",
      "\n",
      "Two operations for sorting the elements in a list/tuple\n",
      "1. `sorted(A)` returns the \n",
      "1. `A.sort()` sorts the elements of the list A **in place**, does not return anything. Can operate only on lists (mutable), not tuples (immutable)."
     ]
    },
    {
     "cell_type": "code",
     "collapsed": false,
     "input": [
      "# *sort* Returns a new list that is a sorted version\n",
      "print sorted(A), sorted(B),sorted(C),tuple(sorted(C))\n",
      "print A.sort(),B.sort()\n",
      "print A,B\n",
      "print C.sort()"
     ],
     "language": "python",
     "metadata": {},
     "outputs": [
      {
       "ename": "NameError",
       "evalue": "name 'sort' is not defined",
       "output_type": "pyerr",
       "traceback": [
        "\u001b[0;31m---------------------------------------------------------------------------\u001b[0m\n\u001b[0;31mNameError\u001b[0m                                 Traceback (most recent call last)",
        "\u001b[0;32m<ipython-input-4-419df515aa37>\u001b[0m in \u001b[0;36m<module>\u001b[0;34m()\u001b[0m\n\u001b[1;32m      3\u001b[0m \u001b[0;32mprint\u001b[0m \u001b[0mA\u001b[0m\u001b[0;34m.\u001b[0m\u001b[0msort\u001b[0m\u001b[0;34m(\u001b[0m\u001b[0;34m)\u001b[0m\u001b[0;34m,\u001b[0m\u001b[0mB\u001b[0m\u001b[0;34m.\u001b[0m\u001b[0msort\u001b[0m\u001b[0;34m(\u001b[0m\u001b[0;34m)\u001b[0m\u001b[0;34m\u001b[0m\u001b[0m\n\u001b[1;32m      4\u001b[0m \u001b[0;32mprint\u001b[0m \u001b[0mA\u001b[0m\u001b[0;34m,\u001b[0m\u001b[0mB\u001b[0m\u001b[0;34m\u001b[0m\u001b[0m\n\u001b[0;32m----> 5\u001b[0;31m \u001b[0;32mprint\u001b[0m \u001b[0msort\u001b[0m\u001b[0;34m(\u001b[0m\u001b[0mC\u001b[0m\u001b[0;34m)\u001b[0m\u001b[0;34m\u001b[0m\u001b[0m\n\u001b[0m",
        "\u001b[0;31mNameError\u001b[0m: name 'sort' is not defined"
       ]
      },
      {
       "output_type": "stream",
       "stream": "stdout",
       "text": [
        "[1, 2, 3] [55, 'a', 'b', 'c', 'c'] [1, 1, 'a', 'a', 'c', 'c'] (1, 1, 'a', 'a', 'c', 'c')\n",
        "None None\n",
        "[1, 2, 3] [55, 'a', 'b', 'c', 'c']\n"
       ]
      }
     ],
     "prompt_number": 4
    },
    {
     "cell_type": "markdown",
     "metadata": {},
     "source": [
      "### More about Sorting\n",
      "Sort/sorted have other useful parameters.\n",
      "\n",
      "Googling for `python sorted` or `python sort` you find (among many others) the following page\n",
      "https://docs.python.org/2/library/functions.html#sorted\n",
      "\n",
      "#### sorted(iterable[, cmp[, key[, reverse]]])\n",
      "\n",
      "Return a new sorted list from the items in iterable.\n",
      "\n",
      "The optional arguments cmp, key, and reverse have the same meaning as\n",
      "those for the list.sort() method (described in section Mutable\n",
      "Sequence Types).\n",
      "\n",
      "cmp specifies a *custom comparison function* of two arguments (iterable\n",
      "elements) which should return a negative, zero or positive number\n",
      "depending on whether the first argument is considered smaller than,\n",
      "equal to, or larger than the second argument. The default value is None.\n",
      "\n",
      "key specifies a function of one argument that is used to extract a\n",
      "comparison key from each list element: key=str.lower. The default\n",
      "value is None (compare the elements directly).\n",
      "\n",
      "reverse is a boolean value. If set to True, then the list elements are\n",
      "sorted as if each comparison were reversed.\n",
      "\n",
      "In general, the key and reverse conversion processes are much faster\n",
      "than specifying an equivalent cmp function. This is because cmp is\n",
      "called multiple times for each list element while key and reverse\n",
      "touch each element only once. Use functools.cmp_to_key() to convert an\n",
      "old-style cmp function to a key function.\n",
      "\n",
      "For sorting examples and a brief sorting tutorial, see [Sorting HowTo](https://wiki.python.org/moin/HowTo/Sorting/)"
     ]
    },
    {
     "cell_type": "markdown",
     "metadata": {},
     "source": [
      "### for loops\n",
      "For loops are a common way to iterate over the elements of a list\n",
      "\n",
      "One unique feature of python is that code blocks are not surrounded by `{}` oe `begin`,`end`. Instead, python uses indentation,\n",
      "The lines inside a block have to be indented by a tab, or by 4 spaces, relative to the surrounding commands.\n",
      "\n",
      "While this might seem unintuitive at first, it encourages writing more readable code, over time, you'd learn to love it!"
     ]
    },
    {
     "cell_type": "code",
     "collapsed": false,
     "input": [
      "L=['a','b','c']\n",
      "# note the : and the <tab> they are both necessary\n",
      "# note that the loop does not have an \"end\" command\n",
      "for l in L:\n",
      "    print l+'='+l"
     ],
     "language": "python",
     "metadata": {},
     "outputs": [
      {
       "output_type": "stream",
       "stream": "stdout",
       "text": [
        "a=a\n",
        "b=b\n",
        "c=c\n"
       ]
      }
     ],
     "prompt_number": 5
    },
    {
     "cell_type": "markdown",
     "metadata": {},
     "source": [
      "### The range command creates a list of integers:\n",
      "> **range(end)** - generates the list [0,1,...,end-1]\n",
      "\n",
      "> **range(start,end)** generates the list [start,...,end-1]\n",
      "\n",
      "> **range(start,end,step)** generates the list [start,start+step,start+2*step,...] ending at the largest element that is smaller than end"
     ]
    },
    {
     "cell_type": "code",
     "collapsed": false,
     "input": [
      "# another way to achieve the same result is\n",
      "for i in range(len(L)):\n",
      "    l=L[i]\n",
      "    print i,l+'='+l    "
     ],
     "language": "python",
     "metadata": {},
     "outputs": [
      {
       "output_type": "stream",
       "stream": "stdout",
       "text": [
        "0 a=a\n",
        "1 b=b\n",
        "2 c=c\n"
       ]
      }
     ],
     "prompt_number": 6
    },
    {
     "cell_type": "code",
     "collapsed": false,
     "input": [
      "# print only the odd numbered elements\n",
      "for i in range(1,len(L),2):\n",
      "    l=L[i]\n",
      "    print i,l+'='+l    "
     ],
     "language": "python",
     "metadata": {},
     "outputs": [
      {
       "output_type": "stream",
       "stream": "stdout",
       "text": [
        "1 b=b\n"
       ]
      }
     ],
     "prompt_number": 7
    },
    {
     "cell_type": "code",
     "collapsed": false,
     "input": [
      "#looping over the \"fields\" list\n",
      "for field in fields:\n",
      "    print field"
     ],
     "language": "python",
     "metadata": {},
     "outputs": [
      {
       "ename": "NameError",
       "evalue": "name 'fields' is not defined",
       "output_type": "pyerr",
       "traceback": [
        "\u001b[0;31m---------------------------------------------------------------------------\u001b[0m\n\u001b[0;31mNameError\u001b[0m                                 Traceback (most recent call last)",
        "\u001b[0;32m<ipython-input-8-d9db330a0a9d>\u001b[0m in \u001b[0;36m<module>\u001b[0;34m()\u001b[0m\n\u001b[1;32m      1\u001b[0m \u001b[0;31m#looping over the \"fields\" list\u001b[0m\u001b[0;34m\u001b[0m\u001b[0;34m\u001b[0m\u001b[0m\n\u001b[0;32m----> 2\u001b[0;31m \u001b[0;32mfor\u001b[0m \u001b[0mfield\u001b[0m \u001b[0;32min\u001b[0m \u001b[0mfields\u001b[0m\u001b[0;34m:\u001b[0m\u001b[0;34m\u001b[0m\u001b[0m\n\u001b[0m\u001b[1;32m      3\u001b[0m     \u001b[0;32mprint\u001b[0m \u001b[0mfield\u001b[0m\u001b[0;34m\u001b[0m\u001b[0m\n",
        "\u001b[0;31mNameError\u001b[0m: name 'fields' is not defined"
       ]
      }
     ],
     "prompt_number": 8
    },
    {
     "cell_type": "markdown",
     "metadata": {},
     "source": [
      "### If-Then-Else\n",
      "\n",
      "A conditional statement can take any of the following forms."
     ]
    },
    {
     "cell_type": "code",
     "collapsed": false,
     "input": [
      "A=231\n",
      "if A<30:\n",
      "    print 'A is smaller than 30'\n",
      "else:\n",
      "    print 'A is equal to or larger than 30'"
     ],
     "language": "python",
     "metadata": {},
     "outputs": [
      {
       "output_type": "stream",
       "stream": "stdout",
       "text": [
        "A is equal to or larger than 30\n"
       ]
      }
     ],
     "prompt_number": 9
    },
    {
     "cell_type": "code",
     "collapsed": false,
     "input": [
      "if A>30:\n",
      "    print 'A is larger than 30'\n",
      "elif A==22:\n",
      "    print 'A = 22'\n",
      "else:\n",
      "    print 'Catchall condition'\n",
      "    "
     ],
     "language": "python",
     "metadata": {},
     "outputs": [
      {
       "output_type": "stream",
       "stream": "stdout",
       "text": [
        "A is larger than 30\n"
       ]
      }
     ],
     "prompt_number": 10
    },
    {
     "cell_type": "markdown",
     "metadata": {},
     "source": [
      "### Combining loops and conditionals ###\n",
      "Combining for loops and conditionals is one of the main work-horses of any procedural language."
     ]
    },
    {
     "cell_type": "code",
     "collapsed": false,
     "input": [
      "L=[1,'2',3,'a',22,'green',[],(1,2,3)]\n",
      "for l in L:\n",
      "    if type(l)==str:\n",
      "        print l,'is a string'\n",
      "    else:\n",
      "        print l,'is not a string'"
     ],
     "language": "python",
     "metadata": {},
     "outputs": [
      {
       "output_type": "stream",
       "stream": "stdout",
       "text": [
        "1 is not a string\n",
        "2 is a string\n",
        "3 is not a string\n",
        "a is a string\n",
        "22 is not a string\n",
        "green is a string\n",
        "[] is not a string\n",
        "(1, 2, 3) is not a string\n"
       ]
      }
     ],
     "prompt_number": 11
    },
    {
     "cell_type": "code",
     "collapsed": false,
     "input": [
      "# use \"continue\" when you want to skip a single iteration\n",
      "# here is code that would print only the strings, ignoring items of other types,\n",
      "# it also prints the location of the element in the list.\n",
      "i=-1   # Starting at -1 because the python convension is that the index of the first element is 0\n",
      "for l in L:\n",
      "    i+=1   # a counter indicating the location of l in L\n",
      "    if type(l)!=str:\n",
      "        continue\n",
      "    print i,l"
     ],
     "language": "python",
     "metadata": {},
     "outputs": [
      {
       "output_type": "stream",
       "stream": "stdout",
       "text": [
        "1 2\n",
        "3 a\n",
        "5 green\n"
       ]
      }
     ],
     "prompt_number": 12
    },
    {
     "cell_type": "code",
     "collapsed": false,
     "input": [
      "# use \"break\" when you want to quit the loop early\n",
      "# here is code to find and print the first string in the list\n",
      "for l in L:\n",
      "    if type(l)==str:\n",
      "        print l\n",
      "        break"
     ],
     "language": "python",
     "metadata": {},
     "outputs": [
      {
       "output_type": "stream",
       "stream": "stdout",
       "text": [
        "2\n"
       ]
      }
     ],
     "prompt_number": 13
    },
    {
     "cell_type": "markdown",
     "metadata": {},
     "source": [
      "### Dictionaries\n",
      "Dictionaries, also called \"hash tables\" are data structures that map keys into values.\n",
      "The value can be anything. The key has to be **immutable**, for example, numbers, strings or tuples.\n",
      "A key can appear only once, which means that the keys form a **set** (see above)"
     ]
    },
    {
     "cell_type": "code",
     "collapsed": false,
     "input": [
      "# columns is initialized as a dictionary\n",
      "columns={}\n",
      "# an empty list is created for each field\n",
      "for (field, start, end, cast) in fields:\n",
      "    columns[field]=[]"
     ],
     "language": "python",
     "metadata": {},
     "outputs": [
      {
       "ename": "NameError",
       "evalue": "name 'fields' is not defined",
       "output_type": "pyerr",
       "traceback": [
        "\u001b[0;31m---------------------------------------------------------------------------\u001b[0m\n\u001b[0;31mNameError\u001b[0m                                 Traceback (most recent call last)",
        "\u001b[0;32m<ipython-input-14-6e333a6c3021>\u001b[0m in \u001b[0;36m<module>\u001b[0;34m()\u001b[0m\n\u001b[1;32m      2\u001b[0m \u001b[0mcolumns\u001b[0m\u001b[0;34m=\u001b[0m\u001b[0;34m{\u001b[0m\u001b[0;34m}\u001b[0m\u001b[0;34m\u001b[0m\u001b[0m\n\u001b[1;32m      3\u001b[0m \u001b[0;31m# an empty list is created for each field\u001b[0m\u001b[0;34m\u001b[0m\u001b[0;34m\u001b[0m\u001b[0m\n\u001b[0;32m----> 4\u001b[0;31m \u001b[0;32mfor\u001b[0m \u001b[0;34m(\u001b[0m\u001b[0mfield\u001b[0m\u001b[0;34m,\u001b[0m \u001b[0mstart\u001b[0m\u001b[0;34m,\u001b[0m \u001b[0mend\u001b[0m\u001b[0;34m,\u001b[0m \u001b[0mcast\u001b[0m\u001b[0;34m)\u001b[0m \u001b[0;32min\u001b[0m \u001b[0mfields\u001b[0m\u001b[0;34m:\u001b[0m\u001b[0;34m\u001b[0m\u001b[0m\n\u001b[0m\u001b[1;32m      5\u001b[0m     \u001b[0mcolumns\u001b[0m\u001b[0;34m[\u001b[0m\u001b[0mfield\u001b[0m\u001b[0;34m]\u001b[0m\u001b[0;34m=\u001b[0m\u001b[0;34m[\u001b[0m\u001b[0;34m]\u001b[0m\u001b[0;34m\u001b[0m\u001b[0m\n",
        "\u001b[0;31mNameError\u001b[0m: name 'fields' is not defined"
       ]
      }
     ],
     "prompt_number": 14
    },
    {
     "cell_type": "code",
     "collapsed": false,
     "input": [
      "columns"
     ],
     "language": "python",
     "metadata": {},
     "outputs": [
      {
       "metadata": {},
       "output_type": "pyout",
       "prompt_number": 15,
       "text": [
        "{}"
       ]
      }
     ],
     "prompt_number": 15
    },
    {
     "cell_type": "code",
     "collapsed": false,
     "input": [
      "# An explicit definition of a dictionary:\n",
      "Dict={'dan':12,'john':10,'sarah':9}\n",
      "Dict"
     ],
     "language": "python",
     "metadata": {},
     "outputs": [
      {
       "metadata": {},
       "output_type": "pyout",
       "prompt_number": 16,
       "text": [
        "{'dan': 12, 'john': 10, 'sarah': 9}"
       ]
      }
     ],
     "prompt_number": 16
    },
    {
     "cell_type": "code",
     "collapsed": false,
     "input": [
      "#list the keys in the dictionary\n",
      "for key in columns.keys():\n",
      "    # note the comma at the end of the print command\n",
      "    print key,"
     ],
     "language": "python",
     "metadata": {},
     "outputs": [],
     "prompt_number": 17
    },
    {
     "cell_type": "markdown",
     "metadata": {},
     "source": [
      "### We now go back to parsing the maternity data file\n",
      "First, we have a look at the first two lines of the data file"
     ]
    },
    {
     "cell_type": "code",
     "collapsed": false,
     "input": [
      "# This is an example of issuing a system command from within iPython, more on that later.\n",
      "!head -2 ../data/ThinkStatsData/2002FemPreg.dat"
     ],
     "language": "python",
     "metadata": {},
     "outputs": [
      {
       "output_type": "stream",
       "stream": "stdout",
       "text": [
        "           1 1     6 1     11093 1084     9 039 9   0  1 813             1093 13837                        1                5                                                                        116610931166 9201093                111             3    1   12  11         5391 110933316108432411211     2995 1212 69544441116122222 2 2224693215    000000000000000000000000000000000000003410.38939935294273869.3496019830486 6448.2711117047512 91231\r\n",
        "           1 2     6 1     11166 1157     9 039 9   0  2 714             1166  6542112  2  05 1 4  5       51               1   41  4  201 20                                                        1166109311661093116611661231        111             3    1   14  11         5391 211663925115738501211 2 432 8701414 69544441116122222 2 2224693215    000000000000000000000000000000000000003410.38939935294273869.3496019830486 6448.2711117047512 91231\r\n"
       ]
      }
     ],
     "prompt_number": 18
    },
    {
     "cell_type": "markdown",
     "metadata": {},
     "source": [
      "##### Next, we should open the file to read from, we will talk about files in detail later on."
     ]
    },
    {
     "cell_type": "code",
     "collapsed": false,
     "input": [
      "# The data is read from the file and inserted into the table.\n",
      "file=open('../data/ThinkStatsData/2002FemPreg.dat','r')"
     ],
     "language": "python",
     "metadata": {},
     "outputs": [],
     "prompt_number": 19
    },
    {
     "cell_type": "markdown",
     "metadata": {},
     "source": [
      "#### Read the first line into a the variable \"line\""
     ]
    },
    {
     "cell_type": "code",
     "collapsed": false,
     "input": [
      "line = file.readline()\n",
      "line"
     ],
     "language": "python",
     "metadata": {},
     "outputs": [
      {
       "metadata": {},
       "output_type": "pyout",
       "prompt_number": 20,
       "text": [
        "'           1 1     6 1     11093 1084     9 039 9   0  1 813             1093 13837                        1                5                                                                        116610931166 9201093                111             3    1   12  11         5391 110933316108432411211     2995 1212 69544441116122222 2 2224693215    000000000000000000000000000000000000003410.38939935294273869.3496019830486 6448.2711117047512 91231\\n'"
       ]
      }
     ],
     "prompt_number": 20
    },
    {
     "cell_type": "code",
     "collapsed": false,
     "input": [
      "for (field, start, end, cast) in fields:\n",
      "    s = line[start-1:end]\n",
      "    val = cast(s)\n",
      "    columns[field].append(val)"
     ],
     "language": "python",
     "metadata": {},
     "outputs": [
      {
       "ename": "NameError",
       "evalue": "name 'fields' is not defined",
       "output_type": "pyerr",
       "traceback": [
        "\u001b[0;31m---------------------------------------------------------------------------\u001b[0m\n\u001b[0;31mNameError\u001b[0m                                 Traceback (most recent call last)",
        "\u001b[0;32m<ipython-input-21-118509e117cc>\u001b[0m in \u001b[0;36m<module>\u001b[0;34m()\u001b[0m\n\u001b[0;32m----> 1\u001b[0;31m \u001b[0;32mfor\u001b[0m \u001b[0;34m(\u001b[0m\u001b[0mfield\u001b[0m\u001b[0;34m,\u001b[0m \u001b[0mstart\u001b[0m\u001b[0;34m,\u001b[0m \u001b[0mend\u001b[0m\u001b[0;34m,\u001b[0m \u001b[0mcast\u001b[0m\u001b[0;34m)\u001b[0m \u001b[0;32min\u001b[0m \u001b[0mfields\u001b[0m\u001b[0;34m:\u001b[0m\u001b[0;34m\u001b[0m\u001b[0m\n\u001b[0m\u001b[1;32m      2\u001b[0m     \u001b[0ms\u001b[0m \u001b[0;34m=\u001b[0m \u001b[0mline\u001b[0m\u001b[0;34m[\u001b[0m\u001b[0mstart\u001b[0m\u001b[0;34m-\u001b[0m\u001b[0;36m1\u001b[0m\u001b[0;34m:\u001b[0m\u001b[0mend\u001b[0m\u001b[0;34m]\u001b[0m\u001b[0;34m\u001b[0m\u001b[0m\n\u001b[1;32m      3\u001b[0m     \u001b[0mval\u001b[0m \u001b[0;34m=\u001b[0m \u001b[0mcast\u001b[0m\u001b[0;34m(\u001b[0m\u001b[0ms\u001b[0m\u001b[0;34m)\u001b[0m\u001b[0;34m\u001b[0m\u001b[0m\n\u001b[1;32m      4\u001b[0m     \u001b[0mcolumns\u001b[0m\u001b[0;34m[\u001b[0m\u001b[0mfield\u001b[0m\u001b[0;34m]\u001b[0m\u001b[0;34m.\u001b[0m\u001b[0mappend\u001b[0m\u001b[0;34m(\u001b[0m\u001b[0mval\u001b[0m\u001b[0;34m)\u001b[0m\u001b[0;34m\u001b[0m\u001b[0m\n",
        "\u001b[0;31mNameError\u001b[0m: name 'fields' is not defined"
       ]
      }
     ],
     "prompt_number": 21
    },
    {
     "cell_type": "code",
     "collapsed": false,
     "input": [
      "columns"
     ],
     "language": "python",
     "metadata": {},
     "outputs": [
      {
       "metadata": {},
       "output_type": "pyout",
       "prompt_number": 22,
       "text": [
        "{}"
       ]
      }
     ],
     "prompt_number": 22
    },
    {
     "cell_type": "markdown",
     "metadata": {},
     "source": [
      "### Exceptions\n",
      "When we read a data file there is always a chance that some of the lines in the file are corrupted. The chance approaches certainty as the length of the file increases to gigabytes.\n",
      "\n",
      "To demonstrate what corruption might cause, lets corrupt the first line."
     ]
    },
    {
     "cell_type": "code",
     "collapsed": false,
     "input": [
      "#Strings are immutable, so we have to construct the corrupted one\n",
      "print line\n",
      "line=line[:21]+'*'+line[22:]\n",
      "print line"
     ],
     "language": "python",
     "metadata": {},
     "outputs": [
      {
       "output_type": "stream",
       "stream": "stdout",
       "text": [
        "           1 1     6 1     11093 1084     9 039 9   0  1 813             1093 13837                        1                5                                                                        116610931166 9201093                111             3    1   12  11         5391 110933316108432411211     2995 1212 69544441116122222 2 2224693215    000000000000000000000000000000000000003410.38939935294273869.3496019830486 6448.2711117047512 91231\n",
        "\n",
        "           1 1     6 *     11093 1084     9 039 9   0  1 813             1093 13837                        1                5                                                                        116610931166 9201093                111             3    1   12  11         5391 110933316108432411211     2995 1212 69544441116122222 2 2224693215    000000000000000000000000000000000000003410.38939935294273869.3496019830486 6448.2711117047512 91231\n",
        "\n"
       ]
      }
     ],
     "prompt_number": 23
    },
    {
     "cell_type": "code",
     "collapsed": false,
     "input": [
      "# columns is initialized as a dictionary\n",
      "columns={}\n",
      "# an empty list is created for each field\n",
      "for (field, start, end, cast) in fields:\n",
      "    columns[field]=[]\n",
      "    \n",
      "for (field, start, end, cast) in fields:\n",
      "    s = line[start-1:end]\n",
      "    val = cast(s)\n",
      "    columns[field].append(val)\n",
      "columns"
     ],
     "language": "python",
     "metadata": {},
     "outputs": [
      {
       "ename": "NameError",
       "evalue": "name 'fields' is not defined",
       "output_type": "pyerr",
       "traceback": [
        "\u001b[0;31m---------------------------------------------------------------------------\u001b[0m\n\u001b[0;31mNameError\u001b[0m                                 Traceback (most recent call last)",
        "\u001b[0;32m<ipython-input-24-842fa3b2f54b>\u001b[0m in \u001b[0;36m<module>\u001b[0;34m()\u001b[0m\n\u001b[1;32m      2\u001b[0m \u001b[0mcolumns\u001b[0m\u001b[0;34m=\u001b[0m\u001b[0;34m{\u001b[0m\u001b[0;34m}\u001b[0m\u001b[0;34m\u001b[0m\u001b[0m\n\u001b[1;32m      3\u001b[0m \u001b[0;31m# an empty list is created for each field\u001b[0m\u001b[0;34m\u001b[0m\u001b[0;34m\u001b[0m\u001b[0m\n\u001b[0;32m----> 4\u001b[0;31m \u001b[0;32mfor\u001b[0m \u001b[0;34m(\u001b[0m\u001b[0mfield\u001b[0m\u001b[0;34m,\u001b[0m \u001b[0mstart\u001b[0m\u001b[0;34m,\u001b[0m \u001b[0mend\u001b[0m\u001b[0;34m,\u001b[0m \u001b[0mcast\u001b[0m\u001b[0;34m)\u001b[0m \u001b[0;32min\u001b[0m \u001b[0mfields\u001b[0m\u001b[0;34m:\u001b[0m\u001b[0;34m\u001b[0m\u001b[0m\n\u001b[0m\u001b[1;32m      5\u001b[0m     \u001b[0mcolumns\u001b[0m\u001b[0;34m[\u001b[0m\u001b[0mfield\u001b[0m\u001b[0;34m]\u001b[0m\u001b[0;34m=\u001b[0m\u001b[0;34m[\u001b[0m\u001b[0;34m]\u001b[0m\u001b[0;34m\u001b[0m\u001b[0m\n\u001b[1;32m      6\u001b[0m \u001b[0;34m\u001b[0m\u001b[0m\n",
        "\u001b[0;31mNameError\u001b[0m: name 'fields' is not defined"
       ]
      }
     ],
     "prompt_number": 24
    },
    {
     "cell_type": "code",
     "collapsed": false,
     "input": [
      "columns"
     ],
     "language": "python",
     "metadata": {},
     "outputs": [
      {
       "metadata": {},
       "output_type": "pyout",
       "prompt_number": 25,
       "text": [
        "{}"
       ]
      }
     ],
     "prompt_number": 25
    },
    {
     "cell_type": "markdown",
     "metadata": {},
     "source": [
      "The program throws and exception and crashes. Only the element \"caseid\" is read. Nothing else\n",
      "\n",
      "**unless** we handle the exception inside the program.\n",
      "\n",
      "In order to handle the exception, we surround the offending lines with a **try/except** pair as follows:"
     ]
    },
    {
     "cell_type": "code",
     "collapsed": false,
     "input": [
      "# columns is initialized as a dictionary\n",
      "columns={}\n",
      "# an empty list is created for each field\n",
      "for (field, start, end, cast) in fields:\n",
      "    columns[field]=[]\n",
      "    \n",
      "for (field, start, end, cast) in fields:\n",
      "    try:\n",
      "        s = line[start-1:end]\n",
      "        val = cast(s)\n",
      "    except ValueError:\n",
      "        print 'bad field:',field,'value is \"%s\"'%s\n",
      "        val = None\n",
      "    columns[field].append(val)\n",
      "columns"
     ],
     "language": "python",
     "metadata": {},
     "outputs": [
      {
       "ename": "NameError",
       "evalue": "name 'fields' is not defined",
       "output_type": "pyerr",
       "traceback": [
        "\u001b[0;31m---------------------------------------------------------------------------\u001b[0m\n\u001b[0;31mNameError\u001b[0m                                 Traceback (most recent call last)",
        "\u001b[0;32m<ipython-input-26-bd87673e3139>\u001b[0m in \u001b[0;36m<module>\u001b[0;34m()\u001b[0m\n\u001b[1;32m      2\u001b[0m \u001b[0mcolumns\u001b[0m\u001b[0;34m=\u001b[0m\u001b[0;34m{\u001b[0m\u001b[0;34m}\u001b[0m\u001b[0;34m\u001b[0m\u001b[0m\n\u001b[1;32m      3\u001b[0m \u001b[0;31m# an empty list is created for each field\u001b[0m\u001b[0;34m\u001b[0m\u001b[0;34m\u001b[0m\u001b[0m\n\u001b[0;32m----> 4\u001b[0;31m \u001b[0;32mfor\u001b[0m \u001b[0;34m(\u001b[0m\u001b[0mfield\u001b[0m\u001b[0;34m,\u001b[0m \u001b[0mstart\u001b[0m\u001b[0;34m,\u001b[0m \u001b[0mend\u001b[0m\u001b[0;34m,\u001b[0m \u001b[0mcast\u001b[0m\u001b[0;34m)\u001b[0m \u001b[0;32min\u001b[0m \u001b[0mfields\u001b[0m\u001b[0;34m:\u001b[0m\u001b[0;34m\u001b[0m\u001b[0m\n\u001b[0m\u001b[1;32m      5\u001b[0m     \u001b[0mcolumns\u001b[0m\u001b[0;34m[\u001b[0m\u001b[0mfield\u001b[0m\u001b[0;34m]\u001b[0m\u001b[0;34m=\u001b[0m\u001b[0;34m[\u001b[0m\u001b[0;34m]\u001b[0m\u001b[0;34m\u001b[0m\u001b[0m\n\u001b[1;32m      6\u001b[0m \u001b[0;34m\u001b[0m\u001b[0m\n",
        "\u001b[0;31mNameError\u001b[0m: name 'fields' is not defined"
       ]
      }
     ],
     "prompt_number": 26
    },
    {
     "cell_type": "markdown",
     "metadata": {},
     "source": [
      "Because we use `try/except` we ignore the ill-formed dields but read all of the good ones."
     ]
    },
    {
     "cell_type": "markdown",
     "metadata": {},
     "source": [
      "### Comma-Separated values, split and join\n",
      "These days, one of the most common open format for exporting and importing data is *comma-separated-values* or *.csv*.\n",
      "\n",
      "#### Advantages and disadvantages of the csv format relative to the fixed locations format\n",
      "\n",
      "**Advantages**\n",
      "1. Easier to read, lines are typically shorter.\n",
      "2. Missing values ar represented by consecutive commas.\n",
      "3. No need to decide ahead of time on the number of digits/letters in each field.\n",
      "4. No need to encode the field locations, just types.\n",
      "\n",
      "**Disadvantages**\n",
      "1. Fixed length lines can be processed more efficiently.\n",
      "\n",
      "#### Handling CSV files.\n",
      "There are two commands in python to handle csv files: `split` and `join`\n",
      "\n",
      "* `','.join(list)` is a function that takes as input a list of strings and outputs a new string that is the concatanation of the strings in `list`, separated by commas. The comman `','` can be relaced by any other string\n",
      "* `s.split(',')` is the reverse of `join`, it is a function that takes as input a string and outputs"
     ]
    },
    {
     "cell_type": "code",
     "collapsed": false,
     "input": [
      "list=['a','b','c','d']\n",
      "s='-'.join(list)\n",
      "s"
     ],
     "language": "python",
     "metadata": {},
     "outputs": [
      {
       "metadata": {},
       "output_type": "pyout",
       "prompt_number": 27,
       "text": [
        "'a-b-c-d'"
       ]
      }
     ],
     "prompt_number": 27
    },
    {
     "cell_type": "code",
     "collapsed": false,
     "input": [
      "s.split('-')"
     ],
     "language": "python",
     "metadata": {},
     "outputs": [
      {
       "metadata": {},
       "output_type": "pyout",
       "prompt_number": 28,
       "text": [
        "['a', 'b', 'c', 'd']"
       ]
      }
     ],
     "prompt_number": 28
    },
    {
     "cell_type": "code",
     "collapsed": false,
     "input": [
      "fields=[('index',int),\n",
      "        ('decription',str),\n",
      "        ('low',float),\n",
      "        ('high',float)\n",
      "        ]\n",
      "Text= \"\"\"1,sunny,60.2,75\n",
      "2,cloudy,40,63.2\n",
      "3,overcast,50.3,55\n",
      "\"\"\""
     ],
     "language": "python",
     "metadata": {},
     "outputs": [],
     "prompt_number": 29
    },
    {
     "cell_type": "code",
     "collapsed": false,
     "input": [
      "lines=Text.splitlines()\n",
      "lines"
     ],
     "language": "python",
     "metadata": {},
     "outputs": [
      {
       "metadata": {},
       "output_type": "pyout",
       "prompt_number": 30,
       "text": [
        "['1,sunny,60.2,75', '2,cloudy,40,63.2', '3,overcast,50.3,55']"
       ]
      }
     ],
     "prompt_number": 30
    },
    {
     "cell_type": "code",
     "collapsed": false,
     "input": [
      "columns={}\n",
      "for field in fields:\n",
      "    columns[field[0]]=[]\n",
      "    \n",
      "for line in lines:\n",
      "    elements=line.split(',')\n",
      "    print elements\n",
      "    for i in range(len(fields)):\n",
      "        (name,cast)=fields[i]\n",
      "        columns[name].append(cast(elements[i]))\n",
      "\n",
      "print columns\n",
      "        "
     ],
     "language": "python",
     "metadata": {},
     "outputs": [
      {
       "output_type": "stream",
       "stream": "stdout",
       "text": [
        "['1', 'sunny', '60.2', '75']\n",
        "['2', 'cloudy', '40', '63.2']\n",
        "['3', 'overcast', '50.3', '55']\n",
        "{'high': [75.0, 63.2, 55.0], 'index': [1, 2, 3], 'low': [60.2, 40.0, 50.3], 'decription': ['sunny', 'cloudy', 'overcast']}\n"
       ]
      }
     ],
     "prompt_number": 32
    },
    {
     "cell_type": "markdown",
     "metadata": {},
     "source": [
      "### List comprehension\n",
      "\n",
      "Python provides a concise way to express iterations. This is particularly useful when using the python interpreter. Using list comprehension one can define a complicated computation in a single line."
     ]
    },
    {
     "cell_type": "code",
     "collapsed": false,
     "input": [
      "### a simple example of list comprehension\n",
      "[(i,i*i) for i in range(10)]"
     ],
     "language": "python",
     "metadata": {},
     "outputs": [
      {
       "metadata": {},
       "output_type": "pyout",
       "prompt_number": 33,
       "text": [
        "[(0, 0),\n",
        " (1, 1),\n",
        " (2, 4),\n",
        " (3, 9),\n",
        " (4, 16),\n",
        " (5, 25),\n",
        " (6, 36),\n",
        " (7, 49),\n",
        " (8, 64),\n",
        " (9, 81)]"
       ]
      }
     ],
     "prompt_number": 33
    },
    {
     "cell_type": "code",
     "collapsed": false,
     "input": [
      "# A more involved example\n",
      "','.join([name for (name,cast) in fields])"
     ],
     "language": "python",
     "metadata": {},
     "outputs": [
      {
       "metadata": {},
       "output_type": "pyout",
       "prompt_number": 34,
       "text": [
        "'index,decription,low,high'"
       ]
      }
     ],
     "prompt_number": 34
    },
    {
     "cell_type": "code",
     "collapsed": false,
     "input": [
      "# comprehensions can also include \n",
      "[i for i in range(20) if i%3==0]"
     ],
     "language": "python",
     "metadata": {},
     "outputs": [
      {
       "metadata": {},
       "output_type": "pyout",
       "prompt_number": 35,
       "text": [
        "[0, 3, 6, 9, 12, 15, 18]"
       ]
      }
     ],
     "prompt_number": 35
    },
    {
     "cell_type": "markdown",
     "metadata": {},
     "source": [
      "### Dictionary Comprehension\n",
      "Similar to list comprehensions, there are dictionary comprehensions that defines, in a single line, a for loop\n",
      "that defines a whole table."
     ]
    },
    {
     "cell_type": "code",
     "collapsed": false,
     "input": [
      "{i:i*i for i in range(10)}"
     ],
     "language": "python",
     "metadata": {},
     "outputs": [
      {
       "metadata": {},
       "output_type": "pyout",
       "prompt_number": 36,
       "text": [
        "{0: 0, 1: 1, 2: 4, 3: 9, 4: 16, 5: 25, 6: 36, 7: 49, 8: 64, 9: 81}"
       ]
      }
     ],
     "prompt_number": 36
    },
    {
     "cell_type": "code",
     "collapsed": false,
     "input": [
      "# plain text is coded in a system called ASCII. \n",
      "# Here we create a table for translating from ASCII numbers to characters and another going the other way\n",
      "\n",
      "ascii2char = {i:chr(i) for i in range(34,127)}\n",
      "char2ascii = {chr(i):i for i in range(34,127)}\n",
      "print ascii2char\n",
      "print char2ascii"
     ],
     "language": "python",
     "metadata": {},
     "outputs": [
      {
       "output_type": "stream",
       "stream": "stdout",
       "text": [
        "{34: '\"', 35: '#', 36: '$', 37: '%', 38: '&', 39: \"'\", 40: '(', 41: ')', 42: '*', 43: '+', 44: ',', 45: '-', 46: '.', 47: '/', 48: '0', 49: '1', 50: '2', 51: '3', 52: '4', 53: '5', 54: '6', 55: '7', 56: '8', 57: '9', 58: ':', 59: ';', 60: '<', 61: '=', 62: '>', 63: '?', 64: '@', 65: 'A', 66: 'B', 67: 'C', 68: 'D', 69: 'E', 70: 'F', 71: 'G', 72: 'H', 73: 'I', 74: 'J', 75: 'K', 76: 'L', 77: 'M', 78: 'N', 79: 'O', 80: 'P', 81: 'Q', 82: 'R', 83: 'S', 84: 'T', 85: 'U', 86: 'V', 87: 'W', 88: 'X', 89: 'Y', 90: 'Z', 91: '[', 92: '\\\\', 93: ']', 94: '^', 95: '_', 96: '`', 97: 'a', 98: 'b', 99: 'c', 100: 'd', 101: 'e', 102: 'f', 103: 'g', 104: 'h', 105: 'i', 106: 'j', 107: 'k', 108: 'l', 109: 'm', 110: 'n', 111: 'o', 112: 'p', 113: 'q', 114: 'r', 115: 's', 116: 't', 117: 'u', 118: 'v', 119: 'w', 120: 'x', 121: 'y', 122: 'z', 123: '{', 124: '|', 125: '}', 126: '~'}\n",
        "{'$': 36, '(': 40, ',': 44, '0': 48, '4': 52, '8': 56, '<': 60, '@': 64, 'D': 68, 'H': 72, 'L': 76, 'P': 80, 'T': 84, 'X': 88, '\\\\': 92, '`': 96, 'd': 100, 'h': 104, 'l': 108, 'p': 112, 't': 116, 'x': 120, '|': 124, '#': 35, \"'\": 39, '+': 43, '/': 47, '3': 51, '7': 55, ';': 59, '?': 63, 'C': 67, 'G': 71, 'K': 75, 'O': 79, 'S': 83, 'W': 87, '[': 91, '_': 95, 'c': 99, 'g': 103, 'k': 107, 'o': 111, 's': 115, 'w': 119, '{': 123, '\"': 34, '&': 38, '*': 42, '.': 46, '2': 50, '6': 54, ':': 58, '>': 62, 'B': 66, 'F': 70, 'J': 74, 'N': 78, 'R': 82, 'V': 86, 'Z': 90, '^': 94, 'b': 98, 'f': 102, 'j': 106, 'n': 110, 'r': 114, 'v': 118, 'z': 122, '~': 126, '%': 37, ')': 41, '-': 45, '1': 49, '5': 53, '9': 57, '=': 61, 'A': 65, 'E': 69, 'I': 73, 'M': 77, 'Q': 81, 'U': 85, 'Y': 89, ']': 93, 'a': 97, 'e': 101, 'i': 105, 'm': 109, 'q': 113, 'u': 117, 'y': 121, '}': 125}\n"
       ]
      }
     ],
     "prompt_number": 37
    },
    {
     "cell_type": "code",
     "collapsed": false,
     "input": [
      "# we can also use a condition in the dictionary comprehension. Here we use a condition to select only the\n",
      "# letters that are upper-case\n",
      "\n",
      "upper2ascii = {i:chr(i) for i in range(34,127) if chr(i).isupper()}\n",
      "print upper2ascii"
     ],
     "language": "python",
     "metadata": {},
     "outputs": [
      {
       "output_type": "stream",
       "stream": "stdout",
       "text": [
        "{65: 'A', 66: 'B', 67: 'C', 68: 'D', 69: 'E', 70: 'F', 71: 'G', 72: 'H', 73: 'I', 74: 'J', 75: 'K', 76: 'L', 77: 'M', 78: 'N', 79: 'O', 80: 'P', 81: 'Q', 82: 'R', 83: 'S', 84: 'T', 85: 'U', 86: 'V', 87: 'W', 88: 'X', 89: 'Y', 90: 'Z'}\n"
       ]
      }
     ],
     "prompt_number": 38
    },
    {
     "cell_type": "code",
     "collapsed": false,
     "input": [],
     "language": "python",
     "metadata": {},
     "outputs": [],
     "prompt_number": 38
    },
    {
     "cell_type": "code",
     "collapsed": false,
     "input": [],
     "language": "python",
     "metadata": {},
     "outputs": [],
     "prompt_number": 38
    },
    {
     "cell_type": "code",
     "collapsed": false,
     "input": [],
     "language": "python",
     "metadata": {},
     "outputs": [],
     "prompt_number": 38
    },
    {
     "cell_type": "code",
     "collapsed": false,
     "input": [],
     "language": "python",
     "metadata": {},
     "outputs": []
    }
   ],
   "metadata": {}
  }
 ]
}