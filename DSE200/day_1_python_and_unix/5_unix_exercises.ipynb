{
 "metadata": {
  "name": "",
  "signature": "sha256:0559d0e62b010bddb08d63ad6d54cc2d3081a0ec4c855dec2d7ec9d2e0c99a27"
 },
 "nbformat": 3,
 "nbformat_minor": 0,
 "worksheets": [
  {
   "cells": [
    {
     "cell_type": "markdown",
     "metadata": {},
     "source": [
      "### Excercise 1: reconstruct a file from segments."
     ]
    },
    {
     "cell_type": "markdown",
     "metadata": {},
     "source": [
      "Each of the files F* is a short segment of the original text file.\n",
      "\n",
      "The format of the file is `(n1: 5 char int),(n2: 5 char int),string`\n",
      "The string represents the content of the file in the range `[n1:n2]`\n",
      "\n",
      "Your task is to reconstruct the original file."
     ]
    },
    {
     "cell_type": "code",
     "collapsed": false,
     "input": [
      "loc = '/home/sadat/Documents/DSE/ssnazrul/DSE200/data/NLTK/Chopped'\n",
      "%cd $loc\n",
      "!ls -F"
     ],
     "language": "python",
     "metadata": {},
     "outputs": [
      {
       "output_type": "stream",
       "stream": "stdout",
       "text": [
        "/home/sadat/Documents/DSE/ssnazrul/DSE200/data/NLTK/Chopped\n"
       ]
      },
      {
       "output_type": "stream",
       "stream": "stdout",
       "text": [
        "F0    F114  F13   F145\tF160  F176  F192  F207\tF223  F28  F42\tF58  F72  F87\r\n",
        "F1    F115  F130  F146\tF161  F177  F193  F208\tF224  F29  F43\tF59  F73  F88\r\n",
        "F10   F117  F131  F147\tF162  F178  F194  F209\tF225  F3   F44\tF6   F74  F9\r\n",
        "F100  F118  F132  F148\tF163  F179  F195  F210\tF226  F30  F45\tF60  F75  F90\r\n",
        "F101  F119  F133  F149\tF164  F18   F196  F211\tF227  F31  F46\tF61  F76  F91\r\n",
        "F102  F12   F134  F15\tF165  F180  F197  F212\tF228  F32  F48\tF62  F77  F93\r\n",
        "F104  F120  F135  F151\tF166  F181  F198  F213\tF229  F33  F49\tF63  F78  F94\r\n",
        "F106  F121  F136  F152\tF167  F182  F199  F214\tF23   F34  F5\tF64  F79  F95\r\n",
        "F107  F122  F137  F153\tF168  F183  F2\t  F215\tF230  F35  F50\tF65  F8   F96\r\n",
        "F108  F123  F138  F154\tF169  F185  F20   F216\tF231  F36  F51\tF66  F80  F97\r\n",
        "F109  F124  F139  F155\tF170  F186  F200  F218\tF232  F37  F52\tF67  F81  F99\r\n",
        "F11   F125  F14   F156\tF171  F187  F201  F219\tF233  F38  F53\tF68  F82\r\n",
        "F110  F126  F140  F157\tF172  F189  F202  F22\tF24   F39  F54\tF69  F83\r\n",
        "F111  F127  F141  F158\tF173  F19   F204  F220\tF25   F4   F55\tF7   F84\r\n",
        "F112  F128  F142  F159\tF174  F190  F205  F221\tF26   F40  F56\tF70  F85\r\n",
        "F113  F129  F144  F16\tF175  F191  F206  F222\tF27   F41  F57\tF71  F86\r\n"
       ]
      }
     ],
     "prompt_number": 19
    },
    {
     "cell_type": "code",
     "collapsed": false,
     "input": [
      "!cat F* > HW1Q1\n",
      "\n",
      "info = []\n",
      "doc = open('HW1Q1')\n",
      "lines = doc.readlines()\n",
      "for line in lines:\n",
      "    info.append((int(line[0:5]), int(line[5:10]), line[10:-1]))\n",
      "info = sorted(info)\n",
      "new_para = ''\n",
      "for i in info:\n",
      "    new_para += i[2]\n",
      "print new_para"
     ],
     "language": "python",
     "metadata": {},
     "outputs": [
      {
       "output_type": "stream",
       "stream": "stdout",
       "text": [
        "The Fulton County Grand Jury said Friday an investigation of Atlanta's recent primary election produced `` no evidence '' that any irregularities took place . The jury further said in term-end presentments that the City Executive Committee , which had over-all charge of the election , `` deserves the praise and thanks of the City of Atlanta '' for the manner in which the election was conducted . The September-October term jury had been charged by Fulton Superior Court Judge Durwood Pye to investigate reports of possible `` irregularities '' in the hard-fought primary which was won by Mayor-nominate Ivan Allen Jr. . `` Only a relative handful of such reports was received '' , the jury said , `` considering the widespread interest in the election , the number of voters and the size of this city '' . The jury said it did find that many of Georgia's registration and election laws `` are outmoded or inadequate and often ambiguous '' . It recommended that Fulton legislators act `` to have these laws studied and revised to the end of modernizing and improving them '' . The grand jury commented on a number of other topics , among them the Atlanta and Fulton County purchasing departments which it said `` are well operated and follow generally accepted practices which inure to the best interest of both governments '' . Merger proposed However , the jury said it believes `` these two offices should be combined to achieve greater efficiency and reduce the cost of administration '' . The City Purchasing Department , the jury said , `` is lacking in experienced clerical personnel as a result of city personnel policies '' .\n"
       ]
      }
     ],
     "prompt_number": 20
    },
    {
     "cell_type": "markdown",
     "metadata": {},
     "source": [
      "### Excercise 2:"
     ]
    },
    {
     "cell_type": "code",
     "collapsed": false,
     "input": [
      "#Issue a UNIX command to create a file called Caesar that contains the following lines (include the mistakes!!)\n",
      "\n",
      "Text = \"\"\"'Caesar, a great general, is petitioned by several citizens to show clemency to one of his enemies.\n",
      "He declines, pompously speaking of himself in the third person. The group of conspirators then proceeds to stab him.\n",
      "With his dying breath he gasps, \"Et tu, Brute? (\"And you, Brutus?\") Thus falls Caesar.\" \n",
      "The conspirators exult, and Shakespeare inserts a self-referential joke as Cassius says, \n",
      "\"How many ages hence shall this our lofty scene be acted over in states unborn and accents yet unknown!\"\n",
      "'\"\"\"\n",
      "#Change the permissions of this file to 666\n",
      "#Issue a UNIX command to determine the file type\n",
      "#Isue a uniix comannd to count the number of words in the above text that contains no vowels\n",
      "#Replace the word Caesar wherever it is found in the entire text to Leonidas\n",
      "#Make a copy of the above file without the first and last lines of the text and rename this file to Leonidas\n",
      "\n",
      "!printf $Text > Caesar\n",
      "!chmod 666 Caesar\n",
      "!file Caesar\n",
      "!grep -cv [aeiou] Caesar               \n",
      "!cp Caesar Leonidas                         \n",
      "!sed -i 's/Caesar/Leonidas/g' Leonidas     \n",
      "!sed -i '1d;$d' Leonidas"
     ],
     "language": "python",
     "metadata": {},
     "outputs": [
      {
       "output_type": "stream",
       "stream": "stdout",
       "text": [
        "Caesar: ASCII text\r\n"
       ]
      },
      {
       "output_type": "stream",
       "stream": "stdout",
       "text": [
        "0\r\n"
       ]
      }
     ],
     "prompt_number": 21
    },
    {
     "cell_type": "markdown",
     "metadata": {},
     "source": [
      "### Excercise 3:"
     ]
    },
    {
     "cell_type": "code",
     "collapsed": false,
     "input": [
      "#What is the command to count lines,words and characters in a file and how do you make this comand display only linecount?\n",
      "#Also write a single command that lists the files in the current directory that begin with upper case letters\n",
      "\n",
      "#wc                #command to count lines, words, characters in file\n",
      "#!wc -l            #command to count lines\n",
      "!ls -d [A-Z]*      #lists files with uppercase"
     ],
     "language": "python",
     "metadata": {},
     "outputs": [
      {
       "output_type": "stream",
       "stream": "stdout",
       "text": [
        "Caesar"
       ]
      },
      {
       "output_type": "stream",
       "stream": "stdout",
       "text": [
        "\tF115  F132  F15   F167\tF185  F201  F220  F27  F43  F60  F77  F95\r\n",
        "F0\tF117  F133  F151  F168\tF186  F202  F221  F28  F44  F61  F78  F96\r\n",
        "F1\tF118  F134  F152  F169\tF187  F204  F222  F29  F45  F62  F79  F97\r\n",
        "F10\tF119  F135  F153  F170\tF189  F205  F223  F3   F46  F63  F8   F99\r\n",
        "F100\tF12   F136  F154  F171\tF19   F206  F224  F30  F48  F64  F80  HW1Q1\r\n",
        "F101\tF120  F137  F155  F172\tF190  F207  F225  F31  F49  F65  F81  Leonidas\r\n",
        "F102\tF121  F138  F156  F173\tF191  F208  F226  F32  F5   F66  F82\r\n",
        "F104\tF122  F139  F157  F174\tF192  F209  F227  F33  F50  F67  F83\r\n",
        "F106\tF123  F14   F158  F175\tF193  F210  F228  F34  F51  F68  F84\r\n",
        "F107\tF124  F140  F159  F176\tF194  F211  F229  F35  F52  F69  F85\r\n",
        "F108\tF125  F141  F16   F177\tF195  F212  F23   F36  F53  F7\t F86\r\n",
        "F109\tF126  F142  F160  F178\tF196  F213  F230  F37  F54  F70  F87\r\n",
        "F11\tF127  F144  F161  F179\tF197  F214  F231  F38  F55  F71  F88\r\n",
        "F110\tF128  F145  F162  F18\tF198  F215  F232  F39  F56  F72  F9\r\n",
        "F111\tF129  F146  F163  F180\tF199  F216  F233  F4   F57  F73  F90\r\n",
        "F112\tF13   F147  F164  F181\tF2    F218  F24   F40  F58  F74  F91\r\n",
        "F113\tF130  F148  F165  F182\tF20   F219  F25   F41  F59  F75  F93\r\n",
        "F114\tF131  F149  F166  F183\tF200  F22   F26   F42  F6   F76  F94\r\n"
       ]
      }
     ],
     "prompt_number": 22
    },
    {
     "cell_type": "markdown",
     "metadata": {},
     "source": [
      "### Excercise 4:"
     ]
    },
    {
     "cell_type": "code",
     "collapsed": false,
     "input": [
      "#Combine the files Caesar and Leonidas and save the combined file as kings\n",
      "#Display the contents of this file using more command\n",
      "#Sort this file in reverse alphabetic order and display it by piping it into more\n",
      "\n",
      "!cat Caesar Leonidas > kings\n",
      "!more kings\n",
      "!sort -r kings | more            "
     ],
     "language": "python",
     "metadata": {},
     "outputs": [
      {
       "output_type": "stream",
       "stream": "stdout",
       "text": [
        "Caesar, a great general, is petitioned by several citizens to show clemency to o\r\n",
        "ne of his enemies.\r\n",
        "He declines, pompously speaking of himself in the third person. The group of con\r\n",
        "spirators then proceeds to stab him.\r\n",
        "With his dying breath he gasps, \"Et tu, Brute? (\"And you, Brutus?\") Thus falls C\r\n",
        "aesar.\" \r\n",
        "The conspirators exult, and Shakespeare inserts a self-referential joke as Cassi\r\n",
        "us says, \r\n",
        "\"How many ages hence shall this our lofty scene be acted over in states unborn a\r\n",
        "nd accents yet unknown!\"\r\n",
        "He declines, pompously speaking of himself in the third person. The group of con\r\n",
        "spirators then proceeds to stab him.\r\n",
        "With his dying breath he gasps, \"Et tu, Brute? (\"And you, Brutus?\") Thus falls L\r\n",
        "eonidas.\" \r\n",
        "The conspirators exult, and Shakespeare inserts a self-referential joke as Cassi\r\n",
        "us says, \r\n"
       ]
      },
      {
       "output_type": "stream",
       "stream": "stdout",
       "text": [
        "With his dying breath he gasps, \"Et tu, Brute? (\"And you, Brutus?\") Thus falls L\r\n",
        "eonidas.\" \r\n",
        "With his dying breath he gasps, \"Et tu, Brute? (\"And you, Brutus?\") Thus falls C\r\n",
        "aesar.\" \r\n",
        "The conspirators exult, and Shakespeare inserts a self-referential joke as Cassi\r\n",
        "us says, \r\n",
        "The conspirators exult, and Shakespeare inserts a self-referential joke as Cassi\r\n",
        "us says, \r\n",
        "\"How many ages hence shall this our lofty scene be acted over in states unborn a\r\n",
        "nd accents yet unknown!\"\r\n",
        "He declines, pompously speaking of himself in the third person. The group of con\r\n",
        "spirators then proceeds to stab him.\r\n",
        "He declines, pompously speaking of himself in the third person. The group of con\r\n",
        "spirators then proceeds to stab him.\r\n",
        "Caesar, a great general, is petitioned by several citizens to show clemency to o\r\n",
        "ne of his enemies.\r\n"
       ]
      }
     ],
     "prompt_number": 23
    },
    {
     "cell_type": "markdown",
     "metadata": {},
     "source": [
      "### Excercise 5:"
     ]
    },
    {
     "cell_type": "code",
     "collapsed": false,
     "input": [
      "#List all files in your current directory. Make a subDirectory and copy all these files in the subdirectory.\n",
      "#Write Unix commands to rename all the files to the format - currentDate_originalname\n",
      "\n",
      "import time\n",
      "\n",
      "date = time.strftime(\"%m%d%y\")\n",
      "loc = '/home/sadat/Documents/DSE/ssnazrul/DSE200/data/NLTK/Chopped'\n",
      "%cd $loc\n",
      "!pwd\n",
      "#!rm -r subDirectory\n",
      "!mkdir subDirectory\n",
      "!cp * subDirectory\n",
      "%cd subDirectory\n",
      "#!for f in *; do mv \"$f\" \"$f_$date\"; done\n",
      "!for f in *;do echo $date_$f; done"
     ],
     "language": "python",
     "metadata": {},
     "outputs": [
      {
       "output_type": "stream",
       "stream": "stdout",
       "text": [
        "/home/sadat/Documents/DSE/ssnazrul/DSE200/data/NLTK/Chopped\n",
        "/home/sadat/Documents/DSE/ssnazrul/DSE200/data/NLTK/Chopped\r\n"
       ]
      },
      {
       "output_type": "stream",
       "stream": "stdout",
       "text": [
        "cp: omitting directory \u2018subDirectory\u2019\r\n"
       ]
      },
      {
       "output_type": "stream",
       "stream": "stdout",
       "text": [
        "/home/sadat/Documents/DSE/ssnazrul/DSE200/data/NLTK/Chopped/subDirectory\n",
        "Caesar\r\n",
        "F0\r\n",
        "F1\r\n",
        "F10\r\n",
        "F100\r\n",
        "F101\r\n",
        "F102\r\n",
        "F104\r\n",
        "F106\r\n",
        "F107\r\n",
        "F108\r\n",
        "F109\r\n",
        "F11\r\n",
        "F110\r\n",
        "F111\r\n",
        "F112\r\n",
        "F113\r\n",
        "F114\r\n",
        "F115\r\n",
        "F117\r\n",
        "F118\r\n",
        "F119\r\n",
        "F12\r\n",
        "F120\r\n",
        "F121\r\n",
        "F122\r\n",
        "F123\r\n",
        "F124\r\n",
        "F125\r\n",
        "F126\r\n",
        "F127\r\n",
        "F128\r\n",
        "F129\r\n",
        "F13\r\n",
        "F130\r\n",
        "F131\r\n",
        "F132\r\n",
        "F133\r\n",
        "F134\r\n",
        "F135\r\n",
        "F136\r\n",
        "F137\r\n",
        "F138\r\n",
        "F139\r\n",
        "F14\r\n",
        "F140\r\n",
        "F141\r\n",
        "F142\r\n",
        "F144\r\n",
        "F145\r\n",
        "F146\r\n",
        "F147\r\n",
        "F148\r\n",
        "F149\r\n",
        "F15\r\n",
        "F151\r\n",
        "F152\r\n",
        "F153\r\n",
        "F154\r\n",
        "F155\r\n",
        "F156\r\n",
        "F157\r\n",
        "F158\r\n",
        "F159\r\n",
        "F16\r\n",
        "F160\r\n",
        "F161\r\n",
        "F162\r\n",
        "F163\r\n",
        "F164\r\n",
        "F165\r\n",
        "F166\r\n",
        "F167\r\n",
        "F168\r\n",
        "F169\r\n",
        "F170\r\n",
        "F171\r\n",
        "F172\r\n",
        "F173\r\n",
        "F174\r\n",
        "F175\r\n",
        "F176\r\n",
        "F177\r\n",
        "F178\r\n",
        "F179\r\n",
        "F18\r\n",
        "F180\r\n",
        "F181\r\n",
        "F182\r\n",
        "F183\r\n",
        "F185\r\n",
        "F186\r\n",
        "F187\r\n",
        "F189\r\n",
        "F19\r\n",
        "F190\r\n",
        "F191\r\n",
        "F192\r\n",
        "F193\r\n",
        "F194\r\n",
        "F195\r\n",
        "F196\r\n",
        "F197\r\n",
        "F198\r\n",
        "F199\r\n",
        "F2\r\n",
        "F20\r\n",
        "F200\r\n",
        "F201\r\n",
        "F202\r\n",
        "F204\r\n",
        "F205\r\n",
        "F206\r\n",
        "F207\r\n",
        "F208\r\n",
        "F209\r\n",
        "F210\r\n",
        "F211\r\n",
        "F212\r\n",
        "F213\r\n",
        "F214\r\n",
        "F215\r\n",
        "F216\r\n",
        "F218\r\n",
        "F219\r\n",
        "F22\r\n",
        "F220\r\n",
        "F221\r\n",
        "F222\r\n",
        "F223\r\n",
        "F224\r\n",
        "F225\r\n",
        "F226\r\n",
        "F227\r\n",
        "F228\r\n",
        "F229\r\n",
        "F23\r\n",
        "F230\r\n",
        "F231\r\n",
        "F232\r\n",
        "F233\r\n",
        "F24\r\n",
        "F25\r\n",
        "F26\r\n",
        "F27\r\n",
        "F28\r\n",
        "F29\r\n",
        "F3\r\n",
        "F30\r\n",
        "F31\r\n",
        "F32\r\n",
        "F33\r\n",
        "F34\r\n",
        "F35\r\n",
        "F36\r\n",
        "F37\r\n",
        "F38\r\n",
        "F39\r\n",
        "F4\r\n",
        "F40\r\n",
        "F41\r\n",
        "F42\r\n",
        "F43\r\n",
        "F44\r\n",
        "F45\r\n",
        "F46\r\n",
        "F48\r\n",
        "F49\r\n",
        "F5\r\n",
        "F50\r\n",
        "F51\r\n",
        "F52\r\n",
        "F53\r\n",
        "F54\r\n",
        "F55\r\n",
        "F56\r\n",
        "F57\r\n",
        "F58\r\n",
        "F59\r\n",
        "F6\r\n",
        "F60\r\n",
        "F61\r\n",
        "F62\r\n",
        "F63\r\n",
        "F64\r\n",
        "F65\r\n",
        "F66\r\n",
        "F67\r\n",
        "F68\r\n",
        "F69\r\n",
        "F7\r\n",
        "F70\r\n",
        "F71\r\n",
        "F72\r\n",
        "F73\r\n",
        "F74\r\n",
        "F75\r\n",
        "F76\r\n",
        "F77\r\n",
        "F78\r\n",
        "F79\r\n",
        "F8\r\n",
        "F80\r\n",
        "F81\r\n",
        "F82\r\n",
        "F83\r\n",
        "F84\r\n",
        "F85\r\n",
        "F86\r\n",
        "F87\r\n",
        "F88\r\n",
        "F9\r\n",
        "F90\r\n",
        "F91\r\n",
        "F93\r\n",
        "F94\r\n",
        "F95\r\n",
        "F96\r\n",
        "F97\r\n",
        "F99\r\n",
        "HW1Q1\r\n",
        "Leonidas\r\n",
        "kings\r\n"
       ]
      }
     ],
     "prompt_number": 24
    },
    {
     "cell_type": "markdown",
     "metadata": {},
     "source": [
      "### Excercise 6:"
     ]
    },
    {
     "cell_type": "code",
     "collapsed": false,
     "input": [
      "#Suppose we have a script that performs numerous efficiency tests. \n",
      "#The output from the script contains lots of information, but our purpose now is to extract information\n",
      "#about the CPU time of each test and sort these CPU times. The output from the tests takes the following form:\n",
      "output = \"\"\"'\n",
      "f95 -c -O0  versions/main_wIO.f F77WAVE.f\n",
      "f95 -o app  -static main_wIO.o F77WAVE.o   -lf2c\n",
      "app < input > tmp.out\n",
      "CPU-time: 255.97   f95 -O0 formatted I/O\n",
      "f95 -c -O1  versions/main_wIO.f F77WAVE.f\n",
      "f95 -o app  -static main_wIO.o F77WAVE.o   -lf2c\n",
      "app < input > tmp.out\n",
      "CPU-time: 252.47   f95 -O1 formatted I/O\n",
      "f95 -c -O2  versions/main_wIO.f F77WAVE.f\n",
      "f95 -o app  -static main_wIO.o F77WAVE.o   -lf2c\n",
      "app < input > tmp.out\n",
      "CPU-time: 252.40   f95 -O2 formatted I/O\n",
      "f95 -c -O3  versions/main_wIO.f F77WAVE.f\n",
      "f95 -o app  -static main_wIO.o F77WAVE.o   -lf2c\n",
      "app < input > tmp.out\n",
      "CPU-time: 255.28   f95 -O0 formatted I/O\n",
      "f95 -c -O4  versions/main_wIO.f F77WAVE.f\n",
      "f95 -o app  -static main_wIO.o F77WAVE.o   -lf2c\n",
      "app < input > tmp.out\n",
      "CPU-time: 251.43  f95 -O0 formatted I/O\n",
      "f95 -c -O5  versions/main_wIO.f F77WAVE.f\n",
      "f95 -o app  -static main_wIO.o F77WAVE.o   -lf2c\n",
      "app < input > tmp.out\n",
      "CPU-time: 255.90   f95 -O0 formatted I/O\n",
      "f95 -c -O6  versions/main_wIO.f F77WAVE.f\n",
      "f95 -o app  -static main_wIO.o F77WAVE.o   -lf2c\n",
      "app < input > tmp.out\n",
      "CPU-time: 252.15   f95 -O0 formatted I/O\n",
      "'\"\"\"\n",
      "\n",
      "#First we need to extract the lines starting with CPU-time. \n",
      "#Then we need to sort the extracted lines with respect to the CPU time, which is the number appearing in the second column. \n",
      "#Write a script to accomplish this task. \n",
      "\n",
      "#Hint: Find the lines with CPU time results by using a string comparison of the first 7 characters \n",
      "#to detect the keyword CPU-time. Then write a tailored sort function for sorting two lines \n",
      "#(extract the CPU time from the second column in both lines and compare the CPU times as floating-point numbers). \n",
      "#A tailored sort function takes two arguments a and b, which hold two list elements. \n",
      "#The sort function returns -1 if a is less than b, 1 if a is greater than b, and 0 otherwise (a equals b).\n",
      "\n",
      "!echo $output |grep 'CPU-time' > HW1Q6\n",
      "\n",
      "doc = open('HW1Q6')\n",
      "lines = doc.readlines()\n",
      "\n",
      "time = []\n",
      "for line in lines:\n",
      "    time.append(float(line.split(' ')[1]))\n",
      "print time"
     ],
     "language": "python",
     "metadata": {},
     "outputs": [
      {
       "output_type": "stream",
       "stream": "stdout",
       "text": [
        "[255.97, 252.47, 252.4, 255.28, 251.43, 255.9, 252.15]\n"
       ]
      }
     ],
     "prompt_number": 25
    },
    {
     "cell_type": "markdown",
     "metadata": {},
     "source": [
      "### Excercise 7:"
     ]
    },
    {
     "cell_type": "code",
     "collapsed": false,
     "input": [
      "#Make a copy of your working directory along with its subdirectories and \n",
      "#write unix+python commands that traverses the copied working directory and its subdirectories (recursively) and returns a \n",
      "#list of all files that are larger than X Mb and that have not been accessed the last Y days, \n",
      "#where X and Y are passed as user inputs.\n",
      "#Include an option in this function that moves the files to a subdirectory trash under /tmp \n",
      "#(you need to create trash if it does not exist).\n",
      "\n",
      "%cd $loc\n",
      "!ls -r"
     ],
     "language": "python",
     "metadata": {},
     "outputs": [
      {
       "output_type": "stream",
       "stream": "stdout",
       "text": [
        "/home/sadat/Documents/DSE/ssnazrul/DSE200/data/NLTK/Chopped\n"
       ]
      },
      {
       "output_type": "stream",
       "stream": "stdout",
       "text": [
        "subDirectory  F82  F65\tF48  F3    F222  F202  F185  F166  F148  F13   F111\r\n",
        "Leonidas      F81  F64\tF46  F29   F221  F201  F183  F165  F147  F129  F110\r\n",
        "kings\t      F80  F63\tF45  F28   F220  F200  F182  F164  F146  F128  F11\r\n",
        "HW1Q1\t      F8   F62\tF44  F27   F22\t F20   F181  F163  F145  F127  F109\r\n",
        "F99\t      F79  F61\tF43  F26   F219  F2    F180  F162  F144  F126  F108\r\n",
        "F97\t      F78  F60\tF42  F25   F218  F199  F18   F161  F142  F125  F107\r\n",
        "F96\t      F77  F6\tF41  F24   F216  F198  F179  F160  F141  F124  F106\r\n",
        "F95\t      F76  F59\tF40  F233  F215  F197  F178  F16   F140  F123  F104\r\n",
        "F94\t      F75  F58\tF4   F232  F214  F196  F177  F159  F14\t F122  F102\r\n",
        "F93\t      F74  F57\tF39  F231  F213  F195  F176  F158  F139  F121  F101\r\n",
        "F91\t      F73  F56\tF38  F230  F212  F194  F175  F157  F138  F120  F100\r\n",
        "F90\t      F72  F55\tF37  F23   F211  F193  F174  F156  F137  F12   F10\r\n",
        "F9\t      F71  F54\tF36  F229  F210  F192  F173  F155  F136  F119  F1\r\n",
        "F88\t      F70  F53\tF35  F228  F209  F191  F172  F154  F135  F118  F0\r\n",
        "F87\t      F7   F52\tF34  F227  F208  F190  F171  F153  F134  F117  Caesar\r\n",
        "F86\t      F69  F51\tF33  F226  F207  F19   F170  F152  F133  F115\r\n",
        "F85\t      F68  F50\tF32  F225  F206  F189  F169  F151  F132  F114\r\n",
        "F84\t      F67  F5\tF31  F224  F205  F187  F168  F15   F131  F113\r\n",
        "F83\t      F66  F49\tF30  F223  F204  F186  F167  F149  F130  F112\r\n"
       ]
      }
     ],
     "prompt_number": 28
    },
    {
     "cell_type": "code",
     "collapsed": false,
     "input": [],
     "language": "python",
     "metadata": {},
     "outputs": []
    }
   ],
   "metadata": {}
  }
 ]
}