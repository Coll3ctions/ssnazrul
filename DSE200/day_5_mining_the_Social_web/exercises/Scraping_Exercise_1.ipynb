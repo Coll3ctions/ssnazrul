{
 "cells": [
  {
   "cell_type": "code",
   "execution_count": 1,
   "metadata": {
    "collapsed": false
   },
   "outputs": [],
   "source": [
    "import requests\n",
    "import lxml.html as lh\n",
    "import pandas as pd\n",
    "import matplotlib.pyplot as plt\n",
    "%matplotlib inline"
   ]
  },
  {
   "cell_type": "markdown",
   "metadata": {},
   "source": [
    "### Scraping MLB stats from ESPN go###"
   ]
  },
  {
   "cell_type": "markdown",
   "metadata": {},
   "source": [
    "In this homework we will try to analyze the batting performances of different teams in Major League Baseball using the data available in the following link http://espn.go.com/mlb/stats/team/_/stat/batting "
   ]
  },
  {
   "cell_type": "markdown",
   "metadata": {},
   "source": [
    "We will first scrape the page corresponding to the 2015 season "
   ]
  },
  {
   "cell_type": "code",
   "execution_count": 2,
   "metadata": {
    "collapsed": false
   },
   "outputs": [],
   "source": [
    "url=\"http://espn.go.com/mlb/stats/team/_/stat/batting/year/2015\""
   ]
  },
  {
   "cell_type": "markdown",
   "metadata": {},
   "source": [
    "We will now scrape the table found in the above link. You can follow the class notebook to understand how to capture html table tags.\n",
    "\n",
    "Q1) Write a function which will take the above url and return a pandas dataframe corresponding to the table found in the given link. "
   ]
  },
  {
   "cell_type": "code",
   "execution_count": 3,
   "metadata": {
    "collapsed": false
   },
   "outputs": [
    {
     "data": {
      "text/plain": [
       "[1, 15, 15, 15, 15, 15, 15, 15, 15, 15, 15, 15, 15, 15, 15, 15, 15, 15, 15, 15]"
      ]
     },
     "execution_count": 3,
     "metadata": {},
     "output_type": "execute_result"
    }
   ],
   "source": [
    "page = requests.get(url)\n",
    "doc = lh.fromstring(page.content)\n",
    "tr_elements = doc.xpath('//tr')\n",
    "[len(T) for T in tr_elements[:20]]"
   ]
  },
  {
   "cell_type": "code",
   "execution_count": 4,
   "metadata": {
    "collapsed": false
   },
   "outputs": [
    {
     "name": "stdout",
     "output_type": "stream",
     "text": [
      "<class 'lxml.html.HtmlElement'>\n",
      "15\n",
      "1:\"RK\"\n",
      "2:\"TEAM\"\n",
      "3:\"GP\"\n",
      "4:\"AB\"\n",
      "5:\"R\"\n",
      "6:\"H\"\n",
      "7:\"2B\"\n",
      "8:\"3B\"\n",
      "9:\"HR\"\n",
      "10:\"TB\"\n",
      "11:\"RBI\"\n",
      "12:\"AVG\"\n",
      "13:\"OBP\"\n",
      "14:\"SLG\"\n",
      "15:\"OPS\"\n"
     ]
    }
   ],
   "source": [
    "col=[]\n",
    "T=tr_elements[1]\n",
    "print type(T)\n",
    "i=0\n",
    "print len(T)\n",
    "for t in T.iterchildren():\n",
    "    i+=1\n",
    "    name=t.text_content()\n",
    "    print '%d:\"%s\"'%(i,name)\n",
    "    col.append((name,[]))"
   ]
  },
  {
   "cell_type": "code",
   "execution_count": 5,
   "metadata": {
    "collapsed": false
   },
   "outputs": [],
   "source": [
    "for j in range(2,len(tr_elements)-4):\n",
    "    T=tr_elements[j]\n",
    "    if len(T)!=15:\n",
    "        break\n",
    "    i=0\n",
    "    for t in T.iterchildren():\n",
    "        data=t.text_content()\n",
    "        if i>0:\n",
    "            try:\n",
    "                data=int(data)\n",
    "            except:\n",
    "                data=str(data)\n",
    "        col[i][1].append(data)\n",
    "        i+=1"
   ]
  },
  {
   "cell_type": "code",
   "execution_count": 6,
   "metadata": {
    "collapsed": false
   },
   "outputs": [
    {
     "data": {
      "text/plain": [
       "[30, 30, 30, 30, 30, 30, 30, 30, 30, 30, 30, 30, 30, 30, 30]"
      ]
     },
     "execution_count": 6,
     "metadata": {},
     "output_type": "execute_result"
    }
   ],
   "source": [
    "[len(C) for (title,C) in col]"
   ]
  },
  {
   "cell_type": "code",
   "execution_count": 7,
   "metadata": {
    "collapsed": false
   },
   "outputs": [
    {
     "data": {
      "text/html": [
       "<div>\n",
       "<table border=\"1\" class=\"dataframe\">\n",
       "  <thead>\n",
       "    <tr style=\"text-align: right;\">\n",
       "      <th></th>\n",
       "      <th>2B</th>\n",
       "      <th>3B</th>\n",
       "      <th>AB</th>\n",
       "      <th>AVG</th>\n",
       "      <th>GP</th>\n",
       "      <th>H</th>\n",
       "      <th>HR</th>\n",
       "      <th>OBP</th>\n",
       "      <th>OPS</th>\n",
       "      <th>R</th>\n",
       "      <th>RBI</th>\n",
       "      <th>RK</th>\n",
       "      <th>SLG</th>\n",
       "      <th>TB</th>\n",
       "      <th>TEAM</th>\n",
       "    </tr>\n",
       "  </thead>\n",
       "  <tbody>\n",
       "    <tr>\n",
       "      <th>0</th>\n",
       "      <td>308</td>\n",
       "      <td>17</td>\n",
       "      <td>5509</td>\n",
       "      <td>.269</td>\n",
       "      <td>162</td>\n",
       "      <td>1480</td>\n",
       "      <td>232</td>\n",
       "      <td>.340</td>\n",
       "      <td>.797</td>\n",
       "      <td>891</td>\n",
       "      <td>852</td>\n",
       "      <td>1</td>\n",
       "      <td>.457</td>\n",
       "      <td>2518</td>\n",
       "      <td>Toronto</td>\n",
       "    </tr>\n",
       "    <tr>\n",
       "      <th>1</th>\n",
       "      <td>272</td>\n",
       "      <td>19</td>\n",
       "      <td>5567</td>\n",
       "      <td>.251</td>\n",
       "      <td>162</td>\n",
       "      <td>1397</td>\n",
       "      <td>212</td>\n",
       "      <td>.323</td>\n",
       "      <td>.744</td>\n",
       "      <td>764</td>\n",
       "      <td>737</td>\n",
       "      <td>2</td>\n",
       "      <td>.421</td>\n",
       "      <td>2343</td>\n",
       "      <td>NY Yankees</td>\n",
       "    </tr>\n",
       "    <tr>\n",
       "      <th>2</th>\n",
       "      <td>279</td>\n",
       "      <td>32</td>\n",
       "      <td>5511</td>\n",
       "      <td>.257</td>\n",
       "      <td>162</td>\n",
       "      <td>1419</td>\n",
       "      <td>172</td>\n",
       "      <td>.325</td>\n",
       "      <td>.739</td>\n",
       "      <td>751</td>\n",
       "      <td>707</td>\n",
       "      <td>3</td>\n",
       "      <td>.413</td>\n",
       "      <td>2278</td>\n",
       "      <td>Texas</td>\n",
       "    </tr>\n",
       "    <tr>\n",
       "      <th>3</th>\n",
       "      <td>294</td>\n",
       "      <td>33</td>\n",
       "      <td>5640</td>\n",
       "      <td>.265</td>\n",
       "      <td>162</td>\n",
       "      <td>1496</td>\n",
       "      <td>161</td>\n",
       "      <td>.325</td>\n",
       "      <td>.740</td>\n",
       "      <td>748</td>\n",
       "      <td>706</td>\n",
       "      <td>4</td>\n",
       "      <td>.415</td>\n",
       "      <td>2339</td>\n",
       "      <td>Boston</td>\n",
       "    </tr>\n",
       "    <tr>\n",
       "      <th>4</th>\n",
       "      <td>274</td>\n",
       "      <td>49</td>\n",
       "      <td>5572</td>\n",
       "      <td>.265</td>\n",
       "      <td>162</td>\n",
       "      <td>1479</td>\n",
       "      <td>186</td>\n",
       "      <td>.315</td>\n",
       "      <td>.748</td>\n",
       "      <td>737</td>\n",
       "      <td>702</td>\n",
       "      <td>5</td>\n",
       "      <td>.432</td>\n",
       "      <td>2409</td>\n",
       "      <td>Colorado</td>\n",
       "    </tr>\n",
       "  </tbody>\n",
       "</table>\n",
       "</div>"
      ],
      "text/plain": [
       "    2B  3B    AB   AVG   GP     H   HR   OBP   OPS    R  RBI RK   SLG    TB  \\\n",
       "0  308  17  5509  .269  162  1480  232  .340  .797  891  852  1  .457  2518   \n",
       "1  272  19  5567  .251  162  1397  212  .323  .744  764  737  2  .421  2343   \n",
       "2  279  32  5511  .257  162  1419  172  .325  .739  751  707  3  .413  2278   \n",
       "3  294  33  5640  .265  162  1496  161  .325  .740  748  706  4  .415  2339   \n",
       "4  274  49  5572  .265  162  1479  186  .315  .748  737  702  5  .432  2409   \n",
       "\n",
       "         TEAM  \n",
       "0     Toronto  \n",
       "1  NY Yankees  \n",
       "2       Texas  \n",
       "3      Boston  \n",
       "4    Colorado  "
      ]
     },
     "execution_count": 7,
     "metadata": {},
     "output_type": "execute_result"
    }
   ],
   "source": [
    "Dict={title:column for (title,column) in col}\n",
    "import pandas as pd\n",
    "df=pd.DataFrame(Dict)\n",
    "df.head()"
   ]
  },
  {
   "cell_type": "code",
   "execution_count": 8,
   "metadata": {
    "collapsed": false
   },
   "outputs": [],
   "source": [
    "def SCRAPE_ESPN_MLB_STATS(url):\n",
    "    \n",
    "    #Create column of headers\n",
    "    col=[]\n",
    "    T=tr_elements[1]\n",
    "    i=0\n",
    "    for t in T.iterchildren():\n",
    "        name=t.text_content()\n",
    "        col.append((name,[]))\n",
    "    \n",
    "    #Append data for each header\n",
    "    for j in range(2,len(tr_elements)-4):\n",
    "        T=tr_elements[j]\n",
    "        if len(T)!=15:\n",
    "            break\n",
    "        i=0\n",
    "        for t in T.iterchildren():\n",
    "            data=t.text_content()\n",
    "            if i>0:\n",
    "                try:\n",
    "                    data=float(data)\n",
    "                except:\n",
    "                    data=str(data)\n",
    "            col[i][1].append(data)\n",
    "            i+=1\n",
    "            \n",
    "    #Create dataframe\n",
    "    Dict={title:column for (title,column) in col}\n",
    "    df=pd.DataFrame(Dict)\n",
    "    return df"
   ]
  },
  {
   "cell_type": "markdown",
   "metadata": {},
   "source": [
    "Run the above function to scrape season 2015 stats."
   ]
  },
  {
   "cell_type": "code",
   "execution_count": 9,
   "metadata": {
    "collapsed": false
   },
   "outputs": [
    {
     "data": {
      "text/html": [
       "<div>\n",
       "<table border=\"1\" class=\"dataframe\">\n",
       "  <thead>\n",
       "    <tr style=\"text-align: right;\">\n",
       "      <th></th>\n",
       "      <th>2B</th>\n",
       "      <th>3B</th>\n",
       "      <th>AB</th>\n",
       "      <th>AVG</th>\n",
       "      <th>GP</th>\n",
       "      <th>H</th>\n",
       "      <th>HR</th>\n",
       "      <th>OBP</th>\n",
       "      <th>OPS</th>\n",
       "      <th>R</th>\n",
       "      <th>RBI</th>\n",
       "      <th>RK</th>\n",
       "      <th>SLG</th>\n",
       "      <th>TB</th>\n",
       "      <th>TEAM</th>\n",
       "    </tr>\n",
       "  </thead>\n",
       "  <tbody>\n",
       "    <tr>\n",
       "      <th>0</th>\n",
       "      <td>308</td>\n",
       "      <td>17</td>\n",
       "      <td>5509</td>\n",
       "      <td>0.269</td>\n",
       "      <td>162</td>\n",
       "      <td>1480</td>\n",
       "      <td>232</td>\n",
       "      <td>0.340</td>\n",
       "      <td>0.797</td>\n",
       "      <td>891</td>\n",
       "      <td>852</td>\n",
       "      <td>1</td>\n",
       "      <td>0.457</td>\n",
       "      <td>2518</td>\n",
       "      <td>Toronto</td>\n",
       "    </tr>\n",
       "    <tr>\n",
       "      <th>1</th>\n",
       "      <td>272</td>\n",
       "      <td>19</td>\n",
       "      <td>5567</td>\n",
       "      <td>0.251</td>\n",
       "      <td>162</td>\n",
       "      <td>1397</td>\n",
       "      <td>212</td>\n",
       "      <td>0.323</td>\n",
       "      <td>0.744</td>\n",
       "      <td>764</td>\n",
       "      <td>737</td>\n",
       "      <td>2</td>\n",
       "      <td>0.421</td>\n",
       "      <td>2343</td>\n",
       "      <td>NY Yankees</td>\n",
       "    </tr>\n",
       "    <tr>\n",
       "      <th>2</th>\n",
       "      <td>279</td>\n",
       "      <td>32</td>\n",
       "      <td>5511</td>\n",
       "      <td>0.257</td>\n",
       "      <td>162</td>\n",
       "      <td>1419</td>\n",
       "      <td>172</td>\n",
       "      <td>0.325</td>\n",
       "      <td>0.739</td>\n",
       "      <td>751</td>\n",
       "      <td>707</td>\n",
       "      <td>3</td>\n",
       "      <td>0.413</td>\n",
       "      <td>2278</td>\n",
       "      <td>Texas</td>\n",
       "    </tr>\n",
       "    <tr>\n",
       "      <th>3</th>\n",
       "      <td>294</td>\n",
       "      <td>33</td>\n",
       "      <td>5640</td>\n",
       "      <td>0.265</td>\n",
       "      <td>162</td>\n",
       "      <td>1496</td>\n",
       "      <td>161</td>\n",
       "      <td>0.325</td>\n",
       "      <td>0.740</td>\n",
       "      <td>748</td>\n",
       "      <td>706</td>\n",
       "      <td>4</td>\n",
       "      <td>0.415</td>\n",
       "      <td>2339</td>\n",
       "      <td>Boston</td>\n",
       "    </tr>\n",
       "    <tr>\n",
       "      <th>4</th>\n",
       "      <td>274</td>\n",
       "      <td>49</td>\n",
       "      <td>5572</td>\n",
       "      <td>0.265</td>\n",
       "      <td>162</td>\n",
       "      <td>1479</td>\n",
       "      <td>186</td>\n",
       "      <td>0.315</td>\n",
       "      <td>0.748</td>\n",
       "      <td>737</td>\n",
       "      <td>702</td>\n",
       "      <td>5</td>\n",
       "      <td>0.432</td>\n",
       "      <td>2409</td>\n",
       "      <td>Colorado</td>\n",
       "    </tr>\n",
       "  </tbody>\n",
       "</table>\n",
       "</div>"
      ],
      "text/plain": [
       "    2B  3B    AB    AVG   GP     H   HR    OBP    OPS    R  RBI RK    SLG  \\\n",
       "0  308  17  5509  0.269  162  1480  232  0.340  0.797  891  852  1  0.457   \n",
       "1  272  19  5567  0.251  162  1397  212  0.323  0.744  764  737  2  0.421   \n",
       "2  279  32  5511  0.257  162  1419  172  0.325  0.739  751  707  3  0.413   \n",
       "3  294  33  5640  0.265  162  1496  161  0.325  0.740  748  706  4  0.415   \n",
       "4  274  49  5572  0.265  162  1479  186  0.315  0.748  737  702  5  0.432   \n",
       "\n",
       "     TB        TEAM  \n",
       "0  2518     Toronto  \n",
       "1  2343  NY Yankees  \n",
       "2  2278       Texas  \n",
       "3  2339      Boston  \n",
       "4  2409    Colorado  "
      ]
     },
     "execution_count": 9,
     "metadata": {},
     "output_type": "execute_result"
    }
   ],
   "source": [
    "df_2015 = SCRAPE_ESPN_MLB_STATS(url)\n",
    "df_2015.head()"
   ]
  },
  {
   "cell_type": "markdown",
   "metadata": {
    "collapsed": true
   },
   "source": [
    "We will now produce plots analyzing performance of different teams on different statistical parameters\n",
    "\n",
    "Q2) Write a function which will take the above dataframe and a list of column names as input and produces a set of plots corresponding to each of the column names provided"
   ]
  },
  {
   "cell_type": "code",
   "execution_count": 10,
   "metadata": {
    "collapsed": true
   },
   "outputs": [],
   "source": [
    "def produce_plots(df, col_names):\n",
    "    for col in col_names:\n",
    "        f=plt.figure()\n",
    "        df[col].plot(kind='line')\n",
    "        plt.title(col)\n",
    "        plt.show()"
   ]
  },
  {
   "cell_type": "markdown",
   "metadata": {},
   "source": [
    "Call the above function for the columns\n",
    "\n",
    "1. HR: Home Runs\n",
    "2. TB: Total Bases\n",
    "3. RBI: Runs Batted In"
   ]
  },
  {
   "cell_type": "code",
   "execution_count": 11,
   "metadata": {
    "collapsed": false
   },
   "outputs": [
    {
     "data": {
      "image/png": "[encoded data removed]",
      "text/plain": [
       "<matplotlib.figure.Figure at 0x7fe709ab57d0>"
      ]
     },
     "metadata": {},
     "output_type": "display_data"
    },
    {
     "data": {
      "image/png": "[encoded data removed]",
      "text/plain": [
       "<matplotlib.figure.Figure at 0x7fe709ab5ed0>"
      ]
     },
     "metadata": {},
     "output_type": "display_data"
    },
    {
     "data": {
      "image/png": "[encoded data removed]",
      "text/plain": [
       "<matplotlib.figure.Figure at 0x7fe6d4dff490>"
      ]
     },
     "metadata": {},
     "output_type": "display_data"
    }
   ],
   "source": [
    "produce_plots(df_2015, ['HR','TB','RBI'])"
   ]
  },
  {
   "cell_type": "markdown",
   "metadata": {},
   "source": [
    "Q3) We will now use the above functions to scrape for more seasons and analyze the performances over a period of 6 years from 2010-2015"
   ]
  },
  {
   "cell_type": "code",
   "execution_count": 12,
   "metadata": {
    "collapsed": true
   },
   "outputs": [],
   "source": [
    "dfs={}\n",
    "for year in xrange(0,6):\n",
    "    link = 'http://espn.go.com/mlb/stats/team/_/stat/batting/year/201'+str(year)\n",
    "    dfs[year]=SCRAPE_ESPN_MLB_STATS(link)"
   ]
  },
  {
   "cell_type": "markdown",
   "metadata": {},
   "source": [
    "Inorder to analyze performance of teams across seasons, we will need all the data in a single dataframe. \n",
    "\n",
    "Q4) Use appropriate pandas functions to combine the above dictionary of year:dataframe to produce one dataframe which has a new column corresponding to the year/season "
   ]
  },
  {
   "cell_type": "code",
   "execution_count": 13,
   "metadata": {
    "collapsed": false
   },
   "outputs": [
    {
     "data": {
      "text/html": [
       "<div>\n",
       "<table border=\"1\" class=\"dataframe\">\n",
       "  <thead>\n",
       "    <tr style=\"text-align: right;\">\n",
       "      <th></th>\n",
       "      <th>2B</th>\n",
       "      <th>3B</th>\n",
       "      <th>AB</th>\n",
       "      <th>AVG</th>\n",
       "      <th>GP</th>\n",
       "      <th>H</th>\n",
       "      <th>HR</th>\n",
       "      <th>OBP</th>\n",
       "      <th>OPS</th>\n",
       "      <th>R</th>\n",
       "      <th>RBI</th>\n",
       "      <th>RK</th>\n",
       "      <th>SLG</th>\n",
       "      <th>TB</th>\n",
       "      <th>TEAM</th>\n",
       "      <th>Year</th>\n",
       "    </tr>\n",
       "  </thead>\n",
       "  <tbody>\n",
       "    <tr>\n",
       "      <th>0</th>\n",
       "      <td>308</td>\n",
       "      <td>17</td>\n",
       "      <td>5509</td>\n",
       "      <td>0.269</td>\n",
       "      <td>162</td>\n",
       "      <td>1480</td>\n",
       "      <td>232</td>\n",
       "      <td>0.340</td>\n",
       "      <td>0.797</td>\n",
       "      <td>891</td>\n",
       "      <td>852</td>\n",
       "      <td>1</td>\n",
       "      <td>0.457</td>\n",
       "      <td>2518</td>\n",
       "      <td>Toronto</td>\n",
       "      <td>2010</td>\n",
       "    </tr>\n",
       "    <tr>\n",
       "      <th>1</th>\n",
       "      <td>272</td>\n",
       "      <td>19</td>\n",
       "      <td>5567</td>\n",
       "      <td>0.251</td>\n",
       "      <td>162</td>\n",
       "      <td>1397</td>\n",
       "      <td>212</td>\n",
       "      <td>0.323</td>\n",
       "      <td>0.744</td>\n",
       "      <td>764</td>\n",
       "      <td>737</td>\n",
       "      <td>2</td>\n",
       "      <td>0.421</td>\n",
       "      <td>2343</td>\n",
       "      <td>NY Yankees</td>\n",
       "      <td>2010</td>\n",
       "    </tr>\n",
       "    <tr>\n",
       "      <th>2</th>\n",
       "      <td>279</td>\n",
       "      <td>32</td>\n",
       "      <td>5511</td>\n",
       "      <td>0.257</td>\n",
       "      <td>162</td>\n",
       "      <td>1419</td>\n",
       "      <td>172</td>\n",
       "      <td>0.325</td>\n",
       "      <td>0.739</td>\n",
       "      <td>751</td>\n",
       "      <td>707</td>\n",
       "      <td>3</td>\n",
       "      <td>0.413</td>\n",
       "      <td>2278</td>\n",
       "      <td>Texas</td>\n",
       "      <td>2010</td>\n",
       "    </tr>\n",
       "    <tr>\n",
       "      <th>3</th>\n",
       "      <td>294</td>\n",
       "      <td>33</td>\n",
       "      <td>5640</td>\n",
       "      <td>0.265</td>\n",
       "      <td>162</td>\n",
       "      <td>1496</td>\n",
       "      <td>161</td>\n",
       "      <td>0.325</td>\n",
       "      <td>0.740</td>\n",
       "      <td>748</td>\n",
       "      <td>706</td>\n",
       "      <td>4</td>\n",
       "      <td>0.415</td>\n",
       "      <td>2339</td>\n",
       "      <td>Boston</td>\n",
       "      <td>2010</td>\n",
       "    </tr>\n",
       "    <tr>\n",
       "      <th>4</th>\n",
       "      <td>274</td>\n",
       "      <td>49</td>\n",
       "      <td>5572</td>\n",
       "      <td>0.265</td>\n",
       "      <td>162</td>\n",
       "      <td>1479</td>\n",
       "      <td>186</td>\n",
       "      <td>0.315</td>\n",
       "      <td>0.748</td>\n",
       "      <td>737</td>\n",
       "      <td>702</td>\n",
       "      <td>5</td>\n",
       "      <td>0.432</td>\n",
       "      <td>2409</td>\n",
       "      <td>Colorado</td>\n",
       "      <td>2010</td>\n",
       "    </tr>\n",
       "  </tbody>\n",
       "</table>\n",
       "</div>"
      ],
      "text/plain": [
       "    2B  3B    AB    AVG   GP     H   HR    OBP    OPS    R  RBI RK    SLG  \\\n",
       "0  308  17  5509  0.269  162  1480  232  0.340  0.797  891  852  1  0.457   \n",
       "1  272  19  5567  0.251  162  1397  212  0.323  0.744  764  737  2  0.421   \n",
       "2  279  32  5511  0.257  162  1419  172  0.325  0.739  751  707  3  0.413   \n",
       "3  294  33  5640  0.265  162  1496  161  0.325  0.740  748  706  4  0.415   \n",
       "4  274  49  5572  0.265  162  1479  186  0.315  0.748  737  702  5  0.432   \n",
       "\n",
       "     TB        TEAM  Year  \n",
       "0  2518     Toronto  2010  \n",
       "1  2343  NY Yankees  2010  \n",
       "2  2278       Texas  2010  \n",
       "3  2339      Boston  2010  \n",
       "4  2409    Colorado  2010  "
      ]
     },
     "execution_count": 13,
     "metadata": {},
     "output_type": "execute_result"
    }
   ],
   "source": [
    "for i in dfs:\n",
    "    dfs[i]['Year']=2010+i\n",
    "dfs[0].head()"
   ]
  },
  {
   "cell_type": "code",
   "execution_count": 14,
   "metadata": {
    "collapsed": false
   },
   "outputs": [
    {
     "data": {
      "text/html": [
       "<div>\n",
       "<table border=\"1\" class=\"dataframe\">\n",
       "  <thead>\n",
       "    <tr style=\"text-align: right;\">\n",
       "      <th></th>\n",
       "      <th>2B</th>\n",
       "      <th>3B</th>\n",
       "      <th>AB</th>\n",
       "      <th>AVG</th>\n",
       "      <th>GP</th>\n",
       "      <th>H</th>\n",
       "      <th>HR</th>\n",
       "      <th>OBP</th>\n",
       "      <th>OPS</th>\n",
       "      <th>R</th>\n",
       "      <th>RBI</th>\n",
       "      <th>RK</th>\n",
       "      <th>SLG</th>\n",
       "      <th>TB</th>\n",
       "      <th>TEAM</th>\n",
       "      <th>Year</th>\n",
       "    </tr>\n",
       "  </thead>\n",
       "  <tbody>\n",
       "    <tr>\n",
       "      <th>0</th>\n",
       "      <td>308</td>\n",
       "      <td>17</td>\n",
       "      <td>5509</td>\n",
       "      <td>0.269</td>\n",
       "      <td>162</td>\n",
       "      <td>1480</td>\n",
       "      <td>232</td>\n",
       "      <td>0.340</td>\n",
       "      <td>0.797</td>\n",
       "      <td>891</td>\n",
       "      <td>852</td>\n",
       "      <td>1</td>\n",
       "      <td>0.457</td>\n",
       "      <td>2518</td>\n",
       "      <td>Toronto</td>\n",
       "      <td>2010</td>\n",
       "    </tr>\n",
       "    <tr>\n",
       "      <th>1</th>\n",
       "      <td>272</td>\n",
       "      <td>19</td>\n",
       "      <td>5567</td>\n",
       "      <td>0.251</td>\n",
       "      <td>162</td>\n",
       "      <td>1397</td>\n",
       "      <td>212</td>\n",
       "      <td>0.323</td>\n",
       "      <td>0.744</td>\n",
       "      <td>764</td>\n",
       "      <td>737</td>\n",
       "      <td>2</td>\n",
       "      <td>0.421</td>\n",
       "      <td>2343</td>\n",
       "      <td>NY Yankees</td>\n",
       "      <td>2010</td>\n",
       "    </tr>\n",
       "    <tr>\n",
       "      <th>2</th>\n",
       "      <td>279</td>\n",
       "      <td>32</td>\n",
       "      <td>5511</td>\n",
       "      <td>0.257</td>\n",
       "      <td>162</td>\n",
       "      <td>1419</td>\n",
       "      <td>172</td>\n",
       "      <td>0.325</td>\n",
       "      <td>0.739</td>\n",
       "      <td>751</td>\n",
       "      <td>707</td>\n",
       "      <td>3</td>\n",
       "      <td>0.413</td>\n",
       "      <td>2278</td>\n",
       "      <td>Texas</td>\n",
       "      <td>2010</td>\n",
       "    </tr>\n",
       "    <tr>\n",
       "      <th>3</th>\n",
       "      <td>294</td>\n",
       "      <td>33</td>\n",
       "      <td>5640</td>\n",
       "      <td>0.265</td>\n",
       "      <td>162</td>\n",
       "      <td>1496</td>\n",
       "      <td>161</td>\n",
       "      <td>0.325</td>\n",
       "      <td>0.740</td>\n",
       "      <td>748</td>\n",
       "      <td>706</td>\n",
       "      <td>4</td>\n",
       "      <td>0.415</td>\n",
       "      <td>2339</td>\n",
       "      <td>Boston</td>\n",
       "      <td>2010</td>\n",
       "    </tr>\n",
       "    <tr>\n",
       "      <th>4</th>\n",
       "      <td>274</td>\n",
       "      <td>49</td>\n",
       "      <td>5572</td>\n",
       "      <td>0.265</td>\n",
       "      <td>162</td>\n",
       "      <td>1479</td>\n",
       "      <td>186</td>\n",
       "      <td>0.315</td>\n",
       "      <td>0.748</td>\n",
       "      <td>737</td>\n",
       "      <td>702</td>\n",
       "      <td>5</td>\n",
       "      <td>0.432</td>\n",
       "      <td>2409</td>\n",
       "      <td>Colorado</td>\n",
       "      <td>2010</td>\n",
       "    </tr>\n",
       "  </tbody>\n",
       "</table>\n",
       "</div>"
      ],
      "text/plain": [
       "    2B  3B    AB    AVG   GP     H   HR    OBP    OPS    R  RBI RK    SLG  \\\n",
       "0  308  17  5509  0.269  162  1480  232  0.340  0.797  891  852  1  0.457   \n",
       "1  272  19  5567  0.251  162  1397  212  0.323  0.744  764  737  2  0.421   \n",
       "2  279  32  5511  0.257  162  1419  172  0.325  0.739  751  707  3  0.413   \n",
       "3  294  33  5640  0.265  162  1496  161  0.325  0.740  748  706  4  0.415   \n",
       "4  274  49  5572  0.265  162  1479  186  0.315  0.748  737  702  5  0.432   \n",
       "\n",
       "     TB        TEAM  Year  \n",
       "0  2518     Toronto  2010  \n",
       "1  2343  NY Yankees  2010  \n",
       "2  2278       Texas  2010  \n",
       "3  2339      Boston  2010  \n",
       "4  2409    Colorado  2010  "
      ]
     },
     "execution_count": 14,
     "metadata": {},
     "output_type": "execute_result"
    }
   ],
   "source": [
    "for i in dfs:\n",
    "    try:\n",
    "        combined_df=pd.merge(combined_df,dfs[i],how='outer')\n",
    "    except:\n",
    "        combined_df=dfs[i]\n",
    "combined_df.head()"
   ]
  },
  {
   "cell_type": "markdown",
   "metadata": {},
   "source": [
    "Q5) Now write a function which will take the above dataframe and a list of column names and produces a set of plots corresponding to each of the columns provided. Each plot is a set of subplots, where every subplot is a line graph of the column values over the 6 years for each of the teams in the dataframe."
   ]
  },
  {
   "cell_type": "code",
   "execution_count": 64,
   "metadata": {
    "collapsed": true
   },
   "outputs": [],
   "source": [
    "def produce_plots_over_seasons(combined_df, col_names):\n",
    "    for col in col_names:\n",
    "        f=plt.figure(figsize=(20,3))\n",
    "        plt.suptitle(col,fontsize=20, y=1.08)\n",
    "        for i in xrange(0,6):\n",
    "            plt.subplot(161+i)\n",
    "            combined_df[combined_df['Year']==2010][col].plot(kind='line')\n",
    "            plt.title(str(2010+i))\n",
    "            plt.xlabel('RK')"
   ]
  },
  {
   "cell_type": "markdown",
   "metadata": {},
   "source": [
    "Call the above function for the columns \n",
    "\n",
    "1. HR: Home Runs\n",
    "2. TB: Total Bases\n",
    "3. RBI: Runs Batted In"
   ]
  },
  {
   "cell_type": "code",
   "execution_count": 65,
   "metadata": {
    "collapsed": false
   },
   "outputs": [
    {
     "data": {
      "image/png": "[encoded data removed]",
      "text/plain": [
       "<matplotlib.figure.Figure at 0x7fe6ce6bb190>"
      ]
     },
     "metadata": {},
     "output_type": "display_data"
    },
    {
     "data": {
      "image/png": "[encoded data removed]",
      "text/plain": [
       "<matplotlib.figure.Figure at 0x7fe6ce18ca10>"
      ]
     },
     "metadata": {},
     "output_type": "display_data"
    },
    {
     "data": {
      "image/png": "[encoded data removed]",
      "text/plain": [
       "<matplotlib.figure.Figure at 0x7fe6ce7c6690>"
      ]
     },
     "metadata": {},
     "output_type": "display_data"
    }
   ],
   "source": [
    "produce_plots_over_seasons(combined_df, ['HR','TB','RBI'])"
   ]
  },
  {
   "cell_type": "code",
   "execution_count": null,
   "metadata": {
    "collapsed": true
   },
   "outputs": [],
   "source": []
  }
 ],
 "metadata": {
  "kernelspec": {
   "display_name": "Python 2",
   "language": "python",
   "name": "python2"
  },
  "language_info": {
   "codemirror_mode": {
    "name": "ipython",
    "version": 2
   },
   "file_extension": ".py",
   "mimetype": "text/x-python",
   "name": "python",
   "nbconvert_exporter": "python",
   "pygments_lexer": "ipython2",
   "version": "2.7.10"
  }
 },
 "nbformat": 4,
 "nbformat_minor": 0
}
