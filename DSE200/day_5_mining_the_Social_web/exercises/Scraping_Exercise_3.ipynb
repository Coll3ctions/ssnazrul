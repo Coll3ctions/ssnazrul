{
 "cells": [
  {
   "cell_type": "markdown",
   "metadata": {},
   "source": [
    "#OAuth Exercise"
   ]
  },
  {
   "cell_type": "markdown",
   "metadata": {},
   "source": [
    "In this exercise we will try to scrape twitter data and do a tf-idf analysis on that (src-uwes twitter analysis). We will need OAuth authentication, and we will follow a similar approach as detailed in the yelp analysis notebook. "
   ]
  },
  {
   "cell_type": "code",
   "execution_count": 1,
   "metadata": {
    "collapsed": false
   },
   "outputs": [],
   "source": [
    "import oauth2 as oauth\n",
    "import urllib2 as urllib\n",
    "import json, operator\n",
    "import numpy as np\n",
    "import pandas as pd"
   ]
  },
  {
   "cell_type": "markdown",
   "metadata": {},
   "source": [
    "We will now need twitter api access. The following steps as available online will help you set up your twitter account and access the live 1% stream.\n",
    "\n",
    "1. Create a twitter account if you do not already have one.\n",
    "2. Go to https://dev.twitter.com/apps and log in with your twitter credentials.\n",
    "3. Click \"Create New App\"\n",
    "4. Fill out the form and agree to the terms. Put in a dummy website if you don't have one you want to use.\n",
    "5. On the next page, click the \"API Keys\" tab along the top, then scroll all the way down until you see the section \"Your Access Token\"\n",
    "6. Click the button \"Create My Access Token\". You can Read more about Oauth authorization online. \n",
    "\n",
    "Save the details of api_key, api_secret, access_token_key, access_token_secret in your vaule directory and load it in the notebook as shown in yelpSample notebook."
   ]
  },
  {
   "cell_type": "code",
   "execution_count": 2,
   "metadata": {
    "collapsed": false
   },
   "outputs": [],
   "source": [
    "# We need to define the following variables\n",
    "#api_key = #<get api key> \n",
    "#api_secret = #<get api secret>\n",
    "#access_token_key = #<get your access token key here>\"\n",
    "#access_token_secret = #<get your access token secret here>\n",
    "\n",
    "#defining them right here is not safe. insteadm create a file in a different directory\n",
    "# (I use ~/VaultDSE) and in it put a file called, say, twitterkeys.py whose\n",
    "# content is:\n",
    "#api_key = #<get api key>\n",
    "#api_secret = #<get api secret>\n",
    "#access_token_key = #<get your access token key here>\"\n",
    "#access_token_secret = #<get your access token secret here>\n",
    "#\n",
    "#def getkeys():\n",
    "#    return api_key,api_secret,access_token_key,access_token_secret\n",
    "\n",
    "# then use the following commands\n",
    "\n",
    "import sys\n",
    "sys.path.append('/home/sadat/Documents/DSE/VaultDSE')\n",
    "import twitterKeys\n",
    "api_key,api_secret,access_token_key,access_token_secret=twitterKeys.getkeys()\n",
    "\n",
    "_debug = 0\n",
    "\n",
    "oauth_token    = oauth.Token(key=access_token_key, secret=access_token_secret)\n",
    "oauth_consumer = oauth.Consumer(key=api_key, secret=api_secret)\n",
    "\n",
    "signature_method_hmac_sha1 = oauth.SignatureMethod_HMAC_SHA1()\n",
    "\n",
    "http_method = \"GET\"\n",
    "\n",
    "http_handler  = urllib.HTTPHandler(debuglevel=_debug)\n",
    "https_handler = urllib.HTTPSHandler(debuglevel=_debug)"
   ]
  },
  {
   "cell_type": "markdown",
   "metadata": {},
   "source": [
    "Below is a twitter request method which will use the above user logins to sign, and open a twitter stream request"
   ]
  },
  {
   "cell_type": "code",
   "execution_count": 3,
   "metadata": {
    "collapsed": true
   },
   "outputs": [],
   "source": [
    "def getTwitterStream(url, method, parameters):\n",
    "  req = oauth.Request.from_consumer_and_token(oauth_consumer,\n",
    "                                             token=oauth_token,\n",
    "                                             http_method=http_method,\n",
    "                                             http_url=url, \n",
    "                                             parameters=parameters)\n",
    "\n",
    "  req.sign_request(signature_method_hmac_sha1, oauth_consumer, oauth_token)\n",
    "\n",
    "  headers = req.to_header()\n",
    "\n",
    "  if http_method == \"POST\":\n",
    "    encoded_post_data = req.to_postdata()\n",
    "  else:\n",
    "    encoded_post_data = None\n",
    "    url = req.to_url()\n",
    "\n",
    "  opener = urllib.OpenerDirector()\n",
    "  opener.add_handler(http_handler)\n",
    "  opener.add_handler(https_handler)\n",
    "\n",
    "  response = opener.open(url, encoded_post_data)\n",
    "\n",
    "  return response\n",
    "\n",
    "\n",
    "\n"
   ]
  },
  {
   "cell_type": "markdown",
   "metadata": {},
   "source": [
    "We can use the above function to request a response as follows"
   ]
  },
  {
   "cell_type": "code",
   "execution_count": 4,
   "metadata": {
    "collapsed": true
   },
   "outputs": [],
   "source": [
    "#Now we will test the above function for a sample data provided by twitter stream here -  \n",
    "url = \"https://stream.twitter.com/1/statuses/sample.json\""
   ]
  },
  {
   "cell_type": "code",
   "execution_count": 5,
   "metadata": {
    "collapsed": false
   },
   "outputs": [],
   "source": [
    "parameters = []\n",
    "response = getTwitterStream(url, \"GET\", parameters)"
   ]
  },
  {
   "cell_type": "markdown",
   "metadata": {},
   "source": [
    "Write a function which will take a url and return the top 10 lines returned by the twitter stream\n",
    "\n",
    "** Note ** The response returned needs to be intelligently parsed to get the text data which correspond to actual tweets. This part can be done in a number of ways and you are encouraged to try different approaches to parse the response data."
   ]
  },
  {
   "cell_type": "code",
   "execution_count": 6,
   "metadata": {
    "collapsed": true
   },
   "outputs": [],
   "source": [
    "def fetchData(url):\n",
    "    response = getTwitterStream(url, \"GET\", [])\n",
    "    lines = response.read()\n",
    "    j = json.loads(lines)\n",
    "    h = j['statuses']\n",
    "    print 'Stream: ',url.split('/')[-1][14:], '\\n'\n",
    "    for i in range(10):\n",
    "        try:\n",
    "            print i+1\n",
    "            print h[i]['text'],'\\n'\n",
    "        except:\n",
    "            continue\n",
    "    print '\\n\\n\\n'"
   ]
  },
  {
   "cell_type": "code",
   "execution_count": 7,
   "metadata": {
    "collapsed": false
   },
   "outputs": [
    {
     "name": "stdout",
     "output_type": "stream",
     "text": [
      "Stream:  UCSD \n",
      "\n",
      "1\n",
      "RT @Keysight: Keysight collaborates with #UCSD to demonstrate world’s first #5G, 100-200 meter communication link up to 2 Gbps: https://t.c… \n",
      "\n",
      "2\n",
      "World's First 5G, 100 To 200 Meter Comms Link Up To 2 Gbps Demo'd By Keysight Technologies + UCSD https://t.co/n3aow4n1Iq #science \n",
      "\n",
      "3\n",
      "RT @augmentl: HTC Vive Tour Hits NC State and UCSD Universities this Week https://t.co/ppEZMnwE1H #virtualreality #vr \n",
      "\n",
      "4\n",
      "RT @FamilyoftheYear: San Diego 🤑 see ya tonight @ the loft #ucsd \n",
      "\n",
      "5\n",
      "Climate models underestimate the observed deoxygenation of oxygen minimum zones - Corinne Le Quere #OceanforClimate @Scripps_Ocean #ucsd \n",
      "\n",
      "6\n",
      "RT @Keysight: Keysight collaborates with #UCSD to demonstrate world’s first #5G, 100-200 meter communication link up to 2 Gbps: https://t.c… \n",
      "\n",
      "7\n",
      "With organizers and speakers of the Tara Expeditions ocean science event @Scripps_Ocean #OceanforClimate #ucsd https://t.co/fUC1aslJT1 \n",
      "\n",
      "8\n",
      "RT @ArchivosEst: They still draw pictures. Drawings made by Spanish children during the #SpanishCivilWar https://t.co/OLUJLdEVZe \n",
      "\n",
      "#Memoria… \n",
      "\n",
      "9\n",
      "L. Levin at Tara #COP21: Protect oceans w/education \"we need to ensure that the next gen cares about this\" #ucsd #oceanforclimate #climateuc \n",
      "\n",
      "10\n",
      "HTC Vive Tour Hits NC State and UCSD Universities this Week https://t.co/ppEZMnwE1H #virtualreality #vr \n",
      "\n",
      "\n",
      "\n",
      "\n",
      "\n",
      "Stream:  Donald Trump \n",
      "\n",
      "1\n",
      "RT @PoliticalLaughs: BREAKING NEWS: Donald Trump cancels meeting with Jesus after Jesus refuses to endorse him. \n",
      "\n",
      "2\n",
      "RT @healthandcents: GREAT article! 👍😊\n",
      "❤️🇺🇸➡️\"Admit it. Donald Trump is a volcano in forest of Ronson lighters\"\n",
      "\n",
      ".@realDonaldTrump #Trump ht… \n",
      "\n",
      "3\n",
      "RT @Eating: RT if you think this mozzarella stick would be a better president than Donald Trump. https://t.co/xwXui5MeYr \n",
      "\n",
      "4\n",
      "@julesmattsson reminds me of the way Donald Trump reminds everyone how unprofitable all his critics are \n",
      "\n",
      "5\n",
      "Donald Trump Retweets Message Calling Chrissy Teigen \"Trashy Gutter Mouth Woman\" https://t.co/dPTW9YYROL \n",
      "\n",
      "6\n",
      "Khát vọng thành công\n",
      "      Vậy là tôi đã kết thúc một phần công việc tẻ nhạt và tôi không thích. Có lẽ ,,, https://t.co/HE0EI3p2J1 \n",
      "\n",
      "7\n",
      "https://t.co/7NbBCK3XMa... https://t.co/fo2xJr6bZy \n",
      "\n",
      "8\n",
      "Donald Trump suggests CNN pay him $5 million or he'll boycott next GOP #debate https://t.co/FkNm2VLFkw https://t.co/pcWSErI2aq \n",
      "\n",
      "9\n",
      "RT @g_benderski: VOTE FOR TRUMP! \n",
      "Hey Donald! Here is your new campaign logo! Thank me later!\n",
      "#DonaldTrump … https://t.co/XFHP3B6XQZ https:… \n",
      "\n",
      "10\n",
      "#SuddenRealizations Duterte is the Donald Trump of the Philippines O_O except Duterte's a little bit more rational \n",
      "\n",
      "\n",
      "\n",
      "\n",
      "\n",
      "Stream:  Syria \n",
      "\n",
      "1\n",
      "#syria البنتاغون يناشد سلاح الجو الروسي في سوريا عدم استخدام صواريخ \"جو-جو\" ضد طائرات التحالف - روسيا اليوم https://t.co/vKFyu6swAN \n",
      "\n",
      "2\n",
      "RT @STWuk: Maximise pressure on MPs. Follow #DontBombSyria Action Page for updates on protests https://t.co/rGOSaBf7WE https://t.co/uJiLZml… \n",
      "\n",
      "3\n",
      "RT @Conflicts: BREAKING: German Cabinet approves mission in #Syria against 'Islamic State' https://t.co/2xSSuCUxML - @dwnews \n",
      "\n",
      "4\n",
      "RT @STWuk: Maximise pressure on MPs. Follow #DontBombSyria Action Page for updates on protests https://t.co/rGOSaBf7WE https://t.co/uJiLZml… \n",
      "\n",
      "5\n",
      "VIDEO: PM seeks cabinet support over Syria https://t.co/mmmKeO3BKc \n",
      "\n",
      "6\n",
      "#syria اخر اخبار سوريا الان الأسد لتلفزيون التشيك: يوجد إرهابيون بين للاجئين السوريين - بوابتك العربية https://t.co/wqjsxcg8Pv \n",
      "\n",
      "7\n",
      "Who agrees with Ken? :S https://t.co/yAdYKUhDbZ \n",
      "\n",
      "8\n",
      "Who agrees with Ken? :S https://t.co/cQeWBKJNOt \n",
      "\n",
      "9\n",
      "RT @Brown_Saraah: There are rivers of blood in Syria but that isn't enough for mainstream media to report what's happening there. http://t.… \n",
      "\n",
      "10\n",
      "Who agrees with Ken? :S https://t.co/uRA1LpQavO \n",
      "\n",
      "\n",
      "\n",
      "\n",
      "\n"
     ]
    }
   ],
   "source": [
    "list_query = ['UCSD', 'Donald Trump', 'Syria']\n",
    "\n",
    "for search_query in list_query:\n",
    "    #We can also request twitter stream data for specific search parameters as follows\n",
    "    url= \"https://api.twitter.com/1.1/search/tweets.json?q=\"+search_query\n",
    "    fetchData(url)"
   ]
  },
  {
   "cell_type": "markdown",
   "metadata": {},
   "source": [
    "Call the fetchData function to fetch latest live stream data for following search queries and output the first 5 lines\n",
    "\n",
    "1. \"UCSD\"\n",
    "2. \"Donald Trump\"\n",
    "3. \"Syria\""
   ]
  },
  {
   "cell_type": "markdown",
   "metadata": {},
   "source": [
    "### TF-IDF###\n",
    "\n",
    "tf–idf, short for term frequency–inverse document frequency, is a numerical statistic that is intended to reflect how important a word is to a document in a collection or corpus.It is among the most regularly used statistical tool for word cloud analysis. You can read more about it online (https://en.wikipedia.org/wiki/Tf%E2%80%93idf)\n",
    "\n",
    "We base our analysis on the following\n",
    "\n",
    "1. The weight of a term that occurs in a document is simply proportional to the term frequency\n",
    "2. The specificity of a term can be quantified as an inverse function of the number of documents in which it occurs\n",
    "\n",
    "For this question we will perform tf-idf analysis o the stream data we retrieve for a given search parameter. Perform the steps below\n",
    "\n",
    "1. use the twitterreq function to search for the query \"syria\" and save the top 200 lines in the file twitterStream.txt\n",
    "2. load the saved file and output the count of occurrences for each term. This will be your term frequency\n",
    "3. Calculate the inverse document frequency for each of the term in the output above.\n",
    "4. Multiply the term frequency for each of the term by corresponding inverse document frequency.\n",
    "5. Sort the terms in the descending order based on their term freq/inverse document freq scores \n",
    "6. Print the top 10 terms."
   ]
  },
  {
   "cell_type": "code",
   "execution_count": 52,
   "metadata": {
    "collapsed": false
   },
   "outputs": [
    {
     "name": "stdout",
     "output_type": "stream",
     "text": [
      "Twitter Stream file generated\n"
     ]
    }
   ],
   "source": [
    "#1. use the twitterreq function to search for the query \"syria\" and save the top 200 lines in the file twitterStream.txt\n",
    "writer = open('twitterStream.txt', 'a') \n",
    "url= \"https://api.twitter.com/1.1/search/tweets.json?q=\"+\"syria\"\n",
    "response = getTwitterStream(url, \"GET\", [])\n",
    "lines = response.read()\n",
    "j = json.loads(lines)\n",
    "h = j['statuses']\n",
    "for i in range(100):\n",
    "    try:\n",
    "        writer.write(h[i]['text'].replace('\\n',' ')+'\\n\\n')\n",
    "    except:\n",
    "        continue\n",
    "writer.close()\n",
    "\n",
    "print 'Twitter Stream file generated'"
   ]
  },
  {
   "cell_type": "code",
   "execution_count": 53,
   "metadata": {
    "collapsed": false
   },
   "outputs": [
    {
     "name": "stdout",
     "output_type": "stream",
     "text": [
      "Term Frequency:\n",
      "\n",
      "\n",
      "{'all': 1, 'bomb': 1, '@capx': 1, 'mission': 2, 'kill': 1, 'cameron': 1, 'soldiers': 1, 'bombing': 1, 'paris': 1, 'fled': 1, 'https://t.co/mlto0bdo5t': 1, 'terror': 1, 'has': 1, 'do': 1, 'branch': 1, \"syria's\": 1, '#iraq': 1, 'mps': 1, 'assad': 1, 'shadow': 1, 'now': 1, 'https://t.co/riqacyp2if': 1, 'https://t.co/5f03ytebbb': 1, '@iainmartin1:': 1, 'https://t.co/ul541zpbwk': 1, 'some': 1, 'related': 1, 'captive': 1, 'rt': 3, 'for': 1, 'state': 1, 'suspect': 1, 'bosses': 1, 'https://t.co/00xwx4ejyn': 1, 'vows': 1, 'free': 1, 'pressure': 1, '-abc': 1, 'https://t.co/2x64a59xmc': 1, 'on': 3, 'of': 1, 'british': 1, 'david': 1, 'thing': 1, 'syria': 7, 'https://t.co/p49r9mexj5': 1, 'think': 1, 'first': 1, 'via': 1, 'vote': 1, 'https://t.co/oakfnfqee0': 1, 'al-qaida': 1, 'troops': 1, 'to': 7, 'been': 1, 'their': 1, 'way': 1, 'releases': 1, 'exactly': 1, 'cabinet': 1, 'lebanese': 1, 'kind': 1, '#syria': 1, 'isis': 1, 'sheep-like': 1, \"bonds'\": 1, 'this': 1, 'https://t.co/f1d4cl9ajo': 2, 'anti-isis': 2, 'determined': 1, 'joke': 1, 'give': 1, 'is': 1, 'ages': 1, 'corbyn': 1, 'have': 1, 'in': 3, 'u.s': 1, 'no': 1, 'https://t.co/zen3rowccv': 1, 'same': 1, 'bows': 1, '@guardiannews:': 2, 'sick': 1, '#clinton': 1, 'approves': 2, 'islamic': 1, 'germany': 2, 'snp': 1, 'military': 2, 'why': 1, 'news:': 1, 'thought': 1, 'chief': 1, 'the': 1, \"'james\": 1, 'news-': 1}\n"
     ]
    }
   ],
   "source": [
    "#2. load the saved file and output the count of occurrences for each term. This will be your term frequency\n",
    "\n",
    "def tf(name):\n",
    "    '''Term Frequency'''\n",
    "    char = '.,?\"'\n",
    "    text = open(name, 'r')\n",
    "    line = text.read()\n",
    "    text.close()\n",
    "    word_list=line.lower().split()\n",
    "    count_dict = {}\n",
    "    for word in word_list:\n",
    "        if word[-1] in char:\n",
    "            word = word[:-1]\n",
    "        if word not in count_dict:\n",
    "            count_dict[word]=0\n",
    "    for word in word_list:\n",
    "        if word[-1] in char:\n",
    "            word = word[:-1]\n",
    "        count_dict[word]+=1\n",
    "    return count_dict\n",
    "\n",
    "name = 'twitterStream.txt'\n",
    "tf = tf(name)\n",
    "\n",
    "print 'Term Frequency:\\n\\n'\n",
    "print tf"
   ]
  },
  {
   "cell_type": "code",
   "execution_count": 54,
   "metadata": {
    "collapsed": false
   },
   "outputs": [
    {
     "name": "stdout",
     "output_type": "stream",
     "text": [
      "Inverse Document Frequency:\n",
      "\n",
      "\n",
      "{'all': 1.255272505103306, 'bomb': 1.255272505103306, '@capx': 1.255272505103306, 'mission': 0.95424250943932487, 'kill': 1.255272505103306, 'cameron': 1.255272505103306, 'soldiers': 1.255272505103306, 'bombing': 1.255272505103306, 'paris': 1.255272505103306, 'fled': 1.255272505103306, 'https://t.co/mlto0bdo5t': 1.255272505103306, 'terror': 1.255272505103306, 'has': 1.255272505103306, 'do': 1.255272505103306, 'branch': 1.255272505103306, \"syria's\": 1.255272505103306, '#iraq': 1.255272505103306, 'mps': 1.255272505103306, 'assad': 1.255272505103306, 'shadow': 1.255272505103306, 'now': 1.255272505103306, 'https://t.co/riqacyp2if': 1.255272505103306, 'https://t.co/5f03ytebbb': 1.255272505103306, '@iainmartin1:': 1.255272505103306, 'https://t.co/ul541zpbwk': 1.255272505103306, 'some': 1.255272505103306, 'related': 1.255272505103306, 'captive': 1.255272505103306, 'rt': 0.77815125038364363, 'for': 1.255272505103306, 'state': 1.255272505103306, 'suspect': 1.255272505103306, 'bosses': 1.255272505103306, 'https://t.co/00xwx4ejyn': 1.255272505103306, 'vows': 1.255272505103306, 'free': 1.255272505103306, 'pressure': 1.255272505103306, '-abc': 1.255272505103306, 'https://t.co/2x64a59xmc': 1.255272505103306, 'on': 0.77815125038364363, 'of': 1.255272505103306, 'british': 1.255272505103306, 'david': 1.255272505103306, 'thing': 1.255272505103306, 'syria': 0.41017446508904931, 'https://t.co/p49r9mexj5': 1.255272505103306, 'think': 1.255272505103306, 'first': 1.255272505103306, 'via': 1.255272505103306, 'vote': 1.255272505103306, 'https://t.co/oakfnfqee0': 1.255272505103306, 'al-qaida': 1.255272505103306, 'troops': 1.255272505103306, 'to': 0.65321251377534373, 'been': 1.255272505103306, 'their': 1.255272505103306, 'way': 1.255272505103306, 'releases': 1.255272505103306, 'exactly': 1.255272505103306, 'cabinet': 1.255272505103306, 'lebanese': 1.255272505103306, 'kind': 1.255272505103306, '#syria': 1.255272505103306, 'isis': 1.255272505103306, 'sheep-like': 1.255272505103306, \"bonds'\": 1.255272505103306, 'this': 1.255272505103306, 'https://t.co/f1d4cl9ajo': 0.95424250943932487, 'anti-isis': 0.95424250943932487, 'determined': 1.255272505103306, 'joke': 1.255272505103306, 'give': 1.255272505103306, 'is': 1.255272505103306, 'ages': 1.255272505103306, 'corbyn': 1.255272505103306, 'have': 1.255272505103306, 'in': 0.77815125038364363, 'u.s': 1.255272505103306, 'no': 1.255272505103306, 'https://t.co/zen3rowccv': 1.255272505103306, 'same': 1.255272505103306, 'bows': 1.255272505103306, '@guardiannews:': 0.95424250943932487, 'sick': 1.255272505103306, '#clinton': 1.255272505103306, 'approves': 0.95424250943932487, 'islamic': 1.255272505103306, 'germany': 0.95424250943932487, 'snp': 1.255272505103306, 'military': 0.95424250943932487, 'why': 1.255272505103306, 'news:': 1.255272505103306, 'thought': 1.255272505103306, 'chief': 1.255272505103306, 'the': 1.255272505103306, \"'james\": 1.255272505103306, 'news-': 1.255272505103306}\n"
     ]
    }
   ],
   "source": [
    "#3. Calculate the inverse document frequency for each of the term in the output above.\n",
    "\n",
    "def idf(name):\n",
    "    '''Inverse Document Frequency'''\n",
    "    docs = open(name, 'r')\n",
    "    tot_docs = len(docs.readlines())\n",
    "    count_dict = {}\n",
    "    unique = []\n",
    "    docs.close()\n",
    "    \n",
    "    #Get all unique terms\n",
    "    docs = open(name, 'r')\n",
    "    char = '.,?\"'\n",
    "    text_list = docs.read().lower().split()\n",
    "    for word in text_list:\n",
    "        if word[-1] in char:\n",
    "            word = word[:-1]\n",
    "        if word not in unique:\n",
    "            unique.append(word)\n",
    "            count_dict[word] = 0\n",
    "    docs.close()\n",
    "    \n",
    "    #Term count in each doc\n",
    "    docs = open(name, 'r')\n",
    "    for line in docs.readlines():\n",
    "        new_line = []\n",
    "        for word in line.lower().split():\n",
    "            if word[-1] in char:\n",
    "                word = word[:-1]\n",
    "            new_line.append(word)\n",
    "        for term in unique:\n",
    "            if term[-1] in char:\n",
    "                term = term[:-1]\n",
    "            if term in new_line:\n",
    "                count_dict[term] += 1\n",
    "            else:\n",
    "                pass    \n",
    "    docs.close()\n",
    "    \n",
    "    #IDF calculation\n",
    "    for key in count_dict:\n",
    "        count_dict[key] = np.log10(float(tot_docs) / float(count_dict[key]))\n",
    "    \n",
    "    return count_dict\n",
    "        \n",
    "        \n",
    "name = 'twitterStream.txt'    \n",
    "idf = idf(name)\n",
    "print 'Inverse Document Frequency:\\n\\n'\n",
    "print idf"
   ]
  },
  {
   "cell_type": "code",
   "execution_count": 55,
   "metadata": {
    "collapsed": false
   },
   "outputs": [
    {
     "name": "stdout",
     "output_type": "stream",
     "text": [
      "Term Frequency - Inverse Document Frequency:\n",
      "\n",
      "\n"
     ]
    },
    {
     "data": {
      "text/plain": [
       "{'#clinton': 1.255272505103306,\n",
       " '#iraq': 1.255272505103306,\n",
       " '#syria': 1.255272505103306,\n",
       " \"'james\": 1.255272505103306,\n",
       " '-abc': 1.255272505103306,\n",
       " '@capx': 1.255272505103306,\n",
       " '@guardiannews:': 1.9084850188786497,\n",
       " '@iainmartin1:': 1.255272505103306,\n",
       " 'ages': 1.255272505103306,\n",
       " 'al-qaida': 1.255272505103306,\n",
       " 'all': 1.255272505103306,\n",
       " 'anti-isis': 1.9084850188786497,\n",
       " 'approves': 1.9084850188786497,\n",
       " 'assad': 1.255272505103306,\n",
       " 'been': 1.255272505103306,\n",
       " 'bomb': 1.255272505103306,\n",
       " 'bombing': 1.255272505103306,\n",
       " \"bonds'\": 1.255272505103306,\n",
       " 'bosses': 1.255272505103306,\n",
       " 'bows': 1.255272505103306,\n",
       " 'branch': 1.255272505103306,\n",
       " 'british': 1.255272505103306,\n",
       " 'cabinet': 1.255272505103306,\n",
       " 'cameron': 1.255272505103306,\n",
       " 'captive': 1.255272505103306,\n",
       " 'chief': 1.255272505103306,\n",
       " 'corbyn': 1.255272505103306,\n",
       " 'david': 1.255272505103306,\n",
       " 'determined': 1.255272505103306,\n",
       " 'do': 1.255272505103306,\n",
       " 'exactly': 1.255272505103306,\n",
       " 'first': 1.255272505103306,\n",
       " 'fled': 1.255272505103306,\n",
       " 'for': 1.255272505103306,\n",
       " 'free': 1.255272505103306,\n",
       " 'germany': 1.9084850188786497,\n",
       " 'give': 1.255272505103306,\n",
       " 'has': 1.255272505103306,\n",
       " 'have': 1.255272505103306,\n",
       " 'https://t.co/00xwx4ejyn': 1.255272505103306,\n",
       " 'https://t.co/2x64a59xmc': 1.255272505103306,\n",
       " 'https://t.co/5f03ytebbb': 1.255272505103306,\n",
       " 'https://t.co/f1d4cl9ajo': 1.9084850188786497,\n",
       " 'https://t.co/mlto0bdo5t': 1.255272505103306,\n",
       " 'https://t.co/oakfnfqee0': 1.255272505103306,\n",
       " 'https://t.co/p49r9mexj5': 1.255272505103306,\n",
       " 'https://t.co/riqacyp2if': 1.255272505103306,\n",
       " 'https://t.co/ul541zpbwk': 1.255272505103306,\n",
       " 'https://t.co/zen3rowccv': 1.255272505103306,\n",
       " 'in': 2.3344537511509307,\n",
       " 'is': 1.255272505103306,\n",
       " 'isis': 1.255272505103306,\n",
       " 'islamic': 1.255272505103306,\n",
       " 'joke': 1.255272505103306,\n",
       " 'kill': 1.255272505103306,\n",
       " 'kind': 1.255272505103306,\n",
       " 'lebanese': 1.255272505103306,\n",
       " 'military': 1.9084850188786497,\n",
       " 'mission': 1.9084850188786497,\n",
       " 'mps': 1.255272505103306,\n",
       " 'news-': 1.255272505103306,\n",
       " 'news:': 1.255272505103306,\n",
       " 'no': 1.255272505103306,\n",
       " 'now': 1.255272505103306,\n",
       " 'of': 1.255272505103306,\n",
       " 'on': 2.3344537511509307,\n",
       " 'paris': 1.255272505103306,\n",
       " 'pressure': 1.255272505103306,\n",
       " 'related': 1.255272505103306,\n",
       " 'releases': 1.255272505103306,\n",
       " 'rt': 2.3344537511509307,\n",
       " 'same': 1.255272505103306,\n",
       " 'shadow': 1.255272505103306,\n",
       " 'sheep-like': 1.255272505103306,\n",
       " 'sick': 1.255272505103306,\n",
       " 'snp': 1.255272505103306,\n",
       " 'soldiers': 1.255272505103306,\n",
       " 'some': 1.255272505103306,\n",
       " 'state': 1.255272505103306,\n",
       " 'suspect': 1.255272505103306,\n",
       " 'syria': 2.871221255623345,\n",
       " \"syria's\": 1.255272505103306,\n",
       " 'terror': 1.255272505103306,\n",
       " 'the': 1.255272505103306,\n",
       " 'their': 1.255272505103306,\n",
       " 'thing': 1.255272505103306,\n",
       " 'think': 1.255272505103306,\n",
       " 'this': 1.255272505103306,\n",
       " 'thought': 1.255272505103306,\n",
       " 'to': 4.5724875964274059,\n",
       " 'troops': 1.255272505103306,\n",
       " 'u.s': 1.255272505103306,\n",
       " 'via': 1.255272505103306,\n",
       " 'vote': 1.255272505103306,\n",
       " 'vows': 1.255272505103306,\n",
       " 'way': 1.255272505103306,\n",
       " 'why': 1.255272505103306}"
      ]
     },
     "execution_count": 55,
     "metadata": {},
     "output_type": "execute_result"
    }
   ],
   "source": [
    "#4. Multiply the term frequency for each of the term by corresponding inverse document frequency.\n",
    "\n",
    "def tfidf(tf_dict, idf_dict):\n",
    "    tfidf_dict = {}\n",
    "    for term in tf_dict.keys():\n",
    "        tfidf_dict[term] = tf_dict[term] * idf_dict[term]\n",
    "    return tfidf_dict\n",
    "\n",
    "tfidf = tfidf(tf, idf)\n",
    "print 'Term Frequency - Inverse Document Frequency:\\n\\n'\n",
    "tfidf"
   ]
  },
  {
   "cell_type": "code",
   "execution_count": 56,
   "metadata": {
    "collapsed": false
   },
   "outputs": [],
   "source": [
    "#5. Sort the terms in the descending order based on their term freq/inverse document freq scores\n",
    "\n",
    "df = pd.DataFrame(tfidf.items(),columns=['Term','TF-IDF']).sort(ascending=False,columns=['TF-IDF'])"
   ]
  },
  {
   "cell_type": "code",
   "execution_count": 60,
   "metadata": {
    "collapsed": false
   },
   "outputs": [
    {
     "data": {
      "text/html": [
       "<div>\n",
       "<table border=\"1\" class=\"dataframe\">\n",
       "  <thead>\n",
       "    <tr style=\"text-align: right;\">\n",
       "      <th></th>\n",
       "      <th>Term</th>\n",
       "      <th>TF-IDF</th>\n",
       "    </tr>\n",
       "  </thead>\n",
       "  <tbody>\n",
       "    <tr>\n",
       "      <th>10</th>\n",
       "      <td>to</td>\n",
       "      <td>4.572488</td>\n",
       "    </tr>\n",
       "    <tr>\n",
       "      <th>43</th>\n",
       "      <td>syria</td>\n",
       "      <td>2.871221</td>\n",
       "    </tr>\n",
       "    <tr>\n",
       "      <th>27</th>\n",
       "      <td>rt</td>\n",
       "      <td>2.334454</td>\n",
       "    </tr>\n",
       "    <tr>\n",
       "      <th>38</th>\n",
       "      <td>on</td>\n",
       "      <td>2.334454</td>\n",
       "    </tr>\n",
       "    <tr>\n",
       "      <th>76</th>\n",
       "      <td>in</td>\n",
       "      <td>2.334454</td>\n",
       "    </tr>\n",
       "    <tr>\n",
       "      <th>85</th>\n",
       "      <td>approves</td>\n",
       "      <td>1.908485</td>\n",
       "    </tr>\n",
       "    <tr>\n",
       "      <th>3</th>\n",
       "      <td>mission</td>\n",
       "      <td>1.908485</td>\n",
       "    </tr>\n",
       "    <tr>\n",
       "      <th>67</th>\n",
       "      <td>anti-isis</td>\n",
       "      <td>1.908485</td>\n",
       "    </tr>\n",
       "    <tr>\n",
       "      <th>66</th>\n",
       "      <td>https://t.co/f1d4cl9ajo</td>\n",
       "      <td>1.908485</td>\n",
       "    </tr>\n",
       "    <tr>\n",
       "      <th>82</th>\n",
       "      <td>@guardiannews:</td>\n",
       "      <td>1.908485</td>\n",
       "    </tr>\n",
       "  </tbody>\n",
       "</table>\n",
       "</div>"
      ],
      "text/plain": [
       "                       Term    TF-IDF\n",
       "10                       to  4.572488\n",
       "43                    syria  2.871221\n",
       "27                       rt  2.334454\n",
       "38                       on  2.334454\n",
       "76                       in  2.334454\n",
       "85                 approves  1.908485\n",
       "3                   mission  1.908485\n",
       "67                anti-isis  1.908485\n",
       "66  https://t.co/f1d4cl9ajo  1.908485\n",
       "82           @guardiannews:  1.908485"
      ]
     },
     "execution_count": 60,
     "metadata": {},
     "output_type": "execute_result"
    }
   ],
   "source": [
    "# Print the top 10 terms\n",
    "df.head(10)"
   ]
  },
  {
   "cell_type": "code",
   "execution_count": null,
   "metadata": {
    "collapsed": true
   },
   "outputs": [],
   "source": []
  }
 ],
 "metadata": {
  "kernelspec": {
   "display_name": "Python 2",
   "language": "python",
   "name": "python2"
  },
  "language_info": {
   "codemirror_mode": {
    "name": "ipython",
    "version": 2
   },
   "file_extension": ".py",
   "mimetype": "text/x-python",
   "name": "python",
   "nbconvert_exporter": "python",
   "pygments_lexer": "ipython2",
   "version": "2.7.10"
  }
 },
 "nbformat": 4,
 "nbformat_minor": 0
}
