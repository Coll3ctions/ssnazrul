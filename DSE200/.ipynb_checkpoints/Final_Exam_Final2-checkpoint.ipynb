{
 "cells": [
  {
   "cell_type": "markdown",
   "metadata": {},
   "source": [
    "#DSE 200 Final Exam\n",
    "There are **seven** problems listed below in approximatly increacing difficulty and length.\n",
    "Most problems involve just a couple lines of code denoted by comments within the code.\n",
    "If a problem seems to require a ton of code you are likely over thinking it and should try to find a simpler solution.\n",
    "\n",
    "Here are the topics of each problem:\n",
    "1. Exception Handling\n",
    "2. Unix Piping\n",
    "3. Directory Walking\n",
    "4. Linear Regression\n",
    "5. Object Oriented Model Selection\n",
    "6. Scraping\n",
    "7. Matplotlib\n",
    "\n",
    "This test is open internet; however, communication with your peers/others is strictly prohibited.  \n",
    "\n",
    "Good Luck!"
   ]
  },
  {
   "cell_type": "markdown",
   "metadata": {},
   "source": [
    "##Exception Handling\n",
    "\n",
    "Write a function to add two numbers, if either of the arguements is not an int or float, throw a new ArguementsMustBeNumbers exception."
   ]
  },
  {
   "cell_type": "code",
   "execution_count": 40,
   "metadata": {
    "collapsed": false
   },
   "outputs": [],
   "source": [
    "class ArguementsMustBeNumbers(Exception):\n",
    "    None"
   ]
  },
  {
   "cell_type": "code",
   "execution_count": 41,
   "metadata": {
    "collapsed": false
   },
   "outputs": [
    {
     "data": {
      "text/plain": [
       "True"
      ]
     },
     "execution_count": 41,
     "metadata": {},
     "output_type": "execute_result"
    }
   ],
   "source": [
    "x=1\n",
    "type(x) in [float,int]"
   ]
  },
  {
   "cell_type": "code",
   "execution_count": 42,
   "metadata": {
    "collapsed": false
   },
   "outputs": [],
   "source": [
    "def add_two(x,y):\n",
    "    types = [float,int]\n",
    "    if type(x) not in types or type(y) not in types:#Check types of x and y\n",
    "        raise ArguementsMustBeNumbers()\n",
    "    return x+y\n"
   ]
  },
  {
   "cell_type": "markdown",
   "metadata": {},
   "source": [
    "After this code is correctly implemented, the following code should print True 4 times (no exceptions should be uncaught)."
   ]
  },
  {
   "cell_type": "code",
   "execution_count": 44,
   "metadata": {
    "collapsed": false
   },
   "outputs": [
    {
     "name": "stdout",
     "output_type": "stream",
     "text": [
      "True\n",
      "True\n",
      "True\n",
      "True\n"
     ]
    }
   ],
   "source": [
    "print add_two(1,1)==2\n",
    "try:\n",
    "    add_two(\"t\",1)\n",
    "    print False\n",
    "except ArguementsMustBeNumbers:\n",
    "    print True\n",
    "try:\n",
    "    add_two(2,\"f\")\n",
    "    print False\n",
    "except ArguementsMustBeNumbers:\n",
    "    print True\n",
    "try:\n",
    "    add_two(\"t\",\"f\")\n",
    "    print False\n",
    "except ArguementsMustBeNumbers:\n",
    "    print True"
   ]
  },
  {
   "cell_type": "markdown",
   "metadata": {},
   "source": [
    "##Unix Piping \n",
    "\n",
    "Below we generate a file called ps_out which contains a details about all processes on our machine.  In particular it is a csv file containing the PID, Username which owns the process, and the percent of the CPU time occupied by it.\n",
    "\n",
    "We'll ask you to process this file using unix tools."
   ]
  },
  {
   "cell_type": "code",
   "execution_count": 45,
   "metadata": {
    "collapsed": false
   },
   "outputs": [
    {
     "name": "stdout",
     "output_type": "stream",
     "text": [
      "PID,USER,%CPU\r\n",
      "1,root,0.1\r\n",
      "2,root,0.0\r\n",
      "3,root,0.0\r\n",
      "4,root,0.0\r\n",
      "6,root,0.0\r\n",
      "7,root,0.0\r\n",
      "8,root,0.0\r\n",
      "9,root,0.0\r\n",
      "10,root,0.0\r\n"
     ]
    }
   ],
   "source": [
    "#Do not modify this section\n",
    "!ps -Ao \"pid,user,%cpu\" | sed \"s/^ *//\" | sed \"s/  */,/g\" > ps_out\n",
    "!head ps_out"
   ]
  },
  {
   "cell_type": "markdown",
   "metadata": {},
   "source": [
    "First, using **only unix tools**, count the number of processes each user is running"
   ]
  },
  {
   "cell_type": "code",
   "execution_count": 75,
   "metadata": {
    "collapsed": false
   },
   "outputs": [
    {
     "name": "stdout",
     "output_type": "stream",
     "text": [
      "209\r\n"
     ]
    }
   ],
   "source": [
    "#Subtract 1 from the final value to exclude header\n",
    "!cat ps_out | wc -l | xargs -n 1 expr -1 +"
   ]
  },
  {
   "cell_type": "markdown",
   "metadata": {},
   "source": [
    "Second, using **only unix tools**, find the pid which is using the largest cpu %.\n",
    "\n",
    "Your output should only be a single number (the process id consuming the largest cpu amount), i.e. `30048`"
   ]
  },
  {
   "cell_type": "code",
   "execution_count": 76,
   "metadata": {
    "collapsed": false
   },
   "outputs": [
    {
     "name": "stdout",
     "output_type": "stream",
     "text": [
      "13347\r\n"
     ]
    }
   ],
   "source": [
    "#Second value of sort is largest\n",
    "!cat ps_out | sort -rn | head -2 | tail -1 | grep -o '[0-9]*' | head -1"
   ]
  },
  {
   "cell_type": "markdown",
   "metadata": {},
   "source": [
    "##Directory Walking\n",
    "\n",
    "Below we have written a program which uses os.walk, unix tools, and python to find the 3 longest files by line count within each directory under the /etc/ directory.\n",
    "\n",
    "However, it is currently has several problems which you are tasked with fixing.\n",
    "\n",
    "Here are the current problems which must be fixed:\n",
    "\n",
    "1. the output is not sorted by line count\n",
    "2. the \"total\" line listing the total lines across the directory is not a file and should be removed\n",
    "3. more than three files are being printed\n",
    "4. directories that contain no files are being printed\n",
    "\n",
    "These issues should be resolved by using a combintation of python and or unix commands.  Please ensure the output format is not changed."
   ]
  },
  {
   "cell_type": "code",
   "execution_count": 86,
   "metadata": {
    "collapsed": false,
    "scrolled": true
   },
   "outputs": [
    {
     "name": "stdout",
     "output_type": "stream",
     "text": [
      "Longest files in /etc/:\n",
      "\t/etc//bash_completion\t1700\n",
      "\t/etc//mime.types\t821\n",
      "\t/etc//services\t605\n",
      "\t/etc//ltrace.conf\t604\n",
      "\t/etc//sensors3.conf\t523\n",
      "\t/etc//brltty.conf\t515\n",
      "\t/etc//securetty\t390\n",
      "\t/etc//avserver.conf\t377\n",
      "\t/etc//login.defs\t341\n",
      "\t/etc//nanorc\t299\n",
      "\t/etc//ca-certificates.conf\t201\n",
      "\t/etc//pnm2ppa.conf\t187\n",
      "\t/etc//ca-certificates.conf.dpkg-old\t163\n",
      "\t/etc//lsb-base-logging.sh\t141\n",
      "\t/etc//hdparm.conf\t133\n",
      "\t/etc//manpath.config\t131\n",
      "\t/etc//wgetrc\t126\n",
      "\t/etc//mailcap\t122\n",
      "\t/etc//gai.conf\t86\n",
      "\t/etc//adduser.conf\t85\n",
      "\t/etc//debconf.conf\t83\n",
      "\t/etc//locale.alias\t74\n",
      "\t/etc//inputrc\t66\n",
      "\t/etc//protocols\t64\n",
      "\t/etc//group\t64\n",
      "\t/etc//bash.bashrc\t64\n",
      "\t/etc//netscsid.conf\t62\n",
      "\t/etc//rsyslog.conf\t61\n",
      "\t/etc//sysctl.conf\t60\n",
      "\t/etc//mke2fs.conf\t53\n",
      "\t/etc//wodim.conf\t48\n",
      "\t/etc//kerneloops.conf\t46\n",
      "\t/etc//request-key.conf\t43\n",
      "\t/etc//rpc\t40\n",
      "\t/etc//ld.so.cache\t40\n",
      "\t/etc//ucf.conf\t39\n",
      "\t/etc//insserv.conf\t36\n",
      "\t/etc//passwd\t34\n",
      "\t/etc//logrotate.conf\t32\n",
      "\t/etc//profile\t30\n",
      "\t/etc//ts.conf\t25\n",
      "\t/etc//mtools.conf\t25\n",
      "\t/etc//motd\t24\n",
      "\t/etc//colord.conf\t24\n",
      "\t/etc//hosts.deny\t20\n",
      "\t/etc//deluser.conf\t20\n",
      "\t/etc//usb_modeswitch.conf\t19\n",
      "\t/etc//nsswitch.conf\t19\n",
      "\t/etc//pam.conf\t15\n",
      "\t/etc//crontab\t15\n",
      "\t/etc//rc.local\t14\n",
      "\t/etc//bindresvport.blacklist\t14\n",
      "\t/etc//mtab\t13\n",
      "\t/etc//hosts.allow\t13\n",
      "\t/etc//anacrontab\t12\n",
      "\t/etc//zsh_command_not_found\t11\n",
      "\t/etc//modules\t10\n",
      "\t/etc//mailcap.order\t10\n",
      "\t/etc//fstab\t10\n",
      "\t/etc//blkid.conf\t10\n",
      "\t/etc//hosts\t9\n",
      "\t/etc//rmt\t8\n",
      "\t/etc//localtime\t8\n",
      "\t/etc//legal\t8\n",
      "\t/etc//os-release\t6\n",
      "\t/etc//shells\t5\n",
      "\t/etc//updatedb.conf\t4\n",
      "\t/etc//resolv.conf\t4\n",
      "\t/etc//lsb-release\t4\n",
      "\t/etc//apg.conf\t4\n",
      "\t/etc//vtrgb\t3\n",
      "\t/etc//printcap\t3\n",
      "\t/etc//magic.mime\t3\n",
      "\t/etc//magic\t3\n",
      "\t/etc//host.conf\t3\n",
      "\t/etc//vdpau_wrapper.cfg\t2\n",
      "\t/etc//networks\t2\n",
      "\t/etc//ld.so.conf\t2\n",
      "\t/etc//issue\t2\n",
      "\t/etc//buildstamp\t2\n",
      "\t/etc//timezone\t1\n",
      "\t/etc//issue.net\t1\n",
      "\t/etc//hostname\t1\n",
      "\t/etc//environment\t1\n",
      "\t/etc//debian_version\t1\n",
      "\t/etc//brlapi.key\t1\n",
      "\t/etc//adjtime\t1\n",
      "\t/etc//xul-ext\t0\n",
      "\t/etc//xml\t0\n",
      "\t/etc//xdg\t0\n",
      "\t/etc//X11\t0\n",
      "\t/etc//wpa_supplicant\t0\n",
      "\t/etc//wildmidi\t0\n",
      "\t/etc//vim\t0\n",
      "\t/etc//vga\t0\n",
      "\t/etc//usb_modeswitch.d\t0\n",
      "\t/etc//UPower\t0\n",
      "\t/etc//update-notifier\t0\n",
      "\t/etc//update-motd.d\t0\n",
      "\t/etc//update-manager\t0\n",
      "\t/etc//ufw\t0\n",
      "\t/etc//udev\t0\n",
      "\t/etc//timidity\t0\n",
      "\t/etc//thunderbird\t0\n",
      "\t/etc//texmf\t0\n",
      "\t/etc//terminfo\t0\n",
      "\t/etc//systemd\t0\n",
      "\t/etc//sysctl.d\t0\n",
      "\t/etc//sudoers.d\t0\n",
      "\t/etc//ssl\t0\n",
      "\t/etc//ssh\t0\n",
      "\t/etc//speech-dispatcher\t0\n",
      "\t/etc//sound\t0\n",
      "\t/etc//snmp\t0\n",
      "\t/etc//skel\t0\n",
      "\t/etc//sgml\t0\n",
      "\t/etc//sensors.d\t0\n",
      "\t/etc//security\t0\n",
      "\t/etc//sane.d\t0\n",
      "\t/etc//samba\t0\n",
      "\t/etc//rsyslog.d\t0\n",
      "\t/etc//resolvconf\t0\n",
      "\t/etc//rcS.d\t0\n",
      "\t/etc//rc6.d\t0\n",
      "\t/etc//rc5.d\t0\n",
      "\t/etc//rc4.d\t0\n",
      "\t/etc//rc3.d\t0\n",
      "\t/etc//rc2.d\t0\n",
      "\t/etc//rc1.d\t0\n",
      "\t/etc//rc0.d\t0\n",
      "\t/etc//python2.7\t0\n",
      "\t/etc//python\t0\n",
      "\t/etc//pulse\t0\n",
      "\t/etc//profile.d\t0\n",
      "\t/etc//ppp\t0\n",
      "\t/etc//polkit-1\t0\n",
      "\t/etc//pm\t0\n",
      "\t/etc//pkcs11\t0\n",
      "\t/etc//perl\t0\n",
      "\t/etc//pcmcia\t0\n",
      "\t/etc//pam.d\t0\n",
      "\t/etc//opt\t0\n",
      "\t/etc//OpenCL\t0\n",
      "\t/etc//openal\t0\n",
      "\t/etc//obex-data-server\t0\n",
      "\t/etc//newt\t0\n",
      "\t/etc//NetworkManager\t0\n",
      "\t/etc//network\t0\n",
      "\t/etc//mysql\t0\n",
      "\t/etc//mplayer\t0\n",
      "\t/etc//mono\t0\n",
      "\t/etc//modprobe.d\t0\n",
      "\t/etc//lsb-base\t0\n",
      "\t/etc//logrotate.d\t0\n",
      "\t/etc//logcheck\t0\n",
      "\t/etc//lighttpd\t0\n",
      "\t/etc//lightdm\t0\n",
      "\t/etc//libreoffice\t0\n",
      "\t/etc//libpaper.d\t0\n",
      "\t/etc//libnl-3\t0\n",
      "\t/etc//ld.so.conf.d\t0\n",
      "\t/etc//ldap\t0\n",
      "\t/etc//kernel-img.conf\t0\n",
      "\t/etc//kernel\t0\n",
      "\t/etc//kbd\t0\n",
      "\t/etc//javascript-common\t0\n",
      "\t/etc//java-6-openjdk\t0\n",
      "\t/etc//iproute2\t0\n",
      "\t/etc//insserv.conf.d\t0\n",
      "\t/etc//insserv\t0\n",
      "\t/etc//initramfs-tools\t0\n",
      "\t/etc//init.d\t0\n",
      "\t/etc//init\t0\n",
      "\t/etc//ifplugd\t0\n",
      "\t/etc//icedtea-web\t0\n",
      "\t/etc//hp\t0\n",
      "\t/etc//gtk-3.0\t0\n",
      "\t/etc//gtk-2.0\t0\n",
      "\t/etc//grub.d\t0\n",
      "\t/etc//groff\t0\n",
      "\t/etc//gnome-settings-daemon\t0\n",
      "\t/etc//gnome-app-install\t0\n",
      "\t/etc//gnome\t0\n",
      "\t/etc//glidepoint\t0\n",
      "\t/etc//ginn\t0\n",
      "\t/etc//ghostscript\t0\n",
      "\t/etc//gdb\t0\n",
      "\t/etc//gconf\t0\n",
      "\t/etc//fstab.d\t0\n",
      "\t/etc//foomatic\t0\n",
      "\t/etc//fonts\t0\n",
      "\t/etc//firefox\t0\n",
      "\t/etc//esound\t0\n",
      "\t/etc//emacs\t0\n",
      "\t/etc//dpkg\t0\n",
      "\t/etc//doc-base\t0\n",
      "\t/etc//dkms\t0\n",
      "\t/etc//dictionaries-common\t0\n",
      "\t/etc//dhcp3\t0\n",
      "\t/etc//dhcp\t0\n",
      "\t/etc//depmod.d\t0\n",
      "\t/etc//default\t0\n",
      "\t/etc//dbus-1\t0\n",
      "\t/etc//cupshelpers\t0\n",
      "\t/etc//cups\t0\n",
      "\t/etc//cron.weekly\t0\n",
      "\t/etc//cron.monthly\t0\n",
      "\t/etc//cron.hourly\t0\n",
      "\t/etc//cron.daily\t0\n",
      "\t/etc//cron.d\t0\n",
      "\t/etc//console-setup\t0\n",
      "\t/etc//ConsoleKit\t0\n",
      "\t/etc//compizconfig\t0\n",
      "\t/etc//checkbox.d\t0\n",
      "\t/etc//chatscripts\t0\n",
      "\t/etc//calendar\t0\n",
      "\t/etc//ca-certificates\t0\n",
      "\t/etc//brltty\t0\n",
      "\t/etc//bluetooth\t0\n",
      "\t/etc//bash_completion.d\t0\n",
      "\t/etc//avahi\t0\n",
      "\t/etc//at-spi2\t0\n",
      "\t/etc//ati\t0\n",
      "\t/etc//apt\t0\n",
      "\t/etc//apport\t0\n",
      "\t/etc//apparmor.d\t0\n",
      "\t/etc//apparmor\t0\n",
      "\t/etc//apm\t0\n",
      "\t/etc//apache2\t0\n",
      "\t/etc//alternatives\t0\n",
      "\t/etc//acpi\t0\n",
      "\n",
      "Longest files in /etc/lsb-base:\n",
      "\n",
      "Longest files in /etc/mplayer:\n",
      "\t/etc/mplayer/input.conf\t174\n",
      "\t/etc/mplayer/menu.conf\t151\n",
      "\t/etc/mplayer/mplayer.conf\t133\n",
      "\n"
     ]
    }
   ],
   "source": [
    "import os\n",
    "from itertools import chain,groupby\n",
    "\n",
    "i = 0\n",
    "j = 0\n",
    "for d,ds,fs in os.walk(\"/etc/\"):\n",
    "    #TODO: 1) Make output sorted by line count\n",
    "    #      2) Remove the Total line\n",
    "    #      3) Limit to 3 files per directory\n",
    "    #      4) Ignore directories containing no files\n",
    "    \n",
    "    #Limit to 3 folders\n",
    "    i+=1\n",
    "    if i > 3:\n",
    "        break\n",
    "        \n",
    "    #Limit to 3 files\n",
    "    for f in fs:\n",
    "        j+=1\n",
    "        if j>3:\n",
    "            break        \n",
    "            \n",
    "    lines = !wc -l $d/* 2> /dev/null | sed \"s/^ *//\" | sort -rn\n",
    "    \n",
    "    files = []\n",
    "    for line in lines:\n",
    "        if 'total' in line:\n",
    "            continue\n",
    "        try:\n",
    "            fields = line.split(\" \")\n",
    "            files.append((int(fields[0]),fields[1]))\n",
    "        except ValueError:\n",
    "            print \"Bad line: \" + line\n",
    "                        \n",
    "    print \"Longest files in \" + d + \":\"\n",
    "    for lc, f in files:\n",
    "        print \"\\t%s\\t%d\" %(f,lc)\n",
    "    print"
   ]
  },
  {
   "cell_type": "markdown",
   "metadata": {},
   "source": [
    "##Linear Regression\n",
    "\n",
    "In the file linear.csv there is a set of 100 x,y pairs of numbers in csv format.\n",
    "\n",
    "About 10% of the lines have a missing y value.\n",
    "\n",
    "Your goal is to do the following:\n",
    "\n",
    "1. Preprocess the data to remove any points with a missing y value\n",
    "2. Fit a linear regression model using sklearn's LinearRegression package\n",
    "3. Plot a scatter plot of the populated x,y pairs as blue points and the best fit linear regression line in red"
   ]
  },
  {
   "cell_type": "code",
   "execution_count": 87,
   "metadata": {
    "collapsed": false
   },
   "outputs": [
    {
     "name": "stdout",
     "output_type": "stream",
     "text": [
      "Populating the interactive namespace from numpy and matplotlib\n"
     ]
    },
    {
     "name": "stderr",
     "output_type": "stream",
     "text": [
      "WARNING: pylab import has clobbered these variables: ['f']\n",
      "`%matplotlib` prevents importing * from pylab and numpy\n"
     ]
    },
    {
     "data": {
      "text/html": [
       "<div>\n",
       "<table border=\"1\" class=\"dataframe\">\n",
       "  <thead>\n",
       "    <tr style=\"text-align: right;\">\n",
       "      <th></th>\n",
       "      <th>x</th>\n",
       "      <th>y</th>\n",
       "    </tr>\n",
       "  </thead>\n",
       "  <tbody>\n",
       "    <tr>\n",
       "      <th>0</th>\n",
       "      <td>82.583220</td>\n",
       "      <td>134.907414</td>\n",
       "    </tr>\n",
       "    <tr>\n",
       "      <th>1</th>\n",
       "      <td>73.922466</td>\n",
       "      <td>134.085180</td>\n",
       "    </tr>\n",
       "    <tr>\n",
       "      <th>2</th>\n",
       "      <td>34.887445</td>\n",
       "      <td>NaN</td>\n",
       "    </tr>\n",
       "    <tr>\n",
       "      <th>3</th>\n",
       "      <td>61.839983</td>\n",
       "      <td>114.530638</td>\n",
       "    </tr>\n",
       "    <tr>\n",
       "      <th>4</th>\n",
       "      <td>16.775940</td>\n",
       "      <td>31.376437</td>\n",
       "    </tr>\n",
       "  </tbody>\n",
       "</table>\n",
       "</div>"
      ],
      "text/plain": [
       "           x           y\n",
       "0  82.583220  134.907414\n",
       "1  73.922466  134.085180\n",
       "2  34.887445         NaN\n",
       "3  61.839983  114.530638\n",
       "4  16.775940   31.376437"
      ]
     },
     "execution_count": 87,
     "metadata": {},
     "output_type": "execute_result"
    }
   ],
   "source": [
    "#Do not modify\n",
    "import numpy as np\n",
    "import pandas as pd\n",
    "from sklearn.linear_model import LinearRegression\n",
    "%pylab inline\n",
    "import matplotlib.pyplot as plt\n",
    "data = pd.read_csv(\"./linear.csv\")\n",
    "data.head()"
   ]
  },
  {
   "cell_type": "markdown",
   "metadata": {},
   "source": [
    "1. Preprocess the data to remove any points with a missing y value"
   ]
  },
  {
   "cell_type": "code",
   "execution_count": 90,
   "metadata": {
    "collapsed": false
   },
   "outputs": [
    {
     "data": {
      "text/html": [
       "<div>\n",
       "<table border=\"1\" class=\"dataframe\">\n",
       "  <thead>\n",
       "    <tr style=\"text-align: right;\">\n",
       "      <th></th>\n",
       "      <th>x</th>\n",
       "      <th>y</th>\n",
       "    </tr>\n",
       "  </thead>\n",
       "  <tbody>\n",
       "    <tr>\n",
       "      <th>0</th>\n",
       "      <td>82.583220</td>\n",
       "      <td>134.907414</td>\n",
       "    </tr>\n",
       "    <tr>\n",
       "      <th>1</th>\n",
       "      <td>73.922466</td>\n",
       "      <td>134.085180</td>\n",
       "    </tr>\n",
       "    <tr>\n",
       "      <th>3</th>\n",
       "      <td>61.839983</td>\n",
       "      <td>114.530638</td>\n",
       "    </tr>\n",
       "    <tr>\n",
       "      <th>4</th>\n",
       "      <td>16.775940</td>\n",
       "      <td>31.376437</td>\n",
       "    </tr>\n",
       "    <tr>\n",
       "      <th>5</th>\n",
       "      <td>0.016737</td>\n",
       "      <td>8.764634</td>\n",
       "    </tr>\n",
       "  </tbody>\n",
       "</table>\n",
       "</div>"
      ],
      "text/plain": [
       "           x           y\n",
       "0  82.583220  134.907414\n",
       "1  73.922466  134.085180\n",
       "3  61.839983  114.530638\n",
       "4  16.775940   31.376437\n",
       "5   0.016737    8.764634"
      ]
     },
     "execution_count": 90,
     "metadata": {},
     "output_type": "execute_result"
    }
   ],
   "source": [
    "training_data = data[pd.notnull(data['y'])]\n",
    "training_data.head()"
   ]
  },
  {
   "cell_type": "markdown",
   "metadata": {},
   "source": [
    "Fit a linear regression model using sklearn's LinearRegression package"
   ]
  },
  {
   "cell_type": "code",
   "execution_count": 103,
   "metadata": {
    "collapsed": false
   },
   "outputs": [
    {
     "name": "stdout",
     "output_type": "stream",
     "text": [
      "formula: y = 1.583197 x + 4.470197\n"
     ]
    }
   ],
   "source": [
    "mdl = LinearRegression()\n",
    "x = np.reshape(training_data['x'].values, (training_data['x'].size,1))\n",
    "y = np.reshape(training_data['y'].values, (training_data['y'].size,1))\n",
    "mdl.fit(x,y)\n",
    "\n",
    "#Print formula so we can see the best fit line\n",
    "m = mdl.coef_[0]\n",
    "b = mdl.intercept_\n",
    "print \"formula: y = %f x + %f\" % (m,b)"
   ]
  },
  {
   "cell_type": "markdown",
   "metadata": {},
   "source": [
    "Plot a scatter plot of the populated x,y pairs as blue points and the best fit linear regression line in red"
   ]
  },
  {
   "cell_type": "code",
   "execution_count": 119,
   "metadata": {
    "collapsed": false
   },
   "outputs": [
    {
     "data": {
      "text/plain": [
       "(array([ 0.01673734]),\n",
       " array([ 99.43229386]),\n",
       " array([-6.23629471]),\n",
       " array([ 166.1645443]))"
      ]
     },
     "execution_count": 119,
     "metadata": {},
     "output_type": "execute_result"
    },
    {
     "data": {
      "image/png": "[encoded data removed]",
      "text/plain": [
       "<matplotlib.figure.Figure at 0x7fce533d7050>"
      ]
     },
     "metadata": {},
     "output_type": "display_data"
    }
   ],
   "source": [
    "reg_line = m*x + b\n",
    "plt.figure(figsize(15,5))\n",
    "plt.title('Linear Regression', fontsize=16)\n",
    "plt.scatter(x,y,color='blue')\n",
    "plt.plot(x,reg_line,'r')\n",
    "plt.axis((min(x), max(x), min(y), max(y)))"
   ]
  },
  {
   "cell_type": "markdown",
   "metadata": {},
   "source": [
    "##Object Oriented Model Selection\n",
    "\n",
    "Throughout the quarter, several problems have involved choosing the best model from a set of candidate models to get the best accuracy.\n",
    "\n",
    "Besides using it for selecting model hyperparmeters (as in grid search) or features, you can also use it to select the modeling method (regression, nearest neighbor, etc.).  \n",
    "\n",
    "We define three steps on the way to finding the best model.\n",
    "\n",
    "1. Define a base model class.\n",
    "1. Define four models by inheriting from a base model class.\n",
    "2. Use train/test errors to choose the best of the four model\n",
    "\n",
    "#### The base class\n",
    "We defined the base class, from which all of the other classes are derived."
   ]
  },
  {
   "cell_type": "code",
   "execution_count": 180,
   "metadata": {
    "collapsed": false
   },
   "outputs": [],
   "source": [
    "# Do not modify this code\n",
    "class BaseModel:\n",
    "    def __init__(self, train_x, train_y):\n",
    "        \"\"\"Abstract constructor, subclasses should train a model of their type here and store\n",
    "           it in a way that predict can be used to compute predictions\"\"\"\n",
    "        raise Exception(\"This is an abstract class\")\n",
    "        \n",
    "    def predict(self, x):\n",
    "        \"\"\"Abstract method to compute a single prediction given a single example x\"\"\"\n",
    "        raise Exception(\"This is an abstract class\")\n",
    "        \n",
    "    def score(self, xs, ys):\n",
    "        \"\"\"Returns the accuracy of this model using xs as a list of inputs and ys as a list of correct values.\"\"\"\n",
    "        return sum([(self.predict(x)-y)**2 for x,y in zip(xs,ys)])/len(xs)\n",
    "    "
   ]
  },
  {
   "cell_type": "markdown",
   "metadata": {},
   "source": [
    "Now that you have implemented the BaseModel, implement a class for LinearModel, QuadraticModel, CubicModel, and QuarticModel. Use numpy's [polyfit](http://docs.scipy.org/doc/numpy/reference/generated/numpy.polyfit.html) function to find the coefficients ($a_i$) using the training data given as parameters `train_x, train_y` to the constructor.\n",
    "\n",
    "The input to each model is the variable $x$ and the output is the variable $y$.  $a_i$ refers to the coefficients found by polyfit.\n",
    "\n",
    "* **LinearModel** $y=a_1x+a_0$\n",
    "* **QuadraticModel** $y=a_2x^2+a_1x+a_0$\n",
    "* **CubicModel** $y=a_3x^3+a_2x^2+a_1x+a_0$\n",
    "* **QuarticModel** $y=a_4x^4+a_3x^3+a_2x^2+a_1x+a_0$\n"
   ]
  },
  {
   "cell_type": "code",
   "execution_count": 181,
   "metadata": {
    "collapsed": false
   },
   "outputs": [],
   "source": [
    "from numpy import polyfit, polyval\n",
    "\n",
    "#This model has been solved as below, and can be used as reference to write classes for models ahead.\n",
    "\n",
    "class LinearModel(BaseModel):\n",
    "    def __init__(self, train_x, train_y):\n",
    "        #calculate coefficients\n",
    "        self.coef = polyfit(train_x, train_y,1)\n",
    "        \n",
    "    def predict(self, x):\n",
    "        #use coeficients/formula to compute solution\n",
    "        y = self.coef[0] * x + self.coef[1]\n",
    "        return y"
   ]
  },
  {
   "cell_type": "code",
   "execution_count": 182,
   "metadata": {
    "collapsed": false
   },
   "outputs": [],
   "source": [
    "class QuadraticModel(BaseModel):\n",
    "    def __init__(self, train_x, train_y):\n",
    "        #calculate coefficients\n",
    "        self.coef = polyfit(train_x, train_y,2)\n",
    "        \n",
    "    def predict(self, x):\n",
    "        y = self.coef[2] * x**2 + self.coef[1] * x + self.coef[0]\n",
    "        return y"
   ]
  },
  {
   "cell_type": "code",
   "execution_count": 183,
   "metadata": {
    "collapsed": false
   },
   "outputs": [],
   "source": [
    "class CubicModel(BaseModel):\n",
    "    def __init__(self, train_x, train_y):\n",
    "        #calculate coefficients\n",
    "        self.coef = polyfit(train_x, train_y,3)\n",
    "        \n",
    "    def predict(self, x):\n",
    "        y = self.coef[3] * x**3 +self.coef[2] * x**2 + self.coef[1] * x + self.coef[0]        \n",
    "        return y"
   ]
  },
  {
   "cell_type": "code",
   "execution_count": 184,
   "metadata": {
    "collapsed": false
   },
   "outputs": [],
   "source": [
    "class QuarticModel(BaseModel):\n",
    "    def __init__(self, train_x, train_y):\n",
    "        #calculate coefficients\n",
    "        self.coef = polyfit(train_x, train_y,4)\n",
    "        \n",
    "    def predict(self, x):\n",
    "        y = self.coef[4] * x**4 + self.coef[3] * x**3 +self.coef[2] * x**2 + self.coef[1] * x + self.coef[0]        \n",
    "        return y"
   ]
  },
  {
   "cell_type": "markdown",
   "metadata": {},
   "source": [
    "Next, we evaluate each of these models on our data.  Fill in the parts of the function marked \"TODO\" below."
   ]
  },
  {
   "cell_type": "code",
   "execution_count": 185,
   "metadata": {
    "collapsed": false
   },
   "outputs": [],
   "source": [
    "#Load Data, do not modify\n",
    "train = pd.read_csv(\"train_data.csv\")\n",
    "valid = pd.read_csv(\"validation_data.csv\")\n",
    "train_x = train[\"x\"].tolist()\n",
    "train_y = train[\"y\"].tolist()\n",
    "valid_x = valid[\"x\"].tolist()\n",
    "valid_y = valid[\"y\"].tolist()"
   ]
  },
  {
   "cell_type": "code",
   "execution_count": 197,
   "metadata": {
    "collapsed": false
   },
   "outputs": [
    {
     "name": "stdout",
     "output_type": "stream",
     "text": [
      "Min. Train Error:\tLinearModel\n",
      "Min. Valid Error:\tLinearModel\n"
     ]
    }
   ],
   "source": [
    "Models = [LinearModel, QuadraticModel, CubicModel, QuarticModel]\n",
    "\n",
    "train_error = []\n",
    "valid_error = []\n",
    "for Model in Models:\n",
    "    mdl = Model(train_x,train_y)\n",
    "    train_error.append(mdl.score(train_x,train_y))\n",
    "    valid_error.append(mdl.score(valid_x,valid_y))\n",
    "    \n",
    "#Todo: Find technique with minimum validation error\n",
    "train_min=Models[train_error.index(min(train_error))].__name__\n",
    "valid_min=Models[valid_error.index(min(valid_error))].__name__\n",
    "\n",
    "print 'Min. Train Error:\\t'+train_min\n",
    "print 'Min. Valid Error:\\t'+valid_min"
   ]
  },
  {
   "cell_type": "markdown",
   "metadata": {},
   "source": [
    "Finally plot the training and validation error on the same plot.  Have a legend denoting which line is validation/training error."
   ]
  },
  {
   "cell_type": "code",
   "execution_count": 202,
   "metadata": {
    "collapsed": false
   },
   "outputs": [
    {
     "data": {
      "text/plain": [
       "<matplotlib.text.Text at 0x7fce53318590>"
      ]
     },
     "execution_count": 202,
     "metadata": {},
     "output_type": "execute_result"
    },
    {
     "data": {
      "image/png": "[encoded data removed]",
      "text/plain": [
       "<matplotlib.figure.Figure at 0x7fce52fe9050>"
      ]
     },
     "metadata": {},
     "output_type": "display_data"
    }
   ],
   "source": [
    "plt.plot(train_error)\n",
    "plt.plot(valid_error)\n",
    "plt.legend(['Train Error', 'Valid Error'], loc=0)\n",
    "plt.title('Error', fontsize=16)"
   ]
  },
  {
   "cell_type": "markdown",
   "metadata": {},
   "source": [
    "##Scraping\n",
    "\n",
    "Started as a travel journal, Lonely Planet has gone on to become the world’s most successful travel publisher, and they maintain an award winning website giving all the necessary details a traveller could ask for. \n",
    "In this question we will try to use their website lonelyplanet.com to find the top sightseeing places in San diego and how far they are from our current location\n",
    "\n",
    "In order to do this, we will scrape the website to find the top sightseeing places and develop a table containing the name of the place and its corresponding latitude, longitude values. We will then define a function to calculate distance between two points given their latitude and longitude.\n",
    "\n",
    "You can take your current location as UCSD Rady School of Management, with Latitude 32.88661 and longitude -117.24128"
   ]
  },
  {
   "cell_type": "code",
   "execution_count": 234,
   "metadata": {
    "collapsed": false
   },
   "outputs": [],
   "source": [
    "#Do not modify\n",
    "import lxml.html as lh\n",
    "import requests\n",
    "import urllib\n",
    "import pandas as pd\n",
    "import re"
   ]
  },
  {
   "cell_type": "markdown",
   "metadata": {},
   "source": [
    "Here we download the index of san diego sights for us to process."
   ]
  },
  {
   "cell_type": "code",
   "execution_count": 235,
   "metadata": {
    "collapsed": false
   },
   "outputs": [],
   "source": [
    "#Do not modify\n",
    "website = \"http://www.lonelyplanet.com\"\n",
    "country = \"usa\"\n",
    "city = \"san-diego\"\n",
    "scrape_topic = \"sights\"\n",
    "base_url = website+\"/\"+country+\"/\"+city+\"/\"+scrape_topic+\"/\"\n",
    "r  = requests.get(base_url)\n",
    "doc = lh.fromstring(r.content)"
   ]
  },
  {
   "cell_type": "markdown",
   "metadata": {},
   "source": [
    "Once you have retrieved the entire data from the website, The urls can be printed as follows. "
   ]
  },
  {
   "cell_type": "code",
   "execution_count": 236,
   "metadata": {
    "collapsed": false
   },
   "outputs": [
    {
     "name": "stdout",
     "output_type": "stream",
     "text": [
      "[]\n",
      "[]\n",
      "['http://www.lonelyplanet.com/legal/cookies']\n",
      "['http://www.lonelyplanet.com/legal/cookies/']\n",
      "['#container']\n",
      "['#search-box']\n",
      "['#global-nav']\n",
      "['http://www.lonelyplanet.com']\n",
      "['http://shop.lonelyplanet.com/cart/view']\n",
      "['https://www.lonelyplanet.com/thorntree/my_account']\n",
      "['http://www.lonelyplanet.com/search']\n",
      "['http://www.lonelyplanet.com/places']\n",
      "['http://www.lonelyplanet.com/best-in-travel']\n",
      "['http://www.lonelyplanet.com/africa']\n",
      "['http://www.lonelyplanet.com/antarctica-1007062']\n",
      "['http://www.lonelyplanet.com/asia']\n",
      "['http://www.lonelyplanet.com/caribbean']\n",
      "['http://www.lonelyplanet.com/central-america']\n",
      "['http://www.lonelyplanet.com/europe']\n",
      "['http://www.lonelyplanet.com/middle-east']\n",
      "['http://www.lonelyplanet.com/north-america']\n",
      "['http://www.lonelyplanet.com/pacific']\n",
      "['http://www.lonelyplanet.com/south-america']\n",
      "['/places']\n",
      "['http://www.lonelyplanet.com/inspiration']\n",
      "['http://www.lonelyplanet.com/adventure-travel']\n",
      "['http://www.lonelyplanet.com/beaches']\n",
      "['http://www.lonelyplanet.com/budget-travel']\n",
      "['http://www.lonelyplanet.com/coasts-and-islands']\n",
      "['http://www.lonelyplanet.com/family-travel']\n",
      "['http://www.lonelyplanet.com/festivals-and-events']\n",
      "['http://www.lonelyplanet.com/food-and-drink']\n",
      "['http://www.lonelyplanet.com/honeymoons-and-romance']\n",
      "['http://www.lonelyplanet.com/luxury-travel']\n",
      "['http://www.lonelyplanet.com/round-the-world-travel']\n",
      "['http://www.lonelyplanet.com/wildlife-and-nature']\n",
      "['http://shop.lonelyplanet.com']\n",
      "['http://www.lonelyplanet.com/thorntree']\n",
      "['http://www.lonelyplanet.com/bookings/']\n",
      "['http://www.lonelyplanet.com/hotels']\n",
      "['http://www.lonelyplanet.com/flights/']\n",
      "['http://www.lonelyplanet.com/car-rental/']\n",
      "['http://www.lonelyplanet.com/adventure-tours/']\n",
      "['http://www.lonelyplanet.com/sightseeing-tours/']\n",
      "['http://www.lonelyplanet.com/airport-transfers/']\n",
      "['http://www.lonelyplanet.com/travel-insurance']\n",
      "['/usa/san-diego/places']\n",
      "['/usa/san-diego']\n",
      "['/usa/places']\n",
      "['/usa']\n",
      "[]\n",
      "['/usa/san-diego']\n",
      "['/usa/san-diego/things-to-do']\n",
      "['/usa/san-diego/activities']\n",
      "['/usa/san-diego/restaurants']\n",
      "['/usa/san-diego/sights']\n",
      "['/usa/san-diego/entertainment-nightlife']\n",
      "['/usa/san-diego/shopping']\n",
      "['/usa/san-diego/transport']\n",
      "['/usa/san-diego/events']\n",
      "['/usa/san-diego/tours']\n",
      "['/usa/san-diego/hotels']\n",
      "['/usa/san-diego/essential-information']\n",
      "['/usa/san-diego/travel-tips-and-articles']\n",
      "['/usa/san-diego/images']\n",
      "['/usa/san-diego/activities']\n",
      "['/usa/san-diego/restaurants']\n",
      "['/usa/san-diego/sights']\n",
      "['/usa/san-diego/entertainment-nightlife']\n",
      "['/usa/san-diego/shopping']\n",
      "['/usa/san-diego/transport']\n",
      "['/usa/san-diego/events']\n",
      "['/usa/san-diego/tours']\n",
      "['/usa/san-diego/sights/nature-wildlife/san-diego-zoo']\n",
      "['/usa/san-diego/sights/architecture/hotel-del-coronado']\n",
      "['/usa/san-diego/sights/historic/old-town-state-historic-park']\n",
      "['/usa/san-diego/sights/museums-galleries/uss-midway-museum']\n",
      "['/usa/san-diego/sights/museums-galleries/maritime-museum']\n",
      "['/usa/san-diego/sights/museums-galleries/new-childrens-museum']\n",
      "['/usa/san-diego/sights/arts-culture-literary/san-diego-main-library']\n",
      "['/usa/san-diego/sights/arts-culture-literary/spreckels-organ-pavilion']\n",
      "['/usa/san-diego/sights/museums-galleries/museum-contemporary-art-san-diego-la-jolla']\n",
      "['/usa/san-diego/sights/museums-galleries/mingei-international-museum']\n",
      "['/usa/san-diego/sights/museums-galleries/california-surf-museum/item-a-1424314-id']\n",
      "['/usa/san-diego/sights/natural-landmarks/cave-store/item-a-1400178-id']\n",
      "['/usa/san-diego/sights/attractions-performances/legoland/item-a-1251746-id']\n",
      "['/usa/san-diego/sights/attractions-performances/seaworld-san-diego']\n",
      "['/usa/san-diego/sights/beaches-islands-waterfronts/mission-pacific-beaches']\n",
      "['/usa/san-diego/sights/landmarks-monuments/cabrillo-national-monument']\n",
      "['/usa/san-diego/sights?page=2']\n",
      "['/usa/san-diego/sights?page=3']\n",
      "['/usa/san-diego/sights?page=4']\n",
      "['/usa/san-diego/sights?page=5']\n",
      "['/usa/san-diego/sights?page=6']\n",
      "['/usa/san-diego/sights?page=7']\n",
      "['/usa/san-diego/sights?page=2']\n",
      "['/usa/san-diego/hotels/best-places-to-stay-in-san-diego']\n",
      "['/usa/san-diego/things-to-do/top-things-to-do-in-san-diego']\n",
      "['/']\n",
      "['http://www.lonelyplanet.com/americas']\n",
      "['http://www.lonelyplanet.com/north-america']\n",
      "['http://www.lonelyplanet.com/usa']\n",
      "['http://www.lonelyplanet.com/usa/california']\n",
      "['http://www.lonelyplanet.com/usa/california/los-angeles-san-diego-southern-california']\n",
      "['http://www.lonelyplanet.com/americas']\n",
      "['http://www.lonelyplanet.com/north-america']\n",
      "['http://www.lonelyplanet.com/usa']\n",
      "['http://www.lonelyplanet.com/usa/california']\n",
      "['http://www.lonelyplanet.com/usa/california/los-angeles-san-diego-southern-california']\n",
      "['http://www.lonelyplanet.com/destinations']\n",
      "['http://www.lonelyplanet.com/africa']\n",
      "['http://www.lonelyplanet.com/antarctica']\n",
      "['http://www.lonelyplanet.com/asia']\n",
      "['http://www.lonelyplanet.com/caribbean']\n",
      "['http://www.lonelyplanet.com/central-america']\n",
      "['http://www.lonelyplanet.com/europe']\n",
      "['http://www.lonelyplanet.com/middle-east']\n",
      "['http://www.lonelyplanet.com/north-america']\n",
      "['http://www.lonelyplanet.com/pacific']\n",
      "['http://www.lonelyplanet.com/south-america']\n",
      "['http://www.lonelyplanet.com/shop']\n",
      "['http://www.lonelyplanet.com/shop/destination-guides']\n",
      "['http://www.lonelyplanet.com/shop/ebooks']\n",
      "['http://www.lonelyplanet.com/shop/pictorials-and-gifts']\n",
      "['http://www.lonelyplanet.com/shop/phrasebooks']\n",
      "['http://www.lonelyplanet.com/shop/childrens-books']\n",
      "['http://www.lonelyplanet.com/shop/special-offers']\n",
      "['http://www.lonelyplanet.com/thorntree']\n",
      "['http://www.lonelyplanet.com/thorntree/categories/country-forums']\n",
      "['http://www.lonelyplanet.com/thorntree/categories/talk-to-lonely-planet']\n",
      "['http://www.lonelyplanet.com/thorntree/categories/interest-forums']\n",
      "['http://www.lonelyplanet.com/thorntree/categories/sell-swap-meet-up']\n",
      "['http://www.lonelyplanet.com/interests']\n",
      "['http://www.lonelyplanet.com/adventure-travel']\n",
      "['http://www.lonelyplanet.com/beaches']\n",
      "['http://www.lonelyplanet.com/budget-travel']\n",
      "['http://www.lonelyplanet.com/family-travel']\n",
      "['http://www.lonelyplanet.com/festivals-and-events']\n",
      "['http://www.lonelyplanet.com/food-and-drink']\n",
      "['http://www.lonelyplanet.com/honeymoons-and-romance']\n",
      "['http://www.lonelyplanet.com/luxury-travel']\n",
      "['http://www.lonelyplanet.com/round-the-world-travel']\n",
      "['http://www.lonelyplanet.com/wildlife-and-nature']\n",
      "['http://www.lonelyplanet.com/bookings']\n",
      "['http://www.lonelyplanet.com/hotels']\n",
      "['http://www.lonelyplanet.com/flights']\n",
      "['http://www.lonelyplanet.com/travel-insurance']\n",
      "['http://www.lonelyplanet.com']\n",
      "['http://www.lonelyplanet.com/about/']\n",
      "['http://www.lonelyplanet.com/jobs/']\n",
      "['http://www.lonelyplanet.com/contact/']\n",
      "['http://www.lonelyplanet.com/press-trade-advertising/']\n",
      "['http://www.lonelyplanet.com/legal/website-terms/']\n",
      "['http://www.lonelyplanet.com/legal/privacy-policy/']\n",
      "['http://www.lonelyplanet.com']\n",
      "['https://twitter.com/lonelyplanet']\n",
      "['https://www.facebook.com/lonelyplanet']\n",
      "['https://plus.google.com/+LonelyPlanet/']\n",
      "['http://www.flickr.com/groups/lonelyplanetpublications/']\n",
      "['http://www.youtube.com/user/LonelyPlanet']\n",
      "['http://pinterest.com/lonelyplanet/']\n",
      "['http://instagram.com/lonelyplanet']\n",
      "['https://vine.co/lonelyplanet']\n",
      "['/blog']\n"
     ]
    }
   ],
   "source": [
    "a_elements=doc.xpath('//a')\n",
    "for a in a_elements:\n",
    "    print a.xpath('@href')"
   ]
  },
  {
   "cell_type": "markdown",
   "metadata": {},
   "source": [
    "the next step is to extract the URLs corresponding to specific sights. \n",
    "\n",
    "In order to do so, we need to define a regular expression for the links in which we are interested. \n",
    "\n",
    "Browsing the HTML of the site we find URLs of the following type\n",
    "\n",
    "    1. /usa/san-diego/sights/\n",
    "    2. /usa/san-diego/sights/nature-wildlife/san-diego-zoo\n",
    "    3. /usa/san-diego/sights/architecture/hotel-del-coronado\n",
    "    4. /usa/san-diego/sights/?page2=id\n",
    "    5. /usa/san-diego/sights/?page1=id+data=x \n",
    "\n",
    "URLs like 2,3 correspond to pages of sights that we are interested in. On the other hand, URLs like 1,4,5 correspond to other information which is not of interest.\n",
    " \n",
    "Write a regex pattern which parses all links starting with /usa/san-diego/sights/ followed by more characters. Make sure that the pattern does not allow links with question marks such as 4,5."
   ]
  },
  {
   "cell_type": "code",
   "execution_count": 237,
   "metadata": {
    "collapsed": false
   },
   "outputs": [
    {
     "data": {
      "text/plain": [
       "['/usa/san-diego/sights/nature-wildlife/san-diego-zoo',\n",
       " '/usa/san-diego/sights/architecture/hotel-del-coronado',\n",
       " '/usa/san-diego/sights/historic/old-town-state-historic-park',\n",
       " '/usa/san-diego/sights/museums-galleries/uss-midway-museum',\n",
       " '/usa/san-diego/sights/museums-galleries/maritime-museum',\n",
       " '/usa/san-diego/sights/museums-galleries/new-childrens-museum',\n",
       " '/usa/san-diego/sights/arts-culture-literary/san-diego-main-library',\n",
       " '/usa/san-diego/sights/arts-culture-literary/spreckels-organ-pavilion',\n",
       " '/usa/san-diego/sights/museums-galleries/museum-contemporary-art-san-diego-la-jolla',\n",
       " '/usa/san-diego/sights/museums-galleries/mingei-international-museum',\n",
       " '/usa/san-diego/sights/museums-galleries/california-surf-museum/item-a-1424314-id',\n",
       " '/usa/san-diego/sights/natural-landmarks/cave-store/item-a-1400178-id',\n",
       " '/usa/san-diego/sights/attractions-performances/legoland/item-a-1251746-id',\n",
       " '/usa/san-diego/sights/attractions-performances/seaworld-san-diego',\n",
       " '/usa/san-diego/sights/beaches-islands-waterfronts/mission-pacific-beaches',\n",
       " '/usa/san-diego/sights/landmarks-monuments/cabrillo-national-monument']"
      ]
     },
     "execution_count": 237,
     "metadata": {},
     "output_type": "execute_result"
    }
   ],
   "source": [
    "pattern = r'/usa/san-diego/sights/'+'[A-Za-z]+'\n",
    "url_list = []\n",
    "\n",
    "a_elements=doc.xpath('//a')\n",
    "for a in a_elements:\n",
    "    url = a.xpath('@href')\n",
    "    if len(url)>0:\n",
    "        match = re.search(pattern, url[0])\n",
    "        if match:\n",
    "            url_list.append(url[0])\n",
    "        else:\n",
    "            pass\n",
    "\n",
    "url_list"
   ]
  },
  {
   "cell_type": "markdown",
   "metadata": {},
   "source": [
    "Now we extract the information about each sight, we provide the `makeRecord` function that takes a beutiful soup object and returns a Dictionary containing the location name, latitude, and longitude."
   ]
  },
  {
   "cell_type": "code",
   "execution_count": 378,
   "metadata": {
    "collapsed": false
   },
   "outputs": [],
   "source": [
    "#The following is a bottomline working code to proceed ahead if you are stuck. Points will be awarded form\n",
    "def makeRecord(doc, url):\n",
    "    record = {}\n",
    "    div_elements=doc.xpath('//div')\n",
    "    h1_elements=doc.xpath('//h1')\n",
    "    for div in div_elements:\n",
    "        if len(div.xpath('@data-latitude'))>0:\n",
    "            record[\"latitude\"] =div.xpath('@data-latitude')[0]\n",
    "        if len(div.xpath('@data-longitude'))>0:\n",
    "            record[\"longitude\"] =div.xpath('@data-longitude')[0]\n",
    "        title = url.split('/')[-1]\n",
    "        title = title.replace('-', ' ').title()\n",
    "        record[\"title\"] = title\n",
    "    return record\n"
   ]
  },
  {
   "cell_type": "markdown",
   "metadata": {},
   "source": [
    "Now loop through the sights pages you found and make records for each.  Fill in the template with the requested actions."
   ]
  },
  {
   "cell_type": "code",
   "execution_count": 379,
   "metadata": {
    "collapsed": false
   },
   "outputs": [
    {
     "data": {
      "text/plain": [
       "[{'latitude': '32.735288',\n",
       "  'longitude': '-117.151517',\n",
       "  'title': 'San Diego Zoo'},\n",
       " {'latitude': '32.67987211',\n",
       "  'longitude': '-117.18040515',\n",
       "  'title': 'Hotel Del Coronado'},\n",
       " {'latitude': '32.755146',\n",
       "  'longitude': '-117.19815',\n",
       "  'title': 'Old Town State Historic Park'},\n",
       " {'latitude': '32.714365',\n",
       "  'longitude': '-117.173666',\n",
       "  'title': 'Uss Midway Museum'},\n",
       " {'latitude': '32.720795',\n",
       "  'longitude': '-117.173303',\n",
       "  'title': 'Maritime Museum'},\n",
       " {'latitude': '32.710639',\n",
       "  'longitude': '-117.164257',\n",
       "  'title': 'New Childrens Museum'},\n",
       " {'latitude': '32.708824',\n",
       "  'longitude': '-117.154083',\n",
       "  'title': 'San Diego Main Library'},\n",
       " {'latitude': '32.729363',\n",
       "  'longitude': '-117.150389',\n",
       "  'title': 'Spreckels Organ Pavilion'},\n",
       " {'latitude': '32.844404',\n",
       "  'longitude': '-117.278012',\n",
       "  'title': 'Museum Contemporary Art San Diego La Jolla'},\n",
       " {'latitude': '32.73098',\n",
       "  'longitude': '-117.151002',\n",
       "  'title': 'Mingei International Museum'},\n",
       " {'latitude': '33.199281',\n",
       "  'longitude': '-117.383871',\n",
       "  'title': 'Item A 1424314 Id'},\n",
       " {'latitude': '32.849393',\n",
       "  'longitude': '-117.270432',\n",
       "  'title': 'Item A 1400178 Id'},\n",
       " {'latitude': '33.129214',\n",
       "  'longitude': '-117.312355',\n",
       "  'title': 'Item A 1251746 Id'},\n",
       " {'latitude': '32.7641813751008',\n",
       "  'longitude': '-117.225151062012',\n",
       "  'title': 'Seaworld San Diego'},\n",
       " {'title': 'Mission Pacific Beaches'},\n",
       " {'latitude': '32.673483',\n",
       "  'longitude': '-117.239914',\n",
       "  'title': 'Cabrillo National Monument'}]"
      ]
     },
     "execution_count": 379,
     "metadata": {},
     "output_type": "execute_result"
    }
   ],
   "source": [
    "website = \"http://www.lonelyplanet.com\"\n",
    "sights_list = []\n",
    "\n",
    "for url in url_list:\n",
    "    new_url = website+url\n",
    "    r    = requests.get(new_url)\n",
    "    doc = lh.fromstring(r.content)\n",
    "    rec  = makeRecord(doc, new_url)\n",
    "    sights_list.append(rec)\n",
    "    \n",
    "sights_list"
   ]
  },
  {
   "cell_type": "markdown",
   "metadata": {},
   "source": [
    "Now that we have a table of sightseeiing places imediately around us along with their latitudes and longitudes, use the below function to find distance of each of the sightseeing place from your current location"
   ]
  },
  {
   "cell_type": "code",
   "execution_count": 380,
   "metadata": {
    "collapsed": false
   },
   "outputs": [],
   "source": [
    "#Do not modify\n",
    "import math\n",
    "def getDistanceFromLatLonInKm(lat1,lon1,lat2,lon2) :\n",
    "    R = 6371 # Radius of the earth in km\n",
    "    dLat = deg2rad(lat2-lat1) # deg2rad below\n",
    "    dLon = deg2rad(lon2-lon1) \n",
    "    a = math.sin(dLat/2)*math.sin(dLat/2)+math.cos(deg2rad(lat1))*math.cos(deg2rad(lat2))*math.sin(dLon/2)*math.sin(dLon/2)\n",
    "\n",
    "    c = 2 * math.atan2(math.sqrt(a), math.sqrt(1-a))\n",
    "    d = R * c #Distance in km\n",
    "    return d\n",
    "\n",
    "\n",
    "def deg2rad(deg) :\n",
    "  return deg * (3.1416/180)\n"
   ]
  },
  {
   "cell_type": "markdown",
   "metadata": {},
   "source": [
    "Now add a field to each record in `sights_list` called `distance` which reports the distance from the Rady School to it.  Then print the sights from closest to furthest"
   ]
  },
  {
   "cell_type": "code",
   "execution_count": 381,
   "metadata": {
    "collapsed": false
   },
   "outputs": [
    {
     "data": {
      "text/html": [
       "<div>\n",
       "<table border=\"1\" class=\"dataframe\">\n",
       "  <thead>\n",
       "    <tr style=\"text-align: right;\">\n",
       "      <th></th>\n",
       "      <th>latitude</th>\n",
       "      <th>longitude</th>\n",
       "      <th>title</th>\n",
       "    </tr>\n",
       "  </thead>\n",
       "  <tbody>\n",
       "    <tr>\n",
       "      <th>0</th>\n",
       "      <td>32.735288</td>\n",
       "      <td>-117.151517</td>\n",
       "      <td>San Diego Zoo</td>\n",
       "    </tr>\n",
       "    <tr>\n",
       "      <th>1</th>\n",
       "      <td>32.67987211</td>\n",
       "      <td>-117.18040515</td>\n",
       "      <td>Hotel Del Coronado</td>\n",
       "    </tr>\n",
       "    <tr>\n",
       "      <th>2</th>\n",
       "      <td>32.755146</td>\n",
       "      <td>-117.19815</td>\n",
       "      <td>Old Town State Historic Park</td>\n",
       "    </tr>\n",
       "    <tr>\n",
       "      <th>3</th>\n",
       "      <td>32.714365</td>\n",
       "      <td>-117.173666</td>\n",
       "      <td>Uss Midway Museum</td>\n",
       "    </tr>\n",
       "    <tr>\n",
       "      <th>4</th>\n",
       "      <td>32.720795</td>\n",
       "      <td>-117.173303</td>\n",
       "      <td>Maritime Museum</td>\n",
       "    </tr>\n",
       "  </tbody>\n",
       "</table>\n",
       "</div>"
      ],
      "text/plain": [
       "      latitude      longitude                         title\n",
       "0    32.735288    -117.151517                 San Diego Zoo\n",
       "1  32.67987211  -117.18040515            Hotel Del Coronado\n",
       "2    32.755146     -117.19815  Old Town State Historic Park\n",
       "3    32.714365    -117.173666             Uss Midway Museum\n",
       "4    32.720795    -117.173303               Maritime Museum"
      ]
     },
     "execution_count": 381,
     "metadata": {},
     "output_type": "execute_result"
    }
   ],
   "source": [
    "df=pd.DataFrame(sights_list)\n",
    "df.head()"
   ]
  },
  {
   "cell_type": "code",
   "execution_count": 382,
   "metadata": {
    "collapsed": false
   },
   "outputs": [
    {
     "data": {
      "text/html": [
       "<div>\n",
       "<table border=\"1\" class=\"dataframe\">\n",
       "  <thead>\n",
       "    <tr style=\"text-align: right;\">\n",
       "      <th></th>\n",
       "      <th>title</th>\n",
       "      <th>distance</th>\n",
       "    </tr>\n",
       "  </thead>\n",
       "  <tbody>\n",
       "    <tr>\n",
       "      <th>11</th>\n",
       "      <td>Item A 1400178 Id</td>\n",
       "      <td>4.953668</td>\n",
       "    </tr>\n",
       "    <tr>\n",
       "      <th>8</th>\n",
       "      <td>Museum Contemporary Art San Diego La Jolla</td>\n",
       "      <td>5.813337</td>\n",
       "    </tr>\n",
       "    <tr>\n",
       "      <th>13</th>\n",
       "      <td>Seaworld San Diego</td>\n",
       "      <td>13.696642</td>\n",
       "    </tr>\n",
       "    <tr>\n",
       "      <th>2</th>\n",
       "      <td>Old Town State Historic Park</td>\n",
       "      <td>15.163570</td>\n",
       "    </tr>\n",
       "    <tr>\n",
       "      <th>0</th>\n",
       "      <td>San Diego Zoo</td>\n",
       "      <td>18.801491</td>\n",
       "    </tr>\n",
       "    <tr>\n",
       "      <th>9</th>\n",
       "      <td>Mingei International Museum</td>\n",
       "      <td>19.252515</td>\n",
       "    </tr>\n",
       "    <tr>\n",
       "      <th>7</th>\n",
       "      <td>Spreckels Organ Pavilion</td>\n",
       "      <td>19.439292</td>\n",
       "    </tr>\n",
       "    <tr>\n",
       "      <th>4</th>\n",
       "      <td>Maritime Museum</td>\n",
       "      <td>19.501753</td>\n",
       "    </tr>\n",
       "    <tr>\n",
       "      <th>3</th>\n",
       "      <td>Uss Midway Museum</td>\n",
       "      <td>20.168491</td>\n",
       "    </tr>\n",
       "    <tr>\n",
       "      <th>5</th>\n",
       "      <td>New Childrens Museum</td>\n",
       "      <td>20.849486</td>\n",
       "    </tr>\n",
       "    <tr>\n",
       "      <th>6</th>\n",
       "      <td>San Diego Main Library</td>\n",
       "      <td>21.383114</td>\n",
       "    </tr>\n",
       "    <tr>\n",
       "      <th>1</th>\n",
       "      <td>Hotel Del Coronado</td>\n",
       "      <td>23.682182</td>\n",
       "    </tr>\n",
       "    <tr>\n",
       "      <th>15</th>\n",
       "      <td>Cabrillo National Monument</td>\n",
       "      <td>23.699041</td>\n",
       "    </tr>\n",
       "    <tr>\n",
       "      <th>12</th>\n",
       "      <td>Item A 1251746 Id</td>\n",
       "      <td>27.778601</td>\n",
       "    </tr>\n",
       "    <tr>\n",
       "      <th>10</th>\n",
       "      <td>Item A 1424314 Id</td>\n",
       "      <td>37.221356</td>\n",
       "    </tr>\n",
       "    <tr>\n",
       "      <th>14</th>\n",
       "      <td>Mission Pacific Beaches</td>\n",
       "      <td>NaN</td>\n",
       "    </tr>\n",
       "  </tbody>\n",
       "</table>\n",
       "</div>"
      ],
      "text/plain": [
       "                                         title   distance\n",
       "11                           Item A 1400178 Id   4.953668\n",
       "8   Museum Contemporary Art San Diego La Jolla   5.813337\n",
       "13                          Seaworld San Diego  13.696642\n",
       "2                 Old Town State Historic Park  15.163570\n",
       "0                                San Diego Zoo  18.801491\n",
       "9                  Mingei International Museum  19.252515\n",
       "7                     Spreckels Organ Pavilion  19.439292\n",
       "4                              Maritime Museum  19.501753\n",
       "3                            Uss Midway Museum  20.168491\n",
       "5                         New Childrens Museum  20.849486\n",
       "6                       San Diego Main Library  21.383114\n",
       "1                           Hotel Del Coronado  23.682182\n",
       "15                  Cabrillo National Monument  23.699041\n",
       "12                           Item A 1251746 Id  27.778601\n",
       "10                           Item A 1424314 Id  37.221356\n",
       "14                     Mission Pacific Beaches        NaN"
      ]
     },
     "execution_count": 382,
     "metadata": {},
     "output_type": "execute_result"
    }
   ],
   "source": [
    "myLat = 32.88661\n",
    "myLng = -117.24128\n",
    "\n",
    "distance = []\n",
    "for i in range(len(sights_list)):\n",
    "    if 'latitude' in sights_list[i]:\n",
    "        lat=float(sights_list[i]['latitude'])\n",
    "        lon=float(sights_list[i]['longitude'])\n",
    "        d = getDistanceFromLatLonInKm(myLat,myLng,lat,lon)\n",
    "        distance.append(d)\n",
    "    else:\n",
    "        distance.append(np.nan)\n",
    "df['distance']=distance\n",
    "df=df.sort(columns='distance')\n",
    "df[['title','distance']]"
   ]
  },
  {
   "cell_type": "markdown",
   "metadata": {},
   "source": [
    "## MatplotLib\n"
   ]
  },
  {
   "cell_type": "code",
   "execution_count": 297,
   "metadata": {
    "collapsed": false
   },
   "outputs": [
    {
     "name": "stdout",
     "output_type": "stream",
     "text": [
      "Populating the interactive namespace from numpy and matplotlib\n"
     ]
    },
    {
     "name": "stderr",
     "output_type": "stream",
     "text": [
      "WARNING: pylab import has clobbered these variables: ['rec', 'deg2rad', 'record']\n",
      "`%matplotlib` prevents importing * from pylab and numpy\n"
     ]
    }
   ],
   "source": [
    "%pylab inline\n",
    "import numpy as np\n",
    "import matplotlib.pyplot as plt"
   ]
  },
  {
   "cell_type": "markdown",
   "metadata": {},
   "source": [
    "In this exercise we will plot a list of datasets in the form of histograms in the same plot. For this we will use the function plotHistograms given below, which takes a dataset, and bin count and outputs a histogram plot containing multiple horizonta bars."
   ]
  },
  {
   "cell_type": "code",
   "execution_count": 343,
   "metadata": {
    "collapsed": false,
    "scrolled": true
   },
   "outputs": [
    {
     "data": {
      "image/png": "[encoded data removed]",
      "text/plain": [
       "<matplotlib.figure.Figure at 0x7fce43d0ec10>"
      ]
     },
     "metadata": {},
     "output_type": "display_data"
    }
   ],
   "source": [
    "ax = plt.subplot(111)\n",
    "def plotHistograms(data,binCount, shift=0):\n",
    "    minVal=np.min(data)\n",
    "    maxVal=np.max(data)\n",
    "    hist=np.histogram(data, range=(minVal,maxVal), bins=binCount)\n",
    "    bin_edges = np.linspace(minVal, maxVal, binCount+1)\n",
    "    centers = .5 * (bin_edges + np.roll(bin_edges, 1))[:-1] \n",
    "    heights = np.diff(bin_edges)\n",
    "    ax=plt.subplot(111)\n",
    "    lefts = 0 - .5 * hist[0]+shift\n",
    "    ax.barh(centers, hist[0], height=heights, left=lefts)\n",
    "\n",
    "data=np.random.normal(0, 1, 100)\n",
    "binCount=10\n",
    "plotHistograms(data,binCount)"
   ]
  },
  {
   "cell_type": "markdown",
   "metadata": {},
   "source": [
    "Use the above function to plot multiple histograms on the same plot corresponding to the datasets given below. An example graph below shows how multiple histograms can be accommodated in the same plot. Use bin count of 100 for each of the histograms. You are free to modify the function, or write your own"
   ]
  },
  {
   "cell_type": "code",
   "execution_count": 349,
   "metadata": {
    "collapsed": false
   },
   "outputs": [
    {
     "data": {
      "text/plain": [
       "[<matplotlib.text.Text at 0x7fce508516d0>,\n",
       " <matplotlib.text.Text at 0x7fce50845d50>,\n",
       " <matplotlib.text.Text at 0x7fce4f9f7f10>,\n",
       " <matplotlib.text.Text at 0x7fce4f983690>,\n",
       " <matplotlib.text.Text at 0x7fce4f983dd0>,\n",
       " <matplotlib.text.Text at 0x7fce4f98f550>,\n",
       " <matplotlib.text.Text at 0x7fce4f98fc90>]"
      ]
     },
     "execution_count": 349,
     "metadata": {},
     "output_type": "execute_result"
    },
    {
     "data": {
      "image/png": "[encoded data removed]",
      "text/plain": [
       "<matplotlib.figure.Figure at 0x7fce4421d1d0>"
      ]
     },
     "metadata": {},
     "output_type": "display_data"
    }
   ],
   "source": [
    "number_of_data_points = 100\n",
    "binCount = 100\n",
    "val = ['','A','B','C','D','E','F']\n",
    "\n",
    "data_sets = [np.random.normal(0, 1, number_of_data_points),\n",
    "             np.random.normal(6, 1, number_of_data_points),\n",
    "             np.random.normal(-3, 1, number_of_data_points),\n",
    "             np.random.normal(3, 1, number_of_data_points),\n",
    "             np.random.normal(-6, 1, number_of_data_points),\n",
    "             np.random.normal(12, 1, number_of_data_points)\n",
    "            ]\n",
    "ax = plt.subplot(111)\n",
    "#Write code here\n",
    "i=0\n",
    "plt.xlabel('Data sets')\n",
    "plt.ylabel('Data values')\n",
    "shift_size=5\n",
    "for data in data_sets:\n",
    "    i+=1\n",
    "    plotHistograms(data,binCount, shift=i*shift_size)\n",
    "    plt.axvline(i*shift_size, color='black')\n",
    "ax.set_xticklabels(val)"
   ]
  },
  {
   "cell_type": "markdown",
   "metadata": {
    "collapsed": true
   },
   "source": [
    "<img src=\"histograms.png\">"
   ]
  },
  {
   "cell_type": "code",
   "execution_count": null,
   "metadata": {
    "collapsed": true
   },
   "outputs": [],
   "source": []
  }
 ],
 "metadata": {
  "kernelspec": {
   "display_name": "Python 2",
   "language": "python",
   "name": "python2"
  },
  "language_info": {
   "codemirror_mode": {
    "name": "ipython",
    "version": 2
   },
   "file_extension": ".py",
   "mimetype": "text/x-python",
   "name": "python",
   "nbconvert_exporter": "python",
   "pygments_lexer": "ipython2",
   "version": "2.7.10"
  }
 },
 "nbformat": 4,
 "nbformat_minor": 0
}
