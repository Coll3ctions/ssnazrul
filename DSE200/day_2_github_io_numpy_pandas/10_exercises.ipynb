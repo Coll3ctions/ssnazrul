{
 "cells": [
  {
   "cell_type": "markdown",
   "metadata": {},
   "source": [
    "#Week 2 Exercises\n",
    "\n",
    "In this weeks exercises you will use Numpy/Scipy to impliment some numerical algorithms and then you will use Pandas to perform a rudamentary data analysis using the KDD 98 dataset.  Along the way you will use unix/basic python from the first week as well as git to save your work.\n",
    "\n",
    "As a first step we import the libraries we'll use later on.  This allows us to use numpy library calls by prefixing the call with np."
   ]
  },
  {
   "cell_type": "code",
   "execution_count": 1,
   "metadata": {
    "collapsed": false
   },
   "outputs": [
    {
     "name": "stdout",
     "output_type": "stream",
     "text": [
      "/home/sadat/.ipython/nbextensions/mathjax/MathJax.js already exists\n"
     ]
    },
    {
     "data": {
      "text/plain": [
       "0"
      ]
     },
     "execution_count": 1,
     "metadata": {},
     "output_type": "execute_result"
    }
   ],
   "source": [
    "#Import the libraries \n",
    "import numpy as np\n",
    "import scipy as sp\n",
    "import pandas as pd\n",
    "from IPython.external import mathjax; mathjax.install_mathjax()"
   ]
  },
  {
   "cell_type": "markdown",
   "metadata": {},
   "source": [
    "##Matrix Manipulations\n",
    "Lets first create a matrix and perform some manipulations of it.\n",
    "\n",
    "Using numpy's matrix data structure, define the following matricies:\n",
    "\n",
    "$$A=\\left[ \\begin{array}{ccc} 3 & 5 & 9 \\\\ 3 & 3 & 4 \\\\ 5 & 9 & 17 \\end{array} \\right]$$\n",
    "\n",
    "$$B=\\left[ \\begin{array}{c} 2 \\\\ 1 \\\\ 4 \\end{array} \\right]$$\n",
    "\n",
    "After this solve the matrix equation:\n",
    "$$Ax = B$$"
   ]
  },
  {
   "cell_type": "markdown",
   "metadata": {},
   "source": [
    "Now write three functions for matrix multiply $C=AB$ in each of the following styles:\n",
    "\n",
    "1. By using nested for loops to impliment the naive algorithm ($C_{ij}=\\sum_{k=0}^{m-1}A_{ik}B_{kj}$)\n",
    "2. Using numpy's built in martrix multiplication  \n",
    "3. Using Cython\n",
    "\n",
    "The three methods should have the same answer"
   ]
  },
  {
   "cell_type": "code",
   "execution_count": 2,
   "metadata": {
    "collapsed": false
   },
   "outputs": [
    {
     "name": "stdout",
     "output_type": "stream",
     "text": [
      "[[47], [25], [87]]\n"
     ]
    }
   ],
   "source": [
    "#Nested Loops\n",
    "\n",
    "import numpy as np\n",
    "\n",
    "def loop_dot(x,y):\n",
    "    x=np.array(x)\n",
    "    y=np.array(y)        \n",
    "    z=[]\n",
    "    #Number of rows in x is equal to the number of rows in y\n",
    "    for xj in range(np.shape(x)[0]):            \n",
    "        #Repeat operation for each column of y\n",
    "        row=[]\n",
    "        for yi in range(np.shape(y)[1]):\n",
    "            row.append(np.sum(x[xj]*y[:,yi]))\n",
    "        z.append(row)\n",
    "    return z\n",
    "\n",
    "A=[[3,5,9],[3,3,4],[5,9,17]]\n",
    "B=[[2],[1],[4]]\n",
    "C=loop_dot(A,B)\n",
    "print C"
   ]
  },
  {
   "cell_type": "code",
   "execution_count": 3,
   "metadata": {
    "collapsed": false
   },
   "outputs": [
    {
     "name": "stdout",
     "output_type": "stream",
     "text": [
      "[[47]\n",
      " [25]\n",
      " [87]]\n"
     ]
    }
   ],
   "source": [
    "#Numpy\n",
    "\n",
    "def numpy_dot(x,y):\n",
    "    return np.dot(x,y)\n",
    "\n",
    "print numpy_dot(A,B)"
   ]
  },
  {
   "cell_type": "markdown",
   "metadata": {},
   "source": [
    "Now we wish to evaluate the performance of these three methods.  Write a method that given three dmiensions (a,b,c) makes a random a x b and b x c matrix and computes the product using your three functions and reports the speed of each method.\n",
    "\n",
    "After this measure performance of each method for all $a,b,c \\in \\{10,100,1000,10000\\}$ and plot the results.  Is one method always the fastest?  Discuss why this is or is not the case."
   ]
  },
  {
   "cell_type": "code",
   "execution_count": 12,
   "metadata": {
    "collapsed": false
   },
   "outputs": [
    {
     "name": "stdout",
     "output_type": "stream",
     "text": [
      "N1\n",
      "N2\n",
      "N3\n",
      "N4\n",
      "L1\n",
      "L2\n",
      "L3\n",
      "L4\n"
     ]
    },
    {
     "data": {
      "image/png": "[encoded data removed]",
      "text/plain": [
       "<matplotlib.figure.Figure at 0x7f93723c9810>"
      ]
     },
     "metadata": {},
     "output_type": "display_data"
    }
   ],
   "source": [
    "import numpy as np\n",
    "from random import randint\n",
    "import matplotlib.pyplot as plt\n",
    "import time\n",
    "\n",
    "def genRand(a,b,c):\n",
    "    '''Generate random matrix of x by x dimensions'''\n",
    "    mat1=[[randint(0,9) for i in range(a)] for i in range(b)]\n",
    "    mat2=[[randint(0,9) for i in range(b)] for i in range(c)]\n",
    "    return mat1, mat2\n",
    "\n",
    "loopTime=[]\n",
    "numpyTime=[]\n",
    "\n",
    "#Numpy calculations\n",
    "numpyTime.append(time.time())\n",
    "print 'N1'\n",
    "A,B=genRand(10,10,10)\n",
    "numpy_dot(A,B)\n",
    "numpyTime.append(time.time())\n",
    "print 'N2'\n",
    "A,B=genRand(10,100,10)\n",
    "numpy_dot(A,B)\n",
    "numpyTime.append(time.time())\n",
    "print 'N3'\n",
    "A,B=genRand(10,1000,10)\n",
    "numpy_dot(A,B)\n",
    "numpyTime.append(time.time())\n",
    "print 'N4'\n",
    "A,B=genRand(10,10000,10)\n",
    "numpy_dot(A,B)\n",
    "numpyTime.append(time.time())\n",
    "numpyTime=np.diff(numpyTime)\n",
    "\n",
    "#Loop calculations\n",
    "loopTime.append(time.time())\n",
    "print 'L1'\n",
    "A,B=genRand(10,10,10)\n",
    "loop_dot(A,B)\n",
    "loopTime.append(time.time())\n",
    "print 'L2'\n",
    "A,B=genRand(10,100,10)\n",
    "loop_dot(A,B)\n",
    "loopTime.append(time.time())\n",
    "print 'L3'\n",
    "A,B=genRand(10,1000,10)\n",
    "loop_dot(A,B)\n",
    "loopTime.append(time.time())\n",
    "print 'L4'\n",
    "A,B=genRand(10,10000,10)\n",
    "loop_dot(A,B)\n",
    "loopTime.append(time.time())\n",
    "loopTime=np.diff(loopTime)\n",
    "\n",
    "#Matrix size\n",
    "matSize=[1e3,1e4,1e5,1e6]\n",
    "\n",
    "#Generate plot\n",
    "%matplotlib inline\n",
    "plt.plot(matSize,loopTime)\n",
    "plt.plot(matSize,numpyTime)\n",
    "plt.xscale('log')\n",
    "plt.legend(['Loop','Numpy'])\n",
    "plt.xlabel('Matrix Size')\n",
    "plt.ylabel('Performance Time/s')\n",
    "plt.title('Numpy vs Loop performance test')\n",
    "plt.show()\n"
   ]
  },
  {
   "cell_type": "markdown",
   "metadata": {},
   "source": [
    "**BONUS** Now repeat the past two problems but instead of computing the matrix product, compute a matrix's [determinant](http://en.wikipedia.org/wiki/Determinant).  Measure performance for matricies of various sizes and discuss the results.  Determinant may get impractical to calculate for not too huge of matricies, so no need to goto 1000x1000 matricies."
   ]
  },
  {
   "cell_type": "code",
   "execution_count": null,
   "metadata": {
    "collapsed": false
   },
   "outputs": [],
   "source": []
  },
  {
   "cell_type": "markdown",
   "metadata": {},
   "source": [
    "###IO Exercises\n",
    "\n",
    "Below is a map of various datatypes in python that you have come across and their corresponding JSON equivalents.\n",
    "\n",
    "$$Datatypes=\\left[ \\begin{array}{cc} JSON & Python3 \\\\ object & dictionary \\\\ array & list \\\\ string & string \\\\ integer\t& integer \\\\ real number & float \\\\ true & True \\\\ false & False \\\\ null & None  \\end{array} \\right]$$\n",
    "\n",
    "\n",
    "There are atleast two very important python datatypes missing in the above list. \n",
    "Can you find the same?  [list the two mising python datatypes in this markdown cell below]\n",
    "\n",
    "1. Tuple\n",
    "2. Set\n",
    "\n",
    "Now We can save the above map as a dictionary with Key-value pairs \n",
    "1. create a python dictionary named dataypes, having the above map as the Key-value pairs with Python datatypes as values and JSON equivalents as keys.\n",
    "2. Save it as a pickle called datatypes and gzip the same.\n",
    "3. Reload this pickle, and read the file contents and output the data in the following formatted way as given in this example - \"The JSON equivalent for the Python datatype Dictionary is Object\". Output similarly for the rest of the key-value pairs.\n",
    "4. Save this data as a JSON but using Python datatypes as keys and JSON equivalent as values this time. "
   ]
  },
  {
   "cell_type": "code",
   "execution_count": 9,
   "metadata": {
    "collapsed": false,
    "scrolled": true
   },
   "outputs": [
    {
     "name": "stdout",
     "output_type": "stream",
     "text": [
      "The JSON equivalent for the Python datatype null is None\n",
      "The JSON equivalent for the Python datatype false is False\n",
      "The JSON equivalent for the Python datatype string is string\n",
      "The JSON equivalent for the Python datatype integer is integer\n",
      "The JSON equivalent for the Python datatype array is list\n",
      "The JSON equivalent for the Python datatype object is dictionary\n",
      "The JSON equivalent for the Python datatype true is True\n",
      "The JSON equivalent for the Python datatype realnumber is float\n",
      "\n",
      " Reversing the key-value pair of datatypes:\n",
      "{'None': 'null', 'False': 'false', 'string': 'string', 'dictionary': 'object', 'float': 'realnumber', 'list': 'array', 'integer': 'integer', 'True': 'true'}\n"
     ]
    }
   ],
   "source": [
    "import pickle\n",
    "import gzip\n",
    "\n",
    "#Save datatypes\n",
    "datatypes={\n",
    "    'object':'dictionary',\n",
    "    'array':'list',\n",
    "    'string':'string',\n",
    "    'integer':'integer',\n",
    "    'realnumber':'float',\n",
    "    'true':'True',\n",
    "    'false':'False',\n",
    "    'null':'None'\n",
    "}\n",
    "\n",
    "#Save as pickle and gunzip\n",
    "pickle.dump(datatypes,gzip.open('HW2_Q3.pkl','wb'),2)\n",
    "\n",
    "#Load gzip pickle file\n",
    "output=pickle.load(gzip.open('HW2_Q3.pkl','rb'))\n",
    "\n",
    "#Print contents\n",
    "for key in datatypes:\n",
    "    print 'The JSON equivalent for the Python datatype %s is %s'%(key, datatypes[key])\n",
    "    \n",
    "#Reverse dictionary\n",
    "reverse_datatypes={}\n",
    "for key in datatypes:\n",
    "    reverse_datatypes[datatypes[key]]=key\n",
    "\n",
    "print '\\n Reversing the key-value pair of datatypes:'\n",
    "print reverse_datatypes"
   ]
  },
  {
   "cell_type": "markdown",
   "metadata": {},
   "source": [
    "##Pandas Data Analysis\n",
    "Pandas gives us a nice set of tools to work with columnar data (similar to R's dataframe). \n",
    "To learn how to use this it makes the most sense to use a real data set.\n",
    "For this assignment we'll use the KDD Cup 1998 dataset, which can be sourced from http://kdd.ics.uci.edu/databases/kddcup98/kddcup98.html .\n",
    "\n",
    "\n",
    "###Acquiring Data\n",
    "First we pull the README file from the dataset into this notebook via the unix \"curl\" command.  Remember you can hide/minimize output cells via the button on the left of the output."
   ]
  },
  {
   "cell_type": "code",
   "execution_count": 1,
   "metadata": {
    "collapsed": false,
    "scrolled": true
   },
   "outputs": [
    {
     "name": "stdout",
     "output_type": "stream",
     "text": [
      "+--------------------------------------------------------------------+\r",
      "\r\n",
      "| NOTE TO ALL DOWN-LOADERS                                           |\r",
      "\r\n",
      "+--------------------------------------------------------------------+\r",
      "\r\n",
      "\r",
      "\r\n",
      "The KDD-CUP-98 data set and the accompanying documentation are now \r",
      "\r\n",
      "available for general use with the following restrictions: \r",
      "\r\n",
      "\r",
      "\r\n",
      "  (1) The users of the data must notify \r",
      "\r\n",
      "\r",
      "\r\n",
      "\tIsmail Parsa\t(iparsa@epsilon.com) and\r",
      "\r\n",
      "\tKen Howes\t(khowes@epsilon.com) \r",
      "\r\n",
      "\r",
      "\r\n",
      "  in the event they produce results, visuals or tables, etc. from the \r",
      "\r\n",
      "  data and send a note that includes a summary of the final result. \r",
      "\r\n",
      "\r",
      "\r\n",
      "  (2) The authors of published and/or unpublished articles that use \r",
      "\r\n",
      "  the KDD-Cup-98 data set must also notify the individuals listed \r",
      "\r\n",
      "  above and send a copy of their published and/or unpublished work. \r",
      "\r\n",
      "\r",
      "\r\n",
      "  (3) If you intend to use this data set for training or educational\r",
      "\r\n",
      "  purposes, you must not reveal the name of the sponsor PVA \r",
      "\r\n",
      "  (Paralyzed Veterans of America) to the trainees or students. You \r",
      "\r\n",
      "  are allowed to say \"a national veterans organization\"...\r",
      "\r\n",
      "\r",
      "\r\n",
      "\r",
      "\r\n",
      "For more information regarding the KDD-Cup (including the list of the \r",
      "\r\n",
      "participants and the results), please visit the KDD-Cup-98 web page at\r",
      "\r\n",
      "\r",
      "\r\n",
      "\thttp://www.epsilon.com/new\r",
      "\r\n",
      "\r",
      "\r\n",
      "While there, scroll down to Data Mining Presentations where you will \r",
      "\r\n",
      "find the KDD-Cup-98 web page. \r",
      "\r\n",
      "\r",
      "\r\n",
      "\r",
      "\r\n",
      "Ismail Parsa \r",
      "\r\n",
      "Epsilon \r",
      "\r\n",
      "50 Cambridge Street \r",
      "\r\n",
      "Burlington MA 01803 USA \r",
      "\r\n",
      "\r",
      "\r\n",
      "TEL: (781) 685-6734 \r",
      "\r\n",
      "FAX: (781) 685-0806 \r",
      "\r\n",
      "\r",
      "\r\n",
      "+--------------------------------------------------------------------+\r",
      "\r\n",
      "| LISTING of the FILES (README FILE)                                 |\r",
      "\r\n",
      "+--------------------------------------------------------------------+\r",
      "\r\n",
      "\r",
      "\r\n",
      "File Naming Conventions: \r",
      "\r\n",
      "\r",
      "\r\n",
      "o cup98               : KDD-CUP-98 \r",
      "\r\n",
      "o      QUE            : QUEstionnaire \r",
      "\r\n",
      "o      DOC            : DOCumentation\r",
      "\r\n",
      "o      DIC            : DICtionary\r",
      "\r\n",
      "o      LRN            : LeaRNing data set \r",
      "\r\n",
      "o      VAL            : VALidation data set \r",
      "\r\n",
      "o      VALtargt       : TARGeT fields for VALidation data set\r",
      "\r\n",
      "o              .txt   : plain ascii text files\r",
      "\r\n",
      "o              .zip   : PKZIP compressed files\r",
      "\r\n",
      "o              .txt.Z : UNIX COMPRESSED files\r",
      "\r\n",
      "\r",
      "\r\n",
      "FILE NAME       DESCRIPTION\r",
      "\r\n",
      "--------------- ------------------------------------------------------\r",
      "\r\n",
      "\r",
      "\r\n",
      "README          This list, listing the files in the FTP server and \r",
      "\r\n",
      "                their contents.\r",
      "\r\n",
      "\r",
      "\r\n",
      "cup98NDA.txt    The Non-Disclosure Agreement. MUST BE SIGNED BY ALL \r",
      "\r\n",
      "                PARTICIPANTS AND MAILED BACK TO ISMAIL PARSA \r",
      "\r\n",
      "                <iparsa@epsilon.com> BEFORE DOWNLOADING THE DATA SETS.\r",
      "\r\n",
      "\r",
      "\r\n",
      "cup98DOC.txt    This file, an overview and pointer to more detailed \r",
      "\r\n",
      "                information about the competition\r",
      "\r\n",
      "\r",
      "\r\n",
      "cup98DIC.txt    Data dictionary to accompany the analysis data set. \r",
      "\r\n",
      "\r",
      "\r\n",
      "cup98QUE.txt    KDD-CUP questionnaire. PARTICIPANTS ARE REQUIRED TO\r",
      "\r\n",
      "                FILL-OUT THE QUESTIONNAIRE and turned in\r",
      "\r\n",
      "                with the results. \r",
      "\r\n",
      "\r",
      "\r\n",
      "cup98LRN.zip    PKZIP compressed raw LEARNING data set. \r",
      "\r\n",
      "                Internal name: cup98LRN.txt \r",
      "\r\n",
      "                File size: 36,468,735 bytes zipped. 117,167,952 bytes \r",
      "\r\n",
      "                unzipped.\r",
      "\r\n",
      "                Number of Records: 95412.\r",
      "\r\n",
      "                Number of Fields: 481.\r",
      "\r\n",
      "\r",
      "\r\n",
      "cup98VAL.zip    PKZIP compressed raw VALIDATION data set. \r",
      "\r\n",
      "                Internal name: cup98VAL.txt \r",
      "\r\n",
      "                File size: 36,763,018 bytes zipped. 117,943,347 bytes \r",
      "\r\n",
      "                unzipped.\r",
      "\r\n",
      "                Number of Records: 96367.\r",
      "\r\n",
      "                Number of Fields: 479.\r",
      "\r\n",
      " \r",
      "\r\n",
      "cup98LRN.txt.Z  UNIX COMPRESSed raw LEARNING data set. \r",
      "\r\n",
      "                Internal name: cup98LRN.txt \r",
      "\r\n",
      "                File size: 36,579,127 bytes compressed. 117,167,952 \r",
      "\r\n",
      "                bytes uncompressed.\r",
      "\r\n",
      "                Number of Records: 95412.\r",
      "\r\n",
      "                Number of Fields: 481.\r",
      "\r\n",
      "\r",
      "\r\n",
      "cup98VAL.txt.Z  UNIX COMPRESSed raw VALIDATION data set. \r",
      "\r\n",
      "                Internal name: cup98VAL.txt \r",
      "\r\n",
      "                File size: 36,903,761 bytes compressed. 117,943,347 \r",
      "\r\n",
      "                bytes uncompressed.\r",
      "\r\n",
      "                Number of Records: 96367.\r",
      "\r\n",
      "                Number of Fields: 479.\r",
      "\r\n"
     ]
    }
   ],
   "source": [
    "!curl http://kdd.ics.uci.edu/databases/kddcup98/epsilon_mirror/readme"
   ]
  },
  {
   "cell_type": "markdown",
   "metadata": {},
   "source": [
    "As you can see this README describes several files which may be of use.  In particular there are two more documentation files (DOC and DIC) we should read to get an idea of the data format.  Bring these files into the notebook."
   ]
  },
  {
   "cell_type": "code",
   "execution_count": null,
   "metadata": {
    "collapsed": false
   },
   "outputs": [],
   "source": []
  },
  {
   "cell_type": "markdown",
   "metadata": {},
   "source": [
    "Now we wish to download the cup98lrn.zip file and unzip it into a new subdirectory called \"data\".  \n",
    "However, since this file is pretty big we don't want to store it on github.  \n",
    "Luckily git provides the [.gitignore](http://git-scm.com/docs/gitignore) file which allows us to specify files we don't want to put into our git repository.\n",
    "\n",
    "Please do the following steps:\n",
    "\n",
    "1. Add the directory \"data\" to the .gitignore file\n",
    "2. Commit the new .gitignore file\n",
    "3. Create a new directory \"data\"\n",
    "4. Download http://kdd.ics.uci.edu/databases/kddcup98/epsilon_mirror/cup98lrn.zip into the data directory\n",
    "5. Unzip the cup98lrn.zip (we will only be using the unzipped version, so feel free to remove the zip file)\n",
    "6. Run \"git status\" to show that the data directory is not an untracked file (this indicates it is ignored)\n",
    "\n",
    "**NOTE:** These steps only need to be run once, it is advised you comment all the lines out by putting a # at the start of each line after they have run.  This will save you time in the future when you have to rerun all cells/don't want to spend a few minutes downloading the data file."
   ]
  },
  {
   "cell_type": "code",
   "execution_count": 3,
   "metadata": {
    "collapsed": false
   },
   "outputs": [
    {
     "name": "stdout",
     "output_type": "stream",
     "text": [
      "/home/sadat/Documents/DSE/ssnazrul/DSE200/day_2_github_io_numpy_pandas\r\n"
     ]
    }
   ],
   "source": [
    "import os\n",
    "\n",
    "#!mkdir data\n",
    "file = open('.gitignore', 'w')\n",
    "file.write(r'/data/')\n",
    "file.close()"
   ]
  },
  {
   "cell_type": "markdown",
   "metadata": {},
   "source": [
    "Now perform some basic sanity checks on the data.  Using a combination of unix/basic python answer the following questions:\n",
    "\n",
    "1. How many lines are there?  \n",
    "2. Is the file character seperated or fixed width format?\n",
    "3. Is there a header?  If so how many fields are in it?\n",
    "4. Do all rows have the same number of fields as the header?\n",
    "5. Does anyhting in 1-4 disagree with the readme file or indicate erroneous data?"
   ]
  },
  {
   "cell_type": "code",
   "execution_count": null,
   "metadata": {
    "collapsed": false
   },
   "outputs": [],
   "source": []
  },
  {
   "cell_type": "markdown",
   "metadata": {},
   "source": [
    "Give answers to questions 1-4 in this markdown cell:\n",
    "\n",
    "1. \n",
    "2. \n",
    "3. \n",
    "4. \n",
    "\n",
    "Now load the data file into a pandas data frame called \"learn\".  To save some time, we've loaded the data dictionary into col_types.  \n",
    "\n",
    "Finally split learn into two data frames, learn_y: the targets (two columns described in the documentation) and learn_x: the predictors (everything but the targets)"
   ]
  },
  {
   "cell_type": "code",
   "execution_count": null,
   "metadata": {
    "collapsed": false
   },
   "outputs": [],
   "source": [
    "dict_file = open(\"dict.dat\")\n",
    "col_types = [ (x.split(\"\\t\")[0], x.strip().split(\"\\t\")[1]) for x in dict_file.readlines() ]"
   ]
  },
  {
   "cell_type": "code",
   "execution_count": null,
   "metadata": {
    "collapsed": false
   },
   "outputs": [],
   "source": []
  },
  {
   "cell_type": "markdown",
   "metadata": {},
   "source": [
    "###Summarizing Data\n",
    "Now that we have loaded data into the learn table, we wish to to summarize the data.  \n",
    "Write a function called summary which takes a pandas data frame and prints a summary of each column containing the following:\n",
    "\n",
    "If the column is numeric:\n",
    "\n",
    "1. Mean\n",
    "2. Standard Deviation\n",
    "3. Min/Max\n",
    "4. Number of missing values (NaN, Inf, NA)\n",
    "\n",
    "If the column is non alphabetical:\n",
    "\n",
    "1. Number of distinct values\n",
    "2. Number of missing values (NaN, INF, NA, blank/all spaces)\n",
    "3. The frequency of the 3 most common values and 3 least common values\n",
    "\n",
    "Format the output to be human readable.\n",
    "\n",
    "For example:\n",
    "> Field_1  \n",
    "> mean: 50  \n",
    "> std_dev: 25  \n",
    "> min: 0  \n",
    "> max: 100  \n",
    "> missing: 5\n",
    ">  \n",
    "> Field_2  \n",
    "> distinct_values: 100  \n",
    "> missing: 10  \n",
    ">  \n",
    "> 3 most common:  \n",
    ">   the: 1000  \n",
    ">   cat: 950  \n",
    ">   meows: 900  \n",
    ">  \n",
    "> 3 least common:  \n",
    ">   dogs: 5  \n",
    ">   lizards: 4  \n",
    ">   eggs: 1  "
   ]
  },
  {
   "cell_type": "markdown",
   "metadata": {
    "collapsed": false
   },
   "source": [
    " #### Pandas excercises\n",
    " 1. Selecting a subset of the rows using a condition\n",
    " 1. Using Apply\n",
    " 2. Different referencing of cells in dataframe: .log .iloc .ix direct\n",
    " 2. Using multi-indexes, pivoting, stack unstack\n",
    " 3. Using Groupby\n",
    " 4. Pandas and matplotlib."
   ]
  },
  {
   "cell_type": "code",
   "execution_count": null,
   "metadata": {
    "collapsed": false
   },
   "outputs": [],
   "source": []
  },
  {
   "cell_type": "code",
   "execution_count": null,
   "metadata": {
    "collapsed": false
   },
   "outputs": [],
   "source": []
  }
 ],
 "metadata": {
  "kernelspec": {
   "display_name": "Python 2",
   "language": "python",
   "name": "python2"
  },
  "language_info": {
   "codemirror_mode": {
    "name": "ipython",
    "version": 2
   },
   "file_extension": ".py",
   "mimetype": "text/x-python",
   "name": "python",
   "nbconvert_exporter": "python",
   "pygments_lexer": "ipython2",
   "version": "2.7.10"
  }
 },
 "nbformat": 4,
 "nbformat_minor": 0
}
