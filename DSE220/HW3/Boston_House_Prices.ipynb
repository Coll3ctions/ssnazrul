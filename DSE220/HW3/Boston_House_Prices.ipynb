{
 "cells": [
  {
   "cell_type": "code",
   "execution_count": 1,
   "metadata": {
    "collapsed": false
   },
   "outputs": [],
   "source": [
    "import numpy as np\n",
    "import pandas as pd\n",
    "import matplotlib.pyplot as plt\n",
    "from sklearn.datasets import load_boston\n",
    "from sklearn.linear_model import Ridge, LinearRegression\n",
    "from sklearn.ensemble import RandomForestRegressor, GradientBoostingRegressor\n",
    "from sklearn.cross_validation import train_test_split\n",
    "from sklearn.preprocessing import MinMaxScaler\n",
    "from sklearn.cross_validation import cross_val_score\n",
    "%matplotlib inline"
   ]
  },
  {
   "cell_type": "markdown",
   "metadata": {},
   "source": [
    "#Boston House Prices"
   ]
  },
  {
   "cell_type": "markdown",
   "metadata": {},
   "source": [
    "###Analyzing dataset"
   ]
  },
  {
   "cell_type": "code",
   "execution_count": 2,
   "metadata": {
    "collapsed": false
   },
   "outputs": [
    {
     "data": {
      "text/html": [
       "<div>\n",
       "<table border=\"1\" class=\"dataframe\">\n",
       "  <thead>\n",
       "    <tr style=\"text-align: right;\">\n",
       "      <th></th>\n",
       "      <th>CRIM</th>\n",
       "      <th>ZN</th>\n",
       "      <th>INDUS</th>\n",
       "      <th>CHAS</th>\n",
       "      <th>NOX</th>\n",
       "      <th>RM</th>\n",
       "      <th>AGE</th>\n",
       "      <th>DIS</th>\n",
       "      <th>RAD</th>\n",
       "      <th>TAX</th>\n",
       "      <th>PTRATIO</th>\n",
       "      <th>B</th>\n",
       "      <th>LSTAT</th>\n",
       "      <th>PRICE</th>\n",
       "    </tr>\n",
       "  </thead>\n",
       "  <tbody>\n",
       "    <tr>\n",
       "      <th>0</th>\n",
       "      <td>0.00632</td>\n",
       "      <td>18.0</td>\n",
       "      <td>2.31</td>\n",
       "      <td>0</td>\n",
       "      <td>0.538</td>\n",
       "      <td>6.575</td>\n",
       "      <td>65.2</td>\n",
       "      <td>4.0900</td>\n",
       "      <td>1</td>\n",
       "      <td>296.0</td>\n",
       "      <td>15.3</td>\n",
       "      <td>396.90</td>\n",
       "      <td>4.98</td>\n",
       "      <td>24.0</td>\n",
       "    </tr>\n",
       "    <tr>\n",
       "      <th>1</th>\n",
       "      <td>0.02731</td>\n",
       "      <td>0.0</td>\n",
       "      <td>7.07</td>\n",
       "      <td>0</td>\n",
       "      <td>0.469</td>\n",
       "      <td>6.421</td>\n",
       "      <td>78.9</td>\n",
       "      <td>4.9671</td>\n",
       "      <td>2</td>\n",
       "      <td>242.0</td>\n",
       "      <td>17.8</td>\n",
       "      <td>396.90</td>\n",
       "      <td>9.14</td>\n",
       "      <td>21.6</td>\n",
       "    </tr>\n",
       "    <tr>\n",
       "      <th>2</th>\n",
       "      <td>0.02729</td>\n",
       "      <td>0.0</td>\n",
       "      <td>7.07</td>\n",
       "      <td>0</td>\n",
       "      <td>0.469</td>\n",
       "      <td>7.185</td>\n",
       "      <td>61.1</td>\n",
       "      <td>4.9671</td>\n",
       "      <td>2</td>\n",
       "      <td>242.0</td>\n",
       "      <td>17.8</td>\n",
       "      <td>392.83</td>\n",
       "      <td>4.03</td>\n",
       "      <td>34.7</td>\n",
       "    </tr>\n",
       "    <tr>\n",
       "      <th>3</th>\n",
       "      <td>0.03237</td>\n",
       "      <td>0.0</td>\n",
       "      <td>2.18</td>\n",
       "      <td>0</td>\n",
       "      <td>0.458</td>\n",
       "      <td>6.998</td>\n",
       "      <td>45.8</td>\n",
       "      <td>6.0622</td>\n",
       "      <td>3</td>\n",
       "      <td>222.0</td>\n",
       "      <td>18.7</td>\n",
       "      <td>394.63</td>\n",
       "      <td>2.94</td>\n",
       "      <td>33.4</td>\n",
       "    </tr>\n",
       "    <tr>\n",
       "      <th>4</th>\n",
       "      <td>0.06905</td>\n",
       "      <td>0.0</td>\n",
       "      <td>2.18</td>\n",
       "      <td>0</td>\n",
       "      <td>0.458</td>\n",
       "      <td>7.147</td>\n",
       "      <td>54.2</td>\n",
       "      <td>6.0622</td>\n",
       "      <td>3</td>\n",
       "      <td>222.0</td>\n",
       "      <td>18.7</td>\n",
       "      <td>396.90</td>\n",
       "      <td>5.33</td>\n",
       "      <td>36.2</td>\n",
       "    </tr>\n",
       "  </tbody>\n",
       "</table>\n",
       "</div>"
      ],
      "text/plain": [
       "      CRIM    ZN  INDUS  CHAS    NOX     RM   AGE     DIS  RAD    TAX  \\\n",
       "0  0.00632  18.0   2.31     0  0.538  6.575  65.2  4.0900    1  296.0   \n",
       "1  0.02731   0.0   7.07     0  0.469  6.421  78.9  4.9671    2  242.0   \n",
       "2  0.02729   0.0   7.07     0  0.469  7.185  61.1  4.9671    2  242.0   \n",
       "3  0.03237   0.0   2.18     0  0.458  6.998  45.8  6.0622    3  222.0   \n",
       "4  0.06905   0.0   2.18     0  0.458  7.147  54.2  6.0622    3  222.0   \n",
       "\n",
       "   PTRATIO       B  LSTAT  PRICE  \n",
       "0     15.3  396.90   4.98   24.0  \n",
       "1     17.8  396.90   9.14   21.6  \n",
       "2     17.8  392.83   4.03   34.7  \n",
       "3     18.7  394.63   2.94   33.4  \n",
       "4     18.7  396.90   5.33   36.2  "
      ]
     },
     "execution_count": 2,
     "metadata": {},
     "output_type": "execute_result"
    }
   ],
   "source": [
    "link = 'https://archive.ics.uci.edu/ml/machine-learning-databases/housing/housing.data'\n",
    "col=['CRIM','ZN','INDUS','CHAS','NOX','RM','AGE','DIS','RAD','TAX','PTRATIO','B','LSTAT','PRICE']\n",
    "dataset=pd.read_fwf(link,names=col)\n",
    "dataset.head()"
   ]
  },
  {
   "cell_type": "code",
   "execution_count": 3,
   "metadata": {
    "collapsed": false
   },
   "outputs": [
    {
     "name": "stdout",
     "output_type": "stream",
     "text": [
      "<class 'pandas.core.frame.DataFrame'>\n",
      "RangeIndex: 506 entries, 0 to 505\n",
      "Data columns (total 14 columns):\n",
      "CRIM       506 non-null float64\n",
      "ZN         506 non-null float64\n",
      "INDUS      506 non-null float64\n",
      "CHAS       506 non-null int64\n",
      "NOX        506 non-null float64\n",
      "RM         506 non-null float64\n",
      "AGE        506 non-null float64\n",
      "DIS        506 non-null float64\n",
      "RAD        506 non-null int64\n",
      "TAX        506 non-null float64\n",
      "PTRATIO    506 non-null float64\n",
      "B          506 non-null float64\n",
      "LSTAT      506 non-null float64\n",
      "PRICE      506 non-null float64\n",
      "dtypes: float64(12), int64(2)\n",
      "memory usage: 55.4 KB\n"
     ]
    }
   ],
   "source": [
    "dataset.info()"
   ]
  },
  {
   "cell_type": "markdown",
   "metadata": {
    "collapsed": true
   },
   "source": [
    "We notice that we have continuous data in almost all our columns (including target) and we do not have null values. \n",
    "\n",
    "Next we will split the data for our stacking algorithm."
   ]
  },
  {
   "cell_type": "code",
   "execution_count": 4,
   "metadata": {
    "collapsed": false
   },
   "outputs": [],
   "source": [
    "#Data\n",
    "scaler = MinMaxScaler()\n",
    "X=dataset.ix[:,0:-1]\n",
    "X = scaler.fit_transform(X)\n",
    "\n",
    "#Target\n",
    "y=dataset.ix[:,-1]\n",
    "\n",
    "#Train-Test Split\n",
    "X_train, X_test, y_train, y_test = train_test_split(X, y, test_size=0.33, random_state=42)"
   ]
  },
  {
   "cell_type": "markdown",
   "metadata": {},
   "source": [
    "###Stacking Diagram"
   ]
  },
  {
   "cell_type": "markdown",
   "metadata": {},
   "source": [
    "For our stacking algorithm, we will collect predictions from Ridge Regression, Random Forest and Gradient Boosting on Stack 0. The parameters from Stack 0 will be optimized using Linear Regression in Stack 1. All 4 Regressors were picked based on the fact that we are dealing with continuous data."
   ]
  },
  {
   "cell_type": "markdown",
   "metadata": {},
   "source": [
    "<img src=\"Flowchart.png\">"
   ]
  },
  {
   "cell_type": "markdown",
   "metadata": {},
   "source": [
    "###Stack 0"
   ]
  },
  {
   "cell_type": "markdown",
   "metadata": {},
   "source": [
    "We will use Ridge Regression, Random Forest Classifier and Gradient Boosting for our base stack. \n",
    "\n",
    "The reasons are:\n",
    "- Ridge Regression will deal with multicolinearity\n",
    "- Random Forest will have a high accuracy \n",
    "- Gradient Boost will be resistant to overfit"
   ]
  },
  {
   "cell_type": "code",
   "execution_count": 5,
   "metadata": {
    "collapsed": false
   },
   "outputs": [],
   "source": [
    "def stack0(data,target):\n",
    "    '''Train classifiers of Stack0'''\n",
    "    \n",
    "    classifiers = [Ridge(fit_intercept=True, normalize=True),\n",
    "                  RandomForestRegressor(),\n",
    "                  GradientBoostingRegressor()]\n",
    "\n",
    "    columns=['Ridge',\n",
    "             'Random_Forest',\n",
    "             'Gradient_Boost']\n",
    "\n",
    "    stack0 = {}\n",
    "    \n",
    "    clfs = {}\n",
    "\n",
    "    #Split dataset into train and target for classification\n",
    "    data_train, data_test, target_train, target_test = train_test_split(X, y, test_size=0.33, random_state=42)\n",
    "    stack0['PRICE'] = target_test\n",
    "    \n",
    "    #Train classifiers and store the classifiers with predictions\n",
    "    for clf,col in zip(classifiers,columns):  \n",
    "        clf.fit(data_train,target_train)\n",
    "        pred = clf.predict(data_test)\n",
    "        stack0[col]=pred\n",
    "        clfs[col]=clf\n",
    "\n",
    "    #Create Dataframe for visualization\n",
    "    stack0_df = pd.DataFrame(stack0)\n",
    "\n",
    "    return stack0_df, clfs"
   ]
  },
  {
   "cell_type": "markdown",
   "metadata": {},
   "source": [
    "Sample train data from Stack 0"
   ]
  },
  {
   "cell_type": "code",
   "execution_count": 6,
   "metadata": {
    "collapsed": false
   },
   "outputs": [
    {
     "data": {
      "text/html": [
       "<div>\n",
       "<table border=\"1\" class=\"dataframe\">\n",
       "  <thead>\n",
       "    <tr style=\"text-align: right;\">\n",
       "      <th></th>\n",
       "      <th>Gradient_Boost</th>\n",
       "      <th>PRICE</th>\n",
       "      <th>Random_Forest</th>\n",
       "      <th>Ridge</th>\n",
       "    </tr>\n",
       "  </thead>\n",
       "  <tbody>\n",
       "    <tr>\n",
       "      <th>173</th>\n",
       "      <td>22.770963</td>\n",
       "      <td>23.6</td>\n",
       "      <td>23.86</td>\n",
       "      <td>26.150729</td>\n",
       "    </tr>\n",
       "    <tr>\n",
       "      <th>274</th>\n",
       "      <td>31.914874</td>\n",
       "      <td>32.4</td>\n",
       "      <td>31.90</td>\n",
       "      <td>32.001075</td>\n",
       "    </tr>\n",
       "    <tr>\n",
       "      <th>491</th>\n",
       "      <td>15.831544</td>\n",
       "      <td>13.6</td>\n",
       "      <td>15.19</td>\n",
       "      <td>17.499830</td>\n",
       "    </tr>\n",
       "    <tr>\n",
       "      <th>72</th>\n",
       "      <td>23.931056</td>\n",
       "      <td>22.8</td>\n",
       "      <td>24.23</td>\n",
       "      <td>24.874509</td>\n",
       "    </tr>\n",
       "    <tr>\n",
       "      <th>452</th>\n",
       "      <td>17.096761</td>\n",
       "      <td>16.1</td>\n",
       "      <td>17.82</td>\n",
       "      <td>18.276161</td>\n",
       "    </tr>\n",
       "  </tbody>\n",
       "</table>\n",
       "</div>"
      ],
      "text/plain": [
       "     Gradient_Boost  PRICE  Random_Forest      Ridge\n",
       "173       22.770963   23.6          23.86  26.150729\n",
       "274       31.914874   32.4          31.90  32.001075\n",
       "491       15.831544   13.6          15.19  17.499830\n",
       "72        23.931056   22.8          24.23  24.874509\n",
       "452       17.096761   16.1          17.82  18.276161"
      ]
     },
     "execution_count": 6,
     "metadata": {},
     "output_type": "execute_result"
    }
   ],
   "source": [
    "train0 = stack0(X_train, y_train)\n",
    "train0[0].head()"
   ]
  },
  {
   "cell_type": "markdown",
   "metadata": {},
   "source": [
    "Analyzing accuracy of individual classifiers:"
   ]
  },
  {
   "cell_type": "code",
   "execution_count": 7,
   "metadata": {
    "collapsed": false
   },
   "outputs": [
    {
     "name": "stdout",
     "output_type": "stream",
     "text": [
      "Gradient_Boost : 91.02 %\n",
      "Random_Forest : 88.02 %\n",
      "Ridge : 80.24 %\n"
     ]
    }
   ],
   "source": [
    "df = train0[0]\n",
    "\n",
    "cols = ['Gradient_Boost', 'Random_Forest', 'Ridge']\n",
    "for col in cols:\n",
    "    score = float(np.sum([np.isclose(i,j,atol=5) for i,j in zip(df['PRICE'],df[col])]))/len(df['PRICE'])\n",
    "    print col,':','%.2f'%(score*100),'%'"
   ]
  },
  {
   "cell_type": "markdown",
   "metadata": {},
   "source": [
    "###Stack 1"
   ]
  },
  {
   "cell_type": "markdown",
   "metadata": {},
   "source": [
    "Next we tune the base classifiers with Linear Regression in Stack 1. Linear Regression is used as we are dealing with continuous data from Stack 0. This will allow us to calculate the weights for each classifier from Stack 0."
   ]
  },
  {
   "cell_type": "code",
   "execution_count": 8,
   "metadata": {
    "collapsed": false
   },
   "outputs": [],
   "source": [
    "def stack1(data,target):\n",
    "    '''Perform Linear Regression on Stack0 classifiers'''\n",
    "    \n",
    "    #Get dataframe and classifier list from Stack0\n",
    "    stack0_df, clfs = stack0(data,target)\n",
    "    \n",
    "    ##Get coefficient for each classifier\n",
    "    columns=['Ridge','Random_Forest','Gradient_Boost']\n",
    "    clf = LinearRegression()\n",
    "    clf.fit(stack0_df[columns].values, stack0_df['PRICE'].values)\n",
    "    coefficients = clf.coef_ \n",
    "    intercept = clf.intercept_\n",
    "    \n",
    "    return coefficients, intercept ,clfs"
   ]
  },
  {
   "cell_type": "markdown",
   "metadata": {},
   "source": [
    "###Final Computation"
   ]
  },
  {
   "cell_type": "markdown",
   "metadata": {},
   "source": [
    "Next we get the score and analyze our prediction"
   ]
  },
  {
   "cell_type": "code",
   "execution_count": 9,
   "metadata": {
    "collapsed": false
   },
   "outputs": [],
   "source": [
    "def stack_score(train_data, train_target, test_data, test_target):\n",
    "    '''Combine Stack0 and Stack1 to calculate score'''\n",
    "    \n",
    "    columns=['Ridge','Random_Forest','Gradient_Boost']\n",
    "    \n",
    "    #Collect data from Stack1 (which did the computation from Stack0)\n",
    "    coefficients, intercept, clfs = stack1(train_data, train_target)\n",
    "    \n",
    "    #Array of zeros for adding weighted predictions\n",
    "    prediction = np.zeros(len(test_data))\n",
    "    \n",
    "    #Calculate intercept\n",
    "    intercept_array = np.empty(len(test_data))\n",
    "    intercept_array.fill(intercept)\n",
    "    \n",
    "    #Add weighted predictions\n",
    "    for i in range(len(columns)):\n",
    "        prediction += coefficients[i]*clfs[columns[i]].predict(test_data)\n",
    "    prediction += intercept_array\n",
    "    \n",
    "    #Collect score\n",
    "    tol = np.std(y_test)    \n",
    "    score = float(np.sum([np.isclose(i,j,atol=tol) for i,j in zip(prediction,test_target)]))/len(test_target)\n",
    "    \n",
    "    return score, prediction"
   ]
  },
  {
   "cell_type": "code",
   "execution_count": 13,
   "metadata": {
    "collapsed": false
   },
   "outputs": [
    {
     "name": "stdout",
     "output_type": "stream",
     "text": [
      "Score:\t98.20 %\n"
     ]
    },
    {
     "data": {
      "image/png": "[encoded data removed]",
      "text/plain": [
       "<matplotlib.figure.Figure at 0x7f6efed42ed0>"
      ]
     },
     "metadata": {},
     "output_type": "display_data"
    }
   ],
   "source": [
    "score, prediction = stack_score(X_train, y_train, X_test, y_test)\n",
    "print 'Score:\\t','%.2f'%(score*100),'%'\n",
    "\n",
    "plt.figure(figsize=(15,5))\n",
    "\n",
    "#Actual vs Predicted\n",
    "plt.subplot(1,2,1)\n",
    "plt.scatter(range(len(prediction)),prediction,color='red')\n",
    "plt.scatter(range(len(y_test)),y_test, color='blue')\n",
    "plt.title('Actual vs Predicted')\n",
    "plt.ylabel('PRICE')\n",
    "plt.legend(['PREDICTED','ACTUAL'], loc=0)\n",
    "plt.axis('tight')\n",
    "plt.grid()\n",
    "\n",
    "#MSE\n",
    "plt.subplot(1,2,2)\n",
    "plt.plot(abs(prediction-y_test.values), '.-')\n",
    "plt.axhline(y=5, color='green')\n",
    "plt.title('RMSE')\n",
    "plt.ylabel('ERROR')\n",
    "plt.grid();"
   ]
  },
  {
   "cell_type": "markdown",
   "metadata": {},
   "source": [
    "- Score achieved from data is very high (95%+).\n",
    "- Actual and Predicted data points are close to eachother.\n",
    "- Most of our RMSE values are below the $5,000 threshold.\n",
    "- Stacked classifier performed better than the individual base classifiers."
   ]
  },
  {
   "cell_type": "code",
   "execution_count": null,
   "metadata": {
    "collapsed": true
   },
   "outputs": [],
   "source": []
  }
 ],
 "metadata": {
  "kernelspec": {
   "display_name": "Python 2",
   "language": "python",
   "name": "python2"
  },
  "language_info": {
   "codemirror_mode": {
    "name": "ipython",
    "version": 2
   },
   "file_extension": ".py",
   "mimetype": "text/x-python",
   "name": "python",
   "nbconvert_exporter": "python",
   "pygments_lexer": "ipython2",
   "version": "2.7.11"
  }
 },
 "nbformat": 4,
 "nbformat_minor": 0
}
