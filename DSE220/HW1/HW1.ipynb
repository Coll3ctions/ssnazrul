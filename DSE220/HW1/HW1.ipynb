{
 "cells": [
  {
   "cell_type": "markdown",
   "metadata": {},
   "source": [
    "#<center>DSE 220 - Assignment 1"
   ]
  },
  {
   "cell_type": "code",
   "execution_count": 1,
   "metadata": {
    "collapsed": true
   },
   "outputs": [],
   "source": [
    "import pandas as pd\n",
    "import numpy as np\n",
    "from sklearn import tree, metrics\n",
    "import matplotlib.pyplot as plt\n",
    "%matplotlib inline"
   ]
  },
  {
   "cell_type": "code",
   "execution_count": 2,
   "metadata": {
    "collapsed": false
   },
   "outputs": [
    {
     "name": "stdout",
     "output_type": "stream",
     "text": [
      "AHW_1.csv\t\t\tst1019ts.txt  st6070ts.txt  weather_dataset.csv\r\n",
      "AHW_with_HWbmi_cycbaskten2.csv\tst2029ts.txt  st7080ts.txt  wine.data\r\n",
      "files.txt\t\t\tst3039ts.txt  st8090ts.txt  wine.names\r\n",
      "HW1.ipynb\t\t\tst4049ts.txt  trial.txt\r\n",
      "st0009ts.txt\t\t\tst5060ts.txt  trial.txt~\r\n"
     ]
    }
   ],
   "source": [
    "!ls"
   ]
  },
  {
   "cell_type": "markdown",
   "metadata": {},
   "source": [
    "#<center>Problem 1"
   ]
  },
  {
   "cell_type": "code",
   "execution_count": 8,
   "metadata": {
    "collapsed": false
   },
   "outputs": [
    {
     "data": {
      "text/html": [
       "<div>\n",
       "<table border=\"1\" class=\"dataframe\">\n",
       "  <thead>\n",
       "    <tr style=\"text-align: right;\">\n",
       "      <th></th>\n",
       "      <th>Day</th>\n",
       "      <th>outlook</th>\n",
       "      <th>temperature</th>\n",
       "      <th>humidity</th>\n",
       "      <th>windy</th>\n",
       "      <th>play</th>\n",
       "    </tr>\n",
       "  </thead>\n",
       "  <tbody>\n",
       "    <tr>\n",
       "      <th>0</th>\n",
       "      <td>1</td>\n",
       "      <td>sunny</td>\n",
       "      <td>85</td>\n",
       "      <td>85</td>\n",
       "      <td>False</td>\n",
       "      <td>no</td>\n",
       "    </tr>\n",
       "    <tr>\n",
       "      <th>1</th>\n",
       "      <td>2</td>\n",
       "      <td>sunny</td>\n",
       "      <td>80</td>\n",
       "      <td>90</td>\n",
       "      <td>True</td>\n",
       "      <td>no</td>\n",
       "    </tr>\n",
       "    <tr>\n",
       "      <th>2</th>\n",
       "      <td>3</td>\n",
       "      <td>overcast</td>\n",
       "      <td>83</td>\n",
       "      <td>86</td>\n",
       "      <td>False</td>\n",
       "      <td>yes</td>\n",
       "    </tr>\n",
       "    <tr>\n",
       "      <th>3</th>\n",
       "      <td>4</td>\n",
       "      <td>rainy</td>\n",
       "      <td>70</td>\n",
       "      <td>96</td>\n",
       "      <td>False</td>\n",
       "      <td>yes</td>\n",
       "    </tr>\n",
       "    <tr>\n",
       "      <th>4</th>\n",
       "      <td>5</td>\n",
       "      <td>rainy</td>\n",
       "      <td>68</td>\n",
       "      <td>80</td>\n",
       "      <td>False</td>\n",
       "      <td>yes</td>\n",
       "    </tr>\n",
       "    <tr>\n",
       "      <th>5</th>\n",
       "      <td>6</td>\n",
       "      <td>rainy</td>\n",
       "      <td>65</td>\n",
       "      <td>70</td>\n",
       "      <td>True</td>\n",
       "      <td>no</td>\n",
       "    </tr>\n",
       "    <tr>\n",
       "      <th>6</th>\n",
       "      <td>7</td>\n",
       "      <td>overcast</td>\n",
       "      <td>64</td>\n",
       "      <td>65</td>\n",
       "      <td>True</td>\n",
       "      <td>yes</td>\n",
       "    </tr>\n",
       "    <tr>\n",
       "      <th>7</th>\n",
       "      <td>8</td>\n",
       "      <td>sunny</td>\n",
       "      <td>72</td>\n",
       "      <td>95</td>\n",
       "      <td>False</td>\n",
       "      <td>no</td>\n",
       "    </tr>\n",
       "    <tr>\n",
       "      <th>8</th>\n",
       "      <td>9</td>\n",
       "      <td>sunny</td>\n",
       "      <td>69</td>\n",
       "      <td>70</td>\n",
       "      <td>False</td>\n",
       "      <td>yes</td>\n",
       "    </tr>\n",
       "    <tr>\n",
       "      <th>9</th>\n",
       "      <td>10</td>\n",
       "      <td>rainy</td>\n",
       "      <td>75</td>\n",
       "      <td>80</td>\n",
       "      <td>False</td>\n",
       "      <td>yes</td>\n",
       "    </tr>\n",
       "    <tr>\n",
       "      <th>10</th>\n",
       "      <td>11</td>\n",
       "      <td>sunny</td>\n",
       "      <td>75</td>\n",
       "      <td>70</td>\n",
       "      <td>True</td>\n",
       "      <td>yes</td>\n",
       "    </tr>\n",
       "    <tr>\n",
       "      <th>11</th>\n",
       "      <td>12</td>\n",
       "      <td>overcast</td>\n",
       "      <td>72</td>\n",
       "      <td>90</td>\n",
       "      <td>True</td>\n",
       "      <td>yes</td>\n",
       "    </tr>\n",
       "    <tr>\n",
       "      <th>12</th>\n",
       "      <td>13</td>\n",
       "      <td>overcast</td>\n",
       "      <td>81</td>\n",
       "      <td>75</td>\n",
       "      <td>False</td>\n",
       "      <td>yes</td>\n",
       "    </tr>\n",
       "    <tr>\n",
       "      <th>13</th>\n",
       "      <td>14</td>\n",
       "      <td>rainy</td>\n",
       "      <td>71</td>\n",
       "      <td>91</td>\n",
       "      <td>True</td>\n",
       "      <td>no</td>\n",
       "    </tr>\n",
       "  </tbody>\n",
       "</table>\n",
       "</div>"
      ],
      "text/plain": [
       "    Day   outlook  temperature  humidity  windy play\n",
       "0     1     sunny           85        85  False   no\n",
       "1     2     sunny           80        90   True   no\n",
       "2     3  overcast           83        86  False  yes\n",
       "3     4     rainy           70        96  False  yes\n",
       "4     5     rainy           68        80  False  yes\n",
       "5     6     rainy           65        70   True   no\n",
       "6     7  overcast           64        65   True  yes\n",
       "7     8     sunny           72        95  False   no\n",
       "8     9     sunny           69        70  False  yes\n",
       "9    10     rainy           75        80  False  yes\n",
       "10   11     sunny           75        70   True  yes\n",
       "11   12  overcast           72        90   True  yes\n",
       "12   13  overcast           81        75  False  yes\n",
       "13   14     rainy           71        91   True   no"
      ]
     },
     "execution_count": 8,
     "metadata": {},
     "output_type": "execute_result"
    }
   ],
   "source": [
    "df = pd.read_csv('weather_dataset.csv')\n",
    "df"
   ]
  },
  {
   "cell_type": "code",
   "execution_count": 109,
   "metadata": {
    "collapsed": false
   },
   "outputs": [
    {
     "name": "stdout",
     "output_type": "stream",
     "text": [
      "Mean Temperature:\t73.5714285714\n",
      "Mean Humidity:\t\t81.6428571429\n"
     ]
    }
   ],
   "source": [
    "print 'Mean Temperature:\\t'+str(np.mean(df['temperature']))\n",
    "print 'Mean Humidity:\\t\\t'+str(np.mean(df['humidity']))"
   ]
  },
  {
   "cell_type": "code",
   "execution_count": 110,
   "metadata": {
    "collapsed": false
   },
   "outputs": [
    {
     "name": "stdout",
     "output_type": "stream",
     "text": [
      "Temperature Greater Than Average\n"
     ]
    },
    {
     "data": {
      "text/html": [
       "<div>\n",
       "<table border=\"1\" class=\"dataframe\">\n",
       "  <thead>\n",
       "    <tr style=\"text-align: right;\">\n",
       "      <th></th>\n",
       "      <th>outlook</th>\n",
       "      <th>play</th>\n",
       "    </tr>\n",
       "  </thead>\n",
       "  <tbody>\n",
       "    <tr>\n",
       "      <th>0</th>\n",
       "      <td>sunny</td>\n",
       "      <td>no</td>\n",
       "    </tr>\n",
       "    <tr>\n",
       "      <th>1</th>\n",
       "      <td>sunny</td>\n",
       "      <td>no</td>\n",
       "    </tr>\n",
       "    <tr>\n",
       "      <th>2</th>\n",
       "      <td>overcast</td>\n",
       "      <td>yes</td>\n",
       "    </tr>\n",
       "    <tr>\n",
       "      <th>9</th>\n",
       "      <td>rainy</td>\n",
       "      <td>yes</td>\n",
       "    </tr>\n",
       "    <tr>\n",
       "      <th>10</th>\n",
       "      <td>sunny</td>\n",
       "      <td>yes</td>\n",
       "    </tr>\n",
       "    <tr>\n",
       "      <th>12</th>\n",
       "      <td>overcast</td>\n",
       "      <td>yes</td>\n",
       "    </tr>\n",
       "  </tbody>\n",
       "</table>\n",
       "</div>"
      ],
      "text/plain": [
       "     outlook play\n",
       "0      sunny   no\n",
       "1      sunny   no\n",
       "2   overcast  yes\n",
       "9      rainy  yes\n",
       "10     sunny  yes\n",
       "12  overcast  yes"
      ]
     },
     "execution_count": 110,
     "metadata": {},
     "output_type": "execute_result"
    }
   ],
   "source": [
    "print 'Temperature Greater Than Average'\n",
    "df[df['temperature']>np.mean(df['temperature'])][['outlook','play']]"
   ]
  },
  {
   "cell_type": "code",
   "execution_count": 111,
   "metadata": {
    "collapsed": false
   },
   "outputs": [
    {
     "name": "stdout",
     "output_type": "stream",
     "text": [
      "Humidity Greater Than Average\n"
     ]
    },
    {
     "data": {
      "text/html": [
       "<div>\n",
       "<table border=\"1\" class=\"dataframe\">\n",
       "  <thead>\n",
       "    <tr style=\"text-align: right;\">\n",
       "      <th></th>\n",
       "      <th>outlook</th>\n",
       "      <th>play</th>\n",
       "    </tr>\n",
       "  </thead>\n",
       "  <tbody>\n",
       "    <tr>\n",
       "      <th>0</th>\n",
       "      <td>sunny</td>\n",
       "      <td>no</td>\n",
       "    </tr>\n",
       "    <tr>\n",
       "      <th>1</th>\n",
       "      <td>sunny</td>\n",
       "      <td>no</td>\n",
       "    </tr>\n",
       "    <tr>\n",
       "      <th>2</th>\n",
       "      <td>overcast</td>\n",
       "      <td>yes</td>\n",
       "    </tr>\n",
       "    <tr>\n",
       "      <th>3</th>\n",
       "      <td>rainy</td>\n",
       "      <td>yes</td>\n",
       "    </tr>\n",
       "    <tr>\n",
       "      <th>7</th>\n",
       "      <td>sunny</td>\n",
       "      <td>no</td>\n",
       "    </tr>\n",
       "    <tr>\n",
       "      <th>11</th>\n",
       "      <td>overcast</td>\n",
       "      <td>yes</td>\n",
       "    </tr>\n",
       "    <tr>\n",
       "      <th>13</th>\n",
       "      <td>rainy</td>\n",
       "      <td>no</td>\n",
       "    </tr>\n",
       "  </tbody>\n",
       "</table>\n",
       "</div>"
      ],
      "text/plain": [
       "     outlook play\n",
       "0      sunny   no\n",
       "1      sunny   no\n",
       "2   overcast  yes\n",
       "3      rainy  yes\n",
       "7      sunny   no\n",
       "11  overcast  yes\n",
       "13     rainy   no"
      ]
     },
     "execution_count": 111,
     "metadata": {},
     "output_type": "execute_result"
    }
   ],
   "source": [
    "print 'Humidity Greater Than Average'\n",
    "df[df['humidity']>np.mean(df['humidity'])][['outlook','play']]"
   ]
  },
  {
   "cell_type": "code",
   "execution_count": 113,
   "metadata": {
    "collapsed": false
   },
   "outputs": [
    {
     "data": {
      "text/html": [
       "<div>\n",
       "<table border=\"1\" class=\"dataframe\">\n",
       "  <thead>\n",
       "    <tr style=\"text-align: right;\">\n",
       "      <th></th>\n",
       "      <th>Day</th>\n",
       "      <th>outlook</th>\n",
       "      <th>temperature</th>\n",
       "      <th>humidity</th>\n",
       "      <th>windy</th>\n",
       "      <th>play</th>\n",
       "      <th>Celcius</th>\n",
       "    </tr>\n",
       "  </thead>\n",
       "  <tbody>\n",
       "    <tr>\n",
       "      <th>0</th>\n",
       "      <td>1</td>\n",
       "      <td>sunny</td>\n",
       "      <td>85</td>\n",
       "      <td>85</td>\n",
       "      <td>False</td>\n",
       "      <td>no</td>\n",
       "      <td>29.444444</td>\n",
       "    </tr>\n",
       "    <tr>\n",
       "      <th>1</th>\n",
       "      <td>2</td>\n",
       "      <td>sunny</td>\n",
       "      <td>80</td>\n",
       "      <td>90</td>\n",
       "      <td>True</td>\n",
       "      <td>no</td>\n",
       "      <td>26.666667</td>\n",
       "    </tr>\n",
       "    <tr>\n",
       "      <th>2</th>\n",
       "      <td>3</td>\n",
       "      <td>overcast</td>\n",
       "      <td>83</td>\n",
       "      <td>86</td>\n",
       "      <td>False</td>\n",
       "      <td>yes</td>\n",
       "      <td>28.333333</td>\n",
       "    </tr>\n",
       "    <tr>\n",
       "      <th>3</th>\n",
       "      <td>4</td>\n",
       "      <td>rainy</td>\n",
       "      <td>70</td>\n",
       "      <td>96</td>\n",
       "      <td>False</td>\n",
       "      <td>yes</td>\n",
       "      <td>21.111111</td>\n",
       "    </tr>\n",
       "    <tr>\n",
       "      <th>4</th>\n",
       "      <td>5</td>\n",
       "      <td>rainy</td>\n",
       "      <td>68</td>\n",
       "      <td>80</td>\n",
       "      <td>False</td>\n",
       "      <td>yes</td>\n",
       "      <td>20.000000</td>\n",
       "    </tr>\n",
       "  </tbody>\n",
       "</table>\n",
       "</div>"
      ],
      "text/plain": [
       "   Day   outlook  temperature  humidity  windy play    Celcius\n",
       "0    1     sunny           85        85  False   no  29.444444\n",
       "1    2     sunny           80        90   True   no  26.666667\n",
       "2    3  overcast           83        86  False  yes  28.333333\n",
       "3    4     rainy           70        96  False  yes  21.111111\n",
       "4    5     rainy           68        80  False  yes  20.000000"
      ]
     },
     "execution_count": 113,
     "metadata": {},
     "output_type": "execute_result"
    }
   ],
   "source": [
    "df['Celcius'] = (df['temperature']-32)*(5.0/9.0)\n",
    "df.head()"
   ]
  },
  {
   "cell_type": "code",
   "execution_count": 123,
   "metadata": {
    "collapsed": false
   },
   "outputs": [
    {
     "name": "stdout",
     "output_type": "stream",
     "text": [
      "1. How often do you play tennis independent of the other attributes?\n",
      "\n",
      "Probability:\t0.642857142857\n"
     ]
    }
   ],
   "source": [
    "print '1. How often do you play tennis independent of the other attributes?\\n'\n",
    "print 'Probability:\\t'+str(float(len(df[df['play']=='yes']))/len(df))"
   ]
  },
  {
   "cell_type": "code",
   "execution_count": 126,
   "metadata": {
    "collapsed": false
   },
   "outputs": [
    {
     "name": "stdout",
     "output_type": "stream",
     "text": [
      "2. How often do you play tennis when it is \"sunny\"?\n",
      "\n",
      "Probability:\t0.142857142857\n"
     ]
    }
   ],
   "source": [
    "print '2. How often do you play tennis when it is \"sunny\"?\\n'\n",
    "cond1 = df['outlook']=='sunny'\n",
    "cond2 = df['play']=='yes'\n",
    "print 'Probability:\\t'+str(float(len(df[cond1&cond2]))/len(df))"
   ]
  },
  {
   "cell_type": "code",
   "execution_count": 24,
   "metadata": {
    "collapsed": false
   },
   "outputs": [
    {
     "name": "stdout",
     "output_type": "stream",
     "text": [
      "3. Compare the average, minimum and maximum temperature when you play tennis?\n",
      "\n",
      "Minimum:\tovercast\n",
      "Average:\t['sunny' 'overcast']\n",
      "Maximum:\tsunny\n"
     ]
    }
   ],
   "source": [
    "print '3. Compare the average, minimum and maximum temperature when you play tennis?\\n'\n",
    "print 'Minimum:\\t'+str(df[df['temperature']==df['temperature'].min()]['outlook'].values[0])\n",
    "print 'Average:\\t'+str(df[df['temperature']==df['temperature'].median()]['outlook'].values)\n",
    "print 'Maximum:\\t'+str(df[df['temperature']==df['temperature'].max()]['outlook'].values[0])"
   ]
  },
  {
   "cell_type": "code",
   "execution_count": 98,
   "metadata": {
    "collapsed": false
   },
   "outputs": [
    {
     "name": "stdout",
     "output_type": "stream",
     "text": [
      "4. Compare the average, minimum and maximum humidity when you play tennis?\n",
      "\n",
      "Minimum:\tovercast\n",
      "Average:\t['sunny' 'overcast']\n",
      "Maximum:\trainy\n"
     ]
    },
    {
     "name": "stderr",
     "output_type": "stream",
     "text": [
      "/home/sadat/anaconda3/envs/py2k/lib/python2.7/site-packages/IPython/kernel/__main__.py:3: FutureWarning: sort(columns=....) is deprecated, use sort_values(by=.....)\n",
      "  app.launch_new_instance()\n"
     ]
    }
   ],
   "source": [
    "print '4. Compare the average, minimum and maximum humidity when you play tennis?\\n'\n",
    "print 'Minimum:\\t'+str(df[df['humidity']==df['humidity'].min()]['outlook'].values[0])\n",
    "print 'Average:\\t'+str(df.sort(columns=['humidity']).reset_index().ix[7:8]['outlook'].values)\n",
    "print 'Maximum:\\t'+str(df[df['humidity']==df['humidity'].max()]['outlook'].values[0])"
   ]
  },
  {
   "cell_type": "code",
   "execution_count": 61,
   "metadata": {
    "collapsed": false
   },
   "outputs": [
    {
     "name": "stdout",
     "output_type": "stream",
     "text": [
      "5. Plot the an scatter plot (x,y diagramm) of humidity (x) and temperature (y) when you play tennis\n",
      "compared to when you do not play tennis.\n",
      "\n"
     ]
    },
    {
     "data": {
      "text/plain": [
       "<matplotlib.text.Text at 0x7fc6add82710>"
      ]
     },
     "execution_count": 61,
     "metadata": {},
     "output_type": "execute_result"
    },
    {
     "data": {
      "image/png": "[encoded data removed]",
      "text/plain": [
       "<matplotlib.figure.Figure at 0x7fc6ae6ffe90>"
      ]
     },
     "metadata": {},
     "output_type": "display_data"
    }
   ],
   "source": [
    "print '5. Plot the an scatter plot (x,y diagramm) of humidity (x) and temperature (y) when you play tennis' \n",
    "print 'compared to when you do not play tennis.\\n'\n",
    "\n",
    "hy = df[df['play']=='yes']['humidity'].values\n",
    "ty = df[df['play']=='yes']['temperature'].values\n",
    "hn = df[df['play']=='no']['humidity'].values\n",
    "tn = df[df['play']=='no']['temperature'].values\n",
    "\n",
    "plt.figure(figsize=(10,5))\n",
    "plt.scatter(hy,ty,c='g',s=100)\n",
    "plt.scatter(hn,tn,c='y',s=100)\n",
    "plt.legend(['Yes','No'])\n",
    "plt.title('Play',fontsize=16)\n",
    "plt.xlabel('Humidity',fontsize=12)\n",
    "plt.ylabel('Temperature',fontsize=12)"
   ]
  },
  {
   "cell_type": "markdown",
   "metadata": {},
   "source": [
    "#<center>Problem 2"
   ]
  },
  {
   "cell_type": "code",
   "execution_count": 25,
   "metadata": {
    "collapsed": false
   },
   "outputs": [],
   "source": [
    "# This cell helps with using sed later to get where to trim the files\n",
    "files = [\"new_data/st0009ts.txt\", \"new_data/st1019ts.txt\",\\\n",
    "         \"new_data/st2029ts.txt\", \"new_data/st3039ts.txt\",\\\n",
    "         \"new_data/st4049ts.txt\", \"new_data/st5060ts.txt\",\\\n",
    "         \"new_data/st6070ts.txt\", \"new_data/st7080ts.txt\",\\\n",
    "         \"new_data/st8090ts.txt\"]\n",
    "data = [\"data/st0009ts.txt\", \"data/st1019ts.txt\",\\\n",
    "         \"data/st2029ts.txt\", \"data/st3039ts.txt\",\\\n",
    "         \"data/st4049ts.txt\", \"data/st5060ts.txt\",\\\n",
    "         \"data/st6070ts.txt\", \"data/st7080ts.txt\",\\\n",
    "         \"data/st8090ts.txt\"]"
   ]
  },
  {
   "cell_type": "code",
   "execution_count": 30,
   "metadata": {
    "collapsed": false
   },
   "outputs": [
    {
     "data": {
      "text/html": [
       "<div>\n",
       "<table border=\"1\" class=\"dataframe\">\n",
       "  <thead>\n",
       "    <tr style=\"text-align: right;\">\n",
       "      <th></th>\n",
       "      <th>Year</th>\n",
       "      <th>AK</th>\n",
       "      <th>AL</th>\n",
       "      <th>AR</th>\n",
       "      <th>AZ</th>\n",
       "      <th>CA</th>\n",
       "      <th>CO</th>\n",
       "      <th>CT</th>\n",
       "      <th>DC</th>\n",
       "      <th>DE</th>\n",
       "      <th>...</th>\n",
       "      <th>TX</th>\n",
       "      <th>US</th>\n",
       "      <th>UT</th>\n",
       "      <th>VA</th>\n",
       "      <th>VT</th>\n",
       "      <th>WA</th>\n",
       "      <th>WI</th>\n",
       "      <th>WV</th>\n",
       "      <th>WY</th>\n",
       "      <th>West</th>\n",
       "    </tr>\n",
       "  </thead>\n",
       "  <tbody>\n",
       "    <tr>\n",
       "      <th>0</th>\n",
       "      <td>1900</td>\n",
       "      <td>0.0</td>\n",
       "      <td>1830000.0</td>\n",
       "      <td>1314000.0</td>\n",
       "      <td>124000.0</td>\n",
       "      <td>1490000.0</td>\n",
       "      <td>543000.0</td>\n",
       "      <td>910000.0</td>\n",
       "      <td>278000.0</td>\n",
       "      <td>185000.0</td>\n",
       "      <td>...</td>\n",
       "      <td>3055000.0</td>\n",
       "      <td>76094000.0</td>\n",
       "      <td>277000.0</td>\n",
       "      <td>1858000.0</td>\n",
       "      <td>344000.0</td>\n",
       "      <td>523000.0</td>\n",
       "      <td>2072000.0</td>\n",
       "      <td>959000.0</td>\n",
       "      <td>93000.0</td>\n",
       "      <td>4112000.0</td>\n",
       "    </tr>\n",
       "    <tr>\n",
       "      <th>1</th>\n",
       "      <td>1901</td>\n",
       "      <td>0.0</td>\n",
       "      <td>1907000.0</td>\n",
       "      <td>1341000.0</td>\n",
       "      <td>131000.0</td>\n",
       "      <td>1550000.0</td>\n",
       "      <td>581000.0</td>\n",
       "      <td>931000.0</td>\n",
       "      <td>285000.0</td>\n",
       "      <td>187000.0</td>\n",
       "      <td>...</td>\n",
       "      <td>3132000.0</td>\n",
       "      <td>77585000.0</td>\n",
       "      <td>284000.0</td>\n",
       "      <td>1887000.0</td>\n",
       "      <td>347000.0</td>\n",
       "      <td>583000.0</td>\n",
       "      <td>2109000.0</td>\n",
       "      <td>972000.0</td>\n",
       "      <td>100000.0</td>\n",
       "      <td>4351000.0</td>\n",
       "    </tr>\n",
       "    <tr>\n",
       "      <th>2</th>\n",
       "      <td>1902</td>\n",
       "      <td>0.0</td>\n",
       "      <td>1935000.0</td>\n",
       "      <td>1360000.0</td>\n",
       "      <td>138000.0</td>\n",
       "      <td>1623000.0</td>\n",
       "      <td>621000.0</td>\n",
       "      <td>952000.0</td>\n",
       "      <td>290000.0</td>\n",
       "      <td>188000.0</td>\n",
       "      <td>...</td>\n",
       "      <td>3210000.0</td>\n",
       "      <td>79160000.0</td>\n",
       "      <td>292000.0</td>\n",
       "      <td>1894000.0</td>\n",
       "      <td>349000.0</td>\n",
       "      <td>651000.0</td>\n",
       "      <td>2141000.0</td>\n",
       "      <td>1000000.0</td>\n",
       "      <td>105000.0</td>\n",
       "      <td>4620000.0</td>\n",
       "    </tr>\n",
       "    <tr>\n",
       "      <th>3</th>\n",
       "      <td>1903</td>\n",
       "      <td>0.0</td>\n",
       "      <td>1957000.0</td>\n",
       "      <td>1384000.0</td>\n",
       "      <td>144000.0</td>\n",
       "      <td>1702000.0</td>\n",
       "      <td>652000.0</td>\n",
       "      <td>972000.0</td>\n",
       "      <td>295000.0</td>\n",
       "      <td>190000.0</td>\n",
       "      <td>...</td>\n",
       "      <td>3291000.0</td>\n",
       "      <td>80632000.0</td>\n",
       "      <td>299000.0</td>\n",
       "      <td>1890000.0</td>\n",
       "      <td>350000.0</td>\n",
       "      <td>719000.0</td>\n",
       "      <td>2171000.0</td>\n",
       "      <td>1037000.0</td>\n",
       "      <td>108000.0</td>\n",
       "      <td>4882000.0</td>\n",
       "    </tr>\n",
       "    <tr>\n",
       "      <th>4</th>\n",
       "      <td>1904</td>\n",
       "      <td>0.0</td>\n",
       "      <td>1978000.0</td>\n",
       "      <td>1419000.0</td>\n",
       "      <td>151000.0</td>\n",
       "      <td>1792000.0</td>\n",
       "      <td>659000.0</td>\n",
       "      <td>987000.0</td>\n",
       "      <td>302000.0</td>\n",
       "      <td>192000.0</td>\n",
       "      <td>...</td>\n",
       "      <td>3374000.0</td>\n",
       "      <td>82165000.0</td>\n",
       "      <td>308000.0</td>\n",
       "      <td>1889000.0</td>\n",
       "      <td>353000.0</td>\n",
       "      <td>782000.0</td>\n",
       "      <td>2202000.0</td>\n",
       "      <td>1064000.0</td>\n",
       "      <td>111000.0</td>\n",
       "      <td>5127000.0</td>\n",
       "    </tr>\n",
       "  </tbody>\n",
       "</table>\n",
       "<p>5 rows × 58 columns</p>\n",
       "</div>"
      ],
      "text/plain": [
       "   Year   AK         AL         AR        AZ         CA        CO        CT  \\\n",
       "0  1900  0.0  1830000.0  1314000.0  124000.0  1490000.0  543000.0  910000.0   \n",
       "1  1901  0.0  1907000.0  1341000.0  131000.0  1550000.0  581000.0  931000.0   \n",
       "2  1902  0.0  1935000.0  1360000.0  138000.0  1623000.0  621000.0  952000.0   \n",
       "3  1903  0.0  1957000.0  1384000.0  144000.0  1702000.0  652000.0  972000.0   \n",
       "4  1904  0.0  1978000.0  1419000.0  151000.0  1792000.0  659000.0  987000.0   \n",
       "\n",
       "         DC        DE    ...             TX          US        UT         VA  \\\n",
       "0  278000.0  185000.0    ...      3055000.0  76094000.0  277000.0  1858000.0   \n",
       "1  285000.0  187000.0    ...      3132000.0  77585000.0  284000.0  1887000.0   \n",
       "2  290000.0  188000.0    ...      3210000.0  79160000.0  292000.0  1894000.0   \n",
       "3  295000.0  190000.0    ...      3291000.0  80632000.0  299000.0  1890000.0   \n",
       "4  302000.0  192000.0    ...      3374000.0  82165000.0  308000.0  1889000.0   \n",
       "\n",
       "         VT        WA         WI         WV        WY       West  \n",
       "0  344000.0  523000.0  2072000.0   959000.0   93000.0  4112000.0  \n",
       "1  347000.0  583000.0  2109000.0   972000.0  100000.0  4351000.0  \n",
       "2  349000.0  651000.0  2141000.0  1000000.0  105000.0  4620000.0  \n",
       "3  350000.0  719000.0  2171000.0  1037000.0  108000.0  4882000.0  \n",
       "4  353000.0  782000.0  2202000.0  1064000.0  111000.0  5127000.0  \n",
       "\n",
       "[5 rows x 58 columns]"
      ]
     },
     "execution_count": 30,
     "metadata": {},
     "output_type": "execute_result"
    }
   ],
   "source": [
    "import os \n",
    "count = 0; \n",
    "\n",
    "for index, data_file in enumerate(data):\n",
    "    \n",
    "    if index == 0:\n",
    "        end_line = f1[files[index]].max()\n",
    "        start_line = f1[files[index]].min()\n",
    "        !sed \"$(($start_line-2)),$(($end_line))!d\" \"$data_file\">>data/1st0009ts.txt\n",
    "        df = pd.read_fwf('data/1st0009ts.txt',header = 0, index_col=0, thousands=\",\")\n",
    "        os.remove('data/1st0009ts.txt')\n",
    "        df = df.dropna()   \n",
    "        df = df.transpose()\n",
    "        df.rename(columns={'U.S.': 'US'}, inplace=True)\n",
    "    elif index == 1 or index == 2 or index == 3 or index == 4:\n",
    "        end_line = f1[files[index]].max()\n",
    "        start_line = f1[files[index]].min()\n",
    "        !sed \"$(($start_line-2)),$(($end_line))!d\" \"$data_file\">>data/1st0009ts.txt\n",
    "        new_df = pd.read_fwf('data/1st0009ts.txt',header = 0, index_col=0, thousands=\",\")\n",
    "        os.remove('data/1st0009ts.txt')\n",
    "        new_df = new_df.dropna() \n",
    "        new_df = new_df.transpose()\n",
    "        new_df.rename(columns={'U.S.': 'US'}, inplace=True)\n",
    "    elif index == 5:\n",
    "        end_line = f1[files[index]].max()\n",
    "        start_line = f1[files[index]].min()\n",
    "        !sed \"$(($start_line-2)),$(($end_line))!d\" \"$data_file\">>data/1st0009ts.txt\n",
    "        new_df= pd.read_fwf('data/1st0009ts.txt',header = 0, index_col=0, thousands=\",\")\n",
    "        os.remove('data/1st0009ts.txt')\n",
    "        new_df = new_df.dropna() \n",
    "        new_df.columns = ['1950', '1950.1', '1951', '1952', '1953', '1954', '1955', '1956', '1957', '1958', '1959', '1960']\n",
    "        new_df = new_df.transpose()\n",
    "        new_df.rename(columns={'U.S.': 'US'}, inplace=True)\n",
    "    elif index == 6:\n",
    "        end_line = f1[files[index]].max()\n",
    "        start_line = f1[files[index]].min()\n",
    "        !sed \"$(($start_line-2)),$(($end_line))!d\" \"$data_file\">>data/1st0009ts.txt\n",
    "        new_df= pd.read_fwf('data/1st0009ts.txt',header = 0, index_col=0, thousands=\",\")\n",
    "        os.remove('data/1st0009ts.txt')\n",
    "        new_df = new_df.dropna() \n",
    "        new_df = new_df.transpose()\n",
    "        new_df.rename(columns={'U.S.': 'US'}, inplace=True)\n",
    "    elif index == 7:\n",
    "        temp = f1\n",
    "        last_two = temp.drop(['US'])\n",
    "        end_line = last_two[files[index]].max()\n",
    "        start_line = last_two[files[index]].min()\n",
    "        !sed \"$(($start_line-1)),$(($end_line+1))!d\" data/st7080ts.txt >> data/1st0009ts.txt\n",
    "        new_df = pd.read_fwf('data/1st0009ts.txt',header = 0, index_col=1, thousands=\",\")\n",
    "        os.remove('data/1st0009ts.txt')\n",
    "        new_df.index.name = None\n",
    "        new_df.drop('Fip', axis=1, inplace=True)\n",
    "        new_df.columns = ['1970', '1971', '1972', '1973', '1974',\\\n",
    "                      '1975', '1976', '1977', '1978', '1979', '1980']\n",
    "        new_df = new_df.dropna() \n",
    "        new_df = new_df.transpose()\n",
    "    elif index == 8:\n",
    "        end_line = f1[files[index]].max()\n",
    "        start_line = f1[files[index]].min()\n",
    "        !sed \"$(($start_line+6)),$(($end_line))!d\" \"$data_file\">>data/1st0009ts.txt\n",
    "        new_df= pd.read_fwf('data/1st0009ts.txt',header = 0, index_col=0, thousands=\",\")\n",
    "        os.remove('data/1st0009ts.txt')\n",
    "        new_df.columns = ['1980', '1981', '1982', '1983', '1984',\\\n",
    "                      '1985', '1986', '1987', '1988', '1989', '1990']\n",
    "        new_df = new_df.dropna() \n",
    "        new_df = new_df.transpose()\n",
    "    else: \n",
    "        break;\n",
    "    if index != 0:\n",
    "        df = pd.concat([df, new_df], axis=0)\n",
    "    if index == 6:\n",
    "        df = df.apply(lambda x: x*1000)\n",
    "        \n",
    "df = df.fillna(float(0.0))\n",
    "\n",
    "df = df.reset_index()\n",
    "df = df.rename(columns={'index': 'Year'})\n",
    "\n",
    "df.head()"
   ]
  },
  {
   "cell_type": "code",
   "execution_count": 55,
   "metadata": {
    "collapsed": false
   },
   "outputs": [],
   "source": [
    "year = df['Year']\n",
    "\n",
    "AK = df['AK']\n",
    "CA = df['CA']\n",
    "\n",
    "New_England = df[['ME','VT','NH','MA','RI','CT']].sum(axis=1)\n",
    "Southwest = df[['AR','CO','LA','MT','NM','ND','OK','SD','TX','UT','WY']].sum(axis=1)"
   ]
  },
  {
   "cell_type": "code",
   "execution_count": 50,
   "metadata": {
    "collapsed": false
   },
   "outputs": [
    {
     "data": {
      "text/plain": [
       "<matplotlib.legend.Legend at 0x7f4115e09050>"
      ]
     },
     "execution_count": 50,
     "metadata": {},
     "output_type": "execute_result"
    },
    {
     "data": {
      "image/png": "[encoded data removed]",
      "text/plain": [
       "<matplotlib.figure.Figure at 0x7f41171fca10>"
      ]
     },
     "metadata": {},
     "output_type": "display_data"
    }
   ],
   "source": [
    "plt.figure(figsize=(15,5))\n",
    "plt.plot(year,AK)\n",
    "plt.plot(year,CA)\n",
    "plt.title('Historical Population',fontsize=14)\n",
    "plt.xlabel('Year',fontsize=12)\n",
    "plt.ylabel('Population',fontsize=12)\n",
    "plt.legend(['AK','CA'], loc=0)"
   ]
  },
  {
   "cell_type": "code",
   "execution_count": 56,
   "metadata": {
    "collapsed": false
   },
   "outputs": [
    {
     "data": {
      "text/plain": [
       "<matplotlib.legend.Legend at 0x7f4115b31f10>"
      ]
     },
     "execution_count": 56,
     "metadata": {},
     "output_type": "execute_result"
    },
    {
     "data": {
      "image/png": "[encoded data removed]",
      "text/plain": [
       "<matplotlib.figure.Figure at 0x7f41172e9250>"
      ]
     },
     "metadata": {},
     "output_type": "display_data"
    }
   ],
   "source": [
    "plt.figure(figsize=(15,5))\n",
    "plt.plot(year,New_England)\n",
    "plt.plot(year,Southwest)\n",
    "plt.title('Historical Population',fontsize=14)\n",
    "plt.xlabel('Year',fontsize=12)\n",
    "plt.ylabel('Population',fontsize=12)\n",
    "plt.legend(['New England','Southwest'], loc=0)"
   ]
  },
  {
   "cell_type": "markdown",
   "metadata": {
    "collapsed": false
   },
   "source": [
    "#<center>Problem 4"
   ]
  },
  {
   "cell_type": "code",
   "execution_count": 15,
   "metadata": {
    "collapsed": true
   },
   "outputs": [],
   "source": [
    "header = ['label','Alcohol', 'Malic acid', 'Ash', 'Alcalinity of ash', 'Magnesium', 'Total phenols',\n",
    "            'Flavanoids', 'Nonflavanoid phenols', 'Proanthocyanins', 'Color intensity',\n",
    "            'Hue', 'OD280/OD315 of diluted wines', 'Proline']\n",
    "\n",
    "header2 = ['Alcohol', 'Malic acid', 'Ash', 'Alcalinity of ash', 'Magnesium', 'Total phenols',\n",
    "            'Flavanoids', 'Nonflavanoid phenols', 'Proanthocyanins', 'Color intensity',\n",
    "            'Hue', 'OD280/OD315 of diluted wines', 'Proline']"
   ]
  },
  {
   "cell_type": "markdown",
   "metadata": {},
   "source": [
    "Import wine dataset and dropping NaN rows"
   ]
  },
  {
   "cell_type": "code",
   "execution_count": 3,
   "metadata": {
    "collapsed": false
   },
   "outputs": [
    {
     "data": {
      "text/html": [
       "<div>\n",
       "<table border=\"1\" class=\"dataframe\">\n",
       "  <thead>\n",
       "    <tr style=\"text-align: right;\">\n",
       "      <th></th>\n",
       "      <th>label</th>\n",
       "      <th>Alcohol</th>\n",
       "      <th>Malic acid</th>\n",
       "      <th>Ash</th>\n",
       "      <th>Alcalinity of ash</th>\n",
       "      <th>Magnesium</th>\n",
       "      <th>Total phenols</th>\n",
       "      <th>Flavanoids</th>\n",
       "      <th>Nonflavanoid phenols</th>\n",
       "      <th>Proanthocyanins</th>\n",
       "      <th>Color intensity</th>\n",
       "      <th>Hue</th>\n",
       "      <th>OD280/OD315 of diluted wines</th>\n",
       "      <th>Proline</th>\n",
       "    </tr>\n",
       "  </thead>\n",
       "  <tbody>\n",
       "    <tr>\n",
       "      <th>0</th>\n",
       "      <td>1</td>\n",
       "      <td>14.23</td>\n",
       "      <td>1.71</td>\n",
       "      <td>2.43</td>\n",
       "      <td>15.6</td>\n",
       "      <td>127</td>\n",
       "      <td>2.80</td>\n",
       "      <td>3.06</td>\n",
       "      <td>0.28</td>\n",
       "      <td>2.29</td>\n",
       "      <td>5.64</td>\n",
       "      <td>1.04</td>\n",
       "      <td>3.92</td>\n",
       "      <td>1065</td>\n",
       "    </tr>\n",
       "    <tr>\n",
       "      <th>1</th>\n",
       "      <td>1</td>\n",
       "      <td>13.20</td>\n",
       "      <td>1.78</td>\n",
       "      <td>2.14</td>\n",
       "      <td>11.2</td>\n",
       "      <td>100</td>\n",
       "      <td>2.65</td>\n",
       "      <td>2.76</td>\n",
       "      <td>0.26</td>\n",
       "      <td>1.28</td>\n",
       "      <td>4.38</td>\n",
       "      <td>1.05</td>\n",
       "      <td>3.40</td>\n",
       "      <td>1050</td>\n",
       "    </tr>\n",
       "    <tr>\n",
       "      <th>2</th>\n",
       "      <td>1</td>\n",
       "      <td>13.16</td>\n",
       "      <td>2.36</td>\n",
       "      <td>2.67</td>\n",
       "      <td>18.6</td>\n",
       "      <td>101</td>\n",
       "      <td>2.80</td>\n",
       "      <td>3.24</td>\n",
       "      <td>0.30</td>\n",
       "      <td>2.81</td>\n",
       "      <td>5.68</td>\n",
       "      <td>1.03</td>\n",
       "      <td>3.17</td>\n",
       "      <td>1185</td>\n",
       "    </tr>\n",
       "    <tr>\n",
       "      <th>3</th>\n",
       "      <td>1</td>\n",
       "      <td>14.37</td>\n",
       "      <td>1.95</td>\n",
       "      <td>2.50</td>\n",
       "      <td>16.8</td>\n",
       "      <td>113</td>\n",
       "      <td>3.85</td>\n",
       "      <td>3.49</td>\n",
       "      <td>0.24</td>\n",
       "      <td>2.18</td>\n",
       "      <td>7.80</td>\n",
       "      <td>0.86</td>\n",
       "      <td>3.45</td>\n",
       "      <td>1480</td>\n",
       "    </tr>\n",
       "    <tr>\n",
       "      <th>4</th>\n",
       "      <td>1</td>\n",
       "      <td>13.24</td>\n",
       "      <td>2.59</td>\n",
       "      <td>2.87</td>\n",
       "      <td>21.0</td>\n",
       "      <td>118</td>\n",
       "      <td>2.80</td>\n",
       "      <td>2.69</td>\n",
       "      <td>0.39</td>\n",
       "      <td>1.82</td>\n",
       "      <td>4.32</td>\n",
       "      <td>1.04</td>\n",
       "      <td>2.93</td>\n",
       "      <td>735</td>\n",
       "    </tr>\n",
       "  </tbody>\n",
       "</table>\n",
       "</div>"
      ],
      "text/plain": [
       "   label  Alcohol  Malic acid   Ash  Alcalinity of ash  Magnesium  \\\n",
       "0      1    14.23        1.71  2.43               15.6        127   \n",
       "1      1    13.20        1.78  2.14               11.2        100   \n",
       "2      1    13.16        2.36  2.67               18.6        101   \n",
       "3      1    14.37        1.95  2.50               16.8        113   \n",
       "4      1    13.24        2.59  2.87               21.0        118   \n",
       "\n",
       "   Total phenols  Flavanoids  Nonflavanoid phenols  Proanthocyanins  \\\n",
       "0           2.80        3.06                  0.28             2.29   \n",
       "1           2.65        2.76                  0.26             1.28   \n",
       "2           2.80        3.24                  0.30             2.81   \n",
       "3           3.85        3.49                  0.24             2.18   \n",
       "4           2.80        2.69                  0.39             1.82   \n",
       "\n",
       "   Color intensity   Hue  OD280/OD315 of diluted wines  Proline  \n",
       "0             5.64  1.04                          3.92     1065  \n",
       "1             4.38  1.05                          3.40     1050  \n",
       "2             5.68  1.03                          3.17     1185  \n",
       "3             7.80  0.86                          3.45     1480  \n",
       "4             4.32  1.04                          2.93      735  "
      ]
     },
     "execution_count": 3,
     "metadata": {},
     "output_type": "execute_result"
    }
   ],
   "source": [
    "dataset = pd.read_csv('wine.data', names = header)\n",
    "dataset = dataset.dropna()\n",
    "dataset.head()"
   ]
  },
  {
   "cell_type": "markdown",
   "metadata": {},
   "source": [
    "Splitting randomized dataset into 75% train and 25% test"
   ]
  },
  {
   "cell_type": "code",
   "execution_count": 4,
   "metadata": {
    "collapsed": true
   },
   "outputs": [],
   "source": [
    "train = dataset.sample(frac=.75)\n",
    "test = dataset[~dataset.isin(train).all(1)]"
   ]
  },
  {
   "cell_type": "markdown",
   "metadata": {},
   "source": [
    "Use Decision Tree Classifier to predict"
   ]
  },
  {
   "cell_type": "code",
   "execution_count": 5,
   "metadata": {
    "collapsed": false
   },
   "outputs": [],
   "source": [
    "classifier = tree.DecisionTreeClassifier()\n",
    "classifier.fit(train.ix[:,1:].values, train['label'].values)\n",
    "\n",
    "real = test['label']\n",
    "pred = classifier.predict(test.ix[:,1:].values)"
   ]
  },
  {
   "cell_type": "markdown",
   "metadata": {},
   "source": [
    "Construct Confusion Matrix"
   ]
  },
  {
   "cell_type": "code",
   "execution_count": 6,
   "metadata": {
    "collapsed": true
   },
   "outputs": [],
   "source": [
    "def plot_confusion_matrix(cm, title='Confusion matrix', cmap=plt.cm.Blues):\n",
    "    label_names = dataset['label'].unique()\n",
    "    plt.imshow(cm, interpolation='nearest', cmap=cmap)\n",
    "    plt.title(title, fontsize=18)\n",
    "    plt.colorbar()\n",
    "    tick_marks = np.arange(len(label_names))\n",
    "    plt.xticks(tick_marks, label_names, rotation=45)\n",
    "    plt.yticks(tick_marks, label_names)\n",
    "    plt.tight_layout()\n",
    "    plt.ylabel('True Label', fontsize=12)\n",
    "    plt.xlabel('Predicted Label', fontsize=12)"
   ]
  },
  {
   "cell_type": "code",
   "execution_count": 16,
   "metadata": {
    "collapsed": false
   },
   "outputs": [
    {
     "name": "stdout",
     "output_type": "stream",
     "text": [
      "Error:\t7%\n",
      "\n",
      "Confusion matrix, without normalization\n",
      "[[14  4  0]\n",
      " [ 1 17  0]\n",
      " [ 0  2  6]]\n",
      "\n",
      "Normalized confusion matrix\n",
      "[[ 0.78  0.22  0.  ]\n",
      " [ 0.06  0.94  0.  ]\n",
      " [ 0.    0.25  0.75]]\n",
      "\n"
     ]
    },
    {
     "data": {
      "image/png": "[encoded data removed]",
      "text/plain": [
       "<matplotlib.figure.Figure at 0x7f4117184c10>"
      ]
     },
     "metadata": {},
     "output_type": "display_data"
    }
   ],
   "source": [
    "#Print Score\n",
    "print 'Error:\\t'+str(sum(real!=pred))+'%'\n",
    "print\n",
    "\n",
    "#Confusion Matrix\n",
    "cm = metrics.confusion_matrix(real, pred)\n",
    "np.set_printoptions(precision=2)\n",
    "print 'Confusion matrix, without normalization'\n",
    "print(cm)\n",
    "print \n",
    "# Normalize the confusion matrix by row (i.e by the number of samples in each class)\n",
    "cm_normalized = cm.astype('float') / cm.sum(axis=1)[:, np.newaxis]\n",
    "print 'Normalized confusion matrix'\n",
    "print cm_normalized\n",
    "print\n",
    "plt.figure(figsize=(15,5))\n",
    "plt.subplot(1,2,1)\n",
    "plot_confusion_matrix(cm)\n",
    "plt.subplot(1,2,2)\n",
    "plot_confusion_matrix(cm_normalized, title='Normalized confusion matrix')"
   ]
  },
  {
   "cell_type": "markdown",
   "metadata": {},
   "source": [
    "####Decision Tree"
   ]
  },
  {
   "cell_type": "code",
   "execution_count": 69,
   "metadata": {
    "collapsed": false
   },
   "outputs": [],
   "source": [
    "#Export .dot file\n",
    "tree.export_graphviz(classifier, out_file='hw1.dot', feature_names=header2)"
   ]
  },
  {
   "cell_type": "markdown",
   "metadata": {},
   "source": [
    "Converted hw1.dot to hw1.jpeg using the following pydot command:\n",
    "\n",
    "<b>dot -Tjpeg -o hw1.jpeg -v hw1.dot</b>\n",
    "\n",
    "Image of Tree Classifier:"
   ]
  },
  {
   "cell_type": "markdown",
   "metadata": {},
   "source": [
    "<img src=\"hw1.jpeg\">"
   ]
  },
  {
   "cell_type": "markdown",
   "metadata": {},
   "source": [
    "#<center>Problem 5"
   ]
  },
  {
   "cell_type": "code",
   "execution_count": 2,
   "metadata": {
    "collapsed": false
   },
   "outputs": [
    {
     "data": {
      "text/html": [
       "<div>\n",
       "<table border=\"1\" class=\"dataframe\">\n",
       "  <thead>\n",
       "    <tr style=\"text-align: right;\">\n",
       "      <th></th>\n",
       "      <th>Total</th>\n",
       "      <th>Sport</th>\n",
       "      <th>Age</th>\n",
       "      <th>Height</th>\n",
       "      <th>Weight</th>\n",
       "      <th>Sex</th>\n",
       "    </tr>\n",
       "  </thead>\n",
       "  <tbody>\n",
       "    <tr>\n",
       "      <th>0</th>\n",
       "      <td>0</td>\n",
       "      <td>Judo</td>\n",
       "      <td>23</td>\n",
       "      <td>170.0</td>\n",
       "      <td>60.0</td>\n",
       "      <td>M</td>\n",
       "    </tr>\n",
       "    <tr>\n",
       "      <th>1</th>\n",
       "      <td>0</td>\n",
       "      <td>Athletics</td>\n",
       "      <td>33</td>\n",
       "      <td>193.0</td>\n",
       "      <td>125.0</td>\n",
       "      <td>M</td>\n",
       "    </tr>\n",
       "    <tr>\n",
       "      <th>2</th>\n",
       "      <td>0</td>\n",
       "      <td>Athletics</td>\n",
       "      <td>30</td>\n",
       "      <td>187.0</td>\n",
       "      <td>76.0</td>\n",
       "      <td>M</td>\n",
       "    </tr>\n",
       "    <tr>\n",
       "      <th>3</th>\n",
       "      <td>0</td>\n",
       "      <td>Boxing</td>\n",
       "      <td>24</td>\n",
       "      <td>NaN</td>\n",
       "      <td>NaN</td>\n",
       "      <td>M</td>\n",
       "    </tr>\n",
       "    <tr>\n",
       "      <th>4</th>\n",
       "      <td>0</td>\n",
       "      <td>Athletics</td>\n",
       "      <td>26</td>\n",
       "      <td>178.0</td>\n",
       "      <td>85.0</td>\n",
       "      <td>F</td>\n",
       "    </tr>\n",
       "  </tbody>\n",
       "</table>\n",
       "</div>"
      ],
      "text/plain": [
       "   Total       Sport  Age  Height  Weight Sex\n",
       "0       0       Judo   23   170.0    60.0   M\n",
       "1       0  Athletics   33   193.0   125.0   M\n",
       "2       0  Athletics   30   187.0    76.0   M\n",
       "3       0     Boxing   24     NaN     NaN   M\n",
       "4       0  Athletics   26   178.0    85.0   F"
      ]
     },
     "execution_count": 2,
     "metadata": {},
     "output_type": "execute_result"
    }
   ],
   "source": [
    "dataset = pd.read_csv('AHW_1.csv')\n",
    "dataset.head()"
   ]
  },
  {
   "cell_type": "code",
   "execution_count": 105,
   "metadata": {
    "collapsed": false
   },
   "outputs": [
    {
     "name": "stdout",
     "output_type": "stream",
     "text": [
      "What are the statistical distributions of variables using no class?\n",
      "\n"
     ]
    },
    {
     "data": {
      "text/html": [
       "<div>\n",
       "<table border=\"1\" class=\"dataframe\">\n",
       "  <thead>\n",
       "    <tr style=\"text-align: right;\">\n",
       "      <th></th>\n",
       "      <th>Total</th>\n",
       "      <th>Age</th>\n",
       "      <th>Height</th>\n",
       "      <th>Weight</th>\n",
       "    </tr>\n",
       "  </thead>\n",
       "  <tbody>\n",
       "    <tr>\n",
       "      <th>count</th>\n",
       "      <td>10384.000000</td>\n",
       "      <td>10384.000000</td>\n",
       "      <td>9823.000000</td>\n",
       "      <td>9104.000000</td>\n",
       "    </tr>\n",
       "    <tr>\n",
       "      <th>mean</th>\n",
       "      <td>0.052196</td>\n",
       "      <td>26.068856</td>\n",
       "      <td>176.907869</td>\n",
       "      <td>72.852812</td>\n",
       "    </tr>\n",
       "    <tr>\n",
       "      <th>std</th>\n",
       "      <td>0.250149</td>\n",
       "      <td>5.440561</td>\n",
       "      <td>11.295433</td>\n",
       "      <td>16.067462</td>\n",
       "    </tr>\n",
       "    <tr>\n",
       "      <th>min</th>\n",
       "      <td>0.000000</td>\n",
       "      <td>13.000000</td>\n",
       "      <td>132.000000</td>\n",
       "      <td>36.000000</td>\n",
       "    </tr>\n",
       "    <tr>\n",
       "      <th>25%</th>\n",
       "      <td>0.000000</td>\n",
       "      <td>22.000000</td>\n",
       "      <td>169.000000</td>\n",
       "      <td>61.000000</td>\n",
       "    </tr>\n",
       "    <tr>\n",
       "      <th>50%</th>\n",
       "      <td>0.000000</td>\n",
       "      <td>25.000000</td>\n",
       "      <td>177.000000</td>\n",
       "      <td>70.000000</td>\n",
       "    </tr>\n",
       "    <tr>\n",
       "      <th>75%</th>\n",
       "      <td>0.000000</td>\n",
       "      <td>29.000000</td>\n",
       "      <td>185.000000</td>\n",
       "      <td>81.000000</td>\n",
       "    </tr>\n",
       "    <tr>\n",
       "      <th>max</th>\n",
       "      <td>5.000000</td>\n",
       "      <td>71.000000</td>\n",
       "      <td>221.000000</td>\n",
       "      <td>218.000000</td>\n",
       "    </tr>\n",
       "  </tbody>\n",
       "</table>\n",
       "</div>"
      ],
      "text/plain": [
       "             Total            Age       Height       Weight\n",
       "count  10384.000000  10384.000000  9823.000000  9104.000000\n",
       "mean       0.052196     26.068856   176.907869    72.852812\n",
       "std        0.250149      5.440561    11.295433    16.067462\n",
       "min        0.000000     13.000000   132.000000    36.000000\n",
       "25%        0.000000     22.000000   169.000000    61.000000\n",
       "50%        0.000000     25.000000   177.000000    70.000000\n",
       "75%        0.000000     29.000000   185.000000    81.000000\n",
       "max        5.000000     71.000000   221.000000   218.000000"
      ]
     },
     "execution_count": 105,
     "metadata": {},
     "output_type": "execute_result"
    }
   ],
   "source": [
    "print 'What are the statistical distributions of variables using no class?\\n'\n",
    "dataset.describe()"
   ]
  },
  {
   "cell_type": "code",
   "execution_count": 108,
   "metadata": {
    "collapsed": false
   },
   "outputs": [
    {
     "name": "stdout",
     "output_type": "stream",
     "text": [
      "How much missing data is there?\n",
      "\n"
     ]
    },
    {
     "data": {
      "text/plain": [
       "Total        0\n",
       "Sport        0\n",
       "Age          0\n",
       "Height     561\n",
       "Weight    1280\n",
       "Sex          0\n",
       "dtype: int64"
      ]
     },
     "execution_count": 108,
     "metadata": {},
     "output_type": "execute_result"
    }
   ],
   "source": [
    "print 'How much missing data is there?\\n'\n",
    "\n",
    "dataset.isnull().sum()"
   ]
  },
  {
   "cell_type": "code",
   "execution_count": 9,
   "metadata": {
    "collapsed": false
   },
   "outputs": [
    {
     "name": "stdout",
     "output_type": "stream",
     "text": [
      "How do distributions differ by each gender?\n",
      "Describe summary statistics for each attribute.\n",
      "Plot each one of the attributes distributions.\n",
      "Are any of the variables different for male vs. female athletes?\n",
      "\n",
      "\n",
      "Male\n",
      "            Total           Age       Height       Weight\n",
      "count  5017.000000  5017.000000  5017.000000  5017.000000\n",
      "mean      0.050628    26.770979   182.922464    80.593183\n",
      "std       0.245835     5.548824     9.872117    15.400855\n",
      "min       0.000000    15.000000   140.000000    42.000000\n",
      "25%       0.000000    23.000000   176.000000    70.000000\n",
      "50%       0.000000    26.000000   183.000000    78.000000\n",
      "75%       0.000000    30.000000   190.000000    89.000000\n",
      "max       5.000000    71.000000   221.000000   218.000000\n",
      "\n",
      "\n",
      "Female\n",
      "            Total           Age       Height       Weight\n",
      "count  4021.000000  4021.000000  4021.000000  4021.000000\n",
      "mean      0.060433    25.855757   170.637404    63.208903\n",
      "std       0.271496     5.303485     8.758611    10.802622\n",
      "min       0.000000    13.000000   132.000000    36.000000\n",
      "25%       0.000000    22.000000   165.000000    56.000000\n",
      "50%       0.000000    25.000000   170.000000    62.000000\n",
      "75%       0.000000    29.000000   176.000000    69.000000\n",
      "max       4.000000    57.000000   207.000000   155.000000\n"
     ]
    },
    {
     "data": {
      "text/plain": [
       "<matplotlib.axes._subplots.AxesSubplot at 0x7fc113ee53d0>"
      ]
     },
     "execution_count": 9,
     "metadata": {},
     "output_type": "execute_result"
    },
    {
     "data": {
      "text/plain": [
       "<matplotlib.figure.Figure at 0x7fc11454b350>"
      ]
     },
     "metadata": {},
     "output_type": "display_data"
    },
    {
     "data": {
      "image/png": "[encoded data removed]",
      "text/plain": [
       "<matplotlib.figure.Figure at 0x7fc11408a5d0>"
      ]
     },
     "metadata": {},
     "output_type": "display_data"
    },
    {
     "data": {
      "text/plain": [
       "<matplotlib.figure.Figure at 0x7fc11408a490>"
      ]
     },
     "metadata": {},
     "output_type": "display_data"
    },
    {
     "data": {
      "image/png": "[encoded data removed]",
      "text/plain": [
       "<matplotlib.figure.Figure at 0x7fc113ef8bd0>"
      ]
     },
     "metadata": {},
     "output_type": "display_data"
    }
   ],
   "source": [
    "print 'How do distributions differ by each gender?'\n",
    "print 'Describe summary statistics for each attribute.' \n",
    "print 'Plot each one of the attributes distributions.'\n",
    "print 'Are any of the variables different for male vs. female athletes?\\n\\n'\n",
    "print 'Male'\n",
    "print dataset[dataset['Sex']=='M'].dropna().describe()\n",
    "print '\\n'\n",
    "print 'Female'\n",
    "print dataset[dataset['Sex']=='F'].dropna().describe()\n",
    "\n",
    "plt.figure()\n",
    "dataset[dataset['Sex']=='M'].plot(kind='box', title='Male')\n",
    "plt.figure()\n",
    "dataset[dataset['Sex']=='F'].plot(kind='box', title='Female')"
   ]
  },
  {
   "cell_type": "markdown",
   "metadata": {},
   "source": [
    "There is a greater variation in height and weight among male athletes compared to female athletes.\n",
    "\n",
    "Male athletes also weigh more and are taller on average."
   ]
  },
  {
   "cell_type": "code",
   "execution_count": 24,
   "metadata": {
    "collapsed": false
   },
   "outputs": [
    {
     "name": "stdout",
     "output_type": "stream",
     "text": [
      "Visualize potential difference via the scatter plots.\n",
      "Are there any ‘high’ correlations between variables?\n"
     ]
    },
    {
     "data": {
      "text/plain": [
       "<matplotlib.axes._subplots.AxesSubplot at 0x7fc1136ab350>"
      ]
     },
     "execution_count": 24,
     "metadata": {},
     "output_type": "execute_result"
    },
    {
     "data": {
      "image/png": "[encoded data removed]",
      "text/plain": [
       "<matplotlib.figure.Figure at 0x7fc11422e7d0>"
      ]
     },
     "metadata": {},
     "output_type": "display_data"
    },
    {
     "data": {
      "image/png": "[encoded data removed]",
      "text/plain": [
       "<matplotlib.figure.Figure at 0x7fc1146a1c10>"
      ]
     },
     "metadata": {},
     "output_type": "display_data"
    }
   ],
   "source": [
    "print 'Visualize potential difference via the scatter plots.'\n",
    "print 'Are there any ‘high’ correlations between variables?'\n",
    "\n",
    "dataset[dataset['Sex']=='M'].plot(kind='scatter',x='Weight',y='Height')\n",
    "dataset[dataset['Sex']=='F'].plot(kind='scatter',x='Weight',y='Height')"
   ]
  },
  {
   "cell_type": "markdown",
   "metadata": {
    "collapsed": true
   },
   "source": [
    "Height and wieght are not highly correlated for either gender."
   ]
  },
  {
   "cell_type": "code",
   "execution_count": 19,
   "metadata": {
    "collapsed": false
   },
   "outputs": [
    {
     "name": "stdout",
     "output_type": "stream",
     "text": [
      "Create a new variable for the weight in lbs.\n",
      "Check out the correlations again.\n",
      "Do you notice any changes?\n"
     ]
    },
    {
     "data": {
      "text/plain": [
       "<matplotlib.axes._subplots.AxesSubplot at 0x7fc113c1c810>"
      ]
     },
     "execution_count": 19,
     "metadata": {},
     "output_type": "execute_result"
    },
    {
     "data": {
      "image/png": "[encoded data removed]",
      "text/plain": [
       "<matplotlib.figure.Figure at 0x7fc113be1a90>"
      ]
     },
     "metadata": {},
     "output_type": "display_data"
    },
    {
     "data": {
      "image/png": "[encoded data removed]",
      "text/plain": [
       "<matplotlib.figure.Figure at 0x7fc113bd9f90>"
      ]
     },
     "metadata": {},
     "output_type": "display_data"
    }
   ],
   "source": [
    "print 'Create a new variable for the weight in lbs.' \n",
    "print 'Check out the correlations again.' \n",
    "print 'Do you notice any changes?'\n",
    "\n",
    "dataset['Weight_lbs'] = dataset['Weight']*2.20462\n",
    "dataset[dataset['Sex']=='M'].plot(kind='scatter',x='Weight_lbs',y='Height')\n",
    "dataset[dataset['Sex']=='F'].plot(kind='scatter',x='Weight_lbs',y='Height')"
   ]
  },
  {
   "cell_type": "markdown",
   "metadata": {},
   "source": [
    "There is no significant difference in correlation due to the weight conversion."
   ]
  },
  {
   "cell_type": "code",
   "execution_count": 22,
   "metadata": {
    "collapsed": false
   },
   "outputs": [
    {
     "name": "stdout",
     "output_type": "stream",
     "text": [
      "Remove one of the weight variables.\n",
      "Add new variable weight + height.\n",
      "Visualize scatter plot.\n"
     ]
    },
    {
     "data": {
      "text/plain": [
       "<matplotlib.axes._subplots.AxesSubplot at 0x7fc114280a50>"
      ]
     },
     "execution_count": 22,
     "metadata": {},
     "output_type": "execute_result"
    },
    {
     "data": {
      "image/png": "[encoded data removed]",
      "text/plain": [
       "<matplotlib.figure.Figure at 0x7fc1146d46d0>"
      ]
     },
     "metadata": {},
     "output_type": "display_data"
    },
    {
     "data": {
      "image/png": "[encoded data removed]",
      "text/plain": [
       "<matplotlib.figure.Figure at 0x7fc113d27ad0>"
      ]
     },
     "metadata": {},
     "output_type": "display_data"
    }
   ],
   "source": [
    "print 'Remove one of the weight variables.' \n",
    "print 'Add new variable weight + height.' \n",
    "print 'Visualize scatter plot.'\n",
    "\n",
    "dataset = dataset.drop('Weight_lbs', 1)\n",
    "dataset['weight+height'] = dataset['Weight']+dataset['Height']\n",
    "dataset[dataset['Sex']=='M'].plot(kind='scatter',x='weight+height',y='Height')\n",
    "dataset[dataset['Sex']=='F'].plot(kind='scatter',x='weight+height',y='Height')"
   ]
  },
  {
   "cell_type": "code",
   "execution_count": null,
   "metadata": {
    "collapsed": true
   },
   "outputs": [],
   "source": []
  }
 ],
 "metadata": {
  "kernelspec": {
   "display_name": "Python 2",
   "language": "python",
   "name": "python2"
  },
  "language_info": {
   "codemirror_mode": {
    "name": "ipython",
    "version": 2
   },
   "file_extension": ".py",
   "mimetype": "text/x-python",
   "name": "python",
   "nbconvert_exporter": "python",
   "pygments_lexer": "ipython2",
   "version": "2.7.11"
  }
 },
 "nbformat": 4,
 "nbformat_minor": 0
}
