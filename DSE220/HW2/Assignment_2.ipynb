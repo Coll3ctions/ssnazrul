{
 "cells": [
  {
   "cell_type": "markdown",
   "metadata": {},
   "source": [
    "Assignnement 2: Prediction and Classification\n",
    "\n",
    "Due: Thursday, April 30, 2015 11:59 PM\n"
   ]
  },
  {
   "cell_type": "markdown",
   "metadata": {},
   "source": [
    "# Introduction\n",
    "Problem 3 is optional - for extra credit!\n",
    "Problems 1 and 2 will be graded for the Lab 2.  \n",
    "\n",
    "\n",
    "In this assignment you will be using regression and classification to explore different data sets.  \n",
    "\n",
    "**First**: You will use data from before 2002 in the [Sean Lahman's Baseball Database](http://seanlahman.com/baseball-archive/statistics) to create a metric for picking baseball players using linear regression.  This database contains the \"complete batting and pitching statistics from 1871 to 2013, plus fielding statistics, standings, team stats, managerial records, post-season data, and more\". [Documentation provided here](http://seanlahman.com/files/database/readme2012.txt).\n",
    "\n",
    "![\"Sabermetrics Science\"](http://saberseminar.com/wp-content/uploads/2012/01/saber-web.jpg)\n",
    "http://saberseminar.com/wp-content/uploads/2012/01/saber-web.jpg\n",
    "\n",
    "**Second**: You will use the famous [iris](http://en.wikipedia.org/wiki/Iris_flower_data_set) data set to perform a $k$-neareast neighbor classification using cross validation.  While it was introduced in 1936, it is still [one of the most popular](http://archive.ics.uci.edu/ml/) example data sets in the machine learning community. Wikipedia describes the data set as follows: \"The data set consists of 50 samples from each of three species of Iris (Iris setosa, Iris virginica and Iris versicolor). Four features were measured from each sample: the length and the width of the sepals and petals, in centimetres.\" Here is an illustration what the four features measure:\n",
    "\n",
    "![\"iris data features\"](http://sebastianraschka.com/Images/2014_python_lda/iris_petal_sepal.png)\n",
    "http://sebastianraschka.com/Images/2014_python_lda/iris_petal_sepal.png\n",
    "\n",
    "**Third**: You will investigate the influence of higher dimensional spaces on the classification using another standard data set in machine learning called the The [cars data set](https://archive.ics.uci.edu/ml/datasets/Automobile).  \n"
   ]
  },
  {
   "cell_type": "markdown",
   "metadata": {},
   "source": [
    "## Load Python modules"
   ]
  },
  {
   "cell_type": "code",
   "execution_count": 1,
   "metadata": {
    "collapsed": false
   },
   "outputs": [
    {
     "name": "stderr",
     "output_type": "stream",
     "text": [
      ":0: FutureWarning: IPython widgets are experimental and may change in the future.\n"
     ]
    }
   ],
   "source": [
    "# prepare the notebook for matplotlib\n",
    "%matplotlib inline \n",
    "\n",
    "import requests \n",
    "import StringIO\n",
    "import zipfile\n",
    "import numpy as np\n",
    "import pandas as pd # pandas\n",
    "import matplotlib.pyplot as plt # module for plotting \n",
    "\n",
    "# If this module is not already installed, you may need to install it. \n",
    "# You can do this by typing 'pip install seaborn' in the command line\n",
    "import seaborn as sns \n",
    "\n",
    "import sklearn\n",
    "import sklearn.datasets\n",
    "import sklearn.cross_validation\n",
    "import sklearn.decomposition\n",
    "import sklearn.grid_search\n",
    "import sklearn.neighbors\n",
    "import sklearn.metrics\n",
    "import sklearn.tree"
   ]
  },
  {
   "cell_type": "markdown",
   "metadata": {},
   "source": [
    "# Problem 1: Sabermetrics\n",
    "\n",
    "Using data preceding the 2002 season pick 10 offensive players keeping the payroll under $20 million (assign each player the median salary). Predict how many games this team would win in a 162 game season.  \n",
    "\n",
    "In this problem we will be returning to the [Sean Lahman's Baseball Database](http://seanlahman.com/baseball-archive/statistics).  From this database, we will be extract five data sets containing information such as yearly stats and standing, batting statistics, fielding statistics, player names, player salaries and biographical information. You will explore the data in this database from before 2002 and create a metric for picking players. "
   ]
  },
  {
   "cell_type": "markdown",
   "metadata": {},
   "source": [
    "#### Problem 1(a) \n",
    "\n",
    "Load in [these CSV files](http://seanlahman.com/files/database/lahman-csv_2014-02-14.zip) from the [Sean Lahman's Baseball Database](http://seanlahman.com/baseball-archive/statistics). For this assignment, we will use the 'Teams.csv', 'Batting.csv', 'Salaries.csv', 'Fielding.csv', 'Master.csv' tables. Read these tables into separate pandas DataFrames with the following names. \n",
    "\n",
    "CSV file name | Name of pandas DataFrame\n",
    ":---: | :---: \n",
    "Teams.csv | teams\n",
    "Batting.csv | players\n",
    "Salaries.csv | salaries\n",
    "Fielding.csv | fielding\n",
    "Master.csv | master"
   ]
  },
  {
   "cell_type": "code",
   "execution_count": 2,
   "metadata": {
    "collapsed": false
   },
   "outputs": [],
   "source": [
    "### Your code here ###\n",
    "path = '~/Documents/DSE/Data/HW2_220/lahman-csv_2014-02-14/'\n",
    "\n",
    "teams = pd.read_csv(path+'Teams.csv')\n",
    "players = pd.read_csv(path+'Batting.csv')\n",
    "salaries = pd.read_csv(path+'Salaries.csv')\n",
    "fielding = pd.read_csv(path+'Fielding.csv')\n",
    "master = pd.read_csv(path+'Master.csv')"
   ]
  },
  {
   "cell_type": "markdown",
   "metadata": {},
   "source": [
    "#### Problem 1(b)\n",
    "\n",
    "Calculate the median salary for each player and create a pandas DataFrame called `medianSalaries` with four columns: (1) the player ID, (2) the first name of the player, (3) the last name of the player and (4) the median salary of the player. Show the head of the `medianSalaries` DataFrame.   "
   ]
  },
  {
   "cell_type": "code",
   "execution_count": 3,
   "metadata": {
    "collapsed": false
   },
   "outputs": [
    {
     "data": {
      "text/html": [
       "<div>\n",
       "<table border=\"1\" class=\"dataframe\">\n",
       "  <thead>\n",
       "    <tr style=\"text-align: right;\">\n",
       "      <th></th>\n",
       "      <th>playerID</th>\n",
       "      <th>nameFirst</th>\n",
       "      <th>nameLast</th>\n",
       "      <th>salary</th>\n",
       "    </tr>\n",
       "  </thead>\n",
       "  <tbody>\n",
       "    <tr>\n",
       "      <th>0</th>\n",
       "      <td>aardsda01</td>\n",
       "      <td>David</td>\n",
       "      <td>Aardsma</td>\n",
       "      <td>419000</td>\n",
       "    </tr>\n",
       "    <tr>\n",
       "      <th>3</th>\n",
       "      <td>aasedo01</td>\n",
       "      <td>Don</td>\n",
       "      <td>Aase</td>\n",
       "      <td>612500</td>\n",
       "    </tr>\n",
       "    <tr>\n",
       "      <th>4</th>\n",
       "      <td>abadan01</td>\n",
       "      <td>Andy</td>\n",
       "      <td>Abad</td>\n",
       "      <td>327000</td>\n",
       "    </tr>\n",
       "    <tr>\n",
       "      <th>5</th>\n",
       "      <td>abadfe01</td>\n",
       "      <td>Fernando</td>\n",
       "      <td>Abad</td>\n",
       "      <td>451500</td>\n",
       "    </tr>\n",
       "    <tr>\n",
       "      <th>13</th>\n",
       "      <td>abbotje01</td>\n",
       "      <td>Jeff</td>\n",
       "      <td>Abbott</td>\n",
       "      <td>255000</td>\n",
       "    </tr>\n",
       "  </tbody>\n",
       "</table>\n",
       "</div>"
      ],
      "text/plain": [
       "     playerID nameFirst nameLast  salary\n",
       "0   aardsda01     David  Aardsma  419000\n",
       "3    aasedo01       Don     Aase  612500\n",
       "4    abadan01      Andy     Abad  327000\n",
       "5    abadfe01  Fernando     Abad  451500\n",
       "13  abbotje01      Jeff   Abbott  255000"
      ]
     },
     "execution_count": 3,
     "metadata": {},
     "output_type": "execute_result"
    }
   ],
   "source": [
    "### Your code here ###\n",
    "\n",
    "#player info\n",
    "dummy1 = master[['playerID','nameFirst', 'nameLast']]\n",
    "\n",
    "#salary info\n",
    "dummy2 = salaries.groupby('playerID')['salary'].median()\n",
    "dummy2 = dummy2.to_frame(name=None)\n",
    "\n",
    "#inner join to get medianSalaries\n",
    "medianSalaries = dummy1.join(dummy2, how='inner', on='playerID')\n",
    "\n",
    "medianSalaries.head()"
   ]
  },
  {
   "cell_type": "markdown",
   "metadata": {},
   "source": [
    "#### Problem 1(c)\n",
    "\n",
    "Now, consider only team/season combinations in which the teams played 162 Games. Exclude all data from before 1947. Compute the per plate appearance rates for singles, doubles, triples, HR, and BB. Create a new pandas DataFrame called `stats` that has the teamID, yearID, wins and these rates.\n",
    "\n",
    "**Hint**: Singles are hits that are not doubles, triples, nor HR. Plate appearances are base on balls plus at bats.\n",
    "\n",
    "1(c) Filter the teams data frame so that you only have records for when year > 1947 and number of games > 162. \n",
    "\n",
    "Plate appearances = BB + AB = Walks (base on balls) + At Bats.  \n",
    "Singles = Hits – (Doubles + Triple+ HomeRun).  \n",
    "Compute “per plate appearance rates for singles” = Singles/Plate Appearances.\n",
    "\n",
    "PA = AB + BB"
   ]
  },
  {
   "cell_type": "code",
   "execution_count": 4,
   "metadata": {
    "collapsed": false
   },
   "outputs": [
    {
     "name": "stderr",
     "output_type": "stream",
     "text": [
      "/home/sadat/anaconda3/envs/py2k/lib/python2.7/site-packages/pandas/core/indexing.py:461: SettingWithCopyWarning: \n",
      "A value is trying to be set on a copy of a slice from a DataFrame.\n",
      "Try using .loc[row_indexer,col_indexer] = value instead\n",
      "\n",
      "See the caveats in the documentation: http://pandas.pydata.org/pandas-docs/stable/indexing.html#indexing-view-versus-copy\n",
      "  self.obj[item] = s\n"
     ]
    },
    {
     "data": {
      "text/html": [
       "<div>\n",
       "<table border=\"1\" class=\"dataframe\">\n",
       "  <thead>\n",
       "    <tr style=\"text-align: right;\">\n",
       "      <th></th>\n",
       "      <th>teamID</th>\n",
       "      <th>yearID</th>\n",
       "      <th>W</th>\n",
       "      <th>1B</th>\n",
       "      <th>2B</th>\n",
       "      <th>3B</th>\n",
       "      <th>HR</th>\n",
       "      <th>BB</th>\n",
       "    </tr>\n",
       "  </thead>\n",
       "  <tbody>\n",
       "    <tr>\n",
       "      <th>1359</th>\n",
       "      <td>NYA</td>\n",
       "      <td>1961</td>\n",
       "      <td>109</td>\n",
       "      <td>0.161750</td>\n",
       "      <td>0.031793</td>\n",
       "      <td>0.006555</td>\n",
       "      <td>0.039331</td>\n",
       "      <td>0.088987</td>\n",
       "    </tr>\n",
       "    <tr>\n",
       "      <th>1360</th>\n",
       "      <td>DET</td>\n",
       "      <td>1961</td>\n",
       "      <td>101</td>\n",
       "      <td>0.165704</td>\n",
       "      <td>0.034488</td>\n",
       "      <td>0.008502</td>\n",
       "      <td>0.028874</td>\n",
       "      <td>0.107956</td>\n",
       "    </tr>\n",
       "    <tr>\n",
       "      <th>1361</th>\n",
       "      <td>BAL</td>\n",
       "      <td>1961</td>\n",
       "      <td>95</td>\n",
       "      <td>0.161828</td>\n",
       "      <td>0.037446</td>\n",
       "      <td>0.005939</td>\n",
       "      <td>0.024579</td>\n",
       "      <td>0.095843</td>\n",
       "    </tr>\n",
       "    <tr>\n",
       "      <th>1362</th>\n",
       "      <td>CHA</td>\n",
       "      <td>1961</td>\n",
       "      <td>86</td>\n",
       "      <td>0.176056</td>\n",
       "      <td>0.035375</td>\n",
       "      <td>0.007534</td>\n",
       "      <td>0.022601</td>\n",
       "      <td>0.090075</td>\n",
       "    </tr>\n",
       "    <tr>\n",
       "      <th>1364</th>\n",
       "      <td>BOS</td>\n",
       "      <td>1961</td>\n",
       "      <td>76</td>\n",
       "      <td>0.162632</td>\n",
       "      <td>0.040780</td>\n",
       "      <td>0.006011</td>\n",
       "      <td>0.018197</td>\n",
       "      <td>0.105118</td>\n",
       "    </tr>\n",
       "  </tbody>\n",
       "</table>\n",
       "</div>"
      ],
      "text/plain": [
       "     teamID  yearID    W        1B        2B        3B        HR        BB\n",
       "1359    NYA    1961  109  0.161750  0.031793  0.006555  0.039331  0.088987\n",
       "1360    DET    1961  101  0.165704  0.034488  0.008502  0.028874  0.107956\n",
       "1361    BAL    1961   95  0.161828  0.037446  0.005939  0.024579  0.095843\n",
       "1362    CHA    1961   86  0.176056  0.035375  0.007534  0.022601  0.090075\n",
       "1364    BOS    1961   76  0.162632  0.040780  0.006011  0.018197  0.105118"
      ]
     },
     "execution_count": 4,
     "metadata": {},
     "output_type": "execute_result"
    }
   ],
   "source": [
    "### Your code here ###\n",
    "\n",
    "#Filter\n",
    "year_cond = teams['yearID'] >= 1947\n",
    "game_cond = teams['G'] >= 162\n",
    "teams = teams[year_cond & game_cond]\n",
    "\n",
    "#Player Appearance\n",
    "teams['PA'] = teams['AB'] + teams['BB']\n",
    "\n",
    "#Single Hits\n",
    "teams['1B'] = teams['H'] - teams['2B'] - teams['3B'] - teams['HR']\n",
    "\n",
    "#Create stats dataframe\n",
    "stats = teams[['teamID','yearID','PA','W','1B','2B','3B','HR','BB']]\n",
    "stats.ix[:,4::] = stats.ix[:,4::].apply(lambda x: x/stats['PA'], axis=0)\n",
    "stats = stats.drop('PA', axis=1)\n",
    "stats.head()"
   ]
  },
  {
   "cell_type": "markdown",
   "metadata": {},
   "source": [
    "#### Problem 1(d)\n",
    "\n",
    "Is there a noticeable time trend in the rates computed computed in Problem 1(c)? "
   ]
  },
  {
   "cell_type": "code",
   "execution_count": 5,
   "metadata": {
    "collapsed": false
   },
   "outputs": [
    {
     "data": {
      "image/png": "[encoded data removed]",
      "text/plain": [
       "<matplotlib.figure.Figure at 0x7fa4f5e78d90>"
      ]
     },
     "metadata": {},
     "output_type": "display_data"
    }
   ],
   "source": [
    "### Your code here ###\n",
    "\n",
    "stats_header = stats.columns[3::]\n",
    "\n",
    "for head in stats_header:\n",
    "    stats.groupby(['yearID']).mean()[head].plot(kind='line',title='Baseball Statistics')\n",
    "plt.legend(stats_header, bbox_to_anchor=(1.2, 1), fontsize=14);"
   ]
  },
  {
   "cell_type": "markdown",
   "metadata": {},
   "source": [
    "###Comment\n",
    "\n",
    "- 1B decreased after mid 1990s\n",
    "- 2B and HR increased after mid 1990s\n",
    "- No noticeable change in 3B after 1990s"
   ]
  },
  {
   "cell_type": "markdown",
   "metadata": {},
   "source": [
    "#### Problem 1(e) \n",
    "\n",
    "Using the `stats` DataFrame from Problem 1(c), adjust the singles per PA rates so that the average across teams for each year is 0. Do the same for the doubles, triples, HR, and BB rates. "
   ]
  },
  {
   "cell_type": "code",
   "execution_count": 6,
   "metadata": {
    "collapsed": false
   },
   "outputs": [
    {
     "data": {
      "text/html": [
       "<div>\n",
       "<table border=\"1\" class=\"dataframe\">\n",
       "  <thead>\n",
       "    <tr style=\"text-align: right;\">\n",
       "      <th></th>\n",
       "      <th>teamID</th>\n",
       "      <th>yearID</th>\n",
       "      <th>W</th>\n",
       "      <th>1B</th>\n",
       "      <th>2B</th>\n",
       "      <th>3B</th>\n",
       "      <th>HR</th>\n",
       "      <th>BB</th>\n",
       "    </tr>\n",
       "    <tr>\n",
       "      <th>yearID</th>\n",
       "      <th></th>\n",
       "      <th></th>\n",
       "      <th></th>\n",
       "      <th></th>\n",
       "      <th></th>\n",
       "      <th></th>\n",
       "      <th></th>\n",
       "      <th></th>\n",
       "    </tr>\n",
       "  </thead>\n",
       "  <tbody>\n",
       "    <tr>\n",
       "      <th>1961</th>\n",
       "      <td>NYA</td>\n",
       "      <td>1961</td>\n",
       "      <td>109</td>\n",
       "      <td>-0.140899</td>\n",
       "      <td>-1.507695</td>\n",
       "      <td>-0.007669</td>\n",
       "      <td>1.664865</td>\n",
       "      <td>-1.183064</td>\n",
       "    </tr>\n",
       "    <tr>\n",
       "      <th>1961</th>\n",
       "      <td>DET</td>\n",
       "      <td>1961</td>\n",
       "      <td>101</td>\n",
       "      <td>0.333666</td>\n",
       "      <td>-0.527529</td>\n",
       "      <td>1.193504</td>\n",
       "      <td>0.392544</td>\n",
       "      <td>0.961964</td>\n",
       "    </tr>\n",
       "    <tr>\n",
       "      <th>1961</th>\n",
       "      <td>BAL</td>\n",
       "      <td>1961</td>\n",
       "      <td>95</td>\n",
       "      <td>-0.131593</td>\n",
       "      <td>0.548152</td>\n",
       "      <td>-0.388158</td>\n",
       "      <td>-0.129961</td>\n",
       "      <td>-0.407818</td>\n",
       "    </tr>\n",
       "    <tr>\n",
       "      <th>1961</th>\n",
       "      <td>CHA</td>\n",
       "      <td>1961</td>\n",
       "      <td>86</td>\n",
       "      <td>1.576157</td>\n",
       "      <td>-0.205071</td>\n",
       "      <td>0.596050</td>\n",
       "      <td>-0.370694</td>\n",
       "      <td>-1.060020</td>\n",
       "    </tr>\n",
       "    <tr>\n",
       "      <th>1961</th>\n",
       "      <td>BOS</td>\n",
       "      <td>1961</td>\n",
       "      <td>76</td>\n",
       "      <td>-0.035068</td>\n",
       "      <td>1.760332</td>\n",
       "      <td>-0.343273</td>\n",
       "      <td>-0.906529</td>\n",
       "      <td>0.640978</td>\n",
       "    </tr>\n",
       "  </tbody>\n",
       "</table>\n",
       "</div>"
      ],
      "text/plain": [
       "       teamID  yearID    W        1B        2B        3B        HR        BB\n",
       "yearID                                                                      \n",
       "1961      NYA    1961  109 -0.140899 -1.507695 -0.007669  1.664865 -1.183064\n",
       "1961      DET    1961  101  0.333666 -0.527529  1.193504  0.392544  0.961964\n",
       "1961      BAL    1961   95 -0.131593  0.548152 -0.388158 -0.129961 -0.407818\n",
       "1961      CHA    1961   86  1.576157 -0.205071  0.596050 -0.370694 -1.060020\n",
       "1961      BOS    1961   76 -0.035068  1.760332 -0.343273 -0.906529  0.640978"
      ]
     },
     "execution_count": 6,
     "metadata": {},
     "output_type": "execute_result"
    }
   ],
   "source": [
    "### Your code here ###\n",
    "\n",
    "stats.index = stats['yearID']\n",
    "stats[stats_header] = stats.groupby('yearID')[stats_header].apply(lambda x : (x - x.mean())/(x.std()) )\n",
    "stats.head()"
   ]
  },
  {
   "cell_type": "markdown",
   "metadata": {},
   "source": [
    "#### Problem 1(f)\n",
    "\n",
    "Build a simple linear regression model to predict the number of wins from the average adjusted singles, double, triples, HR, and BB rates. To decide which of these terms to include fit the model to data from 2002 and compute the average squared residuals from predictions to years past 2002. Use the fitted model to define a new sabermetric summary: offensive predicted wins (OPW). Hint: the new summary should be a linear combination of one to five of the five rates.\n"
   ]
  },
  {
   "cell_type": "code",
   "execution_count": 7,
   "metadata": {
    "collapsed": false
   },
   "outputs": [],
   "source": [
    "import math\n",
    "from math import isnan\n",
    "\n",
    "def corr(list1, list2):\n",
    "    '''Find correlation between 2 datasets. Removes NaNs'''\n",
    "    #Remove Nan:\n",
    "    new_list1 = []\n",
    "    new_list2 = []\n",
    "    for i1,i2 in zip(list1,list2):\n",
    "        if (isnan(i1)==False) & (isnan(i2)==False):\n",
    "            new_list1.append(float(i1))\n",
    "            new_list2.append(float(i2))\n",
    "    cov = np.cov([new_list1,new_list2])[0][1]\n",
    "    std1 = np.std(new_list1)\n",
    "    std2 = np.std(new_list2)\n",
    "    corr = cov/(std1*std2)\n",
    "    return corr\n",
    "\n",
    "def conf38(pred, valid, sigma):\n",
    "    '''Check is predict is within 38% confidence interval of valid'''\n",
    "    cond1 = pred < (valid + (sigma/2))\n",
    "    cond2 = pred > (valid - (sigma/2)) \n",
    "    return np.logical_and(cond1,cond2)"
   ]
  },
  {
   "cell_type": "markdown",
   "metadata": {},
   "source": [
    "Check correlation of each feature against Wins"
   ]
  },
  {
   "cell_type": "code",
   "execution_count": 8,
   "metadata": {
    "collapsed": false
   },
   "outputs": [
    {
     "name": "stdout",
     "output_type": "stream",
     "text": [
      "Correlations against Wins\n",
      "1B 0.12699889275\n",
      "2B 0.219772030339\n",
      "3B 0.0670006643423\n",
      "HR 0.351459510392\n",
      "BB 0.349663693231\n"
     ]
    }
   ],
   "source": [
    "l1 = stats['W']\n",
    "print 'Correlations against Wins'\n",
    "for head in stats_header:\n",
    "    l2 = stats[head]\n",
    "    correlation = corr(l1,l2)\n",
    "    print head, correlation"
   ]
  },
  {
   "cell_type": "markdown",
   "metadata": {},
   "source": [
    "Based on this, we can create our model"
   ]
  },
  {
   "cell_type": "code",
   "execution_count": 9,
   "metadata": {
    "collapsed": false
   },
   "outputs": [
    {
     "name": "stdout",
     "output_type": "stream",
     "text": [
      "Model Features:\t['HR']\n",
      "Eqn:\t1.88*HR\n",
      "RSS:\t132.371270691\n",
      "\n",
      "\n",
      "Model Features:\t['HR', 'BB']\n",
      "Eqn:\t1.76*HR + 2.54*BB\n",
      "RSS:\t126.105431622\n",
      "\n",
      "\n",
      "Model Features:\t['HR', 'BB', '3B']\n",
      "Eqn:\t1.68*HR + 2.45*BB + 0.39*3B\n",
      "RSS:\t126.656806413\n",
      "\n",
      "\n",
      "Model Features:\t['HR', 'BB', '3B', '2B']\n",
      "Eqn:\t3.07*HR + 1.51*BB + 1.43*3B + 5.02*2B\n",
      "RSS:\t103.780588282\n",
      "\n",
      "\n",
      "Model Features:\t['HR', 'BB', '3B', '2B', '1B']\n",
      "Eqn:\t4.41*HR + 1.84*BB + 1.96*3B + 4.44*2B + 4.83*1B\n",
      "RSS:\t84.2482579488\n",
      "\n",
      "\n"
     ]
    }
   ],
   "source": [
    "### Your code here ###\n",
    "\n",
    "#Model Features in decreasing order of correlation\n",
    "model_features = ['HR','BB','3B','2B','1B']\n",
    "\n",
    "#Filter\n",
    "train = stats[stats['yearID']<2002]\n",
    "valid = stats[stats['yearID']>=2002]\n",
    "\n",
    "#For storing optimal values\n",
    "param0 = []\n",
    "rss0 = 5e9 #some large value \n",
    "features0 = []\n",
    "\n",
    "for index in range(5):\n",
    "    #Model Features\n",
    "    features = model_features[:index+1]\n",
    "    \n",
    "    #Targets\n",
    "    train_data = train.ix[:,3:index+4]\n",
    "    valid_data = valid.ix[:,3:index+4]\n",
    "\n",
    "    #Label\n",
    "    train_label = train['W']\n",
    "    valid_label = valid['W']\n",
    "\n",
    "    #Classifier\n",
    "    classifier = sklearn.linear_model.LinearRegression()\n",
    "    classifier.fit(train_data, train_label)\n",
    "    param = classifier.coef_\n",
    "\n",
    "    #Get Predictions\n",
    "    predict = classifier.predict(valid_data)\n",
    "    \n",
    "    #Score\n",
    "    sigma = np.std(train_label)\n",
    "    rss = np.sum([(i-j)**2 for i,j in zip(predict,valid_label)])/len(predict)\n",
    "    \n",
    "    #Get equation:\n",
    "    eqn = ''\n",
    "    for i,j in zip(param, features):\n",
    "        eqn += '%.2f'%i+'*'+j+' + '\n",
    "    eqn = eqn[0:-3]\n",
    "\n",
    "    #Update\n",
    "    if rss<rss0:\n",
    "        rss0 = rss\n",
    "        param0 = param\n",
    "        features0 = features\n",
    "        eqn0 = eqn\n",
    "    \n",
    "    print 'Model Features:\\t',features\n",
    "    print 'Eqn:\\t', eqn\n",
    "    print 'RSS:\\t', rss\n",
    "    print '\\n'"
   ]
  },
  {
   "cell_type": "markdown",
   "metadata": {},
   "source": [
    "** Your answer here: **"
   ]
  },
  {
   "cell_type": "code",
   "execution_count": 10,
   "metadata": {
    "collapsed": false
   },
   "outputs": [
    {
     "name": "stdout",
     "output_type": "stream",
     "text": [
      "OPW = 4.41*HR + 1.84*BB + 1.96*3B + 4.44*2B + 4.83*1B\n"
     ]
    }
   ],
   "source": [
    "print 'OPW = '+eqn0"
   ]
  },
  {
   "cell_type": "markdown",
   "metadata": {},
   "source": [
    "#### Problem 1(g)\n",
    "\n",
    "Now we will create a similar database for individual players. Consider only player/year combinations in which the player had at least 500 plate appearances. Consider only the years we considered for the calculations above (after 1947 and seasons with 162 games). For each player/year compute singles, doubles, triples, HR, BB per plate appearance rates. Create a new pandas DataFrame called `playerstats` that has the playerID, yearID and the rates of these stats.  Remove the average for each year as for these rates as done in Problem 1(e). "
   ]
  },
  {
   "cell_type": "code",
   "execution_count": 11,
   "metadata": {
    "collapsed": false
   },
   "outputs": [
    {
     "name": "stderr",
     "output_type": "stream",
     "text": [
      "/home/sadat/anaconda3/envs/py2k/lib/python2.7/site-packages/IPython/kernel/__main__.py:11: SettingWithCopyWarning: \n",
      "A value is trying to be set on a copy of a slice from a DataFrame.\n",
      "Try using .loc[row_indexer,col_indexer] = value instead\n",
      "\n",
      "See the caveats in the documentation: http://pandas.pydata.org/pandas-docs/stable/indexing.html#indexing-view-versus-copy\n",
      "/home/sadat/anaconda3/envs/py2k/lib/python2.7/site-packages/IPython/kernel/__main__.py:14: SettingWithCopyWarning: \n",
      "A value is trying to be set on a copy of a slice from a DataFrame.\n",
      "Try using .loc[row_indexer,col_indexer] = value instead\n",
      "\n",
      "See the caveats in the documentation: http://pandas.pydata.org/pandas-docs/stable/indexing.html#indexing-view-versus-copy\n"
     ]
    }
   ],
   "source": [
    "### Your code here ###\n",
    "\n",
    "#Filter by game and year\n",
    "year_cond = players['yearID'] >= 1947\n",
    "game_cond = players['G'] >= 162\n",
    "players = players[year_cond & game_cond]\n",
    "\n",
    "playerstats = players[['playerID','yearID','2B','3B','HR','BB']]\n",
    "\n",
    "#Player Appearance\n",
    "playerstats['PA'] = players['AB'] + players['BB']\n",
    "\n",
    "#Single Hits\n",
    "playerstats['1B'] = players['H'] - players['2B'] - players['3B'] - players['HR']\n",
    "\n",
    "header = ['1B', '2B', '3B', 'HR', 'BB']\n",
    "\n",
    "#Filter and divide by PA\n",
    "playerstats = playerstats[playerstats['PA']>500]\n",
    "playerstats[header] = playerstats[header].apply(lambda x: x/playerstats['PA'], axis=0)\n",
    "playerstats = playerstats.drop('PA', axis=1)\n",
    "\n",
    "#Adjust mean to 0\n",
    "playerstats[header] = playerstats.groupby('yearID')[header].apply(lambda x:(x - x.mean())/(x.std()))"
   ]
  },
  {
   "cell_type": "markdown",
   "metadata": {},
   "source": [
    "Show the head of the `playerstats` DataFrame. "
   ]
  },
  {
   "cell_type": "code",
   "execution_count": 12,
   "metadata": {
    "collapsed": false
   },
   "outputs": [
    {
     "data": {
      "text/html": [
       "<div>\n",
       "<table border=\"1\" class=\"dataframe\">\n",
       "  <thead>\n",
       "    <tr style=\"text-align: right;\">\n",
       "      <th></th>\n",
       "      <th>playerID</th>\n",
       "      <th>yearID</th>\n",
       "      <th>2B</th>\n",
       "      <th>3B</th>\n",
       "      <th>HR</th>\n",
       "      <th>BB</th>\n",
       "      <th>1B</th>\n",
       "    </tr>\n",
       "  </thead>\n",
       "  <tbody>\n",
       "    <tr>\n",
       "      <th>208</th>\n",
       "      <td>abreubo01</td>\n",
       "      <td>2001</td>\n",
       "      <td>1.775116</td>\n",
       "      <td>0.107445</td>\n",
       "      <td>-0.167059</td>\n",
       "      <td>1.017177</td>\n",
       "      <td>-1.212825</td>\n",
       "    </tr>\n",
       "    <tr>\n",
       "      <th>212</th>\n",
       "      <td>abreubo01</td>\n",
       "      <td>2005</td>\n",
       "      <td>0.061326</td>\n",
       "      <td>-0.797961</td>\n",
       "      <td>-0.208107</td>\n",
       "      <td>1.846195</td>\n",
       "      <td>-0.697030</td>\n",
       "    </tr>\n",
       "    <tr>\n",
       "      <th>996</th>\n",
       "      <td>allendi01</td>\n",
       "      <td>1964</td>\n",
       "      <td>1.190421</td>\n",
       "      <td>1.818839</td>\n",
       "      <td>0.763955</td>\n",
       "      <td>0.644211</td>\n",
       "      <td>-0.155744</td>\n",
       "    </tr>\n",
       "    <tr>\n",
       "      <th>1260</th>\n",
       "      <td>alomasa01</td>\n",
       "      <td>1970</td>\n",
       "      <td>-0.707107</td>\n",
       "      <td>-0.707107</td>\n",
       "      <td>-0.707107</td>\n",
       "      <td>-0.707107</td>\n",
       "      <td>0.707107</td>\n",
       "    </tr>\n",
       "    <tr>\n",
       "      <th>1261</th>\n",
       "      <td>alomasa01</td>\n",
       "      <td>1971</td>\n",
       "      <td>-0.707107</td>\n",
       "      <td>-0.707107</td>\n",
       "      <td>-0.707107</td>\n",
       "      <td>-0.707107</td>\n",
       "      <td>0.707107</td>\n",
       "    </tr>\n",
       "  </tbody>\n",
       "</table>\n",
       "</div>"
      ],
      "text/plain": [
       "       playerID  yearID        2B        3B        HR        BB        1B\n",
       "208   abreubo01    2001  1.775116  0.107445 -0.167059  1.017177 -1.212825\n",
       "212   abreubo01    2005  0.061326 -0.797961 -0.208107  1.846195 -0.697030\n",
       "996   allendi01    1964  1.190421  1.818839  0.763955  0.644211 -0.155744\n",
       "1260  alomasa01    1970 -0.707107 -0.707107 -0.707107 -0.707107  0.707107\n",
       "1261  alomasa01    1971 -0.707107 -0.707107 -0.707107 -0.707107  0.707107"
      ]
     },
     "execution_count": 12,
     "metadata": {},
     "output_type": "execute_result"
    }
   ],
   "source": [
    "### Your code here ###\n",
    "playerstats.head()"
   ]
  },
  {
   "cell_type": "markdown",
   "metadata": {},
   "source": [
    "#### Problem 1(h)\n",
    "\n",
    "Using the `playerstats` DataFrame created in Problem 1(g), create a new DataFrame called `playerLS` containing the player's lifetime stats. This DataFrame should contain the playerID, the year the player's career started, the year the player's career ended and the player's lifetime average for each of the quantities (singles, doubles, triples, HR, BB). For simplicity we will simply compute the avaerage of the rates by year (a more correct way is to go back to the totals). "
   ]
  },
  {
   "cell_type": "code",
   "execution_count": 13,
   "metadata": {
    "collapsed": false
   },
   "outputs": [],
   "source": [
    "### Your code here ###\n",
    "\n",
    "dummy1 = master[['playerID','debut','finalGame']]\n",
    "\n",
    "dummy2 = playerstats.drop(['yearID'], axis=1).groupby('playerID').mean().reset_index()\n",
    "\n",
    "playerLS = dummy1.merge(dummy2, how='inner', on='playerID')"
   ]
  },
  {
   "cell_type": "markdown",
   "metadata": {},
   "source": [
    "Show the head of the `playerLS` DataFrame. "
   ]
  },
  {
   "cell_type": "code",
   "execution_count": 14,
   "metadata": {
    "collapsed": false
   },
   "outputs": [
    {
     "data": {
      "text/html": [
       "<div>\n",
       "<table border=\"1\" class=\"dataframe\">\n",
       "  <thead>\n",
       "    <tr style=\"text-align: right;\">\n",
       "      <th></th>\n",
       "      <th>playerID</th>\n",
       "      <th>debut</th>\n",
       "      <th>finalGame</th>\n",
       "      <th>2B</th>\n",
       "      <th>3B</th>\n",
       "      <th>HR</th>\n",
       "      <th>BB</th>\n",
       "      <th>1B</th>\n",
       "    </tr>\n",
       "  </thead>\n",
       "  <tbody>\n",
       "    <tr>\n",
       "      <th>0</th>\n",
       "      <td>abreubo01</td>\n",
       "      <td>1996-09-01</td>\n",
       "      <td>2012-10-02</td>\n",
       "      <td>0.918221</td>\n",
       "      <td>-0.345258</td>\n",
       "      <td>-0.187583</td>\n",
       "      <td>1.431686</td>\n",
       "      <td>-0.954927</td>\n",
       "    </tr>\n",
       "    <tr>\n",
       "      <th>1</th>\n",
       "      <td>allendi01</td>\n",
       "      <td>1963-09-03</td>\n",
       "      <td>1977-06-19</td>\n",
       "      <td>1.190421</td>\n",
       "      <td>1.818839</td>\n",
       "      <td>0.763955</td>\n",
       "      <td>0.644211</td>\n",
       "      <td>-0.155744</td>\n",
       "    </tr>\n",
       "    <tr>\n",
       "      <th>2</th>\n",
       "      <td>alomasa01</td>\n",
       "      <td>1964-09-15</td>\n",
       "      <td>1978-09-30</td>\n",
       "      <td>-0.707107</td>\n",
       "      <td>-0.707107</td>\n",
       "      <td>-0.707107</td>\n",
       "      <td>-0.707107</td>\n",
       "      <td>0.707107</td>\n",
       "    </tr>\n",
       "    <tr>\n",
       "      <th>3</th>\n",
       "      <td>alouma01</td>\n",
       "      <td>1960-09-26</td>\n",
       "      <td>1974-06-21</td>\n",
       "      <td>1.575523</td>\n",
       "      <td>0.347749</td>\n",
       "      <td>-1.251338</td>\n",
       "      <td>-0.947769</td>\n",
       "      <td>1.529468</td>\n",
       "    </tr>\n",
       "    <tr>\n",
       "      <th>4</th>\n",
       "      <td>bagweje01</td>\n",
       "      <td>1991-04-08</td>\n",
       "      <td>2005-10-02</td>\n",
       "      <td>1.004970</td>\n",
       "      <td>-0.334311</td>\n",
       "      <td>0.778493</td>\n",
       "      <td>1.296231</td>\n",
       "      <td>-1.032858</td>\n",
       "    </tr>\n",
       "  </tbody>\n",
       "</table>\n",
       "</div>"
      ],
      "text/plain": [
       "    playerID       debut   finalGame        2B        3B        HR        BB  \\\n",
       "0  abreubo01  1996-09-01  2012-10-02  0.918221 -0.345258 -0.187583  1.431686   \n",
       "1  allendi01  1963-09-03  1977-06-19  1.190421  1.818839  0.763955  0.644211   \n",
       "2  alomasa01  1964-09-15  1978-09-30 -0.707107 -0.707107 -0.707107 -0.707107   \n",
       "3   alouma01  1960-09-26  1974-06-21  1.575523  0.347749 -1.251338 -0.947769   \n",
       "4  bagweje01  1991-04-08  2005-10-02  1.004970 -0.334311  0.778493  1.296231   \n",
       "\n",
       "         1B  \n",
       "0 -0.954927  \n",
       "1 -0.155744  \n",
       "2  0.707107  \n",
       "3  1.529468  \n",
       "4 -1.032858  "
      ]
     },
     "execution_count": 14,
     "metadata": {},
     "output_type": "execute_result"
    }
   ],
   "source": [
    "### Your code here ###\n",
    "playerLS.head()"
   ]
  },
  {
   "cell_type": "markdown",
   "metadata": {},
   "source": [
    "#### Problem 1(i)\n",
    "\n",
    "Compute the OPW for each player based on the average rates in the `playerLS` DataFrame. You can interpret this summary statistic as the predicted wins for a team with 9 batters exactly like the player in question. Add this column to the playerLS DataFrame. Call this colum OPW."
   ]
  },
  {
   "cell_type": "code",
   "execution_count": 15,
   "metadata": {
    "collapsed": false
   },
   "outputs": [
    {
     "data": {
      "text/html": [
       "<div>\n",
       "<table border=\"1\" class=\"dataframe\">\n",
       "  <thead>\n",
       "    <tr style=\"text-align: right;\">\n",
       "      <th></th>\n",
       "      <th>playerID</th>\n",
       "      <th>debut</th>\n",
       "      <th>finalGame</th>\n",
       "      <th>2B</th>\n",
       "      <th>3B</th>\n",
       "      <th>HR</th>\n",
       "      <th>BB</th>\n",
       "      <th>1B</th>\n",
       "      <th>OPW</th>\n",
       "    </tr>\n",
       "  </thead>\n",
       "  <tbody>\n",
       "    <tr>\n",
       "      <th>0</th>\n",
       "      <td>abreubo01</td>\n",
       "      <td>1996-09-01</td>\n",
       "      <td>2012-10-02</td>\n",
       "      <td>0.918221</td>\n",
       "      <td>-0.345258</td>\n",
       "      <td>-0.187583</td>\n",
       "      <td>1.431686</td>\n",
       "      <td>-0.954927</td>\n",
       "      <td>0.605249</td>\n",
       "    </tr>\n",
       "    <tr>\n",
       "      <th>1</th>\n",
       "      <td>allendi01</td>\n",
       "      <td>1963-09-03</td>\n",
       "      <td>1977-06-19</td>\n",
       "      <td>1.190421</td>\n",
       "      <td>1.818839</td>\n",
       "      <td>0.763955</td>\n",
       "      <td>0.644211</td>\n",
       "      <td>-0.155744</td>\n",
       "      <td>12.652690</td>\n",
       "    </tr>\n",
       "    <tr>\n",
       "      <th>2</th>\n",
       "      <td>alomasa01</td>\n",
       "      <td>1964-09-15</td>\n",
       "      <td>1978-09-30</td>\n",
       "      <td>-0.707107</td>\n",
       "      <td>-0.707107</td>\n",
       "      <td>-0.707107</td>\n",
       "      <td>-0.707107</td>\n",
       "      <td>0.707107</td>\n",
       "      <td>-5.532391</td>\n",
       "    </tr>\n",
       "    <tr>\n",
       "      <th>3</th>\n",
       "      <td>alouma01</td>\n",
       "      <td>1960-09-26</td>\n",
       "      <td>1974-06-21</td>\n",
       "      <td>1.575523</td>\n",
       "      <td>0.347749</td>\n",
       "      <td>-1.251338</td>\n",
       "      <td>-0.947769</td>\n",
       "      <td>1.529468</td>\n",
       "      <td>7.798964</td>\n",
       "    </tr>\n",
       "    <tr>\n",
       "      <th>4</th>\n",
       "      <td>bagweje01</td>\n",
       "      <td>1991-04-08</td>\n",
       "      <td>2005-10-02</td>\n",
       "      <td>1.004970</td>\n",
       "      <td>-0.334311</td>\n",
       "      <td>0.778493</td>\n",
       "      <td>1.296231</td>\n",
       "      <td>-1.032858</td>\n",
       "      <td>4.644147</td>\n",
       "    </tr>\n",
       "  </tbody>\n",
       "</table>\n",
       "</div>"
      ],
      "text/plain": [
       "    playerID       debut   finalGame        2B        3B        HR        BB  \\\n",
       "0  abreubo01  1996-09-01  2012-10-02  0.918221 -0.345258 -0.187583  1.431686   \n",
       "1  allendi01  1963-09-03  1977-06-19  1.190421  1.818839  0.763955  0.644211   \n",
       "2  alomasa01  1964-09-15  1978-09-30 -0.707107 -0.707107 -0.707107 -0.707107   \n",
       "3   alouma01  1960-09-26  1974-06-21  1.575523  0.347749 -1.251338 -0.947769   \n",
       "4  bagweje01  1991-04-08  2005-10-02  1.004970 -0.334311  0.778493  1.296231   \n",
       "\n",
       "         1B        OPW  \n",
       "0 -0.954927   0.605249  \n",
       "1 -0.155744  12.652690  \n",
       "2  0.707107  -5.532391  \n",
       "3  1.529468   7.798964  \n",
       "4 -1.032858   4.644147  "
      ]
     },
     "execution_count": 15,
     "metadata": {},
     "output_type": "execute_result"
    }
   ],
   "source": [
    "### Your code here ###\n",
    "playerLS['OPW'] = np.dot(playerLS[features0],param0)\n",
    "playerLS.head()"
   ]
  },
  {
   "cell_type": "markdown",
   "metadata": {},
   "source": [
    "#### Problem 1(j)\n",
    "\n",
    "Add four columns to the `playerLS` DataFrame that contains the player's position (C, 1B, 2B, 3B, SS, LF, CF, RF, or OF), first name, last name and median salary. "
   ]
  },
  {
   "cell_type": "code",
   "execution_count": 16,
   "metadata": {
    "collapsed": false
   },
   "outputs": [],
   "source": [
    "### Your code here ###\n",
    "playerLS = playerLS.merge(medianSalaries, how='inner', on='playerID')\n",
    "\n",
    "dummy1 = fielding[['playerID','POS']]\n",
    "\n",
    "playerLS = playerLS.merge(dummy1, how='inner', on='playerID')"
   ]
  },
  {
   "cell_type": "markdown",
   "metadata": {},
   "source": [
    "Show the head of the `playerLS` DataFrame. "
   ]
  },
  {
   "cell_type": "code",
   "execution_count": 17,
   "metadata": {
    "collapsed": false
   },
   "outputs": [
    {
     "data": {
      "text/html": [
       "<div>\n",
       "<table border=\"1\" class=\"dataframe\">\n",
       "  <thead>\n",
       "    <tr style=\"text-align: right;\">\n",
       "      <th></th>\n",
       "      <th>playerID</th>\n",
       "      <th>debut</th>\n",
       "      <th>finalGame</th>\n",
       "      <th>2B</th>\n",
       "      <th>3B</th>\n",
       "      <th>HR</th>\n",
       "      <th>BB</th>\n",
       "      <th>1B</th>\n",
       "      <th>OPW</th>\n",
       "      <th>nameFirst</th>\n",
       "      <th>nameLast</th>\n",
       "      <th>salary</th>\n",
       "      <th>POS</th>\n",
       "    </tr>\n",
       "  </thead>\n",
       "  <tbody>\n",
       "    <tr>\n",
       "      <th>0</th>\n",
       "      <td>abreubo01</td>\n",
       "      <td>1996-09-01</td>\n",
       "      <td>2012-10-02</td>\n",
       "      <td>0.918221</td>\n",
       "      <td>-0.345258</td>\n",
       "      <td>-0.187583</td>\n",
       "      <td>1.431686</td>\n",
       "      <td>-0.954927</td>\n",
       "      <td>0.605249</td>\n",
       "      <td>Bobby</td>\n",
       "      <td>Abreu</td>\n",
       "      <td>9000000</td>\n",
       "      <td>LF</td>\n",
       "    </tr>\n",
       "    <tr>\n",
       "      <th>1</th>\n",
       "      <td>abreubo01</td>\n",
       "      <td>1996-09-01</td>\n",
       "      <td>2012-10-02</td>\n",
       "      <td>0.918221</td>\n",
       "      <td>-0.345258</td>\n",
       "      <td>-0.187583</td>\n",
       "      <td>1.431686</td>\n",
       "      <td>-0.954927</td>\n",
       "      <td>0.605249</td>\n",
       "      <td>Bobby</td>\n",
       "      <td>Abreu</td>\n",
       "      <td>9000000</td>\n",
       "      <td>OF</td>\n",
       "    </tr>\n",
       "    <tr>\n",
       "      <th>2</th>\n",
       "      <td>abreubo01</td>\n",
       "      <td>1996-09-01</td>\n",
       "      <td>2012-10-02</td>\n",
       "      <td>0.918221</td>\n",
       "      <td>-0.345258</td>\n",
       "      <td>-0.187583</td>\n",
       "      <td>1.431686</td>\n",
       "      <td>-0.954927</td>\n",
       "      <td>0.605249</td>\n",
       "      <td>Bobby</td>\n",
       "      <td>Abreu</td>\n",
       "      <td>9000000</td>\n",
       "      <td>RF</td>\n",
       "    </tr>\n",
       "    <tr>\n",
       "      <th>3</th>\n",
       "      <td>abreubo01</td>\n",
       "      <td>1996-09-01</td>\n",
       "      <td>2012-10-02</td>\n",
       "      <td>0.918221</td>\n",
       "      <td>-0.345258</td>\n",
       "      <td>-0.187583</td>\n",
       "      <td>1.431686</td>\n",
       "      <td>-0.954927</td>\n",
       "      <td>0.605249</td>\n",
       "      <td>Bobby</td>\n",
       "      <td>Abreu</td>\n",
       "      <td>9000000</td>\n",
       "      <td>CF</td>\n",
       "    </tr>\n",
       "    <tr>\n",
       "      <th>4</th>\n",
       "      <td>abreubo01</td>\n",
       "      <td>1996-09-01</td>\n",
       "      <td>2012-10-02</td>\n",
       "      <td>0.918221</td>\n",
       "      <td>-0.345258</td>\n",
       "      <td>-0.187583</td>\n",
       "      <td>1.431686</td>\n",
       "      <td>-0.954927</td>\n",
       "      <td>0.605249</td>\n",
       "      <td>Bobby</td>\n",
       "      <td>Abreu</td>\n",
       "      <td>9000000</td>\n",
       "      <td>LF</td>\n",
       "    </tr>\n",
       "  </tbody>\n",
       "</table>\n",
       "</div>"
      ],
      "text/plain": [
       "    playerID       debut   finalGame        2B        3B        HR        BB  \\\n",
       "0  abreubo01  1996-09-01  2012-10-02  0.918221 -0.345258 -0.187583  1.431686   \n",
       "1  abreubo01  1996-09-01  2012-10-02  0.918221 -0.345258 -0.187583  1.431686   \n",
       "2  abreubo01  1996-09-01  2012-10-02  0.918221 -0.345258 -0.187583  1.431686   \n",
       "3  abreubo01  1996-09-01  2012-10-02  0.918221 -0.345258 -0.187583  1.431686   \n",
       "4  abreubo01  1996-09-01  2012-10-02  0.918221 -0.345258 -0.187583  1.431686   \n",
       "\n",
       "         1B       OPW nameFirst nameLast   salary POS  \n",
       "0 -0.954927  0.605249     Bobby    Abreu  9000000  LF  \n",
       "1 -0.954927  0.605249     Bobby    Abreu  9000000  OF  \n",
       "2 -0.954927  0.605249     Bobby    Abreu  9000000  RF  \n",
       "3 -0.954927  0.605249     Bobby    Abreu  9000000  CF  \n",
       "4 -0.954927  0.605249     Bobby    Abreu  9000000  LF  "
      ]
     },
     "execution_count": 17,
     "metadata": {},
     "output_type": "execute_result"
    }
   ],
   "source": [
    "playerLS.head()"
   ]
  },
  {
   "cell_type": "markdown",
   "metadata": {},
   "source": [
    "#### Problem 1(k)\n",
    "\n",
    "Subset the `playerLS` DataFrame for players active in 2002 and 2003 and played at least three years. Plot and describe the relationship bewteen the median salary (in millions) and the predicted number of wins. "
   ]
  },
  {
   "cell_type": "code",
   "execution_count": 18,
   "metadata": {
    "collapsed": false
   },
   "outputs": [
    {
     "data": {
      "text/html": [
       "<div>\n",
       "<table border=\"1\" class=\"dataframe\">\n",
       "  <thead>\n",
       "    <tr style=\"text-align: right;\">\n",
       "      <th></th>\n",
       "      <th>playerID</th>\n",
       "      <th>debut</th>\n",
       "      <th>finalGame</th>\n",
       "      <th>2B</th>\n",
       "      <th>3B</th>\n",
       "      <th>HR</th>\n",
       "      <th>BB</th>\n",
       "      <th>1B</th>\n",
       "      <th>OPW</th>\n",
       "      <th>nameFirst</th>\n",
       "      <th>nameLast</th>\n",
       "      <th>salary</th>\n",
       "      <th>POS</th>\n",
       "    </tr>\n",
       "  </thead>\n",
       "  <tbody>\n",
       "    <tr>\n",
       "      <th>0</th>\n",
       "      <td>abreubo01</td>\n",
       "      <td>1996-09-01</td>\n",
       "      <td>2012-10-02</td>\n",
       "      <td>0.918221</td>\n",
       "      <td>-0.345258</td>\n",
       "      <td>-0.187583</td>\n",
       "      <td>1.431686</td>\n",
       "      <td>-0.954927</td>\n",
       "      <td>0.605249</td>\n",
       "      <td>Bobby</td>\n",
       "      <td>Abreu</td>\n",
       "      <td>9000000</td>\n",
       "      <td>LF</td>\n",
       "    </tr>\n",
       "    <tr>\n",
       "      <th>1</th>\n",
       "      <td>abreubo01</td>\n",
       "      <td>1996-09-01</td>\n",
       "      <td>2012-10-02</td>\n",
       "      <td>0.918221</td>\n",
       "      <td>-0.345258</td>\n",
       "      <td>-0.187583</td>\n",
       "      <td>1.431686</td>\n",
       "      <td>-0.954927</td>\n",
       "      <td>0.605249</td>\n",
       "      <td>Bobby</td>\n",
       "      <td>Abreu</td>\n",
       "      <td>9000000</td>\n",
       "      <td>OF</td>\n",
       "    </tr>\n",
       "    <tr>\n",
       "      <th>2</th>\n",
       "      <td>abreubo01</td>\n",
       "      <td>1996-09-01</td>\n",
       "      <td>2012-10-02</td>\n",
       "      <td>0.918221</td>\n",
       "      <td>-0.345258</td>\n",
       "      <td>-0.187583</td>\n",
       "      <td>1.431686</td>\n",
       "      <td>-0.954927</td>\n",
       "      <td>0.605249</td>\n",
       "      <td>Bobby</td>\n",
       "      <td>Abreu</td>\n",
       "      <td>9000000</td>\n",
       "      <td>RF</td>\n",
       "    </tr>\n",
       "    <tr>\n",
       "      <th>3</th>\n",
       "      <td>abreubo01</td>\n",
       "      <td>1996-09-01</td>\n",
       "      <td>2012-10-02</td>\n",
       "      <td>0.918221</td>\n",
       "      <td>-0.345258</td>\n",
       "      <td>-0.187583</td>\n",
       "      <td>1.431686</td>\n",
       "      <td>-0.954927</td>\n",
       "      <td>0.605249</td>\n",
       "      <td>Bobby</td>\n",
       "      <td>Abreu</td>\n",
       "      <td>9000000</td>\n",
       "      <td>CF</td>\n",
       "    </tr>\n",
       "    <tr>\n",
       "      <th>4</th>\n",
       "      <td>abreubo01</td>\n",
       "      <td>1996-09-01</td>\n",
       "      <td>2012-10-02</td>\n",
       "      <td>0.918221</td>\n",
       "      <td>-0.345258</td>\n",
       "      <td>-0.187583</td>\n",
       "      <td>1.431686</td>\n",
       "      <td>-0.954927</td>\n",
       "      <td>0.605249</td>\n",
       "      <td>Bobby</td>\n",
       "      <td>Abreu</td>\n",
       "      <td>9000000</td>\n",
       "      <td>LF</td>\n",
       "    </tr>\n",
       "  </tbody>\n",
       "</table>\n",
       "</div>"
      ],
      "text/plain": [
       "    playerID      debut  finalGame        2B        3B        HR        BB  \\\n",
       "0  abreubo01 1996-09-01 2012-10-02  0.918221 -0.345258 -0.187583  1.431686   \n",
       "1  abreubo01 1996-09-01 2012-10-02  0.918221 -0.345258 -0.187583  1.431686   \n",
       "2  abreubo01 1996-09-01 2012-10-02  0.918221 -0.345258 -0.187583  1.431686   \n",
       "3  abreubo01 1996-09-01 2012-10-02  0.918221 -0.345258 -0.187583  1.431686   \n",
       "4  abreubo01 1996-09-01 2012-10-02  0.918221 -0.345258 -0.187583  1.431686   \n",
       "\n",
       "         1B       OPW nameFirst nameLast   salary POS  \n",
       "0 -0.954927  0.605249     Bobby    Abreu  9000000  LF  \n",
       "1 -0.954927  0.605249     Bobby    Abreu  9000000  OF  \n",
       "2 -0.954927  0.605249     Bobby    Abreu  9000000  RF  \n",
       "3 -0.954927  0.605249     Bobby    Abreu  9000000  CF  \n",
       "4 -0.954927  0.605249     Bobby    Abreu  9000000  LF  "
      ]
     },
     "execution_count": 18,
     "metadata": {},
     "output_type": "execute_result"
    }
   ],
   "source": [
    "### Your code here ###\n",
    "import datetime \n",
    "\n",
    "playerLS[['debut','finalGame']] = playerLS[['debut','finalGame']].astype('datetime64[ns]')\n",
    "\n",
    "cond1 = playerLS['debut'] <= datetime.date(2002, 1, 1)\n",
    "cond2 = playerLS['finalGame'] >= datetime.date(2003, 12, 31)\n",
    "cond3 = (playerLS['finalGame'] - playerLS['debut']) > datetime.timedelta(days=3*365)\n",
    "\n",
    "new_playerLS = playerLS[cond1&cond2&cond3]\n",
    "\n",
    "new_playerLS.head()"
   ]
  },
  {
   "cell_type": "code",
   "execution_count": 19,
   "metadata": {
    "collapsed": false
   },
   "outputs": [
    {
     "data": {
      "image/png": "[encoded data removed]",
      "text/plain": [
       "<matplotlib.figure.Figure at 0x7fa4f5e90a90>"
      ]
     },
     "metadata": {},
     "output_type": "display_data"
    }
   ],
   "source": [
    "x = new_playerLS['salary']/10e6 #in millions\n",
    "y = new_playerLS['OPW']\n",
    "plt.figure(figsize=(7,5))\n",
    "plt.scatter(x,y)\n",
    "plt.xscale('log')\n",
    "plt.title('OPW vs Salary', fontsize=14)\n",
    "plt.xlabel('Salary (millions)', fontsize=12)\n",
    "plt.ylabel('OPW', fontsize=12);"
   ]
  },
  {
   "cell_type": "markdown",
   "metadata": {},
   "source": [
    "#### Problem 1(l)\n",
    "Pick one players from one of each of these 10 position C, 1B, 2B, 3B, SS, LF, CF, RF, DH, or OF keeping the total median salary of all 10 players below 20 million. Report their averaged predicted wins and total salary."
   ]
  },
  {
   "cell_type": "code",
   "execution_count": 20,
   "metadata": {
    "collapsed": false
   },
   "outputs": [
    {
     "name": "stdout",
     "output_type": "stream",
     "text": [
      "Average OPW:\t8.77\n",
      "Total Salary:\t$15433783.00\n",
      "\n",
      "\n"
     ]
    },
    {
     "data": {
      "text/html": [
       "<div>\n",
       "<table border=\"1\" class=\"dataframe\">\n",
       "  <thead>\n",
       "    <tr style=\"text-align: right;\">\n",
       "      <th></th>\n",
       "      <th>POS</th>\n",
       "      <th>OPW</th>\n",
       "      <th>salary</th>\n",
       "    </tr>\n",
       "  </thead>\n",
       "  <tbody>\n",
       "    <tr>\n",
       "      <th>1542</th>\n",
       "      <td>CF</td>\n",
       "      <td>10.647056</td>\n",
       "      <td>1776666</td>\n",
       "    </tr>\n",
       "    <tr>\n",
       "      <th>1535</th>\n",
       "      <td>3B</td>\n",
       "      <td>10.647056</td>\n",
       "      <td>1776666</td>\n",
       "    </tr>\n",
       "    <tr>\n",
       "      <th>1538</th>\n",
       "      <td>OF</td>\n",
       "      <td>10.647056</td>\n",
       "      <td>1776666</td>\n",
       "    </tr>\n",
       "    <tr>\n",
       "      <th>1539</th>\n",
       "      <td>RF</td>\n",
       "      <td>10.647056</td>\n",
       "      <td>1776666</td>\n",
       "    </tr>\n",
       "    <tr>\n",
       "      <th>1540</th>\n",
       "      <td>1B</td>\n",
       "      <td>10.647056</td>\n",
       "      <td>1776666</td>\n",
       "    </tr>\n",
       "    <tr>\n",
       "      <th>1543</th>\n",
       "      <td>LF</td>\n",
       "      <td>10.647056</td>\n",
       "      <td>1776666</td>\n",
       "    </tr>\n",
       "    <tr>\n",
       "      <th>1517</th>\n",
       "      <td>2B</td>\n",
       "      <td>10.647056</td>\n",
       "      <td>1776666</td>\n",
       "    </tr>\n",
       "    <tr>\n",
       "      <th>2530</th>\n",
       "      <td>DH</td>\n",
       "      <td>8.175154</td>\n",
       "      <td>750000</td>\n",
       "    </tr>\n",
       "    <tr>\n",
       "      <th>200</th>\n",
       "      <td>SS</td>\n",
       "      <td>4.360673</td>\n",
       "      <td>830454</td>\n",
       "    </tr>\n",
       "    <tr>\n",
       "      <th>3357</th>\n",
       "      <td>C</td>\n",
       "      <td>0.643627</td>\n",
       "      <td>1416667</td>\n",
       "    </tr>\n",
       "  </tbody>\n",
       "</table>\n",
       "</div>"
      ],
      "text/plain": [
       "     POS        OPW   salary\n",
       "1542  CF  10.647056  1776666\n",
       "1535  3B  10.647056  1776666\n",
       "1538  OF  10.647056  1776666\n",
       "1539  RF  10.647056  1776666\n",
       "1540  1B  10.647056  1776666\n",
       "1543  LF  10.647056  1776666\n",
       "1517  2B  10.647056  1776666\n",
       "2530  DH   8.175154   750000\n",
       "200   SS   4.360673   830454\n",
       "3357   C   0.643627  1416667"
      ]
     },
     "execution_count": 20,
     "metadata": {},
     "output_type": "execute_result"
    }
   ],
   "source": [
    "### Your code here ###\n",
    "\n",
    "#$20e6 / 10 players to ensure total team salars is <$20e6 \n",
    "cond1 = playerLS['salary'] <= 2e6 \n",
    "cond2 = playerLS['POS'] != 'P'\n",
    "playerLS2 = playerLS[cond1&cond2]\n",
    "\n",
    "idx = playerLS2.groupby('POS')['OPW'].transform(max) == playerLS2['OPW']\n",
    "playerLS3=playerLS2[idx].sort_values(by='OPW', ascending=False)[['POS','OPW','salary']].drop_duplicates()\n",
    "\n",
    "ave_OPW = playerLS3['OPW'].mean()\n",
    "tot_sal = playerLS3['salary'].sum()\n",
    "\n",
    "print 'Average OPW:\\t', '%.2f'%ave_OPW\n",
    "print 'Total Salary:\\t', '$%.2f'%tot_sal\n",
    "print '\\n'\n",
    "playerLS3[['POS','OPW','salary']]"
   ]
  },
  {
   "cell_type": "markdown",
   "metadata": {},
   "source": [
    "#### Problem 1(m)\n",
    "What do these players outperform in? Singles, doubles, triples HR or BB?"
   ]
  },
  {
   "cell_type": "code",
   "execution_count": 21,
   "metadata": {
    "collapsed": false
   },
   "outputs": [
    {
     "data": {
      "text/html": [
       "<div>\n",
       "<table border=\"1\" class=\"dataframe\">\n",
       "  <thead>\n",
       "    <tr style=\"text-align: right;\">\n",
       "      <th></th>\n",
       "      <th>POS</th>\n",
       "      <th>1B</th>\n",
       "      <th>2B</th>\n",
       "      <th>3B</th>\n",
       "      <th>HR</th>\n",
       "      <th>BB</th>\n",
       "    </tr>\n",
       "  </thead>\n",
       "  <tbody>\n",
       "    <tr>\n",
       "      <th>1542</th>\n",
       "      <td>CF</td>\n",
       "      <td>0.594994</td>\n",
       "      <td>1.914892</td>\n",
       "      <td>-0.986532</td>\n",
       "      <td>-0.198931</td>\n",
       "      <td>1.127248</td>\n",
       "    </tr>\n",
       "    <tr>\n",
       "      <th>1535</th>\n",
       "      <td>3B</td>\n",
       "      <td>0.594994</td>\n",
       "      <td>1.914892</td>\n",
       "      <td>-0.986532</td>\n",
       "      <td>-0.198931</td>\n",
       "      <td>1.127248</td>\n",
       "    </tr>\n",
       "    <tr>\n",
       "      <th>1538</th>\n",
       "      <td>OF</td>\n",
       "      <td>0.594994</td>\n",
       "      <td>1.914892</td>\n",
       "      <td>-0.986532</td>\n",
       "      <td>-0.198931</td>\n",
       "      <td>1.127248</td>\n",
       "    </tr>\n",
       "    <tr>\n",
       "      <th>1539</th>\n",
       "      <td>RF</td>\n",
       "      <td>0.594994</td>\n",
       "      <td>1.914892</td>\n",
       "      <td>-0.986532</td>\n",
       "      <td>-0.198931</td>\n",
       "      <td>1.127248</td>\n",
       "    </tr>\n",
       "    <tr>\n",
       "      <th>1540</th>\n",
       "      <td>1B</td>\n",
       "      <td>0.594994</td>\n",
       "      <td>1.914892</td>\n",
       "      <td>-0.986532</td>\n",
       "      <td>-0.198931</td>\n",
       "      <td>1.127248</td>\n",
       "    </tr>\n",
       "    <tr>\n",
       "      <th>1543</th>\n",
       "      <td>LF</td>\n",
       "      <td>0.594994</td>\n",
       "      <td>1.914892</td>\n",
       "      <td>-0.986532</td>\n",
       "      <td>-0.198931</td>\n",
       "      <td>1.127248</td>\n",
       "    </tr>\n",
       "    <tr>\n",
       "      <th>1517</th>\n",
       "      <td>2B</td>\n",
       "      <td>0.594994</td>\n",
       "      <td>1.914892</td>\n",
       "      <td>-0.986532</td>\n",
       "      <td>-0.198931</td>\n",
       "      <td>1.127248</td>\n",
       "    </tr>\n",
       "    <tr>\n",
       "      <th>2530</th>\n",
       "      <td>DH</td>\n",
       "      <td>1.050290</td>\n",
       "      <td>1.033001</td>\n",
       "      <td>-0.357649</td>\n",
       "      <td>0.159855</td>\n",
       "      <td>-0.806565</td>\n",
       "    </tr>\n",
       "    <tr>\n",
       "      <th>200</th>\n",
       "      <td>SS</td>\n",
       "      <td>0.407862</td>\n",
       "      <td>1.347681</td>\n",
       "      <td>-0.508527</td>\n",
       "      <td>-0.150673</td>\n",
       "      <td>-1.048614</td>\n",
       "    </tr>\n",
       "    <tr>\n",
       "      <th>3357</th>\n",
       "      <td>C</td>\n",
       "      <td>0.718752</td>\n",
       "      <td>0.406501</td>\n",
       "      <td>-0.498026</td>\n",
       "      <td>-0.525086</td>\n",
       "      <td>-0.727656</td>\n",
       "    </tr>\n",
       "  </tbody>\n",
       "</table>\n",
       "</div>"
      ],
      "text/plain": [
       "     POS        1B        2B        3B        HR        BB\n",
       "1542  CF  0.594994  1.914892 -0.986532 -0.198931  1.127248\n",
       "1535  3B  0.594994  1.914892 -0.986532 -0.198931  1.127248\n",
       "1538  OF  0.594994  1.914892 -0.986532 -0.198931  1.127248\n",
       "1539  RF  0.594994  1.914892 -0.986532 -0.198931  1.127248\n",
       "1540  1B  0.594994  1.914892 -0.986532 -0.198931  1.127248\n",
       "1543  LF  0.594994  1.914892 -0.986532 -0.198931  1.127248\n",
       "1517  2B  0.594994  1.914892 -0.986532 -0.198931  1.127248\n",
       "2530  DH  1.050290  1.033001 -0.357649  0.159855 -0.806565\n",
       "200   SS  0.407862  1.347681 -0.508527 -0.150673 -1.048614\n",
       "3357   C  0.718752  0.406501 -0.498026 -0.525086 -0.727656"
      ]
     },
     "execution_count": 21,
     "metadata": {},
     "output_type": "execute_result"
    }
   ],
   "source": [
    "### Your code here ###\n",
    "\n",
    "attr = ['POS','1B', '2B', '3B', 'HR', 'BB']\n",
    "playerLS2[idx].sort_values(by='OPW', ascending=False)[attr].drop_duplicates()"
   ]
  },
  {
   "cell_type": "markdown",
   "metadata": {},
   "source": [
    "** Your answer here: **"
   ]
  },
  {
   "cell_type": "markdown",
   "metadata": {},
   "source": [
    "\n",
    "They outperform in 1B and 2B. Some even outperform in BB."
   ]
  },
  {
   "cell_type": "markdown",
   "metadata": {},
   "source": [
    "### Use one of the classification methods to predict wheather a player will be an Allstar?"
   ]
  },
  {
   "cell_type": "code",
   "execution_count": 22,
   "metadata": {
    "collapsed": false
   },
   "outputs": [
    {
     "name": "stdout",
     "output_type": "stream",
     "text": [
      "Score: 92.59 %\n"
     ]
    }
   ],
   "source": [
    "### Your code here ###\n",
    "\n",
    "from sklearn.cross_validation import train_test_split\n",
    "from sklearn.ensemble import RandomForestClassifier\n",
    "\n",
    "#Use AllstarFull.csv to determine which players are Allstars\n",
    "allstar = pd.read_csv(path+'AllstarFull.csv')\n",
    "allstar = allstar[['playerID','yearID','GP']].drop_duplicates()\n",
    "\n",
    "#Filter out allstars from players dataset\n",
    "#We assume that NaN on GP means the player did not play Allstar that year\n",
    "players_allstar = pd.merge(players,allstar,on=['playerID','yearID'],how ='inner')\n",
    "players_allstar['GP'] = players_allstar['GP'].fillna(0)\n",
    "\n",
    "#Random Forest \n",
    "x = players_allstar.drop('GP',axis=1)._get_numeric_data().fillna(0)\n",
    "y = players_allstar['GP']\n",
    "x_train, x_test, y_train, y_test = train_test_split(x, y, test_size=0.20)\n",
    "rfc = RandomForestClassifier()\n",
    "rfc.fit(x_train, y_train) \n",
    "z = pd.DataFrame(zip(rfc.predict(x_test),y_test),columns = ['predicted','actual'])\n",
    "z['new'] = z['actual']-z['predicted']\n",
    "\n",
    "print 'Score:','%.2f'%(100 - z[z['new']!=0]['new'].count()*100.0/z['new'].count()),'%'"
   ]
  },
  {
   "cell_type": "markdown",
   "metadata": {},
   "source": [
    "## Discussion for Problem 1\n",
    "\n",
    "*Write a brief discussion of your conclusions to the questions and tasks above in 100 words or less.*\n",
    "\n",
    "---\n",
    "\n",
    "- Our OPW vs Salaries plot on 1(k) shows some positive correlation. However, the correlation still seems low. This might be due to the fact that we didnt have enough data points and due to factors we did not account for like strategies and team combinations. \n",
    "\n",
    "- Based on our OPW values, 1B and 2B are the most valued traits in a player in terms of salaries for our team (regardless of field positions). This is for players earning less than $2 million.\n",
    "\n",
    "- Using GP from the AllstarFull.csv as a target for our Random Forest Classifier, we managed to get a high accuracy for our model. This was achieved without any form of optimization."
   ]
  },
  {
   "cell_type": "markdown",
   "metadata": {},
   "source": [
    "# Problem 2:  $k$-Nearest Neighbors and Cross Validation \n",
    "\n",
    "What is the optimal $k$ for predicting species using $k$-nearest neighbor classification \n",
    "on the four features provided by the iris dataset.\n",
    "\n",
    "In this problem you will get to know the famous iris data set, and use cross validation to select the optimal $k$ for a $k$-nearest neighbor classification. This problem set makes heavy use of the [sklearn](http://scikit-learn.org/stable/) library. In addition to Pandas, it is one of the most useful libraries for data scientists. \n",
    "For the Iris data set  sklearn provides an extra function to load it - since it is one of the very commonly used data sets."
   ]
  },
  {
   "cell_type": "code",
   "execution_count": 23,
   "metadata": {
    "collapsed": false
   },
   "outputs": [],
   "source": [
    "#load the iris data set\n",
    "from sklearn.datasets import load_iris\n",
    "iris = load_iris()"
   ]
  },
  {
   "cell_type": "markdown",
   "metadata": {},
   "source": [
    "#### Problem 2(a) \n",
    "Split the data into a train and a test set. Use a random selection of 33% of the samples as test data. Sklearn provides the [`train_test_split`](http://scikit-learn.org/stable/modules/generated/sklearn.cross_validation.train_test_split.html) function for this purpose. Print the dimensions of all the train and test data sets you have created. "
   ]
  },
  {
   "cell_type": "code",
   "execution_count": 24,
   "metadata": {
    "collapsed": false
   },
   "outputs": [
    {
     "name": "stdout",
     "output_type": "stream",
     "text": [
      "X_train shape:\t(100, 4)\n",
      "X_test shape:\t(50, 4)\n"
     ]
    }
   ],
   "source": [
    "### Your code here ###\n",
    "\n",
    "from sklearn.cross_validation import train_test_split\n",
    "\n",
    "#Load data and target\n",
    "X = iris.data\n",
    "y = iris.target\n",
    "\n",
    "#Split\n",
    "X_train, X_test, y_train, y_test = train_test_split(X, y, test_size=0.33, random_state=None)\n",
    "\n",
    "print 'X_train shape:\\t', np.shape(X_train)\n",
    "print 'X_test shape:\\t', np.shape(X_test)"
   ]
  },
  {
   "cell_type": "markdown",
   "metadata": {},
   "source": [
    "#### Problem 2(b) \n",
    "\n",
    " Use ***ten fold cross validation*** to estimate the optimal value for $k$ for the iris data set. \n",
    "\n",
    "**Note**: For your convenience sklearn does not only include the [KNN classifier](http://scikit-learn.org/stable/modules/generated/sklearn.neighbors.KNeighborsClassifier.html), but also a [grid search function](http://scikit-learn.org/stable/modules/generated/sklearn.grid_search.GridSearchCV.html#sklearn.grid_search.GridSearchCV). The function is called grid search, because if you have to optimize more than one parameter, it is common practice to define a range of possible values for each parameter. An exhaustive search then runs over the complete grid defined by all the possible parameter combinations. This can get very computation heavy, but luckily our KNN classifier only requires tuning of a single parameter for this problem set. "
   ]
  },
  {
   "cell_type": "code",
   "execution_count": 25,
   "metadata": {
    "collapsed": false
   },
   "outputs": [
    {
     "name": "stdout",
     "output_type": "stream",
     "text": [
      "k = 5\n"
     ]
    }
   ],
   "source": [
    "### Your code here ###\n",
    "\n",
    "knn = sklearn.neighbors.KNeighborsClassifier()\n",
    "grid_search = sklearn.grid_search.GridSearchCV(knn, {'n_neighbors':list(range(1,20))}, cv=10)\n",
    "grid_search.fit(X_train, y_train)\n",
    "k = grid_search.best_params_['n_neighbors']\n",
    "print 'k =',grid_search.best_params_['n_neighbors']"
   ]
  },
  {
   "cell_type": "markdown",
   "metadata": {},
   "source": [
    "#### Problem 2(c)\n",
    "\n",
    "Visualize the result by plotting the score results versus values for $k$. "
   ]
  },
  {
   "cell_type": "code",
   "execution_count": 26,
   "metadata": {
    "collapsed": false
   },
   "outputs": [
    {
     "data": {
      "image/png": "[encoded data removed]",
      "text/plain": [
       "<matplotlib.figure.Figure at 0x7fa4f5e9bd90>"
      ]
     },
     "metadata": {},
     "output_type": "display_data"
    }
   ],
   "source": [
    "### Your code here ###\n",
    "\n",
    "#Using a 10 fold cross validation to calculate scores\n",
    "\n",
    "scores = []\n",
    "\n",
    "for i in range(1,20):\n",
    "    clf = sklearn.neighbors.KNeighborsClassifier(n_neighbors=i)\n",
    "    score = np.mean(sklearn.cross_validation.cross_val_score(clf, X_train, y_train, cv=10))\n",
    "    scores.append(score)\n",
    "\n",
    "plt.plot(list(range(1,20)), scores)\n",
    "plt.xlabel('K')\n",
    "plt.ylabel('Score')\n",
    "plt.title('KNN Accuracy');"
   ]
  },
  {
   "cell_type": "markdown",
   "metadata": {},
   "source": [
    "Verify that the grid search has indeed chosen the right parameter value for $k$."
   ]
  },
  {
   "cell_type": "code",
   "execution_count": 27,
   "metadata": {
    "collapsed": false
   },
   "outputs": [
    {
     "name": "stdout",
     "output_type": "stream",
     "text": [
      "Based on the plot, grid search produced the optimal k value.\n"
     ]
    }
   ],
   "source": [
    "### Your code here ###\n",
    "print 'Based on the plot, grid search produced the optimal k value.'"
   ]
  },
  {
   "cell_type": "markdown",
   "metadata": {},
   "source": [
    "#### Problem 2(d)\n",
    "\n",
    "Test the performance of our tuned KNN classifier on the test set."
   ]
  },
  {
   "cell_type": "code",
   "execution_count": 28,
   "metadata": {
    "collapsed": false
   },
   "outputs": [
    {
     "name": "stdout",
     "output_type": "stream",
     "text": [
      "Score:\t96.0 %\n"
     ]
    }
   ],
   "source": [
    "### Your code here ###\n",
    "\n",
    "#Take the average score of 10 runs\n",
    "scores = []\n",
    "for i in range(10):\n",
    "    clf = sklearn.neighbors.KNeighborsClassifier(n_neighbors=k)\n",
    "    clf.fit(X_train, y_train)\n",
    "    pred = clf.predict(X_test)\n",
    "    score = float(np.sum([i==j for i,j in zip(pred, y_test)]))/len(pred)\n",
    "    scores.append(score)\n",
    "    \n",
    "print 'Score:\\t',np.mean(scores)*100,'%'"
   ]
  },
  {
   "cell_type": "markdown",
   "metadata": {},
   "source": [
    "## Discussion for Problem 2\n",
    "\n",
    "*Write a brief discussion of your conclusions to the questions and tasks above in 100 words or less.*\n",
    "\n",
    "---\n",
    "\n",
    "- The combination of grid search and 10 fold cross validation had had helped us pick a more accurate value of k for our KNN classifier. This helped us create an accurate KNN classifier for the iris dataset."
   ]
  },
  {
   "cell_type": "markdown",
   "metadata": {},
   "source": [
    "## Problem 3: Supervised Learning - Estimating Boston house pricing using Linear Regression and Regression Trees"
   ]
  },
  {
   "cell_type": "markdown",
   "metadata": {},
   "source": [
    "##### Download the UCI ML automobile dataset. (https://archive.ics.uci.edu/ml/datasets/Automobile)"
   ]
  },
  {
   "cell_type": "code",
   "execution_count": 29,
   "metadata": {
    "collapsed": false
   },
   "outputs": [
    {
     "data": {
      "text/html": [
       "<div>\n",
       "<table border=\"1\" class=\"dataframe\">\n",
       "  <thead>\n",
       "    <tr style=\"text-align: right;\">\n",
       "      <th></th>\n",
       "      <th>symboling</th>\n",
       "      <th>normalized-losses</th>\n",
       "      <th>make</th>\n",
       "      <th>fuel-type</th>\n",
       "      <th>aspiration</th>\n",
       "      <th>num-of-doors</th>\n",
       "      <th>body-style</th>\n",
       "      <th>drive-wheels</th>\n",
       "      <th>engine-location</th>\n",
       "      <th>wheel-base</th>\n",
       "      <th>...</th>\n",
       "      <th>engine-size</th>\n",
       "      <th>fuel-system</th>\n",
       "      <th>bore</th>\n",
       "      <th>stroke</th>\n",
       "      <th>compression-ratio</th>\n",
       "      <th>horsepower</th>\n",
       "      <th>peak-rpm</th>\n",
       "      <th>city-mpg</th>\n",
       "      <th>highway-mpg</th>\n",
       "      <th>price</th>\n",
       "    </tr>\n",
       "  </thead>\n",
       "  <tbody>\n",
       "    <tr>\n",
       "      <th>0</th>\n",
       "      <td>3</td>\n",
       "      <td>?</td>\n",
       "      <td>alfa-romero</td>\n",
       "      <td>gas</td>\n",
       "      <td>std</td>\n",
       "      <td>two</td>\n",
       "      <td>convertible</td>\n",
       "      <td>rwd</td>\n",
       "      <td>front</td>\n",
       "      <td>88.6</td>\n",
       "      <td>...</td>\n",
       "      <td>130</td>\n",
       "      <td>mpfi</td>\n",
       "      <td>3.47</td>\n",
       "      <td>2.68</td>\n",
       "      <td>9.0</td>\n",
       "      <td>111</td>\n",
       "      <td>5000</td>\n",
       "      <td>21</td>\n",
       "      <td>27</td>\n",
       "      <td>13495</td>\n",
       "    </tr>\n",
       "    <tr>\n",
       "      <th>1</th>\n",
       "      <td>3</td>\n",
       "      <td>?</td>\n",
       "      <td>alfa-romero</td>\n",
       "      <td>gas</td>\n",
       "      <td>std</td>\n",
       "      <td>two</td>\n",
       "      <td>convertible</td>\n",
       "      <td>rwd</td>\n",
       "      <td>front</td>\n",
       "      <td>88.6</td>\n",
       "      <td>...</td>\n",
       "      <td>130</td>\n",
       "      <td>mpfi</td>\n",
       "      <td>3.47</td>\n",
       "      <td>2.68</td>\n",
       "      <td>9.0</td>\n",
       "      <td>111</td>\n",
       "      <td>5000</td>\n",
       "      <td>21</td>\n",
       "      <td>27</td>\n",
       "      <td>16500</td>\n",
       "    </tr>\n",
       "    <tr>\n",
       "      <th>2</th>\n",
       "      <td>1</td>\n",
       "      <td>?</td>\n",
       "      <td>alfa-romero</td>\n",
       "      <td>gas</td>\n",
       "      <td>std</td>\n",
       "      <td>two</td>\n",
       "      <td>hatchback</td>\n",
       "      <td>rwd</td>\n",
       "      <td>front</td>\n",
       "      <td>94.5</td>\n",
       "      <td>...</td>\n",
       "      <td>152</td>\n",
       "      <td>mpfi</td>\n",
       "      <td>2.68</td>\n",
       "      <td>3.47</td>\n",
       "      <td>9.0</td>\n",
       "      <td>154</td>\n",
       "      <td>5000</td>\n",
       "      <td>19</td>\n",
       "      <td>26</td>\n",
       "      <td>16500</td>\n",
       "    </tr>\n",
       "    <tr>\n",
       "      <th>3</th>\n",
       "      <td>2</td>\n",
       "      <td>164</td>\n",
       "      <td>audi</td>\n",
       "      <td>gas</td>\n",
       "      <td>std</td>\n",
       "      <td>four</td>\n",
       "      <td>sedan</td>\n",
       "      <td>fwd</td>\n",
       "      <td>front</td>\n",
       "      <td>99.8</td>\n",
       "      <td>...</td>\n",
       "      <td>109</td>\n",
       "      <td>mpfi</td>\n",
       "      <td>3.19</td>\n",
       "      <td>3.40</td>\n",
       "      <td>10.0</td>\n",
       "      <td>102</td>\n",
       "      <td>5500</td>\n",
       "      <td>24</td>\n",
       "      <td>30</td>\n",
       "      <td>13950</td>\n",
       "    </tr>\n",
       "    <tr>\n",
       "      <th>4</th>\n",
       "      <td>2</td>\n",
       "      <td>164</td>\n",
       "      <td>audi</td>\n",
       "      <td>gas</td>\n",
       "      <td>std</td>\n",
       "      <td>four</td>\n",
       "      <td>sedan</td>\n",
       "      <td>4wd</td>\n",
       "      <td>front</td>\n",
       "      <td>99.4</td>\n",
       "      <td>...</td>\n",
       "      <td>136</td>\n",
       "      <td>mpfi</td>\n",
       "      <td>3.19</td>\n",
       "      <td>3.40</td>\n",
       "      <td>8.0</td>\n",
       "      <td>115</td>\n",
       "      <td>5500</td>\n",
       "      <td>18</td>\n",
       "      <td>22</td>\n",
       "      <td>17450</td>\n",
       "    </tr>\n",
       "  </tbody>\n",
       "</table>\n",
       "<p>5 rows × 26 columns</p>\n",
       "</div>"
      ],
      "text/plain": [
       "   symboling normalized-losses         make fuel-type aspiration num-of-doors  \\\n",
       "0          3                 ?  alfa-romero       gas        std          two   \n",
       "1          3                 ?  alfa-romero       gas        std          two   \n",
       "2          1                 ?  alfa-romero       gas        std          two   \n",
       "3          2               164         audi       gas        std         four   \n",
       "4          2               164         audi       gas        std         four   \n",
       "\n",
       "    body-style drive-wheels engine-location  wheel-base  ...    engine-size  \\\n",
       "0  convertible          rwd           front        88.6  ...            130   \n",
       "1  convertible          rwd           front        88.6  ...            130   \n",
       "2    hatchback          rwd           front        94.5  ...            152   \n",
       "3        sedan          fwd           front        99.8  ...            109   \n",
       "4        sedan          4wd           front        99.4  ...            136   \n",
       "\n",
       "   fuel-system  bore  stroke compression-ratio horsepower  peak-rpm city-mpg  \\\n",
       "0         mpfi  3.47    2.68               9.0        111      5000       21   \n",
       "1         mpfi  3.47    2.68               9.0        111      5000       21   \n",
       "2         mpfi  2.68    3.47               9.0        154      5000       19   \n",
       "3         mpfi  3.19    3.40              10.0        102      5500       24   \n",
       "4         mpfi  3.19    3.40               8.0        115      5500       18   \n",
       "\n",
       "  highway-mpg  price  \n",
       "0          27  13495  \n",
       "1          27  16500  \n",
       "2          26  16500  \n",
       "3          30  13950  \n",
       "4          22  17450  \n",
       "\n",
       "[5 rows x 26 columns]"
      ]
     },
     "execution_count": 29,
     "metadata": {},
     "output_type": "execute_result"
    }
   ],
   "source": [
    "### Your code here ###\n",
    "header = ['symboling','normalized-losses','make','fuel-type','aspiration',\n",
    "          'num-of-doors', 'body-style','drive-wheels','engine-location',\n",
    "          'wheel-base','length','width','height','curb-weight','engine-type',\n",
    "          'num-of-cylinders','engine-size','fuel-system','bore','stroke',\n",
    "          'compression-ratio','horsepower','peak-rpm','city-mpg','highway-mpg',\n",
    "          'price']\n",
    "\n",
    "auto = pd.read_csv('https://archive.ics.uci.edu/ml/machine-learning-databases/autos/imports-85.data', names=header)\n",
    "auto.head()"
   ]
  },
  {
   "cell_type": "markdown",
   "metadata": {},
   "source": [
    "#### Find the most important features"
   ]
  },
  {
   "cell_type": "code",
   "execution_count": 30,
   "metadata": {
    "collapsed": false
   },
   "outputs": [
    {
     "data": {
      "text/html": [
       "<div>\n",
       "<table border=\"1\" class=\"dataframe\">\n",
       "  <thead>\n",
       "    <tr style=\"text-align: right;\">\n",
       "      <th></th>\n",
       "      <th>symboling</th>\n",
       "      <th>wheel-base</th>\n",
       "      <th>length</th>\n",
       "      <th>width</th>\n",
       "      <th>height</th>\n",
       "      <th>curb-weight</th>\n",
       "      <th>engine-size</th>\n",
       "      <th>bore</th>\n",
       "      <th>stroke</th>\n",
       "      <th>compression-ratio</th>\n",
       "      <th>horsepower</th>\n",
       "      <th>peak-rpm</th>\n",
       "      <th>city-mpg</th>\n",
       "      <th>highway-mpg</th>\n",
       "      <th>price</th>\n",
       "    </tr>\n",
       "  </thead>\n",
       "  <tbody>\n",
       "    <tr>\n",
       "      <th>0</th>\n",
       "      <td>3</td>\n",
       "      <td>88.6</td>\n",
       "      <td>168.8</td>\n",
       "      <td>64.1</td>\n",
       "      <td>48.8</td>\n",
       "      <td>2548</td>\n",
       "      <td>130</td>\n",
       "      <td>3.47</td>\n",
       "      <td>2.68</td>\n",
       "      <td>9.0</td>\n",
       "      <td>111.0</td>\n",
       "      <td>5000.0</td>\n",
       "      <td>21</td>\n",
       "      <td>27</td>\n",
       "      <td>13495.0</td>\n",
       "    </tr>\n",
       "    <tr>\n",
       "      <th>1</th>\n",
       "      <td>3</td>\n",
       "      <td>88.6</td>\n",
       "      <td>168.8</td>\n",
       "      <td>64.1</td>\n",
       "      <td>48.8</td>\n",
       "      <td>2548</td>\n",
       "      <td>130</td>\n",
       "      <td>3.47</td>\n",
       "      <td>2.68</td>\n",
       "      <td>9.0</td>\n",
       "      <td>111.0</td>\n",
       "      <td>5000.0</td>\n",
       "      <td>21</td>\n",
       "      <td>27</td>\n",
       "      <td>16500.0</td>\n",
       "    </tr>\n",
       "    <tr>\n",
       "      <th>2</th>\n",
       "      <td>1</td>\n",
       "      <td>94.5</td>\n",
       "      <td>171.2</td>\n",
       "      <td>65.5</td>\n",
       "      <td>52.4</td>\n",
       "      <td>2823</td>\n",
       "      <td>152</td>\n",
       "      <td>2.68</td>\n",
       "      <td>3.47</td>\n",
       "      <td>9.0</td>\n",
       "      <td>154.0</td>\n",
       "      <td>5000.0</td>\n",
       "      <td>19</td>\n",
       "      <td>26</td>\n",
       "      <td>16500.0</td>\n",
       "    </tr>\n",
       "    <tr>\n",
       "      <th>3</th>\n",
       "      <td>2</td>\n",
       "      <td>99.8</td>\n",
       "      <td>176.6</td>\n",
       "      <td>66.2</td>\n",
       "      <td>54.3</td>\n",
       "      <td>2337</td>\n",
       "      <td>109</td>\n",
       "      <td>3.19</td>\n",
       "      <td>3.40</td>\n",
       "      <td>10.0</td>\n",
       "      <td>102.0</td>\n",
       "      <td>5500.0</td>\n",
       "      <td>24</td>\n",
       "      <td>30</td>\n",
       "      <td>13950.0</td>\n",
       "    </tr>\n",
       "    <tr>\n",
       "      <th>4</th>\n",
       "      <td>2</td>\n",
       "      <td>99.4</td>\n",
       "      <td>176.6</td>\n",
       "      <td>66.4</td>\n",
       "      <td>54.3</td>\n",
       "      <td>2824</td>\n",
       "      <td>136</td>\n",
       "      <td>3.19</td>\n",
       "      <td>3.40</td>\n",
       "      <td>8.0</td>\n",
       "      <td>115.0</td>\n",
       "      <td>5500.0</td>\n",
       "      <td>18</td>\n",
       "      <td>22</td>\n",
       "      <td>17450.0</td>\n",
       "    </tr>\n",
       "  </tbody>\n",
       "</table>\n",
       "</div>"
      ],
      "text/plain": [
       "   symboling  wheel-base  length  width  height  curb-weight  engine-size  \\\n",
       "0          3        88.6   168.8   64.1    48.8         2548          130   \n",
       "1          3        88.6   168.8   64.1    48.8         2548          130   \n",
       "2          1        94.5   171.2   65.5    52.4         2823          152   \n",
       "3          2        99.8   176.6   66.2    54.3         2337          109   \n",
       "4          2        99.4   176.6   66.4    54.3         2824          136   \n",
       "\n",
       "   bore  stroke  compression-ratio  horsepower  peak-rpm  city-mpg  \\\n",
       "0  3.47    2.68                9.0       111.0    5000.0        21   \n",
       "1  3.47    2.68                9.0       111.0    5000.0        21   \n",
       "2  2.68    3.47                9.0       154.0    5000.0        19   \n",
       "3  3.19    3.40               10.0       102.0    5500.0        24   \n",
       "4  3.19    3.40                8.0       115.0    5500.0        18   \n",
       "\n",
       "   highway-mpg    price  \n",
       "0           27  13495.0  \n",
       "1           27  16500.0  \n",
       "2           26  16500.0  \n",
       "3           30  13950.0  \n",
       "4           22  17450.0  "
      ]
     },
     "execution_count": 30,
     "metadata": {},
     "output_type": "execute_result"
    }
   ],
   "source": [
    "### Your code here ###\n",
    "\n",
    "#Replace '?' with NaN\n",
    "auto = auto.replace(to_replace='?', value=np.nan)\n",
    "\n",
    "#Convert relevant numeric data from object to float\n",
    "change_num = ['bore','stroke','horsepower','peak-rpm','price']\n",
    "auto[change_num]=auto[change_num].astype(float, inplace=True)\n",
    "\n",
    "#Select columns with numbers\n",
    "num_auto = auto._get_numeric_data().dropna()\n",
    "num_auto.head()"
   ]
  },
  {
   "cell_type": "code",
   "execution_count": 31,
   "metadata": {
    "collapsed": false
   },
   "outputs": [
    {
     "name": "stdout",
     "output_type": "stream",
     "text": [
      "width :\t\t0.76\n",
      "curb-weight :\t\t0.84\n",
      "engine-size :\t\t0.89\n",
      "horsepower :\t\t0.82\n",
      "city-mpg :\t\t-0.71\n",
      "highway-mpg :\t\t-0.72\n"
     ]
    }
   ],
   "source": [
    "#Taking features that has an abolute correlation of 0.5+ against price\n",
    "feature_list = num_auto.columns[0:-1]\n",
    "price = num_auto['price']\n",
    "\n",
    "for feature in feature_list:\n",
    "    attr = num_auto[feature]\n",
    "    c = corr(attr,price)\n",
    "    if np.sqrt(c**2) > 0.7:\n",
    "        print feature,':\\t\\t%.2f'%c"
   ]
  },
  {
   "cell_type": "markdown",
   "metadata": {},
   "source": [
    "Hence, the most important features are <b>width</b>, <b>curb-weight</b>, <b>city-mpg</b>,<b>engine-size</b>, <b>horsepower</b> and <b>highway-mpg</b>."
   ]
  },
  {
   "cell_type": "markdown",
   "metadata": {},
   "source": [
    "#### Using 10-fold cross validation separate the test and training data sets"
   ]
  },
  {
   "cell_type": "code",
   "execution_count": 32,
   "metadata": {
    "collapsed": false
   },
   "outputs": [
    {
     "name": "stderr",
     "output_type": "stream",
     "text": [
      "/home/sadat/anaconda3/envs/py2k/lib/python2.7/site-packages/IPython/kernel/__main__.py:8: FutureWarning: using '-' to provide set differences with Indexes is deprecated, use .difference()\n"
     ]
    }
   ],
   "source": [
    "### Your code here ###\n",
    "\n",
    "#Attributes with highest correlation\n",
    "attr = ['width', 'curb-weight', 'engine-size', 'horsepower', 'highway-mpg','price','city-mpg']\n",
    "\n",
    "#Picking important features\n",
    "new_auto = auto[attr].dropna()\n",
    "X = new_auto[new_auto.columns - ['price']]\n",
    "y = new_auto['price']\n",
    "\n",
    "k_fold = sklearn.cross_validation.KFold(len(X), n_folds=10, shuffle=True, random_state=44)"
   ]
  },
  {
   "cell_type": "markdown",
   "metadata": {
    "collapsed": false
   },
   "source": [
    "###Normalize the data"
   ]
  },
  {
   "cell_type": "code",
   "execution_count": 33,
   "metadata": {
    "collapsed": false
   },
   "outputs": [
    {
     "data": {
      "text/html": [
       "<div>\n",
       "<table border=\"1\" class=\"dataframe\">\n",
       "  <thead>\n",
       "    <tr style=\"text-align: right;\">\n",
       "      <th></th>\n",
       "      <th>city-mpg</th>\n",
       "      <th>curb-weight</th>\n",
       "      <th>engine-size</th>\n",
       "      <th>highway-mpg</th>\n",
       "      <th>horsepower</th>\n",
       "      <th>width</th>\n",
       "    </tr>\n",
       "  </thead>\n",
       "  <tbody>\n",
       "    <tr>\n",
       "      <th>0</th>\n",
       "      <td>-0.116695</td>\n",
       "      <td>-0.003115</td>\n",
       "      <td>0.011984</td>\n",
       "      <td>-0.096932</td>\n",
       "      <td>0.035528</td>\n",
       "      <td>-0.152343</td>\n",
       "    </tr>\n",
       "    <tr>\n",
       "      <th>1</th>\n",
       "      <td>-0.116695</td>\n",
       "      <td>-0.003115</td>\n",
       "      <td>0.011984</td>\n",
       "      <td>-0.096932</td>\n",
       "      <td>0.035528</td>\n",
       "      <td>-0.152343</td>\n",
       "    </tr>\n",
       "    <tr>\n",
       "      <th>2</th>\n",
       "      <td>-0.172250</td>\n",
       "      <td>0.103557</td>\n",
       "      <td>0.095003</td>\n",
       "      <td>-0.123248</td>\n",
       "      <td>0.236463</td>\n",
       "      <td>-0.032685</td>\n",
       "    </tr>\n",
       "    <tr>\n",
       "      <th>3</th>\n",
       "      <td>-0.033361</td>\n",
       "      <td>-0.084961</td>\n",
       "      <td>-0.067261</td>\n",
       "      <td>-0.017985</td>\n",
       "      <td>-0.006528</td>\n",
       "      <td>0.027144</td>\n",
       "    </tr>\n",
       "    <tr>\n",
       "      <th>4</th>\n",
       "      <td>-0.200028</td>\n",
       "      <td>0.103945</td>\n",
       "      <td>0.034626</td>\n",
       "      <td>-0.228511</td>\n",
       "      <td>0.054220</td>\n",
       "      <td>0.044238</td>\n",
       "    </tr>\n",
       "  </tbody>\n",
       "</table>\n",
       "</div>"
      ],
      "text/plain": [
       "   city-mpg  curb-weight  engine-size  highway-mpg  horsepower     width\n",
       "0 -0.116695    -0.003115     0.011984    -0.096932    0.035528 -0.152343\n",
       "1 -0.116695    -0.003115     0.011984    -0.096932    0.035528 -0.152343\n",
       "2 -0.172250     0.103557     0.095003    -0.123248    0.236463 -0.032685\n",
       "3 -0.033361    -0.084961    -0.067261    -0.017985   -0.006528  0.027144\n",
       "4 -0.200028     0.103945     0.034626    -0.228511    0.054220  0.044238"
      ]
     },
     "execution_count": 33,
     "metadata": {},
     "output_type": "execute_result"
    }
   ],
   "source": [
    "### Your code here ###\n",
    "X = (X - X.mean()) / (X.max() - X.min())\n",
    "X.head()"
   ]
  },
  {
   "cell_type": "markdown",
   "metadata": {},
   "source": [
    "### Start with a lineal model and evaluate how well it can predict the price variable"
   ]
  },
  {
   "cell_type": "code",
   "execution_count": 34,
   "metadata": {
    "collapsed": false
   },
   "outputs": [
    {
     "name": "stdout",
     "output_type": "stream",
     "text": [
      "Score:\t73.10 %\n"
     ]
    }
   ],
   "source": [
    "### Your code here ###\n",
    "\n",
    "scores = [] \n",
    "\n",
    "for train_index, test_index in k_fold:\n",
    "    X_train, X_test = X.values[train_index], X.values[test_index]\n",
    "    y_train, y_test = y.values[train_index], y.values[test_index]\n",
    "    lm = sklearn.linear_model.LinearRegression()\n",
    "    lm.fit(X_train, y_train)\n",
    "    scores.append(lm.score(X_test, y_test))\n",
    "    \n",
    "print 'Score:\\t', '%.2f'%(np.mean(scores)*100),'%'"
   ]
  },
  {
   "cell_type": "markdown",
   "metadata": {},
   "source": [
    "### Try using Ridge regression and evaluate the result of the 10-fold cross-validation"
   ]
  },
  {
   "cell_type": "code",
   "execution_count": 35,
   "metadata": {
    "collapsed": false
   },
   "outputs": [
    {
     "name": "stdout",
     "output_type": "stream",
     "text": [
      "Score:\t73.82 %\n"
     ]
    }
   ],
   "source": [
    "### Your code here ###\n",
    "\n",
    "scores = [] \n",
    "\n",
    "for train_index, test_index in k_fold:\n",
    "    X_train, X_test = X.values[train_index], X.values[test_index]\n",
    "    y_train, y_test = y.values[train_index], y.values[test_index]\n",
    "    rm = sklearn.linear_model.Ridge()\n",
    "    rm.fit(X_train, y_train)\n",
    "    predict = rm.predict(X_test)\n",
    "    score = float(np.sum([i==j for i,j in zip(predict,y_test)])/len(y_test))\n",
    "    scores.append(rm.score(X_test, y_test))\n",
    "    \n",
    "print 'Score:\\t', '%.2f'%(np.mean(scores)*100),'%'"
   ]
  },
  {
   "cell_type": "markdown",
   "metadata": {},
   "source": [
    "### Train the Regression Tree and evaluate using 10-fold cross validation; Specify the parapmeters used and how you changed them to increase the accuracy;  "
   ]
  },
  {
   "cell_type": "code",
   "execution_count": 36,
   "metadata": {
    "collapsed": false
   },
   "outputs": [
    {
     "name": "stdout",
     "output_type": "stream",
     "text": [
      "Best Parameters:\n"
     ]
    },
    {
     "data": {
      "text/plain": [
       "{'min_samples_leaf': 9,\n",
       " 'min_samples_split': 1,\n",
       " 'min_weight_fraction_leaf': 0.0}"
      ]
     },
     "execution_count": 36,
     "metadata": {},
     "output_type": "execute_result"
    }
   ],
   "source": [
    "### Your code here ###\n",
    "\n",
    "dtr = sklearn.tree.DecisionTreeRegressor()\n",
    "grid_search = sklearn.grid_search.GridSearchCV(dtr, \n",
    "                                               {'min_samples_split':list(range(1,10)), \n",
    "                                                'min_samples_leaf':list(range(1,10)), \n",
    "                                                'min_weight_fraction_leaf':np.linspace(0,0.5,10)}, \n",
    "                                               cv=10)\n",
    "grid_search.fit(X_train, y_train)\n",
    "print 'Best Parameters:'\n",
    "grid_search.best_params_"
   ]
  },
  {
   "cell_type": "code",
   "execution_count": 37,
   "metadata": {
    "collapsed": false
   },
   "outputs": [
    {
     "name": "stdout",
     "output_type": "stream",
     "text": [
      "Score:\t87.07 %\n"
     ]
    }
   ],
   "source": [
    "score = grid_search.score(X_test, y_test)\n",
    "\n",
    "print 'Score:\\t','%.2f'%(score*100),'%'"
   ]
  },
  {
   "cell_type": "markdown",
   "metadata": {},
   "source": [
    "### Discussion for Problem 3  Write a brief discussion of your conclusions to the questions and tasks above in 100 words or less.Compare all three aproaches and discuss your findings in 100 words or less\n",
    "---\n",
    "\n",
    "- Both the linear regression and the ridge regression models give similar scores. This implies that the attributes are reasonably indepedent.\n",
    "\n",
    "- Regression tree model is giving the highest accuracy as it is the best model for continuous fits (i.e. the float values of price). "
   ]
  },
  {
   "cell_type": "code",
   "execution_count": null,
   "metadata": {
    "collapsed": true
   },
   "outputs": [],
   "source": []
  }
 ],
 "metadata": {
  "kernelspec": {
   "display_name": "Python 2",
   "language": "python",
   "name": "python2"
  },
  "language_info": {
   "codemirror_mode": {
    "name": "ipython",
    "version": 2
   },
   "file_extension": ".py",
   "mimetype": "text/x-python",
   "name": "python",
   "nbconvert_exporter": "python",
   "pygments_lexer": "ipython2",
   "version": "2.7.11"
  }
 },
 "nbformat": 4,
 "nbformat_minor": 0
}
