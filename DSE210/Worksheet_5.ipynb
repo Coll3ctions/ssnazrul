{
 "cells": [
  {
   "cell_type": "code",
   "execution_count": 35,
   "metadata": {
    "collapsed": true
   },
   "outputs": [],
   "source": [
    "import numpy as np\n",
    "import pandas as pd\n",
    "import matplotlib.pyplot as plt\n",
    "import json, operator\n",
    "%matplotlib inline"
   ]
  },
  {
   "cell_type": "markdown",
   "metadata": {},
   "source": [
    "###Class Distribution\n",
    "\n",
    "#### Calculate fraction of documents in each class"
   ]
  },
  {
   "cell_type": "code",
   "execution_count": 5,
   "metadata": {
    "collapsed": false
   },
   "outputs": [
    {
     "name": "stdout",
     "output_type": "stream",
     "text": [
      "Created dictionary with 20 classes\n"
     ]
    }
   ],
   "source": [
    "#Training label\n",
    "train_label = open('/home/sadat/Downloads/HW2_210/20news-bydate/matlab/train.label')\n",
    "\n",
    "#pi is the fraction of each class\n",
    "pi = {}\n",
    "\n",
    "#Set a class index for each document as key\n",
    "for i in range(1,21):\n",
    "    pi[i] = 0\n",
    "    \n",
    "#Extract values from training labels\n",
    "lines = train_label.readlines()\n",
    "\n",
    "#Get total number of documents\n",
    "total = len(lines)\n",
    "\n",
    "#Count the occurence of each class\n",
    "for line in lines:\n",
    "    val = int(line.split()[0])\n",
    "    pi[val] += 1\n",
    "\n",
    "#Divide the count of each class by total documents \n",
    "for key in pi:\n",
    "    pi[key] /= total\n",
    "    \n",
    "print('Created dictionary with', len(pi), 'classes')"
   ]
  },
  {
   "cell_type": "markdown",
   "metadata": {},
   "source": [
    "###Probability Distribution over V\n",
    "\n",
    "####Average count of each word per class"
   ]
  },
  {
   "cell_type": "code",
   "execution_count": 6,
   "metadata": {
    "collapsed": false
   },
   "outputs": [
    {
     "data": {
      "text/html": [
       "<div>\n",
       "<table border=\"1\" class=\"dataframe\">\n",
       "  <thead>\n",
       "    <tr style=\"text-align: right;\">\n",
       "      <th></th>\n",
       "      <th>docIdx</th>\n",
       "      <th>wordIdx</th>\n",
       "      <th>count</th>\n",
       "      <th>label</th>\n",
       "    </tr>\n",
       "  </thead>\n",
       "  <tbody>\n",
       "    <tr>\n",
       "      <th>0</th>\n",
       "      <td>1</td>\n",
       "      <td>1</td>\n",
       "      <td>4</td>\n",
       "      <td>1</td>\n",
       "    </tr>\n",
       "    <tr>\n",
       "      <th>1</th>\n",
       "      <td>1</td>\n",
       "      <td>2</td>\n",
       "      <td>2</td>\n",
       "      <td>1</td>\n",
       "    </tr>\n",
       "    <tr>\n",
       "      <th>2</th>\n",
       "      <td>1</td>\n",
       "      <td>3</td>\n",
       "      <td>10</td>\n",
       "      <td>1</td>\n",
       "    </tr>\n",
       "    <tr>\n",
       "      <th>3</th>\n",
       "      <td>1</td>\n",
       "      <td>4</td>\n",
       "      <td>4</td>\n",
       "      <td>1</td>\n",
       "    </tr>\n",
       "    <tr>\n",
       "      <th>4</th>\n",
       "      <td>1</td>\n",
       "      <td>5</td>\n",
       "      <td>2</td>\n",
       "      <td>1</td>\n",
       "    </tr>\n",
       "  </tbody>\n",
       "</table>\n",
       "</div>"
      ],
      "text/plain": [
       "   docIdx  wordIdx  count  label\n",
       "0       1        1      4      1\n",
       "1       1        2      2      1\n",
       "2       1        3     10      1\n",
       "3       1        4      4      1\n",
       "4       1        5      2      1"
      ]
     },
     "execution_count": 6,
     "metadata": {},
     "output_type": "execute_result"
    }
   ],
   "source": [
    "#Training data\n",
    "train_data = open('/home/sadat/Downloads/HW2_210/20news-bydate/matlab/train.data')\n",
    "df = pd.read_csv(train_data, delimiter=' ', names=['docIdx', 'wordIdx', 'count'])\n",
    "\n",
    "#Training label\n",
    "label = []\n",
    "train_label = open('/home/sadat/Downloads/HW2_210/20news-bydate/matlab/train.label')\n",
    "lines = train_label.readlines()\n",
    "for line in lines:\n",
    "    label.append(int(line.split()[0]))\n",
    "    \n",
    "#Increase label length to match docIdx\n",
    "docIdx = df['docIdx'].values\n",
    "i = 0\n",
    "new_label = []\n",
    "for index in range(len(docIdx)-1):\n",
    "    new_label.append(label[i])\n",
    "    if docIdx[index] != docIdx[index+1]:\n",
    "        i += 1\n",
    "new_label.append(label[i]) #for-loop ignores last value\n",
    "\n",
    "#Add label column\n",
    "df['label'] = new_label\n",
    "\n",
    "df.head()"
   ]
  },
  {
   "cell_type": "markdown",
   "metadata": {},
   "source": [
    "####Inverse Document Frequency\n",
    "\n",
    "Since the calculation using all 61188 words it taking a long time to run, we will pick the top 100 words using IDF."
   ]
  },
  {
   "cell_type": "code",
   "execution_count": 28,
   "metadata": {
    "collapsed": false
   },
   "outputs": [
    {
     "name": "stdout",
     "output_type": "stream",
     "text": [
      "TF-IDF complete!\n"
     ]
    }
   ],
   "source": [
    "idf = {}\n",
    "i = 0\n",
    "totDoc = len(df['docIdx'].unique())\n",
    "for wordIdx in range(1,61189):\n",
    "    i += 1\n",
    "    print(i,end='\\r')\n",
    "    val = len(df[df['wordIdx'] == wordIdx])\n",
    "    idf[wordIdx] = np.log(val/totDoc)\n",
    "\n",
    "print('TF-IDF complete!')"
   ]
  },
  {
   "cell_type": "code",
   "execution_count": 45,
   "metadata": {
    "collapsed": false
   },
   "outputs": [],
   "source": [
    "#Sort idf dictionary in descending order\n",
    "sorted_idf = sorted(idf.items(), key=operator.itemgetter(1), reverse=True)\n",
    "\n",
    "#Pick top 1000 words\n",
    "sorted_idf = sorted_idf[:100]\n",
    "\n",
    "#Store top words in imp_words list\n",
    "imp_words = []\n",
    "for word in sorted_idf:\n",
    "    imp_words.append(word[0])"
   ]
  },
  {
   "cell_type": "markdown",
   "metadata": {},
   "source": [
    "####Average count of each word per class"
   ]
  },
  {
   "cell_type": "code",
   "execution_count": null,
   "metadata": {
    "collapsed": false
   },
   "outputs": [],
   "source": [
    "P = {}\n",
    "i = 0\n",
    "\n",
    "for label in range(1,21):\n",
    "    wordList = []\n",
    "    i += 1\n",
    "    print(i,end='\\r')\n",
    "    for wordIdx in imp_words:\n",
    "        count = 0\n",
    "    \n",
    "        #Count the word frequency in class\n",
    "        cond1 = (df['label']==label) & (df['wordIdx']==wordIdx)\n",
    "        count = np.nansum(df[cond1]['count'])\n",
    "        \n",
    "        #Count the total words in class\n",
    "        cond2 = (df['label']==label)\n",
    "        totDoc = np.nansum(df[cond2]['count'])\n",
    "        \n",
    "        #Append probability to wordList with Laplace Smoothing\n",
    "        wordList.append((count+1)/(totDoc+2))\n",
    "    \n",
    "    P[label]=wordList"
   ]
  },
  {
   "cell_type": "markdown",
   "metadata": {},
   "source": [
    "###Final Classifier\n",
    "\n",
    "####Combining probability distribution of P with fraction of documents belonging to each class"
   ]
  },
  {
   "cell_type": "code",
   "execution_count": 48,
   "metadata": {
    "collapsed": false
   },
   "outputs": [],
   "source": [
    "classifier = {}\n",
    "for label in range(1,21):\n",
    "    classifier[label] = [pi[label]*i for i in P[label]]"
   ]
  },
  {
   "cell_type": "code",
   "execution_count": 56,
   "metadata": {
    "collapsed": false
   },
   "outputs": [],
   "source": [
    "#Store Classifier on JSON file\n",
    "f = open('classifier.json', 'a')\n",
    "json.dump(classifier, f)\n",
    "f.close()"
   ]
  },
  {
   "cell_type": "code",
   "execution_count": null,
   "metadata": {
    "collapsed": true
   },
   "outputs": [],
   "source": []
  }
 ],
 "metadata": {
  "kernelspec": {
   "display_name": "Python 3",
   "language": "python",
   "name": "python3"
  },
  "language_info": {
   "codemirror_mode": {
    "name": "ipython",
    "version": 3
   },
   "file_extension": ".py",
   "mimetype": "text/x-python",
   "name": "python",
   "nbconvert_exporter": "python",
   "pygments_lexer": "ipython3",
   "version": "3.4.3"
  }
 },
 "nbformat": 4,
 "nbformat_minor": 0
}
