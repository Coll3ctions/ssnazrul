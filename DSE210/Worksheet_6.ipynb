{
 "cells": [
  {
   "cell_type": "code",
   "execution_count": 1,
   "metadata": {
    "collapsed": true
   },
   "outputs": [],
   "source": [
    "import matplotlib.pyplot as plt\n",
    "%matplotlib inline\n",
    "import numpy as np\n",
    "import pandas as pd\n",
    "import random\n",
    "from scipy.stats import multivariate_normal"
   ]
  },
  {
   "cell_type": "code",
   "execution_count": 2,
   "metadata": {
    "collapsed": false
   },
   "outputs": [
    {
     "data": {
      "text/plain": [
       "<matplotlib.text.Text at 0x7f0caa9404a8>"
      ]
     },
     "execution_count": 2,
     "metadata": {},
     "output_type": "execute_result"
    },
    {
     "data": {
      "image/png": "[encoded data removed]",
      "text/plain": [
       "<matplotlib.figure.Figure at 0x7f0caaf3b4e0>"
      ]
     },
     "metadata": {},
     "output_type": "display_data"
    },
    {
     "data": {
      "image/png": "[encoded data removed]",
      "text/plain": [
       "<matplotlib.figure.Figure at 0x7f0caaf3bcc0>"
      ]
     },
     "metadata": {},
     "output_type": "display_data"
    }
   ],
   "source": [
    "#7a\n",
    "\n",
    "plt.figure()\n",
    "mean = [0,0]\n",
    "cov = [[9,0],[0,1]]\n",
    "x, y = np.random.multivariate_normal(mean, cov, 100).T\n",
    "plt.plot(x,y, 'x')\n",
    "plt.axis('equal')\n",
    "plt.title('7a')\n",
    "\n",
    "#7b\n",
    "plt.figure()\n",
    "mean = [0,0]\n",
    "cov = [[1,-.75],[-.75,1]]\n",
    "x, y = np.random.multivariate_normal(mean, cov, 100).T\n",
    "plt.plot(x,y, 'x')\n",
    "plt.axis('equal')\n",
    "plt.title('7b')"
   ]
  },
  {
   "cell_type": "code",
   "execution_count": 3,
   "metadata": {
    "collapsed": false
   },
   "outputs": [],
   "source": [
    "from struct import unpack\n",
    "import numpy as np\n",
    "import matplotlib.pylab as plt \n",
    "\n",
    "def loadmnist(imagefile, labelfile):\n",
    "\n",
    "    # Open the images with gzip in read binary mode\n",
    "    images = open(imagefile, 'rb')\n",
    "    labels = open(labelfile, 'rb')\n",
    "\n",
    "    # Get metadata for images\n",
    "    images.read(4)  # skip the magic_number\n",
    "    number_of_images = images.read(4)\n",
    "    number_of_images = unpack('>I', number_of_images)[0]\n",
    "    rows = images.read(4)\n",
    "    rows = unpack('>I', rows)[0]\n",
    "    cols = images.read(4)\n",
    "    cols = unpack('>I', cols)[0]\n",
    "\n",
    "    # Get metadata for labels\n",
    "    labels.read(4)\n",
    "    N = labels.read(4)\n",
    "    N = unpack('>I', N)[0]\n",
    "\n",
    "    # Get data\n",
    "    x = np.zeros((N, rows*cols), dtype=np.uint8)  # Initialize numpy array\n",
    "    y = np.zeros(N, dtype=np.uint8)  # Initialize numpy array\n",
    "    for i in range(N):\n",
    "        for j in range(rows*cols):\n",
    "            tmp_pixel = images.read(1)  # Just a single byte\n",
    "            tmp_pixel = unpack('>B', tmp_pixel)[0]\n",
    "            x[i][j] = tmp_pixel\n",
    "        tmp_label = labels.read(1)\n",
    "        y[i] = unpack('>B', tmp_label)[0]\n",
    "\n",
    "    images.close()\n",
    "    labels.close()\n",
    "    return (x, y)\n",
    "\n",
    "def displaychar(image):\n",
    "    plt.imshow(np.reshape(image, (28,28)), cmap=plt.cm.gray)\n",
    "    plt.axis('off')\n",
    "    plt.show()"
   ]
  },
  {
   "cell_type": "code",
   "execution_count": 4,
   "metadata": {
    "collapsed": false
   },
   "outputs": [],
   "source": [
    "path = r'/home/sadat/Documents/DSE/Data/HW3_210/'\n",
    "train_img_path = path + 'train-images.idx3-ubyte'\n",
    "train_lbl_path = path + 'train-labels.idx1-ubyte'\n",
    "test_img_path  = path + 't10k-images.idx3-ubyte'\n",
    "test_lbl_path  = path + 't10k-labels.idx1-ubyte'"
   ]
  },
  {
   "cell_type": "code",
   "execution_count": 5,
   "metadata": {
    "collapsed": false
   },
   "outputs": [],
   "source": [
    "#loading data\n",
    "train_img, train_lbl = loadmnist(train_img_path, train_lbl_path)\n",
    "test_img, test_lbl = loadmnist(test_img_path, test_lbl_path)"
   ]
  },
  {
   "cell_type": "code",
   "execution_count": 6,
   "metadata": {
    "collapsed": false
   },
   "outputs": [],
   "source": [
    "#Define variables\n",
    "n_samples = len(train_img)\n",
    "x = train_img\n",
    "y = train_lbl\n",
    "\n",
    "#Create random indices\n",
    "sample_index=random.sample(range(len(x)),int(len(x)/6))\n",
    "valid_index=[i for i in range(len(x)) if i not in sample_index]\n",
    "\n",
    "#Sample and validation images\n",
    "sample_images=[x[i] for i in sample_index]\n",
    "valid_images=[x[i] for i in valid_index]\n",
    "\n",
    "#Sample and validation targets\n",
    "sample_target=[y[i] for i in sample_index]\n",
    "valid_target=[y[i] for i in valid_index]"
   ]
  },
  {
   "cell_type": "code",
   "execution_count": 76,
   "metadata": {
    "collapsed": false
   },
   "outputs": [],
   "source": [
    "def classify(sample_target, sample_images, valid_target, valid_images, smooth):\n",
    "\n",
    "    #Empty list for probabilities\n",
    "    prob = []\n",
    "    \n",
    "    #Calculate probability for each digit\n",
    "    for label in range(10):    \n",
    "        #Collect indices for given digit\n",
    "        indices = [i for i,x in enumerate(sample_target) if x == label]\n",
    "        #Calculate Pi\n",
    "        pi = len(indices)/len(sample_target)\n",
    "        #Calculate Multivariate Normal\n",
    "        images = [sample_images[i] for i in indices]\n",
    "        mean = np.mean(images, axis = 0)\n",
    "        cov = np.cov(np.transpose(images)) + (smooth*np.identity(784)) #Cov with smoothing\n",
    "        func = multivariate_normal(mean, cov)\n",
    "        #Calculate probability and append\n",
    "        prob.append(np.log(pi) + func.logpdf(valid_images))\n",
    "    \n",
    "    #Take the max pdf\n",
    "    max_prob = np.argmax(prob, axis = 0)\n",
    "    \n",
    "    #Compare with valid target to get error\n",
    "    error = np.sum([i!=j for i,j in zip(max_prob, valid_target)])/len(valid_target)\n",
    "    return error"
   ]
  },
  {
   "cell_type": "code",
   "execution_count": null,
   "metadata": {
    "collapsed": false
   },
   "outputs": [],
   "source": [
    "#First we looked at 1000-7000 in steps of 1000. 4000 was the optimum.\n",
    "#Then we looked at 3500-4500 in steps of 500. 3500 was the optimum.\n",
    "#Then we looked at 3400-3600 in steps of 100. 2500 was the optimum.\n",
    "#Then we looked at 3400-3500 in steps of 50. 3450 was the optimum.\n",
    "#Then we looked at 3430-3470 in steps of 10. 3460 was the optimum.\n",
    "#Then we looked at 3455-3465 in steps of 5. 3460 was the optimum.\n",
    "#Then we looked at 3458-3463 in steps of 1. 3461 was the optimum.\n",
    "\n",
    "\n",
    "y = []\n",
    "x = []\n",
    "for i in range(3460, 3463, 1):\n",
    "    y.append(sample_target, sample_images, valid_target, valid_images, classify(i))\n",
    "    x.append(i)"
   ]
  },
  {
   "cell_type": "code",
   "execution_count": 74,
   "metadata": {
    "collapsed": false
   },
   "outputs": [
    {
     "name": "stdout",
     "output_type": "stream",
     "text": [
      "Best Smooting:\t 3461\n",
      "Error Rate:\t 4.982 %\n"
     ]
    },
    {
     "data": {
      "image/png": "[encoded data removed]",
      "text/plain": [
       "<matplotlib.figure.Figure at 0x7f0c81037828>"
      ]
     },
     "metadata": {},
     "output_type": "display_data"
    }
   ],
   "source": [
    "plt.figure(figsize=(15,5))\n",
    "plt.plot(x,y, '.-')\n",
    "plt.xlabel('Smoothing', fontsize=12)\n",
    "plt.ylabel('Error Rate', fontsize=12)\n",
    "plt.title('Error vs Smoothing', fontsize=15)\n",
    "\n",
    "print('Best Smooting:\\t',x[1])\n",
    "print('Error Rate:\\t',y[1]*100,'%')"
   ]
  },
  {
   "cell_type": "code",
   "execution_count": 80,
   "metadata": {
    "collapsed": false
   },
   "outputs": [],
   "source": [
    "error = classify(train_lbl, train_img, test_lbl, test_img, 3461)"
   ]
  },
  {
   "cell_type": "code",
   "execution_count": 81,
   "metadata": {
    "collapsed": false
   },
   "outputs": [
    {
     "name": "stdout",
     "output_type": "stream",
     "text": [
      "Error Rate:\t 4.35 %\n"
     ]
    }
   ],
   "source": [
    "print('Error Rate:\\t',error*100,'%')"
   ]
  },
  {
   "cell_type": "code",
   "execution_count": null,
   "metadata": {
    "collapsed": true
   },
   "outputs": [],
   "source": []
  }
 ],
 "metadata": {
  "kernelspec": {
   "display_name": "Python 3",
   "language": "python",
   "name": "python3"
  },
  "language_info": {
   "codemirror_mode": {
    "name": "ipython",
    "version": 3
   },
   "file_extension": ".py",
   "mimetype": "text/x-python",
   "name": "python",
   "nbconvert_exporter": "python",
   "pygments_lexer": "ipython3",
   "version": "3.4.3"
  }
 },
 "nbformat": 4,
 "nbformat_minor": 0
}
