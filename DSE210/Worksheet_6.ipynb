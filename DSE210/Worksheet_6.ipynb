{
 "cells": [
  {
   "cell_type": "code",
   "execution_count": 1,
   "metadata": {
    "collapsed": true
   },
   "outputs": [],
   "source": [
    "import matplotlib.pyplot as plt\n",
    "%matplotlib inline\n",
    "import numpy as np\n",
    "import pandas as pd\n",
    "import random\n",
    "from scipy.stats import multivariate_normal"
   ]
  },
  {
   "cell_type": "markdown",
   "metadata": {},
   "source": [
    "###7"
   ]
  },
  {
   "cell_type": "code",
   "execution_count": 2,
   "metadata": {
    "collapsed": false
   },
   "outputs": [
    {
     "data": {
      "text/plain": [
       "<matplotlib.text.Text at 0x7f0caa9404a8>"
      ]
     },
     "execution_count": 2,
     "metadata": {},
     "output_type": "execute_result"
    },
    {
     "data": {
      "image/png": "[encoded data removed]",
      "text/plain": [
       "<matplotlib.figure.Figure at 0x7f0caaf3b4e0>"
      ]
     },
     "metadata": {},
     "output_type": "display_data"
    },
    {
     "data": {
      "image/png": "[encoded data removed]",
      "text/plain": [
       "<matplotlib.figure.Figure at 0x7f0caaf3bcc0>"
      ]
     },
     "metadata": {},
     "output_type": "display_data"
    }
   ],
   "source": [
    "#7a\n",
    "\n",
    "plt.figure()\n",
    "mean = [0,0]\n",
    "cov = [[9,0],[0,1]]\n",
    "x, y = np.random.multivariate_normal(mean, cov, 100).T\n",
    "plt.plot(x,y, 'x')\n",
    "plt.axis('equal')\n",
    "plt.title('7a')\n",
    "\n",
    "#7b\n",
    "plt.figure()\n",
    "mean = [0,0]\n",
    "cov = [[1,-.75],[-.75,1]]\n",
    "x, y = np.random.multivariate_normal(mean, cov, 100).T\n",
    "plt.plot(x,y, 'x')\n",
    "plt.axis('equal')\n",
    "plt.title('7b')"
   ]
  },
  {
   "cell_type": "markdown",
   "metadata": {},
   "source": [
    "###9"
   ]
  },
  {
   "cell_type": "code",
   "execution_count": 112,
   "metadata": {
    "collapsed": false
   },
   "outputs": [],
   "source": [
    "from struct import unpack\n",
    "import numpy as np\n",
    "import matplotlib.pylab as plt \n",
    "\n",
    "def loadmnist(imagefile, labelfile):\n",
    "\n",
    "    # Open the images with gzip in read binary mode\n",
    "    images = open(imagefile, 'rb')\n",
    "    labels = open(labelfile, 'rb')\n",
    "\n",
    "    # Get metadata for images\n",
    "    images.read(4)  # skip the magic_number\n",
    "    number_of_images = images.read(4)\n",
    "    number_of_images = unpack('>I', number_of_images)[0]\n",
    "    rows = images.read(4)\n",
    "    rows = unpack('>I', rows)[0]\n",
    "    cols = images.read(4)\n",
    "    cols = unpack('>I', cols)[0]\n",
    "\n",
    "    # Get metadata for labels\n",
    "    labels.read(4)\n",
    "    N = labels.read(4)\n",
    "    N = unpack('>I', N)[0]\n",
    "\n",
    "    # Get data\n",
    "    x = np.zeros((N, rows*cols), dtype=np.uint8)  # Initialize numpy array\n",
    "    y = np.zeros(N, dtype=np.uint8)  # Initialize numpy array\n",
    "    for i in range(N):\n",
    "        for j in range(rows*cols):\n",
    "            tmp_pixel = images.read(1)  # Just a single byte\n",
    "            tmp_pixel = unpack('>B', tmp_pixel)[0]\n",
    "            x[i][j] = tmp_pixel\n",
    "        tmp_label = labels.read(1)\n",
    "        y[i] = unpack('>B', tmp_label)[0]\n",
    "\n",
    "    images.close()\n",
    "    labels.close()\n",
    "    return (x, y)\n",
    "\n",
    "def displaychar(image):\n",
    "    plt.imshow(np.reshape(image, (28,28)), cmap=plt.cm.gray)\n",
    "    plt.axis('off')\n",
    "    #plt.show()"
   ]
  },
  {
   "cell_type": "markdown",
   "metadata": {},
   "source": [
    "####Loading MNIST dataset"
   ]
  },
  {
   "cell_type": "code",
   "execution_count": 4,
   "metadata": {
    "collapsed": false
   },
   "outputs": [],
   "source": [
    "#Get file paths\n",
    "path = r'/home/sadat/Documents/DSE/Data/HW3_210/'\n",
    "train_img_path = path + 'train-images.idx3-ubyte'\n",
    "train_lbl_path = path + 'train-labels.idx1-ubyte'\n",
    "test_img_path  = path + 't10k-images.idx3-ubyte'\n",
    "test_lbl_path  = path + 't10k-labels.idx1-ubyte'"
   ]
  },
  {
   "cell_type": "code",
   "execution_count": 5,
   "metadata": {
    "collapsed": false
   },
   "outputs": [],
   "source": [
    "#loading data\n",
    "train_img, train_lbl = loadmnist(train_img_path, train_lbl_path)\n",
    "test_img, test_lbl = loadmnist(test_img_path, test_lbl_path)"
   ]
  },
  {
   "cell_type": "markdown",
   "metadata": {},
   "source": [
    "####Break training dataset into sample and validation"
   ]
  },
  {
   "cell_type": "code",
   "execution_count": 6,
   "metadata": {
    "collapsed": false
   },
   "outputs": [],
   "source": [
    "#Define variables\n",
    "n_samples = len(train_img)\n",
    "x = train_img\n",
    "y = train_lbl\n",
    "\n",
    "#Create random indices\n",
    "sample_index=random.sample(range(len(x)),int(len(x)/6))\n",
    "valid_index=[i for i in range(len(x)) if i not in sample_index]\n",
    "\n",
    "#Sample and validation images\n",
    "sample_images=[x[i] for i in sample_index]\n",
    "valid_images=[x[i] for i in valid_index]\n",
    "\n",
    "#Sample and validation targets\n",
    "sample_target=[y[i] for i in sample_index]\n",
    "valid_target=[y[i] for i in valid_index]"
   ]
  },
  {
   "cell_type": "code",
   "execution_count": 76,
   "metadata": {
    "collapsed": false
   },
   "outputs": [],
   "source": [
    "def classify(sample_target, sample_images, valid_target, valid_images, smooth):\n",
    "\n",
    "    #Empty list for probabilities\n",
    "    prob = []\n",
    "    \n",
    "    #Calculate probability for each digit\n",
    "    for label in range(10):    \n",
    "        #Collect indices for given digit\n",
    "        indices = [i for i,x in enumerate(sample_target) if x == label]\n",
    "        #Calculate Pi\n",
    "        pi = len(indices)/len(sample_target)\n",
    "        #Calculate Multivariate Normal\n",
    "        images = [sample_images[i] for i in indices]\n",
    "        mean = np.mean(images, axis = 0)\n",
    "        cov = np.cov(np.transpose(images)) + (smooth*np.identity(784)) #Cov with smoothing\n",
    "        func = multivariate_normal(mean, cov)\n",
    "        #Calculate probability and append\n",
    "        prob.append(np.log(pi) + func.logpdf(valid_images))\n",
    "    \n",
    "    #Take the max pdf\n",
    "    max_prob = np.argmax(prob, axis = 0)\n",
    "    \n",
    "    #Compare with valid target to get error\n",
    "    error = np.sum([i!=j for i,j in zip(max_prob, valid_target)])/len(valid_target)\n",
    "    return error"
   ]
  },
  {
   "cell_type": "markdown",
   "metadata": {},
   "source": [
    "####Optimize Smooting "
   ]
  },
  {
   "cell_type": "code",
   "execution_count": null,
   "metadata": {
    "collapsed": false
   },
   "outputs": [],
   "source": [
    "#First we looked at 1000-7000 in steps of 1000. 4000 was the optimum.\n",
    "#Then we looked at 3500-4500 in steps of 500. 3500 was the optimum.\n",
    "#Then we looked at 3400-3600 in steps of 100. 2500 was the optimum.\n",
    "#Then we looked at 3400-3500 in steps of 50. 3450 was the optimum.\n",
    "#Then we looked at 3430-3470 in steps of 10. 3460 was the optimum.\n",
    "#Then we looked at 3455-3465 in steps of 5. 3460 was the optimum.\n",
    "#Then we looked at 3458-3463 in steps of 1. 3461 was the optimum.\n",
    "\n",
    "\n",
    "y = []\n",
    "x = []\n",
    "for i in range(3460, 3463, 1):\n",
    "    y.append(sample_target, sample_images, valid_target, valid_images, classify(i))\n",
    "    x.append(i)"
   ]
  },
  {
   "cell_type": "code",
   "execution_count": 74,
   "metadata": {
    "collapsed": false
   },
   "outputs": [
    {
     "name": "stdout",
     "output_type": "stream",
     "text": [
      "Best Smooting:\t 3461\n",
      "Error Rate:\t 4.982 %\n"
     ]
    },
    {
     "data": {
      "image/png": "[encoded data removed]",
      "text/plain": [
       "<matplotlib.figure.Figure at 0x7f0c81037828>"
      ]
     },
     "metadata": {},
     "output_type": "display_data"
    }
   ],
   "source": [
    "plt.figure(figsize=(15,5))\n",
    "plt.plot(x,y, '.-')\n",
    "plt.xlabel('Smoothing', fontsize=12)\n",
    "plt.ylabel('Error Rate', fontsize=12)\n",
    "plt.title('Error vs Smoothing', fontsize=15)\n",
    "\n",
    "print('Best Smooting:\\t',x[1])\n",
    "print('Error Rate:\\t',y[1]*100,'%')"
   ]
  },
  {
   "cell_type": "markdown",
   "metadata": {},
   "source": [
    "####Test dataset"
   ]
  },
  {
   "cell_type": "code",
   "execution_count": 80,
   "metadata": {
    "collapsed": false
   },
   "outputs": [],
   "source": [
    "error = classify(train_lbl, train_img, test_lbl, test_img, 3461)"
   ]
  },
  {
   "cell_type": "code",
   "execution_count": 81,
   "metadata": {
    "collapsed": false
   },
   "outputs": [
    {
     "name": "stdout",
     "output_type": "stream",
     "text": [
      "Error Rate:\t 4.35 %\n"
     ]
    }
   ],
   "source": [
    "print('Error Rate:\\t',error*100,'%')"
   ]
  },
  {
   "cell_type": "markdown",
   "metadata": {},
   "source": [
    "####Error Analysis"
   ]
  },
  {
   "cell_type": "code",
   "execution_count": 142,
   "metadata": {
    "collapsed": true
   },
   "outputs": [],
   "source": [
    "def find_error(sample_target, sample_images, valid_target, valid_images, smooth):\n",
    "\n",
    "    #Empty list for probabilities\n",
    "    prob = []\n",
    "    \n",
    "    #Calculate probability for each digit\n",
    "    for label in range(10):    \n",
    "        #Collect indices for given digit\n",
    "        indices = [i for i,x in enumerate(sample_target) if x == label]\n",
    "        #Calculate Pi\n",
    "        pi = len(indices)/len(sample_target)\n",
    "        #Calculate Multivariate Normal\n",
    "        images = [sample_images[i] for i in indices]\n",
    "        mean = np.mean(images, axis = 0)\n",
    "        cov = np.cov(np.transpose(images)) + (smooth*np.identity(784)) #Cov with smoothing\n",
    "        func = multivariate_normal(mean, cov)\n",
    "        #Calculate probability and append\n",
    "        prob.append(np.log(pi) + func.logpdf(valid_images))\n",
    "    \n",
    "    #Take the max pdf\n",
    "    max_prob = np.argmax(prob, axis = 0)\n",
    "    \n",
    "    #Compare with valid target to get error\n",
    "    label = []\n",
    "    image = []\n",
    "    probability = []\n",
    "    prob = np.matrix(prob)\n",
    "    for index in range(len(valid_target)):\n",
    "        if valid_target[index] != max_prob[index]:\n",
    "            image.append(valid_images[index])\n",
    "            label.append(max_prob[index])\n",
    "            probability.append(prob[:, index])\n",
    "    return [image, label, probability]"
   ]
  },
  {
   "cell_type": "code",
   "execution_count": 144,
   "metadata": {
    "collapsed": false
   },
   "outputs": [],
   "source": [
    "#Getting data\n",
    "[image, label, probability] = find_error(train_lbl, train_img, test_lbl, test_img, 3461)"
   ]
  },
  {
   "cell_type": "code",
   "execution_count": 183,
   "metadata": {
    "collapsed": false
   },
   "outputs": [
    {
     "data": {
      "image/png": "[encoded data removed]",
      "text/plain": [
       "<matplotlib.figure.Figure at 0x7f0ca6777080>"
      ]
     },
     "metadata": {},
     "output_type": "display_data"
    }
   ],
   "source": [
    "#Display misclassified images with predicted labels\n",
    "index = 0\n",
    "plt.figure(figsize=(10,5))\n",
    "for img, lbl in zip(image[:5], label[:5]):\n",
    "    index += 1\n",
    "    plt.subplot(1, 5, index)\n",
    "    displaychar(img)\n",
    "    plt.title('%i' % lbl, fontsize = 20)"
   ]
  },
  {
   "cell_type": "code",
   "execution_count": 178,
   "metadata": {
    "collapsed": false
   },
   "outputs": [
    {
     "data": {
      "text/html": [
       "<div>\n",
       "<table border=\"1\" class=\"dataframe\">\n",
       "  <thead>\n",
       "    <tr style=\"text-align: right;\">\n",
       "      <th></th>\n",
       "      <th>0</th>\n",
       "      <th>1</th>\n",
       "      <th>2</th>\n",
       "      <th>3</th>\n",
       "      <th>4</th>\n",
       "    </tr>\n",
       "  </thead>\n",
       "  <tbody>\n",
       "    <tr>\n",
       "      <th>0</th>\n",
       "      <td>-4186.661557</td>\n",
       "      <td>-4203.668298</td>\n",
       "      <td>-4160.350450</td>\n",
       "      <td>-4230.114178</td>\n",
       "      <td>-4113.099312</td>\n",
       "    </tr>\n",
       "    <tr>\n",
       "      <th>1</th>\n",
       "      <td>-4153.727277</td>\n",
       "      <td>-4247.534598</td>\n",
       "      <td>-4033.122464</td>\n",
       "      <td>-4480.068631</td>\n",
       "      <td>-4028.860527</td>\n",
       "    </tr>\n",
       "    <tr>\n",
       "      <th>2</th>\n",
       "      <td>-4135.793805</td>\n",
       "      <td>-4188.670598</td>\n",
       "      <td>-4093.842354</td>\n",
       "      <td>-4189.058036</td>\n",
       "      <td>-4096.008630</td>\n",
       "    </tr>\n",
       "    <tr>\n",
       "      <th>3</th>\n",
       "      <td>-4134.124041</td>\n",
       "      <td>-4150.912405</td>\n",
       "      <td>-4106.824477</td>\n",
       "      <td>-4186.711625</td>\n",
       "      <td>-4087.091568</td>\n",
       "    </tr>\n",
       "    <tr>\n",
       "      <th>4</th>\n",
       "      <td>-4128.269855</td>\n",
       "      <td>-4100.252960</td>\n",
       "      <td>-4081.650086</td>\n",
       "      <td>-4201.329781</td>\n",
       "      <td>-4065.779144</td>\n",
       "    </tr>\n",
       "    <tr>\n",
       "      <th>5</th>\n",
       "      <td>-4165.195886</td>\n",
       "      <td>-4142.821984</td>\n",
       "      <td>-4138.146288</td>\n",
       "      <td>-4187.380141</td>\n",
       "      <td>-4101.503712</td>\n",
       "    </tr>\n",
       "    <tr>\n",
       "      <th>6</th>\n",
       "      <td>-4248.912901</td>\n",
       "      <td>-4252.904287</td>\n",
       "      <td>-4171.074083</td>\n",
       "      <td>-4334.419605</td>\n",
       "      <td>-4116.236918</td>\n",
       "    </tr>\n",
       "    <tr>\n",
       "      <th>7</th>\n",
       "      <td>-4066.306752</td>\n",
       "      <td>-4064.252587</td>\n",
       "      <td>-4042.312542</td>\n",
       "      <td>-4270.549219</td>\n",
       "      <td>-4039.110788</td>\n",
       "    </tr>\n",
       "    <tr>\n",
       "      <th>8</th>\n",
       "      <td>-4095.070285</td>\n",
       "      <td>-4139.658802</td>\n",
       "      <td>-4074.009865</td>\n",
       "      <td>-4159.490337</td>\n",
       "      <td>-4077.885273</td>\n",
       "    </tr>\n",
       "    <tr>\n",
       "      <th>9</th>\n",
       "      <td>-4072.156086</td>\n",
       "      <td>-4063.184009</td>\n",
       "      <td>-4065.422586</td>\n",
       "      <td>-4180.498521</td>\n",
       "      <td>-4041.416520</td>\n",
       "    </tr>\n",
       "  </tbody>\n",
       "</table>\n",
       "</div>"
      ],
      "text/plain": [
       "             0            1            2            3            4\n",
       "0 -4186.661557 -4203.668298 -4160.350450 -4230.114178 -4113.099312\n",
       "1 -4153.727277 -4247.534598 -4033.122464 -4480.068631 -4028.860527\n",
       "2 -4135.793805 -4188.670598 -4093.842354 -4189.058036 -4096.008630\n",
       "3 -4134.124041 -4150.912405 -4106.824477 -4186.711625 -4087.091568\n",
       "4 -4128.269855 -4100.252960 -4081.650086 -4201.329781 -4065.779144\n",
       "5 -4165.195886 -4142.821984 -4138.146288 -4187.380141 -4101.503712\n",
       "6 -4248.912901 -4252.904287 -4171.074083 -4334.419605 -4116.236918\n",
       "7 -4066.306752 -4064.252587 -4042.312542 -4270.549219 -4039.110788\n",
       "8 -4095.070285 -4139.658802 -4074.009865 -4159.490337 -4077.885273\n",
       "9 -4072.156086 -4063.184009 -4065.422586 -4180.498521 -4041.416520"
      ]
     },
     "execution_count": 178,
     "metadata": {},
     "output_type": "execute_result"
    }
   ],
   "source": [
    "#Print Pr(y|x)\n",
    "df = pd.DataFrame(probability[0])\n",
    "for i in range(1,5):\n",
    "    df[i] = probability[i]\n",
    "df"
   ]
  },
  {
   "cell_type": "markdown",
   "metadata": {},
   "source": [
    "Based on the P(y,x), we can see that while our predicted label had the "
   ]
  }
 ],
 "metadata": {
  "kernelspec": {
   "display_name": "Python 3",
   "language": "python",
   "name": "python3"
  },
  "language_info": {
   "codemirror_mode": {
    "name": "ipython",
    "version": 3
   },
   "file_extension": ".py",
   "mimetype": "text/x-python",
   "name": "python",
   "nbconvert_exporter": "python",
   "pygments_lexer": "ipython3",
   "version": "3.4.3"
  }
 },
 "nbformat": 4,
 "nbformat_minor": 0
}
