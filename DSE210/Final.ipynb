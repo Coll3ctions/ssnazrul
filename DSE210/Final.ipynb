{
 "cells": [
  {
   "cell_type": "code",
   "execution_count": 1,
   "metadata": {
    "collapsed": true
   },
   "outputs": [],
   "source": [
    "import pandas as pd\n",
    "import matplotlib.pyplot as plt\n",
    "%matplotlib inline\n",
    "import numpy as np\n",
    "import random\n",
    "from sklearn.decomposition import PCA\n",
    "from scipy.stats import multivariate_normal"
   ]
  },
  {
   "cell_type": "markdown",
   "metadata": {},
   "source": [
    "####Importing iris dataset"
   ]
  },
  {
   "cell_type": "code",
   "execution_count": 2,
   "metadata": {
    "collapsed": false
   },
   "outputs": [
    {
     "data": {
      "text/html": [
       "<div>\n",
       "<table border=\"1\" class=\"dataframe\">\n",
       "  <thead>\n",
       "    <tr style=\"text-align: right;\">\n",
       "      <th></th>\n",
       "      <th>sepal length</th>\n",
       "      <th>sepal width</th>\n",
       "      <th>petal length</th>\n",
       "      <th>petal width</th>\n",
       "      <th>class</th>\n",
       "    </tr>\n",
       "  </thead>\n",
       "  <tbody>\n",
       "    <tr>\n",
       "      <th>0</th>\n",
       "      <td>5.1</td>\n",
       "      <td>3.5</td>\n",
       "      <td>1.4</td>\n",
       "      <td>0.2</td>\n",
       "      <td>Iris-setosa</td>\n",
       "    </tr>\n",
       "    <tr>\n",
       "      <th>1</th>\n",
       "      <td>4.9</td>\n",
       "      <td>3.0</td>\n",
       "      <td>1.4</td>\n",
       "      <td>0.2</td>\n",
       "      <td>Iris-setosa</td>\n",
       "    </tr>\n",
       "    <tr>\n",
       "      <th>2</th>\n",
       "      <td>4.7</td>\n",
       "      <td>3.2</td>\n",
       "      <td>1.3</td>\n",
       "      <td>0.2</td>\n",
       "      <td>Iris-setosa</td>\n",
       "    </tr>\n",
       "    <tr>\n",
       "      <th>3</th>\n",
       "      <td>4.6</td>\n",
       "      <td>3.1</td>\n",
       "      <td>1.5</td>\n",
       "      <td>0.2</td>\n",
       "      <td>Iris-setosa</td>\n",
       "    </tr>\n",
       "    <tr>\n",
       "      <th>4</th>\n",
       "      <td>5.0</td>\n",
       "      <td>3.6</td>\n",
       "      <td>1.4</td>\n",
       "      <td>0.2</td>\n",
       "      <td>Iris-setosa</td>\n",
       "    </tr>\n",
       "  </tbody>\n",
       "</table>\n",
       "</div>"
      ],
      "text/plain": [
       "   sepal length  sepal width  petal length  petal width        class\n",
       "0           5.1          3.5           1.4          0.2  Iris-setosa\n",
       "1           4.9          3.0           1.4          0.2  Iris-setosa\n",
       "2           4.7          3.2           1.3          0.2  Iris-setosa\n",
       "3           4.6          3.1           1.5          0.2  Iris-setosa\n",
       "4           5.0          3.6           1.4          0.2  Iris-setosa"
      ]
     },
     "execution_count": 2,
     "metadata": {},
     "output_type": "execute_result"
    }
   ],
   "source": [
    "path='/home/sadat/Documents/DSE/Data/Final_210/iris.data.txt'\n",
    "df = pd.read_csv(path, names=['sepal length','sepal width','petal length','petal width','class'])\n",
    "df.head()"
   ]
  },
  {
   "cell_type": "markdown",
   "metadata": {},
   "source": [
    "####Perform PCA decomposition to 2 components"
   ]
  },
  {
   "cell_type": "code",
   "execution_count": 3,
   "metadata": {
    "collapsed": false
   },
   "outputs": [],
   "source": [
    "pca = PCA(n_components=2)\n",
    "pca.fit(df.ix[:,0:4].values)\n",
    "X = pca.transform(df.ix[:,0:4].values)"
   ]
  },
  {
   "cell_type": "code",
   "execution_count": 4,
   "metadata": {
    "collapsed": false
   },
   "outputs": [
    {
     "data": {
      "text/html": [
       "<div>\n",
       "<table border=\"1\" class=\"dataframe\">\n",
       "  <thead>\n",
       "    <tr style=\"text-align: right;\">\n",
       "      <th></th>\n",
       "      <th>sepal length</th>\n",
       "      <th>sepal width</th>\n",
       "      <th>petal length</th>\n",
       "      <th>petal width</th>\n",
       "      <th>class</th>\n",
       "      <th>V0</th>\n",
       "      <th>V1</th>\n",
       "    </tr>\n",
       "  </thead>\n",
       "  <tbody>\n",
       "    <tr>\n",
       "      <th>0</th>\n",
       "      <td>5.1</td>\n",
       "      <td>3.5</td>\n",
       "      <td>1.4</td>\n",
       "      <td>0.2</td>\n",
       "      <td>Iris-setosa</td>\n",
       "      <td>-2.684207</td>\n",
       "      <td>-0.326607</td>\n",
       "    </tr>\n",
       "    <tr>\n",
       "      <th>1</th>\n",
       "      <td>4.9</td>\n",
       "      <td>3.0</td>\n",
       "      <td>1.4</td>\n",
       "      <td>0.2</td>\n",
       "      <td>Iris-setosa</td>\n",
       "      <td>-2.715391</td>\n",
       "      <td>0.169557</td>\n",
       "    </tr>\n",
       "    <tr>\n",
       "      <th>2</th>\n",
       "      <td>4.7</td>\n",
       "      <td>3.2</td>\n",
       "      <td>1.3</td>\n",
       "      <td>0.2</td>\n",
       "      <td>Iris-setosa</td>\n",
       "      <td>-2.889820</td>\n",
       "      <td>0.137346</td>\n",
       "    </tr>\n",
       "    <tr>\n",
       "      <th>3</th>\n",
       "      <td>4.6</td>\n",
       "      <td>3.1</td>\n",
       "      <td>1.5</td>\n",
       "      <td>0.2</td>\n",
       "      <td>Iris-setosa</td>\n",
       "      <td>-2.746437</td>\n",
       "      <td>0.311124</td>\n",
       "    </tr>\n",
       "    <tr>\n",
       "      <th>4</th>\n",
       "      <td>5.0</td>\n",
       "      <td>3.6</td>\n",
       "      <td>1.4</td>\n",
       "      <td>0.2</td>\n",
       "      <td>Iris-setosa</td>\n",
       "      <td>-2.728593</td>\n",
       "      <td>-0.333925</td>\n",
       "    </tr>\n",
       "  </tbody>\n",
       "</table>\n",
       "</div>"
      ],
      "text/plain": [
       "   sepal length  sepal width  petal length  petal width        class  \\\n",
       "0           5.1          3.5           1.4          0.2  Iris-setosa   \n",
       "1           4.9          3.0           1.4          0.2  Iris-setosa   \n",
       "2           4.7          3.2           1.3          0.2  Iris-setosa   \n",
       "3           4.6          3.1           1.5          0.2  Iris-setosa   \n",
       "4           5.0          3.6           1.4          0.2  Iris-setosa   \n",
       "\n",
       "         V0        V1  \n",
       "0 -2.684207 -0.326607  \n",
       "1 -2.715391  0.169557  \n",
       "2 -2.889820  0.137346  \n",
       "3 -2.746437  0.311124  \n",
       "4 -2.728593 -0.333925  "
      ]
     },
     "execution_count": 4,
     "metadata": {},
     "output_type": "execute_result"
    }
   ],
   "source": [
    "df['V0']=X[:,0]\n",
    "df['V1']=X[:,1]\n",
    "df.head()"
   ]
  },
  {
   "cell_type": "code",
   "execution_count": 5,
   "metadata": {
    "collapsed": false
   },
   "outputs": [
    {
     "data": {
      "image/png": "[encoded data removed]",
      "text/plain": [
       "<matplotlib.figure.Figure at 0x7f780880e320>"
      ]
     },
     "metadata": {},
     "output_type": "display_data"
    }
   ],
   "source": [
    "classes = df['class'].unique()\n",
    "color=['b','y','g']\n",
    "plt.figure(figsize=(8,8))\n",
    "plt.xlabel('V0', fontsize = 12)\n",
    "plt.ylabel('V1', fontsize = 12)\n",
    "plt.title('2D PCA', fontsize = 14)\n",
    "for cl, co in zip(classes,color):\n",
    "    V0 = df[df['class']==cl]['V0'].values\n",
    "    V1 = df[df['class']==cl]['V1'].values\n",
    "    plt.scatter(V1,V0, c=co, s=50)\n",
    "plt.legend(classes)\n",
    "plt.grid()"
   ]
  },
  {
   "cell_type": "markdown",
   "metadata": {},
   "source": [
    "We can see that iris-virginica is well separated. \n",
    "\n",
    "There is some overlap between iris-vesicolor and iris-virginica.\n",
    "\n",
    "Based on the 2D plot, separating iris-vesicolor and iris-virginica with our classifier would be a challenge."
   ]
  },
  {
   "cell_type": "markdown",
   "metadata": {},
   "source": [
    "####Train with Multivariate Gaussian Classifier"
   ]
  },
  {
   "cell_type": "markdown",
   "metadata": {},
   "source": [
    "Since we have an equal number of each class, we will not use $\\pi$ in our classifier.\n",
    "\n",
    "Generating the training and test datasets:"
   ]
  },
  {
   "cell_type": "code",
   "execution_count": 6,
   "metadata": {
    "collapsed": false
   },
   "outputs": [],
   "source": [
    "#training dataset\n",
    "df_train = df[df['class']==classes[0]][0:35]\n",
    "for c in classes[1::]:\n",
    "    df_train = pd.concat([df_train, df[df['class']==c][0:35]])\n",
    "\n",
    "#test dataset\n",
    "df_test = df[df['class']==classes[0]][35::]\n",
    "for c in classes[1::]:\n",
    "    df_test = pd.concat([df_test, df[df['class']==c][35::]])"
   ]
  },
  {
   "cell_type": "markdown",
   "metadata": {},
   "source": [
    "For our classifier, we will use a Multivariate Gaussian.\n",
    "\n",
    "$$X \\sim N_{4}(\\mu,\\Sigma) $$\n",
    "\n",
    "As all the classes are of the same size, we will not incorporate $\\pi$ into the equation.\n",
    "\n",
    "$$\\pi_{setosa}=\\pi_{vesicolor}=\\pi_{virginica}$$\n",
    "\n",
    "We will be using the log of our probability density function to avoid overlfow or underflow."
   ]
  },
  {
   "cell_type": "markdown",
   "metadata": {},
   "source": [
    "####Optimize Smoothing\n",
    "\n",
    "We will try to optimize the classifier using smoothing. This is done by adding a smoothing value, s, to the covariance matrix of the classifier.\n",
    "\n",
    "$$\\Sigma_{smooth} = \\Sigma + sI$$\n",
    "\n",
    "$$X \\sim N_{4}(\\mu,\\Sigma_{smooth})$$"
   ]
  },
  {
   "cell_type": "code",
   "execution_count": 7,
   "metadata": {
    "collapsed": false
   },
   "outputs": [],
   "source": [
    "def classify(sample_df, valid_df, smooth):\n",
    "\n",
    "    #Empty list for probabilities\n",
    "    prob = []\n",
    "\n",
    "    #Find probability of each classifier\n",
    "    for label in range(3): \n",
    "        cond = sample_df['class']==classes[label]\n",
    "        mean = np.mean(sample_df[cond].ix[:,0:4].values, axis = 0)\n",
    "        cov = np.cov(np.transpose(sample_df[cond].ix[:,0:4].values)) + (smooth*np.identity(4))\n",
    "        func = multivariate_normal(mean=mean, cov=cov)\n",
    "        prob.append(func.logpdf(valid_df.ix[:,0:4]))\n",
    "\n",
    "    #Take the max pdf\n",
    "    max_prob = np.argmax(prob, axis = 0)\n",
    "\n",
    "    #Compare with valid target to get error\n",
    "    error = np.sum([classes[i]!=j for i,j in zip(max_prob, valid_df['class'])])/len(valid_df)\n",
    "    return error"
   ]
  },
  {
   "cell_type": "markdown",
   "metadata": {},
   "source": [
    "We try to train the dataset and test it against itsef to optimize smoothing."
   ]
  },
  {
   "cell_type": "code",
   "execution_count": 8,
   "metadata": {
    "collapsed": false
   },
   "outputs": [
    {
     "data": {
      "image/png": "[encoded data removed]",
      "text/plain": [
       "<matplotlib.figure.Figure at 0x7f7808807a58>"
      ]
     },
     "metadata": {},
     "output_type": "display_data"
    }
   ],
   "source": [
    "#Initiate x and y\n",
    "x=[]\n",
    "y=[]\n",
    "\n",
    "#Get error values from 1-3000 in steps of 1000\n",
    "for i in range(0,3001,1000):\n",
    "    x.append(i)\n",
    "    y.append(classify(df_train, df_train, i))\n",
    "\n",
    "#Plot figure\n",
    "plt.figure(figsize=(10,5))\n",
    "plt.plot(x,y)\n",
    "plt.xlabel('Smooth', fontsize = 12)\n",
    "plt.ylabel('Error', fontsize = 12)\n",
    "plt.title('Optimize Smooth \\n('+str(min(y)*100)+'% error)', fontsize = 14)\n",
    "plt.grid()"
   ]
  },
  {
   "cell_type": "markdown",
   "metadata": {},
   "source": [
    "We see that smoothing makes our model worse. The best smooth value is 0.\n",
    "\n",
    "Next, let us analyze the error."
   ]
  },
  {
   "cell_type": "code",
   "execution_count": 9,
   "metadata": {
    "collapsed": true
   },
   "outputs": [],
   "source": [
    "def find_error(sample_df, valid_df, smooth):\n",
    "\n",
    "    #Empty list for probabilities\n",
    "    prob = []\n",
    "\n",
    "    #Find probability of each classifier\n",
    "    for label in range(3): \n",
    "        cond = sample_df['class']==classes[label]\n",
    "        mean = np.mean(sample_df[cond].ix[:,0:4].values, axis = 0)\n",
    "        cov = np.cov(np.transpose(sample_df[cond].ix[:,0:4].values)) + (smooth*np.identity(4))\n",
    "        func = multivariate_normal(mean, cov)\n",
    "        prob.append(func.logpdf(valid_df.ix[:,0:4]))\n",
    "\n",
    "    #Take the max pdf\n",
    "    max_prob = np.argmax(prob, axis = 0)\n",
    "\n",
    "    #Compare with valid target to get error\n",
    "    error = np.sum([classes[i]!=j for i,j in zip(max_prob, valid_df['class'])])/len(valid_df)\n",
    "    \n",
    "\n",
    "    #Compare with valid target to get error\n",
    "    label = []\n",
    "    flower = []\n",
    "    probability = []\n",
    "    prob = np.matrix(prob)\n",
    "    for i,j,k in zip(max_prob, valid_df['class'], range(len(valid_df))):\n",
    "        if  classes[i]!=j:\n",
    "            flower.append(j)\n",
    "            label.append(classes[i])\n",
    "            probability.append(prob[:,k])\n",
    "    return [flower, label, probability]"
   ]
  },
  {
   "cell_type": "code",
   "execution_count": 10,
   "metadata": {
    "collapsed": false
   },
   "outputs": [],
   "source": [
    "#Get values\n",
    "[flower, label, probability] = find_error(df_train, df_train, 0)"
   ]
  },
  {
   "cell_type": "code",
   "execution_count": 11,
   "metadata": {
    "collapsed": false
   },
   "outputs": [
    {
     "data": {
      "text/html": [
       "<div>\n",
       "<table border=\"1\" class=\"dataframe\">\n",
       "  <thead>\n",
       "    <tr style=\"text-align: right;\">\n",
       "      <th></th>\n",
       "      <th>flower</th>\n",
       "      <th>prediction</th>\n",
       "    </tr>\n",
       "  </thead>\n",
       "  <tbody>\n",
       "    <tr>\n",
       "      <th>0</th>\n",
       "      <td>Iris-versicolor</td>\n",
       "      <td>Iris-virginica</td>\n",
       "    </tr>\n",
       "    <tr>\n",
       "      <th>1</th>\n",
       "      <td>Iris-virginica</td>\n",
       "      <td>Iris-versicolor</td>\n",
       "    </tr>\n",
       "  </tbody>\n",
       "</table>\n",
       "</div>"
      ],
      "text/plain": [
       "            flower       prediction\n",
       "0  Iris-versicolor   Iris-virginica\n",
       "1   Iris-virginica  Iris-versicolor"
      ]
     },
     "execution_count": 11,
     "metadata": {},
     "output_type": "execute_result"
    }
   ],
   "source": [
    "#Create dataframe of flowers and predictions\n",
    "error_dict = {}\n",
    "error_dict['prediction'] = label\n",
    "error_dict['flower'] = flower\n",
    "error_df1 = pd.DataFrame(error_dict)\n",
    "error_df1.head()"
   ]
  },
  {
   "cell_type": "markdown",
   "metadata": {},
   "source": [
    "We can see that the 2 errors in our train dataset were caused by Iris-versicolor and Iris-virginica. This is expected as we have seen overlaps between these 2 classed on our 2D scatter plot. \n",
    "\n",
    "Let's look at the probabilities of the first 2 predictions."
   ]
  },
  {
   "cell_type": "code",
   "execution_count": 12,
   "metadata": {
    "collapsed": false
   },
   "outputs": [
    {
     "data": {
      "text/html": [
       "<div>\n",
       "<table border=\"1\" class=\"dataframe\">\n",
       "  <thead>\n",
       "    <tr style=\"text-align: right;\">\n",
       "      <th></th>\n",
       "      <th>0</th>\n",
       "      <th>1</th>\n",
       "    </tr>\n",
       "  </thead>\n",
       "  <tbody>\n",
       "    <tr>\n",
       "      <th>Iris-setosa</th>\n",
       "      <td>-261.676750</td>\n",
       "      <td>-249.210061</td>\n",
       "    </tr>\n",
       "    <tr>\n",
       "      <th>Iris-versicolor</th>\n",
       "      <td>-1.766901</td>\n",
       "      <td>-0.919125</td>\n",
       "    </tr>\n",
       "    <tr>\n",
       "      <th>Iris-virginica</th>\n",
       "      <td>-0.441845</td>\n",
       "      <td>-1.020240</td>\n",
       "    </tr>\n",
       "  </tbody>\n",
       "</table>\n",
       "</div>"
      ],
      "text/plain": [
       "                          0           1\n",
       "Iris-setosa     -261.676750 -249.210061\n",
       "Iris-versicolor   -1.766901   -0.919125\n",
       "Iris-virginica    -0.441845   -1.020240"
      ]
     },
     "execution_count": 12,
     "metadata": {},
     "output_type": "execute_result"
    }
   ],
   "source": [
    "#Analyze the probabilities of each specie occuring\n",
    "error_df2 = pd.DataFrame(probability[0])\n",
    "error_df2[1] = probability[1]\n",
    "error_df2.columns = range(2)\n",
    "error_df2.index=classes\n",
    "error_df2"
   ]
  },
  {
   "cell_type": "markdown",
   "metadata": {},
   "source": [
    "We can see that iris-versicolor and iris-virginica are really close in probability. Iris-setosa has an extremely low probability of occuring, as can verified using the 2D scatter plot."
   ]
  },
  {
   "cell_type": "markdown",
   "metadata": {},
   "source": [
    "####PCA Decomposition Analysis\n",
    "\n",
    "Next, we will try to reduce the number of dimensions using PCA decomposition.\n",
    "\n",
    "$$X \\sim N_{4}(\\mu,\\Sigma) \\rightarrow  N_{K}(\\mu,\\Sigma)$$"
   ]
  },
  {
   "cell_type": "code",
   "execution_count": 13,
   "metadata": {
    "collapsed": false
   },
   "outputs": [
    {
     "name": "stdout",
     "output_type": "stream",
     "text": [
      "\n",
      "We can have 99%+ accuracy with K=2\n"
     ]
    },
    {
     "data": {
      "image/png": "[encoded data removed]",
      "text/plain": [
       "<matplotlib.figure.Figure at 0x7f78086a9898>"
      ]
     },
     "metadata": {},
     "output_type": "display_data"
    }
   ],
   "source": [
    "pca = PCA()\n",
    "x = pca.fit(df_train.ix[:,0:4])\n",
    "T = pca.transform(df_train.ix[:,0:4])\n",
    "cumulative_explained = np.cumsum(pca.explained_variance_ratio_) \n",
    "plt.figure(figsize=(15,5))\n",
    "plt.plot(cumulative_explained)\n",
    "plt.xlabel('K Components', fontsize = 12)\n",
    "plt.ylabel('Cumulative Variance', fontsize = 12)\n",
    "plt.title('Principal Component Analysis', fontsize = 14)\n",
    "plt.grid()\n",
    "print('\\nWe can have 99%+ accuracy with K=2')"
   ]
  },
  {
   "cell_type": "markdown",
   "metadata": {},
   "source": [
    "Now, we will construct a new classifier with PCA decomposition at K=2\n",
    "\n",
    "$$X \\sim N_{4}(\\mu,\\Sigma) \\rightarrow  N_{2}(\\mu,\\Sigma)$$"
   ]
  },
  {
   "cell_type": "code",
   "execution_count": 14,
   "metadata": {
    "collapsed": true
   },
   "outputs": [],
   "source": [
    "def classify_pca(sample_df, valid_df, smooth):\n",
    "\n",
    "    #Empty list for probabilities\n",
    "    prob = []\n",
    "\n",
    "    #Find probability of each classifier\n",
    "    for label in range(3): \n",
    "        cond = sample_df['class']==classes[label]\n",
    "        mean = np.mean(sample_df[cond].ix[:,5::].values, axis = 0)\n",
    "        cov = np.cov(np.transpose(sample_df[cond].ix[:,5::].values)) + (smooth*np.identity(2))\n",
    "        func = multivariate_normal(mean, cov)\n",
    "        prob.append(func.logpdf(valid_df.ix[:,5::]))\n",
    "\n",
    "    #Take the max pdf\n",
    "    max_prob = np.argmax(prob, axis = 0)\n",
    "\n",
    "    #Compare with valid target to get error\n",
    "    error = np.sum([classes[i]!=j for i,j in zip(max_prob, valid_df['class'])])/len(valid_df)\n",
    "    return error"
   ]
  },
  {
   "cell_type": "code",
   "execution_count": 20,
   "metadata": {
    "collapsed": false
   },
   "outputs": [
    {
     "data": {
      "image/png": "[encoded data removed]",
      "text/plain": [
       "<matplotlib.figure.Figure at 0x7f780867e400>"
      ]
     },
     "metadata": {},
     "output_type": "display_data"
    }
   ],
   "source": [
    "#Initiate x and y\n",
    "x=[]\n",
    "y=[]\n",
    "\n",
    "#Get error values from 1-3000 in steps of 1000\n",
    "for i in range(0,3001,100):\n",
    "    x.append(i)\n",
    "    y.append(classify_pca(df_train, df_train, i))\n",
    "\n",
    "#Plot figure \n",
    "plt.figure(figsize=(10,5))\n",
    "plt.plot(x,y)\n",
    "plt.xlabel('Smooth', fontsize=12)\n",
    "plt.ylabel('Error', fontsize=12)\n",
    "plt.title('Optimize Smooth on PCA \\n('+str(min(y)*100)+'% error)', fontsize=14)\n",
    "plt.grid()"
   ]
  },
  {
   "cell_type": "markdown",
   "metadata": {},
   "source": [
    "It seems that PCA decomposition of K=2 makes our prediction worse."
   ]
  },
  {
   "cell_type": "markdown",
   "metadata": {},
   "source": [
    "####Test Dataset\n",
    "\n",
    "For our final test, we will not use smooth or PCA.\n",
    "\n",
    "$$X \\sim N_{4}(\\mu,\\Sigma)$$"
   ]
  },
  {
   "cell_type": "code",
   "execution_count": 16,
   "metadata": {
    "collapsed": false
   },
   "outputs": [
    {
     "name": "stdout",
     "output_type": "stream",
     "text": [
      "Error:\t 0.0\n"
     ]
    }
   ],
   "source": [
    "error = classify(df_train, df_test, 0)\n",
    "\n",
    "print('Error:\\t',error)"
   ]
  },
  {
   "cell_type": "markdown",
   "metadata": {},
   "source": [
    "We have achieved a 100% accuracy on our test dataset."
   ]
  },
  {
   "cell_type": "code",
   "execution_count": null,
   "metadata": {
    "collapsed": true
   },
   "outputs": [],
   "source": []
  }
 ],
 "metadata": {
  "kernelspec": {
   "display_name": "Python 3",
   "language": "python",
   "name": "python3"
  },
  "language_info": {
   "codemirror_mode": {
    "name": "ipython",
    "version": 3
   },
   "file_extension": ".py",
   "mimetype": "text/x-python",
   "name": "python",
   "nbconvert_exporter": "python",
   "pygments_lexer": "ipython3",
   "version": "3.4.3"
  }
 },
 "nbformat": 4,
 "nbformat_minor": 0
}
