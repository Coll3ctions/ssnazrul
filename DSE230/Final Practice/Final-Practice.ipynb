{
 "cells": [
  {
   "cell_type": "markdown",
   "metadata": {},
   "source": [
    "## Practice Final Exam Questions"
   ]
  },
  {
   "cell_type": "markdown",
   "metadata": {},
   "source": [
    "### Warm-up Questions"
   ]
  },
  {
   "cell_type": "markdown",
   "metadata": {},
   "source": [
    "1.)\n",
    "\n",
    "Print the number of elements in the RDD B\n",
    "\n",
    "Print the first five elements of RDD B"
   ]
  },
  {
   "cell_type": "code",
   "execution_count": 1,
   "metadata": {
    "collapsed": false
   },
   "outputs": [
    {
     "name": "stdout",
     "output_type": "stream",
     "text": [
      "10000\n",
      "[9999, 9998, 9997, 9996, 9995]\n"
     ]
    }
   ],
   "source": [
    "n=10000;\n",
    "B=sc.parallelize(range(n))\n",
    "\n",
    "## Your answer here\n",
    "print B.count()\n",
    "print B.top(5)"
   ]
  },
  {
   "cell_type": "markdown",
   "metadata": {},
   "source": [
    "2.) \n",
    "\n",
    "Given an RDD of words, find and output one of the longest words"
   ]
  },
  {
   "cell_type": "code",
   "execution_count": 2,
   "metadata": {
    "collapsed": false
   },
   "outputs": [
    {
     "data": {
      "text/plain": [
       "'jupyter'"
      ]
     },
     "execution_count": 2,
     "metadata": {},
     "output_type": "execute_result"
    }
   ],
   "source": [
    "words=['this','is','the','best','mac','ever','jupyter']\n",
    "wordRDD=sc.parallelize(words)\n",
    "\n",
    "## Your answer here\n",
    "wordRDD.map(lambda x: (len(x), x)).sortByKey().top(1)[0][1]"
   ]
  },
  {
   "cell_type": "markdown",
   "metadata": {},
   "source": [
    "3.)\n",
    "\n",
    "Remove duplicate elements in RDD"
   ]
  },
  {
   "cell_type": "code",
   "execution_count": 3,
   "metadata": {
    "collapsed": false
   },
   "outputs": [
    {
     "data": {
      "text/plain": [
       "[2, 1, 3]"
      ]
     },
     "execution_count": 3,
     "metadata": {},
     "output_type": "execute_result"
    }
   ],
   "source": [
    "DuplicateRDD = sc.parallelize([1,1,2,2,3,3])\n",
    "\n",
    "## Your answer here\n",
    "DuplicateRDD.distinct().collect()"
   ]
  },
  {
   "cell_type": "markdown",
   "metadata": {},
   "source": [
    "4.)\n",
    "\n",
    "Given an RDD, create a new RDD where each element appears twice"
   ]
  },
  {
   "cell_type": "code",
   "execution_count": 4,
   "metadata": {
    "collapsed": false
   },
   "outputs": [
    {
     "data": {
      "text/plain": [
       "[0, 0, 1, 1, 2, 2, 3, 3, 4, 4]"
      ]
     },
     "execution_count": 4,
     "metadata": {},
     "output_type": "execute_result"
    }
   ],
   "source": [
    "A=sc.parallelize(range(5))\n",
    "\n",
    "A.flatMap(lambda x:(x,x)).collect()"
   ]
  },
  {
   "cell_type": "markdown",
   "metadata": {},
   "source": [
    "5.)\n",
    "\n",
    "Count how many positive numbers are there in the RDD?"
   ]
  },
  {
   "cell_type": "code",
   "execution_count": 5,
   "metadata": {
    "collapsed": false
   },
   "outputs": [
    {
     "data": {
      "text/plain": [
       "19"
      ]
     },
     "execution_count": 5,
     "metadata": {},
     "output_type": "execute_result"
    }
   ],
   "source": [
    "B=sc.parallelize(range(-10,20))\n",
    "\n",
    "## Your answer here\n",
    "B.filter(lambda x: x>0).count()"
   ]
  },
  {
   "cell_type": "markdown",
   "metadata": {},
   "source": [
    "### Pair RDD Questions"
   ]
  },
  {
   "cell_type": "markdown",
   "metadata": {},
   "source": [
    "6.)\n",
    "\n",
    "Compute and print the largest value for each key in this pair RDD"
   ]
  },
  {
   "cell_type": "code",
   "execution_count": 6,
   "metadata": {
    "collapsed": false
   },
   "outputs": [
    {
     "data": {
      "text/plain": [
       "[2, 4, 6]"
      ]
     },
     "execution_count": 6,
     "metadata": {},
     "output_type": "execute_result"
    }
   ],
   "source": [
    "PairRDD = sc.parallelize([(1,2), (2,4), (2,6)])\n",
    "\n",
    "## Your answer here\n",
    "PairRDD.map(lambda x: max(x)).collect()"
   ]
  },
  {
   "cell_type": "markdown",
   "metadata": {},
   "source": [
    "7.)\n",
    "\n",
    "Sort a pair RDD by key and print the result"
   ]
  },
  {
   "cell_type": "code",
   "execution_count": 7,
   "metadata": {
    "collapsed": false
   },
   "outputs": [
    {
     "data": {
      "text/plain": [
       "[(1, 4), (2, 2), (2, 1), (3, 6)]"
      ]
     },
     "execution_count": 7,
     "metadata": {},
     "output_type": "execute_result"
    }
   ],
   "source": [
    "PairRDD = sc.parallelize([(2,2),(1,4),(3,6),(2,1)])\n",
    "\n",
    "## Your answer here\n",
    "PairRDD.sortByKey().collect()"
   ]
  },
  {
   "cell_type": "markdown",
   "metadata": {},
   "source": [
    "8.)\n",
    "\n",
    "Perform the following transformation:\n",
    "\n",
    "Original RDD : `[(1, 2), (2, 4), (2, 6)]`\n",
    "\n",
    "After transformation :  `[(2, [4, 6]), (1, [2])]`"
   ]
  },
  {
   "cell_type": "code",
   "execution_count": 8,
   "metadata": {
    "collapsed": false
   },
   "outputs": [
    {
     "data": {
      "text/plain": [
       "[(2, [4, 6]), (1, [2])]"
      ]
     },
     "execution_count": 8,
     "metadata": {},
     "output_type": "execute_result"
    }
   ],
   "source": [
    "## Your answer here\n",
    "A = sc.parallelize([(1, 2), (2, 4), (2, 6)])\n",
    "# A.reduceByKey(lambda x,y: [x,y]).collect()\n",
    "A.groupByKey().mapValues(list).collect()"
   ]
  },
  {
   "cell_type": "markdown",
   "metadata": {},
   "source": [
    "9.)\n",
    "\n",
    "Given two pair RDDs A and B, create the following RDD\n",
    "\n",
    "`[('adam', ('kalai', None)),\n",
    " ('vaclav', (None, 'M')),\n",
    " ('john', ('dow', 'M')),\n",
    " ('beth', ('simon', 'F'))]`"
   ]
  },
  {
   "cell_type": "code",
   "execution_count": 9,
   "metadata": {
    "collapsed": false
   },
   "outputs": [
    {
     "data": {
      "text/plain": [
       "[('adam', ('kalai', None)),\n",
       " ('vaclav', (None, 'M')),\n",
       " ('john', ('dow', 'M')),\n",
       " ('beth', ('simon', 'F'))]"
      ]
     },
     "execution_count": 9,
     "metadata": {},
     "output_type": "execute_result"
    }
   ],
   "source": [
    "A=sc.parallelize([('john','dow'),('adam','kalai'),('beth','simon')])\n",
    "B=sc.parallelize([('beth','F'),('john','M'),('vaclav','M')])\n",
    "\n",
    "## Your answer here\n",
    "A.fullOuterJoin(B).collect()"
   ]
  },
  {
   "cell_type": "markdown",
   "metadata": {},
   "source": [
    "### Statistics Questions"
   ]
  },
  {
   "cell_type": "markdown",
   "metadata": {},
   "source": [
    "10.)\n",
    "\n",
    "Suppose X is an RDD where each element is a floating point value. Write code to **efficiently** compute a good **approximation** of the median value?"
   ]
  },
  {
   "cell_type": "code",
   "execution_count": 10,
   "metadata": {
    "collapsed": false
   },
   "outputs": [
    {
     "name": "stdout",
     "output_type": "stream",
     "text": [
      "median: 0.244430159183\n"
     ]
    }
   ],
   "source": [
    "import numpy as np\n",
    "from numpy.random import rand\n",
    "X=sc.parallelize(rand(10000000)/2)\n",
    "\n",
    "## Your answer here\n",
    "print 'median:',X.sample(False, 0.0001).sortBy(lambda x:x).collect()[500]"
   ]
  },
  {
   "cell_type": "markdown",
   "metadata": {},
   "source": [
    "11.)\n",
    "\n",
    "For the same RDD in Q-10, compute the mean and the standard deviation."
   ]
  },
  {
   "cell_type": "code",
   "execution_count": 11,
   "metadata": {
    "collapsed": false
   },
   "outputs": [
    {
     "name": "stdout",
     "output_type": "stream",
     "text": [
      "mean: 0.250052013825\n"
     ]
    }
   ],
   "source": [
    "## Your answer here\n",
    "N,S = X.map(lambda x: (1,x)).reduce(lambda a,b: (a[0]+b[0],a[1]+b[1]))\n",
    "print 'mean:', S/N "
   ]
  },
  {
   "cell_type": "code",
   "execution_count": 12,
   "metadata": {
    "collapsed": false
   },
   "outputs": [
    {
     "name": "stdout",
     "output_type": "stream",
     "text": [
      "st. dev.: 0.0208462969653\n"
     ]
    }
   ],
   "source": [
    "s2,s,n = X.map(lambda x: (x*x, x, 1)).reduce(lambda x,y: (x[0]+y[0],x[1]+y[1],x[2]+y[2]))\n",
    "print 'st. dev.:', (s2/n) - (s/n)**2"
   ]
  },
  {
   "cell_type": "markdown",
   "metadata": {},
   "source": [
    "12.) \n",
    "\n",
    "Suppose R is an RDD of tuples, each tuple containing two floating point numbers $(x,y)$. Compute the covariance of $x$ and $y$ using a single pass over the RDD."
   ]
  },
  {
   "cell_type": "code",
   "execution_count": 19,
   "metadata": {
    "collapsed": false
   },
   "outputs": [
    {
     "name": "stdout",
     "output_type": "stream",
     "text": [
      "cov: 1.96890583191\n"
     ]
    }
   ],
   "source": [
    "n=10000\n",
    "a=rand(n); b=rand(n)\n",
    "R=sc.parallelize(zip(5*a+b,5*a-b))\n",
    "\n",
    "## Your answer here\n",
    "x, y, xy, n = R.map(lambda (a,b): (a,b,a*b,1)).reduce(lambda a,b:(a[0]+b[0],a[1]+b[1],a[2]+b[2],a[3]+b[3]))\n",
    "print 'cov:', (xy/n)-((x/n)*(y/n))"
   ]
  },
  {
   "cell_type": "markdown",
   "metadata": {},
   "source": [
    "13.)\n",
    "\n",
    "Suppose R is an RDD that contains integer numbers in the range 0 to 3. Write code to efficiently compute and plot an approximate histogram."
   ]
  },
  {
   "cell_type": "code",
   "execution_count": 40,
   "metadata": {
    "collapsed": false
   },
   "outputs": [
    {
     "data": {
      "image/png": "[encoded data removed]",
      "text/plain": [
       "<matplotlib.figure.Figure at 0x7f9505d66bd0>"
      ]
     },
     "metadata": {},
     "output_type": "display_data"
    }
   ],
   "source": [
    "import matplotlib.pyplot as plt\n",
    "%matplotlib inline\n",
    "\n",
    "X=([0]*10000+[1]*23000+[2]*15532+[3]*10000)\n",
    "keys=rand(len(X))\n",
    "R=sc.parallelize(zip(keys,X)).cache()\n",
    "R=R.repartitionAndSortWithinPartitions(2).map(lambda x:x[1])\n",
    "\n",
    "## Your answer here\n",
    "data = R.sample(False, 0.01).collect()\n",
    "plt.xticks(range(4))\n",
    "plt.hist(data);"
   ]
  },
  {
   "cell_type": "code",
   "execution_count": null,
   "metadata": {
    "collapsed": true
   },
   "outputs": [],
   "source": []
  }
 ],
 "metadata": {
  "kernelspec": {
   "display_name": "Python 2",
   "language": "python",
   "name": "python2"
  },
  "language_info": {
   "codemirror_mode": {
    "name": "ipython",
    "version": 2
   },
   "file_extension": ".py",
   "mimetype": "text/x-python",
   "name": "python",
   "nbconvert_exporter": "python",
   "pygments_lexer": "ipython2",
   "version": "2.7.11"
  }
 },
 "nbformat": 4,
 "nbformat_minor": 0
}
